{
 "cells": [
  {
   "cell_type": "markdown",
   "id": "another-royal",
   "metadata": {},
   "source": [
    "# Topic Modelling (Text Analytics)\n",
    "\n",
    "As we all know that probabilistic topic models are a class of unsupervised machine learning models which help find the thematic patterns\n",
    "present in data. They have been widely applied to a range of domains from text to images.\n",
    "The basic topic model is called Latent Dirichlet Allocation (LDA) is being depicted by a\n",
    "graphical model in plate notation.\n",
    "\n",
    "These models are primarily generative models that describe how data, e.g., words in a\n",
    "document are generated. We have also studied that a common “research” shortcoming\n",
    "in probabilistic topic models is finding an appropriate number of topics. Given a dataset,\n",
    "it is always difficult to find how many topics are ideal to describe that dataset. This\n",
    "model is all about this bit!\n",
    "\n",
    "To determine the ideal number of latent topics, what has been usually done in the\n",
    "literature are the following (crucial hints!)\n",
    "- Varying the number of topics arbitrarily and shown with respect to some measure\n",
    "that one result or value obtained through that metric/measure is relatively better\n",
    "than other values;\n",
    "- Using a tuning strategy where the training data is split into training and tune\n",
    "data. The topic model is tuned on the training data and evaluated on the tuned\n",
    "data. The best evaluation result is then chosen as the ideal number of topics and\n",
    "then this is applied on the test data;\n",
    "- Using a Bayesian non-parametric approach to find the number of topics automatically.\n",
    "\n",
    "In this work, we will cover two goals:\n",
    "1. Which papers or research works have studied the problem of determining the number of topics \n",
    "- Similar to the approach used please visit https://towardsdatascience.com/evaluate-topic-model-in-python-latent-dirichlet-allocation-lda-7d57484bb5d0\n",
    "2. How can we determine the number of topics that are ideal for the dataset."
   ]
  },
  {
   "cell_type": "markdown",
   "id": "portable-advisory",
   "metadata": {},
   "source": [
    "### Import all required packages from sci-kit learn library."
   ]
  },
  {
   "cell_type": "code",
   "execution_count": 1,
   "id": "smaller-quality",
   "metadata": {},
   "outputs": [],
   "source": [
    "import pandas as pd\n",
    "import matplotlib.pyplot as plt\n",
    "from sklearn.decomposition import LatentDirichletAllocation\n",
    "import nltk\n",
    "import string\n",
    "import re\n",
    "import gensim\n",
    "from gensim.utils import simple_preprocess\n",
    "import spacy\n",
    "import en_core_web_sm\n",
    "import gensim.corpora as corpora\n",
    "from gensim.models import CoherenceModel\n",
    "from gensim.models import LdaModel\n",
    "import numpy as np\n",
    "import tqdm"
   ]
  },
  {
   "cell_type": "markdown",
   "id": "fatal-minute",
   "metadata": {},
   "source": [
    "### Load the dataset\n",
    "Link to download the dataset from Kaggle https://www.kaggle.com/danofer/starter-dbpedia-extraction"
   ]
  },
  {
   "cell_type": "code",
   "execution_count": 2,
   "id": "first-celtic",
   "metadata": {},
   "outputs": [],
   "source": [
    "dbpedia_df = pd.read_csv('DBP_wiki_data.csv')"
   ]
  },
  {
   "cell_type": "markdown",
   "id": "royal-password",
   "metadata": {},
   "source": [
    "### Explore the dataset\n",
    "Check out the number of rows and columns"
   ]
  },
  {
   "cell_type": "code",
   "execution_count": 3,
   "id": "material-supervision",
   "metadata": {},
   "outputs": [
    {
     "data": {
      "text/plain": [
       "(342781, 6)"
      ]
     },
     "execution_count": 3,
     "metadata": {},
     "output_type": "execute_result"
    }
   ],
   "source": [
    "dbpedia_df.shape"
   ]
  },
  {
   "cell_type": "markdown",
   "id": "musical-minority",
   "metadata": {},
   "source": [
    "### Randomly select only 10000 rows from the entire document. \n",
    "Depending on your machine's processor speed, you are free to explore all 342781 rows."
   ]
  },
  {
   "cell_type": "code",
   "execution_count": 4,
   "id": "auburn-belarus",
   "metadata": {},
   "outputs": [],
   "source": [
    "NUM_SAMPLES = 10000"
   ]
  },
  {
   "cell_type": "markdown",
   "id": "complimentary-working",
   "metadata": {},
   "source": [
    "### Format the dataset such that it can only hold 10000 rows."
   ]
  },
  {
   "cell_type": "code",
   "execution_count": 5,
   "id": "built-service",
   "metadata": {},
   "outputs": [],
   "source": [
    "dbpedia_df = dbpedia_df.sample(NUM_SAMPLES, replace=False).reset_index(drop=True)"
   ]
  },
  {
   "cell_type": "code",
   "execution_count": 6,
   "id": "accredited-germany",
   "metadata": {},
   "outputs": [
    {
     "data": {
      "text/html": [
       "<div>\n",
       "<style scoped>\n",
       "    .dataframe tbody tr th:only-of-type {\n",
       "        vertical-align: middle;\n",
       "    }\n",
       "\n",
       "    .dataframe tbody tr th {\n",
       "        vertical-align: top;\n",
       "    }\n",
       "\n",
       "    .dataframe thead th {\n",
       "        text-align: right;\n",
       "    }\n",
       "</style>\n",
       "<table border=\"1\" class=\"dataframe\">\n",
       "  <thead>\n",
       "    <tr style=\"text-align: right;\">\n",
       "      <th></th>\n",
       "      <th>text</th>\n",
       "      <th>l1</th>\n",
       "      <th>l2</th>\n",
       "      <th>l3</th>\n",
       "      <th>wiki_name</th>\n",
       "      <th>word_count</th>\n",
       "    </tr>\n",
       "  </thead>\n",
       "  <tbody>\n",
       "    <tr>\n",
       "      <th>0</th>\n",
       "      <td>Frühstück is a Polish Christian rock band, and...</td>\n",
       "      <td>Agent</td>\n",
       "      <td>Group</td>\n",
       "      <td>Band</td>\n",
       "      <td>Frühstück</td>\n",
       "      <td>43</td>\n",
       "    </tr>\n",
       "    <tr>\n",
       "      <th>1</th>\n",
       "      <td>Phyllis Pamela Green (28 March 1929 – 7 May 20...</td>\n",
       "      <td>Agent</td>\n",
       "      <td>Actor</td>\n",
       "      <td>AdultActor</td>\n",
       "      <td>Pamela_Green</td>\n",
       "      <td>48</td>\n",
       "    </tr>\n",
       "    <tr>\n",
       "      <th>2</th>\n",
       "      <td>The New York City mayoral election of 1993 occ...</td>\n",
       "      <td>Event</td>\n",
       "      <td>SocietalEvent</td>\n",
       "      <td>Election</td>\n",
       "      <td>New_York_City_mayoral_election,_1993</td>\n",
       "      <td>63</td>\n",
       "    </tr>\n",
       "    <tr>\n",
       "      <th>3</th>\n",
       "      <td>Roland Göhler (born March 26, 1943) is a Germa...</td>\n",
       "      <td>Agent</td>\n",
       "      <td>Athlete</td>\n",
       "      <td>Rower</td>\n",
       "      <td>Roland_Göhler</td>\n",
       "      <td>47</td>\n",
       "    </tr>\n",
       "    <tr>\n",
       "      <th>4</th>\n",
       "      <td>Asbestos Records is an American independent re...</td>\n",
       "      <td>Agent</td>\n",
       "      <td>Company</td>\n",
       "      <td>RecordLabel</td>\n",
       "      <td>Asbestos_Records</td>\n",
       "      <td>265</td>\n",
       "    </tr>\n",
       "  </tbody>\n",
       "</table>\n",
       "</div>"
      ],
      "text/plain": [
       "                                                text     l1             l2  \\\n",
       "0  Frühstück is a Polish Christian rock band, and...  Agent          Group   \n",
       "1  Phyllis Pamela Green (28 March 1929 – 7 May 20...  Agent          Actor   \n",
       "2  The New York City mayoral election of 1993 occ...  Event  SocietalEvent   \n",
       "3  Roland Göhler (born March 26, 1943) is a Germa...  Agent        Athlete   \n",
       "4  Asbestos Records is an American independent re...  Agent        Company   \n",
       "\n",
       "            l3                             wiki_name  word_count  \n",
       "0         Band                             Frühstück          43  \n",
       "1   AdultActor                          Pamela_Green          48  \n",
       "2     Election  New_York_City_mayoral_election,_1993          63  \n",
       "3        Rower                         Roland_Göhler          47  \n",
       "4  RecordLabel                      Asbestos_Records         265  "
      ]
     },
     "execution_count": 6,
     "metadata": {},
     "output_type": "execute_result"
    }
   ],
   "source": [
    "dbpedia_df.head(5)"
   ]
  },
  {
   "cell_type": "markdown",
   "id": "designed-insured",
   "metadata": {},
   "source": [
    "### Data Cleaning\n",
    "Clean the data by dropping unnecessary column. The only column that will be focused on is the 'text' column."
   ]
  },
  {
   "cell_type": "code",
   "execution_count": 8,
   "id": "short-preservation",
   "metadata": {},
   "outputs": [],
   "source": [
    "dbpedia_df = dbpedia_df.drop(columns=['l2', 'l3', 'wiki_name', \n",
    "                              'word_count'], axis=1)"
   ]
  },
  {
   "cell_type": "markdown",
   "id": "applied-simpson",
   "metadata": {},
   "source": [
    "### Preprocessing (Punctuation mark)\n",
    "Remove all punctuation marks from the documents"
   ]
  },
  {
   "cell_type": "code",
   "execution_count": 10,
   "id": "reported-tract",
   "metadata": {},
   "outputs": [
    {
     "data": {
      "text/html": [
       "<div>\n",
       "<style scoped>\n",
       "    .dataframe tbody tr th:only-of-type {\n",
       "        vertical-align: middle;\n",
       "    }\n",
       "\n",
       "    .dataframe tbody tr th {\n",
       "        vertical-align: top;\n",
       "    }\n",
       "\n",
       "    .dataframe thead th {\n",
       "        text-align: right;\n",
       "    }\n",
       "</style>\n",
       "<table border=\"1\" class=\"dataframe\">\n",
       "  <thead>\n",
       "    <tr style=\"text-align: right;\">\n",
       "      <th></th>\n",
       "      <th>text</th>\n",
       "      <th>l1</th>\n",
       "      <th>body_text_clean</th>\n",
       "    </tr>\n",
       "  </thead>\n",
       "  <tbody>\n",
       "    <tr>\n",
       "      <th>0</th>\n",
       "      <td>Frühstück is a Polish Christian rock band, and...</td>\n",
       "      <td>Agent</td>\n",
       "      <td>Frühstück is a Polish Christian rock band and ...</td>\n",
       "    </tr>\n",
       "    <tr>\n",
       "      <th>1</th>\n",
       "      <td>Phyllis Pamela Green (28 March 1929 – 7 May 20...</td>\n",
       "      <td>Agent</td>\n",
       "      <td>Phyllis Pamela Green 28 March 1929 – 7 May 201...</td>\n",
       "    </tr>\n",
       "    <tr>\n",
       "      <th>2</th>\n",
       "      <td>The New York City mayoral election of 1993 occ...</td>\n",
       "      <td>Event</td>\n",
       "      <td>The New York City mayoral election of 1993 occ...</td>\n",
       "    </tr>\n",
       "    <tr>\n",
       "      <th>3</th>\n",
       "      <td>Roland Göhler (born March 26, 1943) is a Germa...</td>\n",
       "      <td>Agent</td>\n",
       "      <td>Roland Göhler born March 26 1943 is a German r...</td>\n",
       "    </tr>\n",
       "    <tr>\n",
       "      <th>4</th>\n",
       "      <td>Asbestos Records is an American independent re...</td>\n",
       "      <td>Agent</td>\n",
       "      <td>Asbestos Records is an American independent re...</td>\n",
       "    </tr>\n",
       "  </tbody>\n",
       "</table>\n",
       "</div>"
      ],
      "text/plain": [
       "                                                text     l1  \\\n",
       "0  Frühstück is a Polish Christian rock band, and...  Agent   \n",
       "1  Phyllis Pamela Green (28 March 1929 – 7 May 20...  Agent   \n",
       "2  The New York City mayoral election of 1993 occ...  Event   \n",
       "3  Roland Göhler (born March 26, 1943) is a Germa...  Agent   \n",
       "4  Asbestos Records is an American independent re...  Agent   \n",
       "\n",
       "                                     body_text_clean  \n",
       "0  Frühstück is a Polish Christian rock band and ...  \n",
       "1  Phyllis Pamela Green 28 March 1929 – 7 May 201...  \n",
       "2  The New York City mayoral election of 1993 occ...  \n",
       "3  Roland Göhler born March 26 1943 is a German r...  \n",
       "4  Asbestos Records is an American independent re...  "
      ]
     },
     "execution_count": 10,
     "metadata": {},
     "output_type": "execute_result"
    }
   ],
   "source": [
    "def remove_punct(text):\n",
    "    text_nopunct = \"\".join([char for char in text if char not in string.punctuation])\n",
    "    return text_nopunct\n",
    "\n",
    "dbpedia_df['body_text_clean'] = dbpedia_df['text'].apply(lambda x: remove_punct(x))\n",
    "\n",
    "dbpedia_df.head()"
   ]
  },
  {
   "cell_type": "markdown",
   "id": "smoking-hometown",
   "metadata": {},
   "source": [
    "### Preprocessing (Stop Words)\n",
    "Remove all stop words, example of stop words are He, is, and, but, the, we etc "
   ]
  },
  {
   "cell_type": "code",
   "execution_count": 11,
   "id": "quiet-routine",
   "metadata": {},
   "outputs": [],
   "source": [
    "#Stopword we are dealing is 'English' only\n",
    "stopword = nltk.corpus.stopwords.words('english')"
   ]
  },
  {
   "cell_type": "code",
   "execution_count": 12,
   "id": "young-letters",
   "metadata": {},
   "outputs": [
    {
     "data": {
      "text/html": [
       "<div>\n",
       "<style scoped>\n",
       "    .dataframe tbody tr th:only-of-type {\n",
       "        vertical-align: middle;\n",
       "    }\n",
       "\n",
       "    .dataframe tbody tr th {\n",
       "        vertical-align: top;\n",
       "    }\n",
       "\n",
       "    .dataframe thead th {\n",
       "        text-align: right;\n",
       "    }\n",
       "</style>\n",
       "<table border=\"1\" class=\"dataframe\">\n",
       "  <thead>\n",
       "    <tr style=\"text-align: right;\">\n",
       "      <th></th>\n",
       "      <th>text</th>\n",
       "      <th>l1</th>\n",
       "      <th>body_text_clean</th>\n",
       "      <th>body_text_nostop</th>\n",
       "    </tr>\n",
       "  </thead>\n",
       "  <tbody>\n",
       "    <tr>\n",
       "      <th>0</th>\n",
       "      <td>Frühstück is a Polish Christian rock band, and...</td>\n",
       "      <td>Agent</td>\n",
       "      <td>Frühstück is a Polish Christian rock band and ...</td>\n",
       "      <td>[F, r, ü, h, ü, c, k,  ,  ,  , P, l, h,  , C, ...</td>\n",
       "    </tr>\n",
       "    <tr>\n",
       "      <th>1</th>\n",
       "      <td>Phyllis Pamela Green (28 March 1929 – 7 May 20...</td>\n",
       "      <td>Agent</td>\n",
       "      <td>Phyllis Pamela Green 28 March 1929 – 7 May 201...</td>\n",
       "      <td>[P, h, l, l,  , P, e, l,  , G, r, e, e, n,  , ...</td>\n",
       "    </tr>\n",
       "    <tr>\n",
       "      <th>2</th>\n",
       "      <td>The New York City mayoral election of 1993 occ...</td>\n",
       "      <td>Event</td>\n",
       "      <td>The New York City mayoral election of 1993 occ...</td>\n",
       "      <td>[T, h, e,  , N, e, w,  , Y, r, k,  , C,  , r, ...</td>\n",
       "    </tr>\n",
       "    <tr>\n",
       "      <th>3</th>\n",
       "      <td>Roland Göhler (born March 26, 1943) is a Germa...</td>\n",
       "      <td>Agent</td>\n",
       "      <td>Roland Göhler born March 26 1943 is a German r...</td>\n",
       "      <td>[R, l, n,  , G, ö, h, l, e, r,  , b, r, n,  , ...</td>\n",
       "    </tr>\n",
       "    <tr>\n",
       "      <th>4</th>\n",
       "      <td>Asbestos Records is an American independent re...</td>\n",
       "      <td>Agent</td>\n",
       "      <td>Asbestos Records is an American independent re...</td>\n",
       "      <td>[A, b, e,  , R, e, c, r,  ,  , n,  , A, e, r, ...</td>\n",
       "    </tr>\n",
       "  </tbody>\n",
       "</table>\n",
       "</div>"
      ],
      "text/plain": [
       "                                                text     l1  \\\n",
       "0  Frühstück is a Polish Christian rock band, and...  Agent   \n",
       "1  Phyllis Pamela Green (28 March 1929 – 7 May 20...  Agent   \n",
       "2  The New York City mayoral election of 1993 occ...  Event   \n",
       "3  Roland Göhler (born March 26, 1943) is a Germa...  Agent   \n",
       "4  Asbestos Records is an American independent re...  Agent   \n",
       "\n",
       "                                     body_text_clean  \\\n",
       "0  Frühstück is a Polish Christian rock band and ...   \n",
       "1  Phyllis Pamela Green 28 March 1929 – 7 May 201...   \n",
       "2  The New York City mayoral election of 1993 occ...   \n",
       "3  Roland Göhler born March 26 1943 is a German r...   \n",
       "4  Asbestos Records is an American independent re...   \n",
       "\n",
       "                                    body_text_nostop  \n",
       "0  [F, r, ü, h, ü, c, k,  ,  ,  , P, l, h,  , C, ...  \n",
       "1  [P, h, l, l,  , P, e, l,  , G, r, e, e, n,  , ...  \n",
       "2  [T, h, e,  , N, e, w,  , Y, r, k,  , C,  , r, ...  \n",
       "3  [R, l, n,  , G, ö, h, l, e, r,  , b, r, n,  , ...  \n",
       "4  [A, b, e,  , R, e, c, r,  ,  , n,  , A, e, r, ...  "
      ]
     },
     "execution_count": 12,
     "metadata": {},
     "output_type": "execute_result"
    }
   ],
   "source": [
    "def remove_stopwords(tokenized_list):\n",
    "    text_l = [word for word in tokenized_list if word not in stopword]\n",
    "    return text_l\n",
    "\n",
    "dbpedia_df['body_text_nostop'] = dbpedia_df['body_text_clean'].apply(lambda x: remove_stopwords(x))\n",
    "\n",
    "dbpedia_df.head()"
   ]
  },
  {
   "cell_type": "markdown",
   "id": "exceptional-vinyl",
   "metadata": {},
   "source": [
    "### Preprocessing (Tokenize each words in the corpus)"
   ]
  },
  {
   "cell_type": "code",
   "execution_count": 13,
   "id": "moderate-elite",
   "metadata": {},
   "outputs": [
    {
     "data": {
      "text/html": [
       "<div>\n",
       "<style scoped>\n",
       "    .dataframe tbody tr th:only-of-type {\n",
       "        vertical-align: middle;\n",
       "    }\n",
       "\n",
       "    .dataframe tbody tr th {\n",
       "        vertical-align: top;\n",
       "    }\n",
       "\n",
       "    .dataframe thead th {\n",
       "        text-align: right;\n",
       "    }\n",
       "</style>\n",
       "<table border=\"1\" class=\"dataframe\">\n",
       "  <thead>\n",
       "    <tr style=\"text-align: right;\">\n",
       "      <th></th>\n",
       "      <th>text</th>\n",
       "      <th>l1</th>\n",
       "      <th>body_text_clean</th>\n",
       "      <th>body_text_nostop</th>\n",
       "      <th>body_text_tokenized</th>\n",
       "    </tr>\n",
       "  </thead>\n",
       "  <tbody>\n",
       "    <tr>\n",
       "      <th>0</th>\n",
       "      <td>Frühstück is a Polish Christian rock band, and...</td>\n",
       "      <td>Agent</td>\n",
       "      <td>Frühstück is a Polish Christian rock band and ...</td>\n",
       "      <td>[F, r, ü, h, ü, c, k,  ,  ,  , P, l, h,  , C, ...</td>\n",
       "      <td>[frühstück, is, a, polish, christian, rock, ba...</td>\n",
       "    </tr>\n",
       "    <tr>\n",
       "      <th>1</th>\n",
       "      <td>Phyllis Pamela Green (28 March 1929 – 7 May 20...</td>\n",
       "      <td>Agent</td>\n",
       "      <td>Phyllis Pamela Green 28 March 1929 – 7 May 201...</td>\n",
       "      <td>[P, h, l, l,  , P, e, l,  , G, r, e, e, n,  , ...</td>\n",
       "      <td>[phyllis, pamela, green, 28, march, 1929, 7, m...</td>\n",
       "    </tr>\n",
       "    <tr>\n",
       "      <th>2</th>\n",
       "      <td>The New York City mayoral election of 1993 occ...</td>\n",
       "      <td>Event</td>\n",
       "      <td>The New York City mayoral election of 1993 occ...</td>\n",
       "      <td>[T, h, e,  , N, e, w,  , Y, r, k,  , C,  , r, ...</td>\n",
       "      <td>[the, new, york, city, mayoral, election, of, ...</td>\n",
       "    </tr>\n",
       "    <tr>\n",
       "      <th>3</th>\n",
       "      <td>Roland Göhler (born March 26, 1943) is a Germa...</td>\n",
       "      <td>Agent</td>\n",
       "      <td>Roland Göhler born March 26 1943 is a German r...</td>\n",
       "      <td>[R, l, n,  , G, ö, h, l, e, r,  , b, r, n,  , ...</td>\n",
       "      <td>[roland, göhler, born, march, 26, 1943, is, a,...</td>\n",
       "    </tr>\n",
       "    <tr>\n",
       "      <th>4</th>\n",
       "      <td>Asbestos Records is an American independent re...</td>\n",
       "      <td>Agent</td>\n",
       "      <td>Asbestos Records is an American independent re...</td>\n",
       "      <td>[A, b, e,  , R, e, c, r,  ,  , n,  , A, e, r, ...</td>\n",
       "      <td>[asbestos, records, is, an, american, independ...</td>\n",
       "    </tr>\n",
       "  </tbody>\n",
       "</table>\n",
       "</div>"
      ],
      "text/plain": [
       "                                                text     l1  \\\n",
       "0  Frühstück is a Polish Christian rock band, and...  Agent   \n",
       "1  Phyllis Pamela Green (28 March 1929 – 7 May 20...  Agent   \n",
       "2  The New York City mayoral election of 1993 occ...  Event   \n",
       "3  Roland Göhler (born March 26, 1943) is a Germa...  Agent   \n",
       "4  Asbestos Records is an American independent re...  Agent   \n",
       "\n",
       "                                     body_text_clean  \\\n",
       "0  Frühstück is a Polish Christian rock band and ...   \n",
       "1  Phyllis Pamela Green 28 March 1929 – 7 May 201...   \n",
       "2  The New York City mayoral election of 1993 occ...   \n",
       "3  Roland Göhler born March 26 1943 is a German r...   \n",
       "4  Asbestos Records is an American independent re...   \n",
       "\n",
       "                                    body_text_nostop  \\\n",
       "0  [F, r, ü, h, ü, c, k,  ,  ,  , P, l, h,  , C, ...   \n",
       "1  [P, h, l, l,  , P, e, l,  , G, r, e, e, n,  , ...   \n",
       "2  [T, h, e,  , N, e, w,  , Y, r, k,  , C,  , r, ...   \n",
       "3  [R, l, n,  , G, ö, h, l, e, r,  , b, r, n,  , ...   \n",
       "4  [A, b, e,  , R, e, c, r,  ,  , n,  , A, e, r, ...   \n",
       "\n",
       "                                 body_text_tokenized  \n",
       "0  [frühstück, is, a, polish, christian, rock, ba...  \n",
       "1  [phyllis, pamela, green, 28, march, 1929, 7, m...  \n",
       "2  [the, new, york, city, mayoral, election, of, ...  \n",
       "3  [roland, göhler, born, march, 26, 1943, is, a,...  \n",
       "4  [asbestos, records, is, an, american, independ...  "
      ]
     },
     "execution_count": 13,
     "metadata": {},
     "output_type": "execute_result"
    }
   ],
   "source": [
    "def tokenize(text):\n",
    "    tokens = re.split('\\W+', text)\n",
    "    return tokens\n",
    "\n",
    "dbpedia_df['body_text_tokenized'] = dbpedia_df['text'].apply(lambda x: tokenize(x.lower()))\n",
    "\n",
    "dbpedia_df.head()"
   ]
  },
  {
   "cell_type": "markdown",
   "id": "metric-object",
   "metadata": {},
   "source": [
    "### Preprocessing (Lemmatize each word in the corpus)"
   ]
  },
  {
   "cell_type": "code",
   "execution_count": 14,
   "id": "dominant-topic",
   "metadata": {},
   "outputs": [
    {
     "data": {
      "text/html": [
       "<div>\n",
       "<style scoped>\n",
       "    .dataframe tbody tr th:only-of-type {\n",
       "        vertical-align: middle;\n",
       "    }\n",
       "\n",
       "    .dataframe tbody tr th {\n",
       "        vertical-align: top;\n",
       "    }\n",
       "\n",
       "    .dataframe thead th {\n",
       "        text-align: right;\n",
       "    }\n",
       "</style>\n",
       "<table border=\"1\" class=\"dataframe\">\n",
       "  <thead>\n",
       "    <tr style=\"text-align: right;\">\n",
       "      <th></th>\n",
       "      <th>text</th>\n",
       "      <th>l1</th>\n",
       "      <th>body_text_clean</th>\n",
       "      <th>body_text_nostop</th>\n",
       "      <th>body_text_tokenized</th>\n",
       "      <th>body_text_lemmatized</th>\n",
       "    </tr>\n",
       "  </thead>\n",
       "  <tbody>\n",
       "    <tr>\n",
       "      <th>0</th>\n",
       "      <td>Frühstück is a Polish Christian rock band, and...</td>\n",
       "      <td>Agent</td>\n",
       "      <td>Frühstück is a Polish Christian rock band and ...</td>\n",
       "      <td>[F, r, ü, h, ü, c, k,  ,  ,  , P, l, h,  , C, ...</td>\n",
       "      <td>[frühstück, is, a, polish, christian, rock, ba...</td>\n",
       "      <td>[F, r, ü, h, s, t, ü, c, k,  , i, s,  , a,  , ...</td>\n",
       "    </tr>\n",
       "    <tr>\n",
       "      <th>1</th>\n",
       "      <td>Phyllis Pamela Green (28 March 1929 – 7 May 20...</td>\n",
       "      <td>Agent</td>\n",
       "      <td>Phyllis Pamela Green 28 March 1929 – 7 May 201...</td>\n",
       "      <td>[P, h, l, l,  , P, e, l,  , G, r, e, e, n,  , ...</td>\n",
       "      <td>[phyllis, pamela, green, 28, march, 1929, 7, m...</td>\n",
       "      <td>[P, h, y, l, l, i, s,  , P, a, m, e, l, a,  , ...</td>\n",
       "    </tr>\n",
       "    <tr>\n",
       "      <th>2</th>\n",
       "      <td>The New York City mayoral election of 1993 occ...</td>\n",
       "      <td>Event</td>\n",
       "      <td>The New York City mayoral election of 1993 occ...</td>\n",
       "      <td>[T, h, e,  , N, e, w,  , Y, r, k,  , C,  , r, ...</td>\n",
       "      <td>[the, new, york, city, mayoral, election, of, ...</td>\n",
       "      <td>[T, h, e,  , N, e, w,  , Y, o, r, k,  , C, i, ...</td>\n",
       "    </tr>\n",
       "    <tr>\n",
       "      <th>3</th>\n",
       "      <td>Roland Göhler (born March 26, 1943) is a Germa...</td>\n",
       "      <td>Agent</td>\n",
       "      <td>Roland Göhler born March 26 1943 is a German r...</td>\n",
       "      <td>[R, l, n,  , G, ö, h, l, e, r,  , b, r, n,  , ...</td>\n",
       "      <td>[roland, göhler, born, march, 26, 1943, is, a,...</td>\n",
       "      <td>[R, o, l, a, n, d,  , G, ö, h, l, e, r,  , (, ...</td>\n",
       "    </tr>\n",
       "    <tr>\n",
       "      <th>4</th>\n",
       "      <td>Asbestos Records is an American independent re...</td>\n",
       "      <td>Agent</td>\n",
       "      <td>Asbestos Records is an American independent re...</td>\n",
       "      <td>[A, b, e,  , R, e, c, r,  ,  , n,  , A, e, r, ...</td>\n",
       "      <td>[asbestos, records, is, an, american, independ...</td>\n",
       "      <td>[A, s, b, e, s, t, o, s,  , R, e, c, o, r, d, ...</td>\n",
       "    </tr>\n",
       "  </tbody>\n",
       "</table>\n",
       "</div>"
      ],
      "text/plain": [
       "                                                text     l1  \\\n",
       "0  Frühstück is a Polish Christian rock band, and...  Agent   \n",
       "1  Phyllis Pamela Green (28 March 1929 – 7 May 20...  Agent   \n",
       "2  The New York City mayoral election of 1993 occ...  Event   \n",
       "3  Roland Göhler (born March 26, 1943) is a Germa...  Agent   \n",
       "4  Asbestos Records is an American independent re...  Agent   \n",
       "\n",
       "                                     body_text_clean  \\\n",
       "0  Frühstück is a Polish Christian rock band and ...   \n",
       "1  Phyllis Pamela Green 28 March 1929 – 7 May 201...   \n",
       "2  The New York City mayoral election of 1993 occ...   \n",
       "3  Roland Göhler born March 26 1943 is a German r...   \n",
       "4  Asbestos Records is an American independent re...   \n",
       "\n",
       "                                    body_text_nostop  \\\n",
       "0  [F, r, ü, h, ü, c, k,  ,  ,  , P, l, h,  , C, ...   \n",
       "1  [P, h, l, l,  , P, e, l,  , G, r, e, e, n,  , ...   \n",
       "2  [T, h, e,  , N, e, w,  , Y, r, k,  , C,  , r, ...   \n",
       "3  [R, l, n,  , G, ö, h, l, e, r,  , b, r, n,  , ...   \n",
       "4  [A, b, e,  , R, e, c, r,  ,  , n,  , A, e, r, ...   \n",
       "\n",
       "                                 body_text_tokenized  \\\n",
       "0  [frühstück, is, a, polish, christian, rock, ba...   \n",
       "1  [phyllis, pamela, green, 28, march, 1929, 7, m...   \n",
       "2  [the, new, york, city, mayoral, election, of, ...   \n",
       "3  [roland, göhler, born, march, 26, 1943, is, a,...   \n",
       "4  [asbestos, records, is, an, american, independ...   \n",
       "\n",
       "                                body_text_lemmatized  \n",
       "0  [F, r, ü, h, s, t, ü, c, k,  , i, s,  , a,  , ...  \n",
       "1  [P, h, y, l, l, i, s,  , P, a, m, e, l, a,  , ...  \n",
       "2  [T, h, e,  , N, e, w,  , Y, o, r, k,  , C, i, ...  \n",
       "3  [R, o, l, a, n, d,  , G, ö, h, l, e, r,  , (, ...  \n",
       "4  [A, s, b, e, s, t, o, s,  , R, e, c, o, r, d, ...  "
      ]
     },
     "execution_count": 14,
     "metadata": {},
     "output_type": "execute_result"
    }
   ],
   "source": [
    "wn = nltk.WordNetLemmatizer()\n",
    "def lemmatizing(tokenized_text):\n",
    "    text = [wn.lemmatize(word) for word in tokenized_text]\n",
    "    return text\n",
    "\n",
    "dbpedia_df['body_text_lemmatized'] = dbpedia_df['text'].apply(lambda x: lemmatizing(x))\n",
    "\n",
    "dbpedia_df.head()"
   ]
  },
  {
   "cell_type": "markdown",
   "id": "ruled-short",
   "metadata": {},
   "source": [
    "### Preprocessing (ASCII)\n",
    "Remove all numbers from the document"
   ]
  },
  {
   "cell_type": "code",
   "execution_count": 15,
   "id": "instrumental-manual",
   "metadata": {},
   "outputs": [
    {
     "data": {
      "text/html": [
       "<div>\n",
       "<style scoped>\n",
       "    .dataframe tbody tr th:only-of-type {\n",
       "        vertical-align: middle;\n",
       "    }\n",
       "\n",
       "    .dataframe tbody tr th {\n",
       "        vertical-align: top;\n",
       "    }\n",
       "\n",
       "    .dataframe thead th {\n",
       "        text-align: right;\n",
       "    }\n",
       "</style>\n",
       "<table border=\"1\" class=\"dataframe\">\n",
       "  <thead>\n",
       "    <tr style=\"text-align: right;\">\n",
       "      <th></th>\n",
       "      <th>text</th>\n",
       "      <th>l1</th>\n",
       "      <th>body_text_clean</th>\n",
       "      <th>body_text_nostop</th>\n",
       "      <th>body_text_tokenized</th>\n",
       "      <th>body_text_lemmatized</th>\n",
       "      <th>remove_number</th>\n",
       "    </tr>\n",
       "  </thead>\n",
       "  <tbody>\n",
       "    <tr>\n",
       "      <th>0</th>\n",
       "      <td>Frühstück is a Polish Christian rock band, and...</td>\n",
       "      <td>Agent</td>\n",
       "      <td>Frühstück is a Polish Christian rock band and ...</td>\n",
       "      <td>[F, r, ü, h, ü, c, k,  ,  ,  , P, l, h,  , C, ...</td>\n",
       "      <td>[frühstück, is, a, polish, christian, rock, ba...</td>\n",
       "      <td>[F, r, ü, h, s, t, ü, c, k,  , i, s,  , a,  , ...</td>\n",
       "      <td>frhstck is a polish christian rock band, and t...</td>\n",
       "    </tr>\n",
       "    <tr>\n",
       "      <th>1</th>\n",
       "      <td>Phyllis Pamela Green (28 March 1929 – 7 May 20...</td>\n",
       "      <td>Agent</td>\n",
       "      <td>Phyllis Pamela Green 28 March 1929 – 7 May 201...</td>\n",
       "      <td>[P, h, l, l,  , P, e, l,  , G, r, e, e, n,  , ...</td>\n",
       "      <td>[phyllis, pamela, green, 28, march, 1929, 7, m...</td>\n",
       "      <td>[P, h, y, l, l, i, s,  , P, a, m, e, l, a,  , ...</td>\n",
       "      <td>phyllis pamela green  march    may  was an eng...</td>\n",
       "    </tr>\n",
       "    <tr>\n",
       "      <th>2</th>\n",
       "      <td>The New York City mayoral election of 1993 occ...</td>\n",
       "      <td>Event</td>\n",
       "      <td>The New York City mayoral election of 1993 occ...</td>\n",
       "      <td>[T, h, e,  , N, e, w,  , Y, r, k,  , C,  , r, ...</td>\n",
       "      <td>[the, new, york, city, mayoral, election, of, ...</td>\n",
       "      <td>[T, h, e,  , N, e, w,  , Y, o, r, k,  , C, i, ...</td>\n",
       "      <td>the new york city mayoral election of  occurre...</td>\n",
       "    </tr>\n",
       "    <tr>\n",
       "      <th>3</th>\n",
       "      <td>Roland Göhler (born March 26, 1943) is a Germa...</td>\n",
       "      <td>Agent</td>\n",
       "      <td>Roland Göhler born March 26 1943 is a German r...</td>\n",
       "      <td>[R, l, n,  , G, ö, h, l, e, r,  , b, r, n,  , ...</td>\n",
       "      <td>[roland, göhler, born, march, 26, 1943, is, a,...</td>\n",
       "      <td>[R, o, l, a, n, d,  , G, ö, h, l, e, r,  , (, ...</td>\n",
       "      <td>roland ghler born march ,  is a german rower w...</td>\n",
       "    </tr>\n",
       "    <tr>\n",
       "      <th>4</th>\n",
       "      <td>Asbestos Records is an American independent re...</td>\n",
       "      <td>Agent</td>\n",
       "      <td>Asbestos Records is an American independent re...</td>\n",
       "      <td>[A, b, e,  , R, e, c, r,  ,  , n,  , A, e, r, ...</td>\n",
       "      <td>[asbestos, records, is, an, american, independ...</td>\n",
       "      <td>[A, s, b, e, s, t, o, s,  , R, e, c, o, r, d, ...</td>\n",
       "      <td>asbestos records is an american independent re...</td>\n",
       "    </tr>\n",
       "  </tbody>\n",
       "</table>\n",
       "</div>"
      ],
      "text/plain": [
       "                                                text     l1  \\\n",
       "0  Frühstück is a Polish Christian rock band, and...  Agent   \n",
       "1  Phyllis Pamela Green (28 March 1929 – 7 May 20...  Agent   \n",
       "2  The New York City mayoral election of 1993 occ...  Event   \n",
       "3  Roland Göhler (born March 26, 1943) is a Germa...  Agent   \n",
       "4  Asbestos Records is an American independent re...  Agent   \n",
       "\n",
       "                                     body_text_clean  \\\n",
       "0  Frühstück is a Polish Christian rock band and ...   \n",
       "1  Phyllis Pamela Green 28 March 1929 – 7 May 201...   \n",
       "2  The New York City mayoral election of 1993 occ...   \n",
       "3  Roland Göhler born March 26 1943 is a German r...   \n",
       "4  Asbestos Records is an American independent re...   \n",
       "\n",
       "                                    body_text_nostop  \\\n",
       "0  [F, r, ü, h, ü, c, k,  ,  ,  , P, l, h,  , C, ...   \n",
       "1  [P, h, l, l,  , P, e, l,  , G, r, e, e, n,  , ...   \n",
       "2  [T, h, e,  , N, e, w,  , Y, r, k,  , C,  , r, ...   \n",
       "3  [R, l, n,  , G, ö, h, l, e, r,  , b, r, n,  , ...   \n",
       "4  [A, b, e,  , R, e, c, r,  ,  , n,  , A, e, r, ...   \n",
       "\n",
       "                                 body_text_tokenized  \\\n",
       "0  [frühstück, is, a, polish, christian, rock, ba...   \n",
       "1  [phyllis, pamela, green, 28, march, 1929, 7, m...   \n",
       "2  [the, new, york, city, mayoral, election, of, ...   \n",
       "3  [roland, göhler, born, march, 26, 1943, is, a,...   \n",
       "4  [asbestos, records, is, an, american, independ...   \n",
       "\n",
       "                                body_text_lemmatized  \\\n",
       "0  [F, r, ü, h, s, t, ü, c, k,  , i, s,  , a,  , ...   \n",
       "1  [P, h, y, l, l, i, s,  , P, a, m, e, l, a,  , ...   \n",
       "2  [T, h, e,  , N, e, w,  , Y, o, r, k,  , C, i, ...   \n",
       "3  [R, o, l, a, n, d,  , G, ö, h, l, e, r,  , (, ...   \n",
       "4  [A, s, b, e, s, t, o, s,  , R, e, c, o, r, d, ...   \n",
       "\n",
       "                                       remove_number  \n",
       "0  frhstck is a polish christian rock band, and t...  \n",
       "1  phyllis pamela green  march    may  was an eng...  \n",
       "2  the new york city mayoral election of  occurre...  \n",
       "3  roland ghler born march ,  is a german rower w...  \n",
       "4  asbestos records is an american independent re...  "
      ]
     },
     "execution_count": 15,
     "metadata": {},
     "output_type": "execute_result"
    }
   ],
   "source": [
    "\n",
    "# function to remove numbers\n",
    "def remove_numbers(text):\n",
    "    # define the pattern to keep\n",
    "    pattern = r'[^a-zA-z.,!?/:;\\\"\\'\\s]' \n",
    "    return re.sub(pattern, '', text)\n",
    " \n",
    "# call function\n",
    "dbpedia_df['remove_number'] = dbpedia_df['text'].apply(lambda x: remove_numbers(x.lower()))\n",
    "\n",
    "dbpedia_df.head()"
   ]
  },
  {
   "cell_type": "markdown",
   "id": "identical-issue",
   "metadata": {},
   "source": [
    "### Breakdown sentence to words"
   ]
  },
  {
   "cell_type": "code",
   "execution_count": 17,
   "id": "bottom-endorsement",
   "metadata": {},
   "outputs": [
    {
     "name": "stdout",
     "output_type": "stream",
     "text": [
      "['fruhstuck', 'is', 'polish', 'christian', 'rock', 'band', 'and', 'they', 'primarily', 'play', 'hard', 'rock', 'they', 'come', 'from', 'wrocław', 'poland', 'the', 'band', 'started', 'making', 'music', 'in', 'and', 'their', 'frontman', 'is', 'martijn', 'krale', 'their']\n"
     ]
    }
   ],
   "source": [
    "def sent_to_words(sentences):\n",
    "    for sentence in sentences:\n",
    "        yield(gensim.utils.simple_preprocess(str(sentence), deacc=True))  # deacc=True removes punctuations\n",
    "data = dbpedia_df.body_text_tokenized.values.tolist()\n",
    "data_words = list(sent_to_words(data))\n",
    "print(data_words[:1][0][:30])"
   ]
  },
  {
   "cell_type": "markdown",
   "id": "anticipated-tamil",
   "metadata": {},
   "source": [
    "### Build the bigram and trigram models\n",
    "Just by the name bi means two words and tri means three words each from the document."
   ]
  },
  {
   "cell_type": "code",
   "execution_count": 18,
   "id": "selective-reflection",
   "metadata": {},
   "outputs": [],
   "source": [
    "bigram = gensim.models.Phrases(data_words, min_count=5, threshold=100) # higher threshold fewer phrases.\n",
    "trigram = gensim.models.Phrases(bigram[data_words], threshold=100)\n",
    "# Faster way to get a sentence clubbed as a trigram/bigram\n",
    "bigram_mod = gensim.models.phrases.Phraser(bigram)"
   ]
  },
  {
   "cell_type": "markdown",
   "id": "mature-blade",
   "metadata": {},
   "source": [
    "### Build a function that formats all bigrams to noun, adjective, verb and adverb."
   ]
  },
  {
   "cell_type": "code",
   "execution_count": 19,
   "id": "proof-interstate",
   "metadata": {},
   "outputs": [],
   "source": [
    "def make_bigrams(texts):\n",
    "    return [bigram_mod[doc] for doc in texts]\n",
    "def lemmatization(texts, allowed_postags=['NOUN', 'ADJ', 'VERB', 'ADV']):\n",
    "    \"\"\"https://spacy.io/api/annotation\"\"\"\n",
    "    texts_out = []\n",
    "    for sent in texts:\n",
    "        doc = nlp(\" \".join(sent)) \n",
    "        texts_out.append([token.lemma_ for token in doc if token.pos_ in allowed_postags])\n",
    "    return texts_out"
   ]
  },
  {
   "cell_type": "markdown",
   "id": "renewable-memphis",
   "metadata": {},
   "source": [
    "### Import spacy from sci-kit learn\n",
    "After importing spacy you need to install en_core_web_sm before it can work.\n",
    "- ! pip install https://github.com/explosion/spacy-models/releases/download/en_core_web_sm-3.0.0/en_core_web_sm-3.0.0.tar.gz#egg=en_core_web_sm\n",
    "Or\n",
    "- ! pip install https://github.com/explosion/spacy-models/releases/download/en_core_web_sm-3.0.0/en_core_web_sm-3.0.0.tar.gz"
   ]
  },
  {
   "cell_type": "code",
   "execution_count": 20,
   "id": "conventional-plumbing",
   "metadata": {},
   "outputs": [
    {
     "name": "stdout",
     "output_type": "stream",
     "text": [
      "[['fruhstuck', 'be', 'polish', 'christian', 'rock_band', 'primarily', 'play', 'hard_rock', 'come', 'wrocław', 'poland', 'band', 'start', 'make', 'music', 'frontman', 'be', 'martijn', 'krale', 'first', 'studio_album', 'quiet', 'be', 'release', 'youngside', 'record']]\n"
     ]
    }
   ],
   "source": [
    "data_words_bigrams = make_bigrams(data_words)\n",
    "nlp = spacy.load(\"en_core_web_sm\", disable=['parser', 'ner'])\n",
    "data_lemmatized = lemmatization(data_words_bigrams, allowed_postags=['NOUN', 'ADJ', 'VERB', 'ADV'])\n",
    "print(data_lemmatized[:1])"
   ]
  },
  {
   "cell_type": "markdown",
   "id": "apart-doctor",
   "metadata": {},
   "source": [
    "### Create a dictionary, corpus and document frequency"
   ]
  },
  {
   "cell_type": "code",
   "execution_count": 22,
   "id": "renewable-delivery",
   "metadata": {},
   "outputs": [
    {
     "name": "stdout",
     "output_type": "stream",
     "text": [
      "[[(0, 1), (1, 3), (2, 1), (3, 1), (4, 1), (5, 1), (6, 1), (7, 1), (8, 1), (9, 1), (10, 1), (11, 1), (12, 1), (13, 1), (14, 1), (15, 1), (16, 1), (17, 1), (18, 1), (19, 1), (20, 1), (21, 1), (22, 1), (23, 1)]]\n"
     ]
    }
   ],
   "source": [
    "# Create Dictionary\n",
    "id2word = corpora.Dictionary(data_lemmatized)\n",
    "# Create Corpus\n",
    "texts = data_lemmatized\n",
    "# Term Document Frequency\n",
    "corpus = [id2word.doc2bow(text) for text in texts]\n",
    "# View\n",
    "print(corpus[:1])"
   ]
  },
  {
   "cell_type": "markdown",
   "id": "polish-daisy",
   "metadata": {},
   "source": [
    "### Train the model with Latent Dirichlet Allocation (LDA) and pass the following parameter."
   ]
  },
  {
   "cell_type": "code",
   "execution_count": 23,
   "id": "modified-disco",
   "metadata": {},
   "outputs": [],
   "source": [
    "lda_model = gensim.models.LdaMulticore(corpus=corpus,\n",
    "                                       id2word=id2word,\n",
    "                                       num_topics=10, \n",
    "                                       random_state=100,\n",
    "                                       chunksize=100,\n",
    "                                       passes=10,\n",
    "                                       per_word_topics=True)"
   ]
  },
  {
   "cell_type": "markdown",
   "id": "confident-health",
   "metadata": {},
   "source": [
    "### Print the Keyword in the 10 topics"
   ]
  },
  {
   "cell_type": "code",
   "execution_count": 24,
   "id": "general-findings",
   "metadata": {},
   "outputs": [
    {
     "name": "stdout",
     "output_type": "stream",
     "text": [
      "[(0,\n",
      "  '0.068*\"be\" + 0.021*\"river\" + 0.016*\"lake\" + 0.011*\"mountain\" + '\n",
      "  '0.011*\"north\" + 0.011*\"south\" + 0.009*\"locate\" + 0.008*\"have\" + '\n",
      "  '0.008*\"west\" + 0.008*\"east\"'),\n",
      " (1,\n",
      "  '0.034*\"release\" + 0.031*\"album\" + 0.023*\"be\" + 0.022*\"single\" + '\n",
      "  '0.021*\"song\" + 0.019*\"band\" + 0.019*\"record\" + 0.012*\"music\" + '\n",
      "  '0.012*\"number\" + 0.009*\"chart\"'),\n",
      " (2,\n",
      "  '0.075*\"be\" + 0.013*\"have\" + 0.006*\"school\" + 0.005*\"also\" + 0.005*\"locate\" '\n",
      "  '+ 0.005*\"station\" + 0.005*\"service\" + 0.005*\"city\" + 0.004*\"include\" + '\n",
      "  '0.004*\"base\"'),\n",
      " (3,\n",
      "  '0.058*\"be\" + 0.019*\"play\" + 0.018*\"team\" + 0.015*\"season\" + 0.015*\"win\" + '\n",
      "  '0.014*\"league\" + 0.011*\"bear\" + 0.011*\"football\" + 0.011*\"first\" + '\n",
      "  '0.009*\"club\"'),\n",
      " (4,\n",
      "  '0.037*\"be\" + 0.027*\"bridge\" + 0.018*\"route\" + 0.013*\"road\" + 0.009*\"line\" + '\n",
      "  '0.009*\"canal\" + 0.008*\"game\" + 0.008*\"highway\" + 0.007*\"run\" + '\n",
      "  '0.006*\"build\"'),\n",
      " (5,\n",
      "  '0.092*\"be\" + 0.021*\"specie\" + 0.015*\"family\" + 0.012*\"railway\" + '\n",
      "  '0.011*\"line\" + 0.011*\"find\" + 0.010*\"genus\" + 0.009*\"have\" + 0.006*\"know\" + '\n",
      "  '0.006*\"white\"'),\n",
      " (6,\n",
      "  '0.017*\"be\" + 0.014*\"race\" + 0.009*\"stake\" + 0.005*\"run\" + 0.005*\"event\" + '\n",
      "  '0.004*\"oncaea\" + 0.004*\"mile\" + 0.004*\"campbell\" + 0.004*\"mexico\" + '\n",
      "  '0.003*\"american\"'),\n",
      " (7,\n",
      "  '0.043*\"church\" + 0.035*\"diocese\" + 0.015*\"roman_catholic\" + 0.009*\"bishop\" '\n",
      "  '+ 0.009*\"labor\" + 0.007*\"archdiocese\" + 0.006*\"norway\" + 0.006*\"parish\" + '\n",
      "  '0.005*\"chapel\" + 0.005*\"archbishop\"'),\n",
      " (8,\n",
      "  '0.069*\"be\" + 0.014*\"have\" + 0.008*\"also\" + 0.007*\"series\" + '\n",
      "  '0.007*\"magazine\" + 0.006*\"publish\" + 0.006*\"write\" + 0.006*\"first\" + '\n",
      "  '0.006*\"include\" + 0.006*\"know\"'),\n",
      " (9,\n",
      "  '0.072*\"be\" + 0.009*\"serve\" + 0.008*\"bear\" + 0.008*\"member\" + 0.007*\"party\" '\n",
      "  '+ 0.006*\"have\" + 0.005*\"university\" + 0.005*\"become\" + 0.005*\"first\" + '\n",
      "  '0.005*\"state\"')]\n"
     ]
    }
   ],
   "source": [
    "from pprint import pprint\n",
    "pprint(lda_model.print_topics())\n",
    "doc_lda = lda_model[corpus]"
   ]
  },
  {
   "cell_type": "markdown",
   "id": "aggregate-chemical",
   "metadata": {},
   "source": [
    "### Compute the perplexity and coherence score"
   ]
  },
  {
   "cell_type": "code",
   "execution_count": 25,
   "id": "composite-lighting",
   "metadata": {},
   "outputs": [
    {
     "name": "stdout",
     "output_type": "stream",
     "text": [
      "\n",
      "Perplexity:  -9.090857277397632\n",
      "\n",
      "Coherence Score:  0.4929251459808456\n"
     ]
    }
   ],
   "source": [
    "#Compute Perplexity score\n",
    "print('\\nPerplexity: ', lda_model.log_perplexity(corpus))  # a measure of how good the model is. lower the better.\n",
    "# Compute Coherence score\n",
    "coherence_model_lda = CoherenceModel(model=lda_model, texts=texts, dictionary=id2word, coherence='c_v')\n",
    "coherence_lda = coherence_model_lda.get_coherence()\n",
    "print('\\nCoherence Score: ', coherence_lda)"
   ]
  },
  {
   "cell_type": "markdown",
   "id": "located-certificate",
   "metadata": {},
   "source": [
    "### Build a function to get the optimal number of topics (K) in the document.\n",
    "To obtain the ideal number of issues We must create a set of LDA models with varying numbers of topics (k) and choose the one with the highest coherence value. Choosing a ‘k' that denotes the conclusion of a gradual increase in subject coherence typically yields relevant and interpretable topics."
   ]
  },
  {
   "cell_type": "code",
   "execution_count": 26,
   "id": "assisted-approval",
   "metadata": {},
   "outputs": [],
   "source": [
    "def compute_coherence_values(dictionary, corpus, texts, limit, start=2, step=3):\n",
    "    \"\"\"\n",
    "    Compute c_v coherence for various number of topics\n",
    "\n",
    "    Parameters:\n",
    "    ----------\n",
    "    dictionary : Gensim dictionary\n",
    "    corpus : Gensim corpus\n",
    "    texts : List of input texts\n",
    "    limit : Max num of topics\n",
    "\n",
    "    Returns:\n",
    "    -------\n",
    "    model_list : List of LDA topic models\n",
    "    coherence_values : Coherence values corresponding to the LDA model with respective number of topics\n",
    "    \"\"\"\n",
    "    coherence_values = []\n",
    "    model_list = []\n",
    "    for num_topics in range(start, limit, step):\n",
    "        model=LdaModel(corpus=corpus, id2word=dictionary, num_topics=num_topics)\n",
    "        model_list.append(model)\n",
    "        coherencemodel = CoherenceModel(model=model, texts=texts, dictionary=dictionary, coherence='c_v')\n",
    "        coherence_values.append(coherencemodel.get_coherence())\n",
    "\n",
    "    return model_list, coherence_values"
   ]
  },
  {
   "cell_type": "markdown",
   "id": "august-founder",
   "metadata": {},
   "source": [
    "### Plot a graph to investigate the number of (K)\n",
    "In this case, we can assume that our (K) number is between 8 and 9. This will become evident as we proceed."
   ]
  },
  {
   "cell_type": "code",
   "execution_count": 27,
   "id": "reported-festival",
   "metadata": {},
   "outputs": [
    {
     "data": {
      "image/png": "[encoded data removed]",
      "text/plain": [
       "<Figure size 432x288 with 1 Axes>"
      ]
     },
     "metadata": {
      "needs_background": "light"
     },
     "output_type": "display_data"
    }
   ],
   "source": [
    "dictionary=id2word\n",
    "model_list, coherence_values = compute_coherence_values(dictionary=dictionary, corpus=corpus, texts=texts, start=2, limit=30, step=6)\n",
    "# Show graph\n",
    "import matplotlib.pyplot as plt\n",
    "limit=30; start=2; step=6;\n",
    "x = range(start, limit, step)\n",
    "plt.plot(x, coherence_values, color='green', marker='o')\n",
    "plt.title(\"Determine the Number of topics\", fontsize='14')\n",
    "plt.xlabel(\"Num Topics\", fontsize='14')\n",
    "plt.ylabel(\"Coherence score\", fontsize='14')\n",
    "plt.legend((\"coherence_values\"), loc='best')\n",
    "plt.grid(True)\n",
    "plt.show()"
   ]
  },
  {
   "cell_type": "markdown",
   "id": "complex-desert",
   "metadata": {},
   "source": [
    "### Hyperparameter tunning\n",
    "This will generate a result and save a file that will justify our topic number (K)"
   ]
  },
  {
   "cell_type": "code",
   "execution_count": 28,
   "id": "dental-roots",
   "metadata": {},
   "outputs": [],
   "source": [
    "# supporting function\n",
    "def compute_coherence_values(corpus, dictionary, k, a, b):\n",
    "    \n",
    "    lda_model = gensim.models.LdaMulticore(corpus=corpus,\n",
    "                                           id2word=dictionary,\n",
    "                                           num_topics=k, \n",
    "                                           random_state=100,\n",
    "                                           chunksize=100,\n",
    "                                           passes=10,\n",
    "                                           alpha=a,\n",
    "                                           eta=b)\n",
    "    \n",
    "    coherence_model_lda = CoherenceModel(model=lda_model, texts=data_lemmatized, dictionary=id2word, coherence='c_v')\n",
    "    \n",
    "    return coherence_model_lda.get_coherence()"
   ]
  },
  {
   "cell_type": "markdown",
   "id": "ranking-protest",
   "metadata": {},
   "source": [
    "### Perform a grid search \n",
    "Because of the number of iterations on alpha, eta, k, and coherence, this will take about 7 hours to complete, depending on your processor speed."
   ]
  },
  {
   "cell_type": "code",
   "execution_count": 29,
   "id": "acute-motel",
   "metadata": {},
   "outputs": [
    {
     "name": "stderr",
     "output_type": "stream",
     "text": [
      "100%|██████████████████████████████████████████████████████████████████████████████| 540/540 [8:20:07<00:00, 55.57s/it]\n"
     ]
    }
   ],
   "source": [
    "grid = {}\n",
    "grid['Validation_Set'] = {}\n",
    "# Topics range\n",
    "min_topics = 2\n",
    "max_topics = 11\n",
    "step_size = 1\n",
    "topics_range = range(min_topics, max_topics, step_size)\n",
    "# Alpha parameter\n",
    "alpha = list(np.arange(0.01, 1, 0.3))\n",
    "alpha.append('symmetric')\n",
    "alpha.append('asymmetric')\n",
    "# Beta parameter\n",
    "beta = list(np.arange(0.01, 1, 0.3))\n",
    "beta.append('symmetric')\n",
    "# Validation sets\n",
    "num_of_docs = len(corpus)\n",
    "corpus_sets = [#gensim.utils.ClippedCorpus(corpus, int(num_of_docs*0.25)), \n",
    "               #gensim.utils.ClippedCorpus(corpus, int(num_of_docs*0.5)), \n",
    "                gensim.utils.ClippedCorpus(corpus, int(num_of_docs*0.75)), \n",
    "               corpus]\n",
    "corpus_title = ['75% Corpus', '100% Corpus']\n",
    "model_results = {'Validation_Set': [],\n",
    "                 'Topics': [],\n",
    "                 'Alpha': [],\n",
    "                 'Beta': [],\n",
    "                 'Coherence': []\n",
    "                }\n",
    "# Can take a long time to run\n",
    "if 1 == 1:\n",
    "    pbar = tqdm.tqdm(total=540)\n",
    "    \n",
    "    # iterate through validation corpuses\n",
    "    for i in range(len(corpus_sets)):\n",
    "        # iterate through number of topics\n",
    "        for k in topics_range:\n",
    "            # iterate through alpha values\n",
    "            for a in alpha:\n",
    "                # iterare through beta values\n",
    "                for b in beta:\n",
    "                    # get the coherence score for the given parameters\n",
    "                    cv = compute_coherence_values(corpus=corpus_sets[i], dictionary=id2word, \n",
    "                                                  k=k, a=a, b=b)\n",
    "                    # Save the model results\n",
    "                    model_results['Validation_Set'].append(corpus_title[i])\n",
    "                    model_results['Topics'].append(k)\n",
    "                    model_results['Alpha'].append(a)\n",
    "                    model_results['Beta'].append(b)\n",
    "                    model_results['Coherence'].append(cv)\n",
    "                    \n",
    "                    pbar.update(1)\n",
    "    pd.DataFrame(model_results).to_csv('LDAdbpedia_result.csv', index=False)\n",
    "    pbar.close()"
   ]
  },
  {
   "cell_type": "markdown",
   "id": "organic-implement",
   "metadata": {},
   "source": [
    "### Evaluate the CSV file results and use the appropriate parameters."
   ]
  },
  {
   "cell_type": "code",
   "execution_count": 30,
   "id": "dominican-lexington",
   "metadata": {},
   "outputs": [],
   "source": [
    "lda_model = gensim.models.LdaMulticore(corpus=corpus,\n",
    "                                           id2word=id2word,\n",
    "                                           num_topics=8, \n",
    "                                           random_state=100,\n",
    "                                           chunksize=100,\n",
    "                                           passes=10,\n",
    "                                           alpha=0.31,\n",
    "                                           eta=0.91)"
   ]
  },
  {
   "cell_type": "code",
   "execution_count": 42,
   "id": "bound-peace",
   "metadata": {},
   "outputs": [
    {
     "name": "stderr",
     "output_type": "stream",
     "text": [
      "C:\\Users\\danla\\anaconda3\\lib\\site-packages\\ipykernel\\ipkernel.py:283: DeprecationWarning: `should_run_async` will not call `transform_cell` automatically in the future. Please pass the result to `transformed_cell` argument and any exception that happen during thetransform in `preprocessing_exc_tuple` in IPython 7.17 and above.\n",
      "  and should_run_async(code)\n"
     ]
    },
    {
     "name": "stdout",
     "output_type": "stream",
     "text": [
      "\n",
      "Perplexity:  -8.68242854586701\n",
      "\n",
      "Coherence Score:  0.5655054581264419\n"
     ]
    }
   ],
   "source": [
    "#Compute Perplexity score\n",
    "print('\\nPerplexity: ', lda_model.log_perplexity(corpus))  # a measure of how good the model is. lower the better.\n",
    "# Compute Coherence score\n",
    "coherence_model_lda = CoherenceModel(model=lda_model, texts=texts, dictionary=id2word, coherence='c_v')\n",
    "coherence_lda = coherence_model_lda.get_coherence()\n",
    "print('\\nCoherence Score: ', coherence_lda)"
   ]
  },
  {
   "cell_type": "code",
   "execution_count": 35,
   "id": "american-aggregate",
   "metadata": {},
   "outputs": [
    {
     "name": "stderr",
     "output_type": "stream",
     "text": [
      "C:\\Users\\danla\\anaconda3\\lib\\site-packages\\ipykernel\\ipkernel.py:283: DeprecationWarning: `should_run_async` will not call `transform_cell` automatically in the future. Please pass the result to `transformed_cell` argument and any exception that happen during thetransform in `preprocessing_exc_tuple` in IPython 7.17 and above.\n",
      "  and should_run_async(code)\n"
     ]
    }
   ],
   "source": [
    "from pyLDAvis import gensim"
   ]
  },
  {
   "cell_type": "markdown",
   "id": "dynamic-indie",
   "metadata": {},
   "source": [
    "### Visualize the topics"
   ]
  },
  {
   "cell_type": "code",
   "execution_count": 63,
   "id": "heated-bangladesh",
   "metadata": {},
   "outputs": [
    {
     "data": {
      "text/html": [
       "\n",
       "<link rel=\"stylesheet\" type=\"text/css\" href=\"/nbextensions/ldavis.v1.0.0.css\">\n",
       "\n",
       "\n",
       "<div id=\"ldavis_el1392026308141440964111821551\"></div>\n",
       "<script type=\"text/javascript\">\n",
       "\n",
       "var ldavis_el1392026308141440964111821551_data = {\"mdsDat\": {\"x\": [-0.20832333055836189, -0.18141281002267837, -0.002888928941126356, 0.04939949783628974, 0.08171906879274225, 0.08785125381838783, 0.08709917285406704, 0.08655607622067969], \"y\": [-0.0946410470421259, 0.10699139850301294, 0.01605907715608418, -0.05965559927732359, 0.005915404894627883, 0.00451452553844814, 0.00965227732415447, 0.011163962903122037], \"topics\": [1, 2, 3, 4, 5, 6, 7, 8], \"cluster\": [1, 1, 1, 1, 1, 1, 1, 1], \"Freq\": [52.078314432785234, 28.2982550707904, 8.91746975952694, 5.523179468669351, 2.0459345722227593, 1.5661619736457053, 0.9473470262982141, 0.6233376960614007]}, \"tinfo\": {\"Term\": [\"team\", \"play\", \"season\", \"win\", \"league\", \"be\", \"football\", \"release\", \"bear\", \"river\", \"championship\", \"club\", \"game\", \"player\", \"album\", \"locate\", \"north\", \"record\", \"music\", \"bridge\", \"lake\", \"single\", \"south\", \"first\", \"cup\", \"song\", \"world\", \"race\", \"specie\", \"final\", \"station\", \"service\", \"airport\", \"economic\", \"government\", \"operate\", \"church\", \"hospital\", \"public\", \"museum\", \"house\", \"council\", \"party\", \"building\", \"army\", \"research\", \"science\", \"newspaper\", \"prison\", \"political\", \"election\", \"journal\", \"education\", \"editor\", \"minister\", \"professor\", \"library\", \"network\", \"satellite\", \"military\", \"elect\", \"president\", \"law\", \"company\", \"railway\", \"channel\", \"air\", \"provide\", \"student\", \"line\", \"family\", \"large\", \"school\", \"be\", \"serve\", \"locate\", \"build\", \"other\", \"own\", \"have\", \"state\", \"city\", \"specie\", \"know\", \"new\", \"name\", \"also\", \"member\", \"work\", \"include\", \"use\", \"university\", \"most\", \"county\", \"first\", \"year\", \"part\", \"become\", \"well\", \"bear\", \"american\", \"time\", \"team\", \"league\", \"season\", \"football\", \"championship\", \"cup\", \"race\", \"match\", \"coach\", \"tournament\", \"basketball\", \"player\", \"finish\", \"score\", \"rugby\", \"hockey\", \"stadium\", \"baseball\", \"olympic\", \"summer_olympic\", \"winner\", \"club\", \"cricket\", \"rugby_union\", \"champion\", \"all_ireland\", \"trophy\", \"playoff\", \"head_coach\", \"soccer\", \"play\", \"competition\", \"compete\", \"win\", \"final\", \"professional\", \"career\", \"round\", \"game\", \"bear\", \"world\", \"event\", \"be\", \"first\", \"national\", \"year\", \"time\", \"have\", \"former\", \"american\", \"also\", \"second\", \"record\", \"album\", \"song\", \"studio_album\", \"chart\", \"label\", \"musical\", \"manga\", \"recording\", \"billboard\", \"lyric\", \"record_label\", \"pop\", \"discography\", \"cartoon\", \"musician\", \"anime\", \"guitar\", \"vocal\", \"ria\", \"genre\", \"soundtrack\", \"comic_book\", \"singer\", \"platinum\", \"playstation\", \"release\", \"ep\", \"vocalist\", \"fantasy\", \"compilation\", \"band\", \"film\", \"version\", \"music\", \"character\", \"episode\", \"love\", \"video\", \"artist\", \"single\", \"series\", \"feature\", \"record\", \"production\", \"japanese\", \"number\", \"write\", \"rock\", \"game\", \"be\", \"produce\", \"perform\", \"have\", \"first\", \"also\", \"include\", \"title\", \"american\", \"dam\", \"glaci\", \"tributary\", \"flow\", \"summit\", \"reservoir\", \"tepui\", \"mountain_range\", \"lake\", \"spider\", \"volcano\", \"whangamarino\", \"aiguille\", \"waikere\", \"cascade\", \"catchment\", \"sloan\", \"cave\", \"massif\", \"gmina\", \"administrative_district\", \"drain\", \"highest_point\", \"mountain_pass\", \"traverse\", \"lies_approximately\", \"glacier\", \"kyrgyz\", \"downstream\", \"voivodeship\", \"bridge\", \"river\", \"mountain\", \"flood\", \"givor\", \"alp\", \"slope\", \"waikato\", \"mount\", \"lie\", \"peak\", \"creek\", \"water\", \"elevation\", \"range\", \"border\", \"village\", \"kilometres_mi\", \"north\", \"km\", \"south\", \"canal\", \"east\", \"valley\", \"be\", \"west\", \"locate\", \"foot\", \"county\", \"area\", \"specie\", \"road\", \"high\", \"ngc\", \"pope\", \"baronet\", \"amphiaraus\", \"agron\", \"byssa\", \"meropis\", \"lenticular\", \"julich\", \"athena\", \"archbishop\", \"soest\", \"herme\", \"artemis\", \"eumelus\", \"galaxy\", \"prelate\", \"alcmaeon\", \"sagredo\", \"oldenburg\", \"baronetcy\", \"diaconate\", \"gerard\", \"countess\", \"odo\", \"sophocle\", \"alberic\", \"baarn\", \"beatify\", \"fredius\", \"byzantine\", \"emperor\", \"bishop\", \"enoksen\", \"gracie\", \"count\", \"heir\", \"son\", \"daughter\", \"duke\", \"constellation\", \"noble\", \"marry\", \"king\", \"cardinal\", \"adolf\", \"sir\", \"father\", \"succeed\", \"hungary\", \"ii\", \"die\", \"wife\", \"brother\", \"death\", \"henry\", \"william\", \"greek\", \"hungarian\", \"persian\", \"salamand\", \"also_romanize\", \"shah\", \"luengo\", \"sule\", \"costa\", \"rural_district\", \"tawaramoto\", \"theonistus\", \"messaoud\", \"inca\", \"callitris\", \"hassi\", \"anselmo\", \"dionysius\", \"anibal\", \"daegu\", \"abbas\", \"sultan\", \"discal\", \"suffuse\", \"hindwings_are\", \"ochreous\", \"\\u0645\\u062d\\u0645\\u062f\", \"collor\", \"kintetsu\", \"bessarabian\", \"costal\", \"albarracin\", \"forewing\", \"ye\", \"dong\", \"lara\", \"khan\", \"muhammad\", \"wingspan\", \"iranian\", \"martyr\", \"bhutto\", \"moth\", \"radical\", \"islamic\", \"census\", \"arabic\", \"whitish\", \"grey\", \"iran\", \"politician\", \"village\", \"population\", \"pakistan\", \"oncaea\", \"uromunna\", \"ecclesiastical_province\", \"pyrgus\", \"potamonaute\", \"thermocyclop\", \"fulgurator\", \"overhaul_base\", \"repair_depot\", \"frogmouth\", \"podargus\", \"bousfield\", \"suffragan\", \"polanski\", \"chlorodiella\", \"sis\", \"oliva\", \"ardistomis\", \"base_repair\", \"chakeri\", \"bottger\", \"uroptychode\", \"giesbrecht\", \"gniezno\", \"w\\u0142oc\\u0142awek\", \"gaimard\", \"quoy\", \"schnack\", \"kiefer_thermocyclop\", \"latin_dioecesis\", \"archdiocese\", \"diocese\", \"roman_catholic\", \"heron\", \"kanpur\", \"genus\", \"specie\", \"contain\", \"latin\", \"olive\", \"cg_samuel\", \"jacobite_syrian\", \"konni\", \"meenangadi\", \"philexinose\", \"thirumeni\", \"lompoc\", \"catholicose\", \"ghevarghese\", \"ignatius\", \"iwa\", \"kkn\", \"malankara\", \"simhasana\", \"trikkunnath\", \"zakka\", \"malabar\", \"changanassery\", \"afroth\", \"aluva\", \"ankamali\", \"annammah\", \"aprem\", \"baelius\", \"bahya\", \"baselius\", \"berchmann\", \"catholiose\", \"charuvilayil\", \"chingavanam\", \"dionysius\", \"ordain\", \"malayalam\", \"mar\", \"dec\", \"feb\", \"orthodox_church\", \"seminary\", \"federal_correctional\", \"male_inmate\", \"jan\", \"diocese\"], \"Freq\": [1958.0, 2234.0, 1619.0, 1771.0, 1495.0, 30777.0, 1210.0, 582.0, 2060.0, 456.0, 976.0, 975.0, 961.0, 797.0, 379.0, 878.0, 625.0, 807.0, 384.0, 300.0, 282.0, 548.0, 625.0, 2491.0, 636.0, 310.0, 1323.0, 549.0, 605.0, 628.0, 755.4535022836955, 623.050022508613, 364.0859702361477, 355.0074959277815, 367.40837189289397, 481.50651337891077, 415.2333915564263, 305.22307137500525, 351.1521773483373, 300.1550087908129, 529.8371611701551, 288.76854902860276, 556.6445482038872, 245.76524390510232, 303.2601046952511, 224.45917930634394, 242.3455779690386, 205.06601539868072, 200.9169130317168, 195.3226187316302, 412.8799065120134, 181.9464879936355, 195.0171632305924, 194.4065444779946, 205.80111416321253, 194.8751847811774, 167.9241388635332, 273.94147269589195, 155.539555806806, 202.1301502074587, 355.0409584929852, 413.3509030766107, 247.06776329630034, 460.50809615227337, 458.91464240596383, 310.7892366628573, 352.0329076807561, 269.03814748919524, 321.10622772679176, 672.558033852204, 667.0918726825234, 520.0827868820962, 828.875557768811, 22110.19502793329, 979.4641151728604, 796.5009643084622, 434.2629605825696, 809.6304182216339, 491.3905003103569, 3074.4680130441056, 994.9162948729105, 845.4979774401874, 545.8975120334269, 894.2011337220234, 814.8383769777122, 918.1591614099509, 1446.2067694342186, 835.0019105087546, 605.3832858596408, 888.0809912834821, 554.9401857807673, 834.0411403506139, 594.9371570577205, 623.7284066088667, 1107.253048756459, 940.7520187248853, 636.9429781824364, 684.3717075541242, 586.6468065285075, 598.1346220627237, 572.3689217612875, 558.4357452530871, 1956.2741462928923, 1492.9123887701899, 1616.4900280427246, 1208.5663524650852, 974.1742439523634, 634.043659029083, 546.9577302861302, 495.78507510389807, 449.16285691095214, 369.94057430185035, 372.5274619402165, 792.2516486880934, 438.2006227892736, 306.7475066199009, 258.8340678384003, 242.13808222545367, 251.30577222451979, 224.38512910114977, 205.00588277214928, 172.0465681067673, 191.4208320171273, 962.2539959325662, 170.01650048945555, 140.63698414131534, 376.425063135683, 109.45411014914288, 102.2739387062096, 98.37486859050648, 98.11909781686968, 101.27392162943237, 2149.5986592361596, 378.0772013964351, 426.54569352465137, 1658.5101985353672, 593.0140568830468, 550.0560006695822, 529.0916504533315, 297.06499977843896, 776.9349394768061, 1458.117717819945, 867.6336973920517, 495.83732102366616, 7413.547376246617, 1237.2375316547887, 699.856407001168, 861.8459134564033, 632.1537144921828, 1070.6754750056236, 500.2970025626561, 587.8377804718575, 680.1294434318263, 513.0847869341043, 482.2451241701957, 377.08176403470037, 306.4365524553775, 105.04953861088546, 110.71563131359942, 108.418808463472, 105.29360809714908, 61.05544760677753, 58.02034239680947, 42.7143431975385, 50.68261329136715, 38.09165098901916, 59.86921660833872, 32.877941936071565, 41.197591271580606, 47.202759031253024, 32.5929721387737, 29.67647063720436, 43.28414830307906, 31.482674286415005, 42.118272066757775, 24.16720155577729, 27.235463009323702, 61.59187127776362, 22.41102783509031, 21.1792269405156, 523.5123713925967, 20.28908141616717, 19.170209104628206, 24.33893000479483, 23.88578320783168, 228.77534086710622, 185.202025457147, 91.89181128117427, 297.74117823154967, 126.82216566699304, 43.144407919451346, 77.54950435351567, 60.14349296192425, 113.93831435135432, 260.7821846822245, 180.0381586735763, 149.29696320780158, 216.1687246642668, 64.64973328692761, 82.20526523134488, 132.767820455926, 114.54930751195414, 86.85031702719955, 181.20870136734678, 874.6165297850744, 90.19956990413272, 69.48036121300377, 177.26703358534206, 145.8586973422598, 116.63905474894734, 103.14579286484638, 83.69651740691184, 86.00772745829012, 119.80461289231278, 42.88436708403125, 37.05931632721837, 47.01039094718796, 55.21106513066015, 41.85239426214008, 25.86988555652042, 24.501966183097856, 255.66695256320833, 32.96748725207951, 25.576248565667584, 20.556925577370556, 17.23176914264716, 17.177511165217293, 20.568197924496992, 15.277344840931752, 19.835160232209443, 27.036233512132096, 13.946252859023321, 12.934663826896365, 12.259176319280716, 15.230434519912018, 14.745656761377585, 11.747592109545792, 13.771577970457502, 10.716659543782294, 10.452887783320987, 11.366411850921102, 9.859035198618002, 9.215163147485777, 231.16586391460925, 347.1259303671817, 167.9787773064836, 28.82860644307674, 19.15370529628601, 21.790793323168174, 28.685889888712403, 23.355018907409068, 58.87575767856218, 45.65509799730383, 79.11047505907065, 39.00633485765617, 68.37217257006235, 32.486228348770226, 83.80891486948386, 45.04057201708042, 64.35227807787471, 41.754230502338544, 125.11029882721796, 55.66471753476014, 111.67151467673175, 54.56335943543733, 92.19275936656449, 50.824485196375335, 374.48123387333266, 70.02607520629228, 78.89813883064255, 40.33509643337916, 66.01186434814296, 56.242270836300754, 55.21972037158831, 50.09735197462248, 50.74859105378733, 10.69175485685966, 12.298020384443053, 5.568934841066411, 5.327718421827949, 4.437506598143418, 4.437506598143418, 4.437506598143418, 4.197549167962216, 3.469951800931906, 4.972042352524048, 11.177894698739147, 4.262704094103876, 5.525772936079459, 3.34793068196315, 3.34793068196315, 14.859632928481833, 3.348134115076705, 2.9614499238636873, 3.285619513948545, 2.5893662743138504, 2.9331418652633205, 2.6798486230931577, 6.351536288297094, 2.462045310130131, 2.4351447790508898, 2.6933846390986336, 2.6934773859414096, 3.185557690009851, 2.4222492006251253, 2.1509266539175447, 4.016593081329043, 9.529347374506637, 34.36213046928722, 3.876020082285138, 3.7958344269967825, 13.86467637257267, 3.9769272120713395, 32.816744902152344, 17.20128799304297, 12.141997591214299, 5.608480874945053, 4.853088516955266, 12.358325565618347, 15.806544825890152, 7.825775519125829, 4.8365605631474295, 9.000147164802694, 11.458155924237843, 8.86187435921735, 5.739090315676024, 8.571383354294154, 12.550453969223305, 8.229705420661087, 8.002960379204186, 8.6375059331823, 7.241018336050458, 7.164890579376409, 5.979191261281251, 5.397289676355418, 20.993806985879786, 5.616859593876208, 3.8954249288684433, 3.932567282029517, 4.05636633702048, 4.05636633702048, 5.217320437434487, 2.661182286668686, 3.424718646378258, 2.884204492951445, 2.8954380539393703, 2.9118641946695445, 2.6785373020782357, 2.737304143413763, 2.713798560419958, 6.602511532039852, 2.8149876741466975, 2.4185103435256994, 2.089578708709253, 2.8744705344914303, 1.8701212169337738, 1.8613457956207204, 1.874035701371328, 1.706999342761759, 2.0150502483132, 2.0210178973473467, 2.5823144544521703, 1.7095871184060765, 1.663772887916019, 1.715661744580264, 1.98957787892702, 2.664108434165455, 2.9855336794417804, 2.79792900876052, 5.060003343377378, 2.739109708801764, 4.041854798711929, 4.33870056980688, 3.9928400428999407, 2.257724526002246, 5.59776959876541, 6.636629412117162, 3.9751043591563824, 4.776412575505778, 5.443602219321869, 3.1156483681560587, 4.4134818478086, 3.8221427040896785, 4.862438675247007, 3.836811892920394, 3.292991747620237, 3.1066372950171908, 7.531957803101593, 3.878371872223027, 3.5559435781889137, 3.010145460615487, 2.8021266597687253, 2.5219228985213644, 2.3529674514847754, 2.8337178490408705, 2.8337178490408705, 2.4093833985314257, 2.3210443284521087, 1.9137077771958013, 2.656401259712224, 1.8422360258211878, 1.4375434814711372, 1.6693058464420167, 1.7830674208775994, 1.3879623296570889, 1.7115468263970832, 1.7115468263970832, 1.2665009053887863, 1.2564329125183507, 1.1367675522565541, 1.1948106891017174, 1.1948106891017174, 1.1888764178675675, 1.1888764178675675, 1.070742056389598, 1.0113697723717354, 1.079648281098208, 4.308027397014627, 11.653970384611583, 5.644819678718714, 1.649585193234331, 1.3779298892514942, 2.122000199115426, 2.2382811806973093, 1.823531940521726, 1.3460963949794889, 1.2746481514262535, 4.77560878873756, 3.5878814418920073, 2.9942241506643827, 2.9942241506643827, 2.9942241506643827, 1.8079353576791033, 3.7639945399216725, 1.2161508099723144, 1.2161508099723144, 1.2161508099723144, 1.2161508099723144, 1.2161508099723144, 1.2161508099723144, 1.2161508099723144, 1.2161508099723144, 1.2161508099723144, 3.5740142636544303, 0.6692368996944662, 0.6277648457604204, 0.6277648457604204, 0.6277648457604204, 0.6277648457604204, 0.6277648457604204, 0.6277648457604204, 0.6277648457604204, 0.6277648457604204, 0.6277648457604204, 0.6277648457604204, 0.6277648457604204, 0.6277648457604204, 2.3859226872144683, 2.99457985387573, 1.5471313363795864, 6.013818007567945, 1.0654280782638645, 1.1229147018722756, 0.9760277494158758, 1.198849357674844, 0.7342032928443749, 0.7647641999610189, 0.7156727296346774, 0.7311696494758114], \"Total\": [1958.0, 2234.0, 1619.0, 1771.0, 1495.0, 30777.0, 1210.0, 582.0, 2060.0, 456.0, 976.0, 975.0, 961.0, 797.0, 379.0, 878.0, 625.0, 807.0, 384.0, 300.0, 282.0, 548.0, 625.0, 2491.0, 636.0, 310.0, 1323.0, 549.0, 605.0, 628.0, 757.8032224979057, 625.4903426321342, 366.1825975263385, 357.0540556898178, 369.5568633615207, 484.35982258215523, 417.9541455309009, 307.32873650624595, 353.66318280094725, 302.47536277280767, 533.9564408559157, 291.17714316729723, 561.4596184572681, 247.93179908841032, 306.2052635687687, 226.69974912017932, 244.78431553563647, 207.2648160218586, 203.09086082371246, 197.47921867921613, 417.5023916714675, 184.04642961721797, 197.28548260561524, 196.68420673074343, 208.2647898290195, 197.2611246675793, 169.98375394472748, 277.4147699438687, 157.5556584948361, 204.77732467658143, 361.2646040076544, 421.6023161013601, 250.71126930326312, 470.82339916724004, 471.79242806868615, 318.4447180455557, 362.1061142726354, 274.5251242663592, 330.6111848334798, 714.7942314589585, 712.7097558189798, 548.5760237169395, 904.4596752636596, 30777.14204796052, 1085.9796337375562, 878.2856172485086, 458.83503916911064, 926.9895628699521, 530.5446594468199, 4350.542987325914, 1193.5616209617222, 993.6227004540305, 605.0338063328827, 1129.8944090653538, 1010.330054238732, 1199.633718787225, 2263.0893912480005, 1099.629851664966, 721.333314831883, 1238.7350730297371, 655.6034081605798, 1245.378771581927, 740.3418572549431, 808.2013439101775, 2491.734033590537, 1833.8931356056391, 881.947183622766, 1033.2434126193148, 824.3663959995748, 2060.331527874666, 1247.1321498708994, 1232.0113607876583, 1958.8694535777038, 1495.2132045333747, 1619.329703075503, 1210.7433972354036, 976.2831605936489, 636.5503170976993, 549.3309905197762, 498.10968912281925, 451.63094216005845, 372.06572572105205, 374.78019022697794, 797.6091739952615, 441.23209769398204, 309.02512418256583, 261.0678875470267, 244.27123153058142, 253.70965052090278, 226.64637315514636, 207.23617636968683, 174.16903582136752, 193.8565151086817, 975.0651058697706, 172.28009007575525, 142.74661901976094, 382.48813181592413, 111.54137719397215, 104.40300680519645, 100.46101251579732, 100.20658708369714, 103.43759601499431, 2234.9136073447485, 390.4174022985183, 442.5219927864906, 1771.2464435139154, 628.6174683612363, 606.462360012381, 615.2465507424105, 322.45563298978897, 961.8369025351926, 2060.331527874666, 1323.090999524961, 660.5453803799101, 30777.14204796052, 2491.734033590537, 1225.8852125990609, 1833.8931356056391, 1232.0113607876583, 4350.542987325914, 791.8238859320846, 1247.1321498708994, 2263.0893912480005, 889.9978391011632, 807.2012430228682, 379.440660662722, 310.19715421319364, 107.37796017104137, 113.1871001089178, 111.92359583092335, 108.7048465388881, 63.40140902762029, 61.12018172627422, 45.14096459037811, 53.75375717367536, 40.48575039415987, 63.63995198105148, 35.19281639301337, 44.146363197495575, 50.67452987807988, 35.06366636709933, 32.04608131213531, 46.760647079191315, 34.53659272432572, 46.285607318492055, 26.684545244898377, 30.111377883122348, 68.23251006255916, 24.853997346204736, 23.549083544167623, 582.7300845901495, 22.605274470731022, 21.497021618917525, 27.426576504665107, 26.935067669537236, 260.62339830477015, 216.92640512003024, 110.8735701780188, 384.13358910171894, 157.85622164198216, 50.6763681968568, 98.94816451671521, 77.91705091785096, 178.99512621195174, 548.1154031757594, 444.3917652954815, 383.1298254914476, 807.2012430228682, 102.78174051206354, 174.3062818295977, 455.00214297478044, 340.6778610646297, 197.57670307531785, 961.8369025351926, 30777.14204796052, 225.93058316468287, 127.6599650509864, 4350.542987325914, 2491.734033590537, 2263.0893912480005, 1238.7350730297371, 527.7221351550699, 1247.1321498708994, 124.40109386497231, 45.450332548751625, 39.49732150087203, 50.15769349876059, 59.16919479636628, 45.71374261017458, 28.405017123037325, 26.93596482413398, 282.0771097638475, 36.675055595460215, 28.56764447624579, 23.06947842570231, 19.633703181541723, 19.688414010484166, 23.802023102596856, 17.737499394799016, 23.186179968529274, 31.627685714487026, 16.41770675498684, 15.328003137950942, 14.652317738028847, 18.219871568590797, 17.716725773390504, 14.22183454970559, 16.701515800622225, 13.110532786525702, 12.934750493114267, 14.146624608202103, 12.353660195057339, 11.643157842529686, 300.3487924627706, 456.59621029956486, 226.64854412384747, 37.88305486886714, 24.523272235499903, 29.059162246996348, 40.058154286136336, 31.755787487706105, 98.74504384392023, 73.70170860843494, 159.33526538415762, 64.55128941662173, 142.06887545377307, 51.853939513979185, 202.72833277177932, 82.83145360331729, 176.62264368057384, 87.409645419858, 625.1744168247225, 159.93894845029328, 625.1266163105566, 156.20643397139176, 499.3777026626389, 146.34253103631812, 30777.14204796052, 498.9331431823359, 878.2856172485086, 111.03877872781463, 808.2013439101775, 536.7501479267727, 605.0338063328827, 359.1825398304958, 516.2214560597661, 13.939415177614237, 18.42100017619323, 8.361346378457187, 8.345578293138303, 7.443008187949466, 7.443008187949466, 7.443008187949466, 7.238233669205594, 6.164852304184727, 8.940639179194555, 20.643624204325505, 7.939429069666727, 10.375924578191679, 6.333765477722757, 6.333765477722757, 28.40787084351722, 6.411795460752222, 5.864365298029023, 6.514546468014147, 5.215990100037888, 5.980583935671242, 5.470608495099113, 12.979474939036455, 5.08804052394474, 5.0708814887263385, 5.679992041735437, 5.733086072144766, 6.793580964100045, 5.321342744274928, 4.726873698122137, 9.036161972510692, 23.532444723735907, 118.79167005792085, 9.059381899830447, 8.830932309302264, 52.69386951278504, 9.697533914322907, 221.27170533164863, 84.69298582731452, 51.33247529693039, 17.735085833792926, 13.940904780949344, 91.08267980081197, 213.6267832221406, 45.78766044527859, 15.223232368796776, 72.28732102064822, 144.54397440136069, 93.57493692342345, 26.32948546401337, 90.44792518451851, 407.13929204671206, 97.31294315054122, 147.05617396813804, 275.5514691195596, 110.10662031975522, 277.44804143483, 142.8434879670304, 54.79131230032309, 29.337950788481162, 9.628354000292193, 6.7397228505469045, 7.105906484239517, 7.350669944749152, 7.350669944749152, 9.611069193268921, 5.29316640263597, 6.933362752816235, 5.844787740095011, 5.92489419558518, 5.982323958955018, 5.550810539171781, 5.840742066198091, 5.9579110863315945, 14.597279381942432, 6.299401343246755, 5.471317076858699, 4.93361566809864, 6.88389479451164, 4.55206823745315, 4.533281758656955, 4.628069812747587, 4.38666558351322, 5.205498677682391, 5.2906818077329465, 6.763565993816262, 4.5001861271381, 4.397439880735676, 4.620115983475661, 5.364000725801989, 7.243372844162296, 8.282911827606148, 7.779962157284026, 15.403033028859888, 8.288861346142319, 15.277380081123013, 17.41688833823429, 16.626238380970793, 6.297739226950358, 33.410925467353984, 58.03303710501799, 20.874706663869162, 33.31230252957578, 68.38222159230773, 14.067266133502038, 69.6609667548519, 39.157054349801875, 284.0069074072847, 176.62264368057384, 146.90554598722, 66.75390996812177, 10.191096630891867, 6.533800290462417, 6.66716322868439, 5.6834721074081225, 5.458050231267923, 5.184020103914696, 5.084036327662567, 6.243767666075838, 6.243767666075838, 5.414304075807235, 5.295921746732013, 4.581548434735038, 7.031254069547656, 5.241033814306086, 4.10355994028308, 4.803247331200365, 5.179994511884534, 4.040811795672296, 5.000795750692428, 5.000795750692428, 3.925102865002055, 3.9550522034864777, 3.7957723671945587, 4.084262152885483, 4.084262152885483, 4.125083344571214, 4.125083344571214, 3.7292283300465, 3.6729606283086924, 4.028720613086538, 28.30196962597118, 163.7939291579666, 63.64370591677888, 13.748600524834467, 8.851478653626605, 297.21379200230007, 605.0338063328827, 171.63278690251815, 78.83712521830567, 17.702929111285595, 7.9164221862384085, 6.7155469942697685, 6.1131076325858515, 6.1131076325858515, 6.1131076325858515, 4.898316532172045, 12.110255767816481, 4.277768364680719, 4.277768364680719, 4.277768364680719, 4.277768364680719, 4.277768364680719, 4.277768364680719, 4.277768364680719, 4.277768364680719, 4.277768364680719, 13.656751614062914, 3.6191342738836014, 3.624413237303549, 3.624413237303549, 3.624413237303549, 3.624413237303549, 3.624413237303549, 3.624413237303549, 3.624413237303549, 3.624413237303549, 3.624413237303549, 3.624413237303549, 3.624413237303549, 3.624413237303549, 14.597279381942432, 24.995082799709998, 11.716875424720833, 71.74669479807353, 8.355325527063034, 9.716854370715131, 9.917025974849299, 25.159488333773986, 7.851374302362265, 12.118582455806262, 42.46714066729694, 163.7939291579666], \"Category\": [\"Default\", \"Default\", \"Default\", \"Default\", \"Default\", \"Default\", \"Default\", \"Default\", \"Default\", \"Default\", \"Default\", \"Default\", \"Default\", \"Default\", \"Default\", \"Default\", \"Default\", \"Default\", \"Default\", \"Default\", \"Default\", \"Default\", \"Default\", \"Default\", \"Default\", \"Default\", \"Default\", \"Default\", \"Default\", \"Default\", \"Topic1\", \"Topic1\", \"Topic1\", \"Topic1\", \"Topic1\", \"Topic1\", \"Topic1\", \"Topic1\", \"Topic1\", \"Topic1\", \"Topic1\", \"Topic1\", \"Topic1\", \"Topic1\", \"Topic1\", \"Topic1\", \"Topic1\", \"Topic1\", \"Topic1\", \"Topic1\", \"Topic1\", \"Topic1\", \"Topic1\", \"Topic1\", \"Topic1\", \"Topic1\", \"Topic1\", \"Topic1\", \"Topic1\", \"Topic1\", \"Topic1\", \"Topic1\", \"Topic1\", \"Topic1\", \"Topic1\", \"Topic1\", \"Topic1\", \"Topic1\", \"Topic1\", \"Topic1\", \"Topic1\", \"Topic1\", \"Topic1\", \"Topic1\", \"Topic1\", \"Topic1\", \"Topic1\", \"Topic1\", \"Topic1\", \"Topic1\", \"Topic1\", \"Topic1\", \"Topic1\", \"Topic1\", \"Topic1\", \"Topic1\", \"Topic1\", \"Topic1\", \"Topic1\", \"Topic1\", \"Topic1\", \"Topic1\", \"Topic1\", \"Topic1\", \"Topic1\", \"Topic1\", \"Topic1\", \"Topic1\", \"Topic1\", \"Topic1\", \"Topic1\", \"Topic1\", \"Topic2\", \"Topic2\", \"Topic2\", \"Topic2\", \"Topic2\", \"Topic2\", \"Topic2\", \"Topic2\", \"Topic2\", \"Topic2\", \"Topic2\", \"Topic2\", \"Topic2\", \"Topic2\", \"Topic2\", \"Topic2\", \"Topic2\", \"Topic2\", \"Topic2\", \"Topic2\", \"Topic2\", \"Topic2\", \"Topic2\", \"Topic2\", \"Topic2\", \"Topic2\", \"Topic2\", \"Topic2\", \"Topic2\", \"Topic2\", \"Topic2\", \"Topic2\", \"Topic2\", \"Topic2\", \"Topic2\", \"Topic2\", \"Topic2\", \"Topic2\", \"Topic2\", \"Topic2\", \"Topic2\", \"Topic2\", \"Topic2\", \"Topic2\", \"Topic2\", \"Topic2\", \"Topic2\", \"Topic2\", \"Topic2\", \"Topic2\", \"Topic2\", \"Topic2\", \"Topic2\", \"Topic3\", \"Topic3\", \"Topic3\", \"Topic3\", \"Topic3\", \"Topic3\", \"Topic3\", \"Topic3\", \"Topic3\", \"Topic3\", \"Topic3\", \"Topic3\", \"Topic3\", \"Topic3\", \"Topic3\", \"Topic3\", \"Topic3\", \"Topic3\", \"Topic3\", \"Topic3\", \"Topic3\", \"Topic3\", \"Topic3\", \"Topic3\", \"Topic3\", \"Topic3\", \"Topic3\", \"Topic3\", \"Topic3\", \"Topic3\", \"Topic3\", \"Topic3\", \"Topic3\", \"Topic3\", \"Topic3\", \"Topic3\", \"Topic3\", \"Topic3\", \"Topic3\", \"Topic3\", \"Topic3\", \"Topic3\", \"Topic3\", \"Topic3\", \"Topic3\", \"Topic3\", \"Topic3\", \"Topic3\", \"Topic3\", \"Topic3\", \"Topic3\", \"Topic3\", \"Topic3\", \"Topic3\", \"Topic3\", \"Topic3\", \"Topic3\", \"Topic3\", \"Topic4\", \"Topic4\", \"Topic4\", \"Topic4\", \"Topic4\", \"Topic4\", \"Topic4\", \"Topic4\", \"Topic4\", \"Topic4\", \"Topic4\", \"Topic4\", \"Topic4\", \"Topic4\", \"Topic4\", \"Topic4\", \"Topic4\", \"Topic4\", \"Topic4\", \"Topic4\", \"Topic4\", \"Topic4\", \"Topic4\", \"Topic4\", \"Topic4\", \"Topic4\", \"Topic4\", \"Topic4\", \"Topic4\", \"Topic4\", \"Topic4\", \"Topic4\", \"Topic4\", \"Topic4\", \"Topic4\", \"Topic4\", \"Topic4\", \"Topic4\", \"Topic4\", \"Topic4\", \"Topic4\", \"Topic4\", \"Topic4\", \"Topic4\", \"Topic4\", \"Topic4\", \"Topic4\", \"Topic4\", \"Topic4\", \"Topic4\", \"Topic4\", \"Topic4\", \"Topic4\", \"Topic4\", \"Topic4\", \"Topic4\", \"Topic4\", \"Topic4\", \"Topic4\", \"Topic4\", \"Topic4\", \"Topic4\", \"Topic4\", \"Topic5\", \"Topic5\", \"Topic5\", \"Topic5\", \"Topic5\", \"Topic5\", \"Topic5\", \"Topic5\", \"Topic5\", \"Topic5\", \"Topic5\", \"Topic5\", \"Topic5\", \"Topic5\", \"Topic5\", \"Topic5\", \"Topic5\", \"Topic5\", \"Topic5\", \"Topic5\", \"Topic5\", \"Topic5\", \"Topic5\", \"Topic5\", \"Topic5\", \"Topic5\", \"Topic5\", \"Topic5\", \"Topic5\", \"Topic5\", \"Topic5\", \"Topic5\", \"Topic5\", \"Topic5\", \"Topic5\", \"Topic5\", \"Topic5\", \"Topic5\", \"Topic5\", \"Topic5\", \"Topic5\", \"Topic5\", \"Topic5\", \"Topic5\", \"Topic5\", \"Topic5\", \"Topic5\", \"Topic5\", \"Topic5\", \"Topic5\", \"Topic5\", \"Topic5\", \"Topic5\", \"Topic5\", \"Topic5\", \"Topic5\", \"Topic5\", \"Topic5\", \"Topic5\", \"Topic6\", \"Topic6\", \"Topic6\", \"Topic6\", \"Topic6\", \"Topic6\", \"Topic6\", \"Topic6\", \"Topic6\", \"Topic6\", \"Topic6\", \"Topic6\", \"Topic6\", \"Topic6\", \"Topic6\", \"Topic6\", \"Topic6\", \"Topic6\", \"Topic6\", \"Topic6\", \"Topic6\", \"Topic6\", \"Topic6\", \"Topic6\", \"Topic6\", \"Topic6\", \"Topic6\", \"Topic6\", \"Topic6\", \"Topic6\", \"Topic6\", \"Topic6\", \"Topic6\", \"Topic6\", \"Topic6\", \"Topic6\", \"Topic6\", \"Topic6\", \"Topic6\", \"Topic6\", \"Topic6\", \"Topic6\", \"Topic6\", \"Topic6\", \"Topic6\", \"Topic6\", \"Topic6\", \"Topic6\", \"Topic6\", \"Topic6\", \"Topic6\", \"Topic6\", \"Topic7\", \"Topic7\", \"Topic7\", \"Topic7\", \"Topic7\", \"Topic7\", \"Topic7\", \"Topic7\", \"Topic7\", \"Topic7\", \"Topic7\", \"Topic7\", \"Topic7\", \"Topic7\", \"Topic7\", \"Topic7\", \"Topic7\", \"Topic7\", \"Topic7\", \"Topic7\", \"Topic7\", \"Topic7\", \"Topic7\", \"Topic7\", \"Topic7\", \"Topic7\", \"Topic7\", \"Topic7\", \"Topic7\", \"Topic7\", \"Topic7\", \"Topic7\", \"Topic7\", \"Topic7\", \"Topic7\", \"Topic7\", \"Topic7\", \"Topic7\", \"Topic7\", \"Topic7\", \"Topic8\", \"Topic8\", \"Topic8\", \"Topic8\", \"Topic8\", \"Topic8\", \"Topic8\", \"Topic8\", \"Topic8\", \"Topic8\", \"Topic8\", \"Topic8\", \"Topic8\", \"Topic8\", \"Topic8\", \"Topic8\", \"Topic8\", \"Topic8\", \"Topic8\", \"Topic8\", \"Topic8\", \"Topic8\", \"Topic8\", \"Topic8\", \"Topic8\", \"Topic8\", \"Topic8\", \"Topic8\", \"Topic8\", \"Topic8\", \"Topic8\", \"Topic8\", \"Topic8\", \"Topic8\", \"Topic8\", \"Topic8\", \"Topic8\", \"Topic8\", \"Topic8\", \"Topic8\", \"Topic8\", \"Topic8\"], \"logprob\": [30.0, 29.0, 28.0, 27.0, 26.0, 25.0, 24.0, 23.0, 22.0, 21.0, 20.0, 19.0, 18.0, 17.0, 16.0, 15.0, 14.0, 13.0, 12.0, 11.0, 10.0, 9.0, 8.0, 7.0, 6.0, 5.0, 4.0, 3.0, 2.0, 1.0, -6.0292, -6.2219, -6.7591, -6.7844, -6.75, -6.4796, -6.6277, -6.9355, -6.7953, -6.9522, -6.3839, -6.9909, -6.3346, -7.1521, -6.9419, -7.2428, -7.1661, -7.3332, -7.3536, -7.3819, -6.6334, -7.4528, -7.3834, -7.3866, -7.3296, -7.3842, -7.533, -7.0436, -7.6096, -7.3476, -6.7843, -6.6322, -7.1469, -6.5242, -6.5276, -6.9174, -6.7928, -7.0617, -6.8847, -6.1454, -6.1536, -6.4025, -5.9364, -2.6527, -5.7695, -5.9763, -6.5829, -5.9599, -6.4593, -4.6256, -5.7539, -5.9166, -6.3541, -5.8606, -5.9535, -5.8341, -5.3798, -5.9291, -6.2507, -5.8674, -6.3377, -5.9302, -6.2681, -6.2208, -5.6469, -5.8098, -6.1998, -6.128, -6.2821, -6.2627, -6.3067, -6.3314, -4.4678, -4.7381, -4.6586, -4.9494, -5.165, -5.5944, -5.7422, -5.8404, -5.9392, -6.1332, -6.1263, -5.3717, -5.9639, -6.3205, -6.4904, -6.5571, -6.5199, -6.6332, -6.7235, -6.8988, -6.7921, -5.1773, -6.9107, -7.1004, -6.1158, -7.3511, -7.4189, -7.4578, -7.4604, -7.4287, -4.3735, -6.1115, -5.9908, -4.6329, -5.6613, -5.7365, -5.7754, -6.3526, -5.3912, -4.7617, -5.2808, -5.8403, -3.1355, -4.9259, -5.4957, -5.2875, -5.5974, -5.0705, -5.8314, -5.6701, -5.5243, -5.8061, -5.8681, -4.9593, -5.1668, -6.2373, -6.1848, -6.2058, -6.235, -6.78, -6.831, -7.1372, -6.9662, -7.2518, -6.7996, -7.399, -7.1734, -7.0373, -7.4077, -7.5014, -7.124, -7.4423, -7.1513, -7.7068, -7.5873, -6.7712, -7.7822, -7.8388, -4.6312, -7.8817, -7.9384, -7.6997, -7.7185, -5.459, -5.6703, -6.3712, -5.1956, -6.049, -7.1272, -6.5409, -6.795, -6.1561, -5.3281, -5.6986, -5.8858, -5.5157, -6.7228, -6.4826, -6.0032, -6.1508, -6.4276, -5.6921, -4.118, -6.3898, -6.6507, -5.7141, -5.9091, -6.1327, -6.2556, -6.4646, -6.4373, -5.6269, -6.6542, -6.8002, -6.5623, -6.4016, -6.6786, -7.1596, -7.214, -4.8688, -6.9172, -7.1711, -7.3895, -7.566, -7.5691, -7.389, -7.6863, -7.4253, -7.1155, -7.7775, -7.8528, -7.9064, -7.6894, -7.7218, -7.9491, -7.7901, -8.0409, -8.0658, -7.9821, -8.1243, -8.1919, -4.9696, -4.563, -5.2889, -7.0513, -7.4602, -7.3312, -7.0563, -7.2619, -6.3373, -6.5916, -6.0419, -6.749, -6.1878, -6.9319, -5.9842, -6.6052, -6.2483, -6.6809, -5.5835, -6.3934, -5.6972, -6.4134, -5.8888, -6.4843, -4.4872, -6.1639, -6.0446, -6.7155, -6.2229, -6.383, -6.4014, -6.4987, -6.4858, -7.0501, -6.9102, -7.7024, -7.7467, -7.9295, -7.9295, -7.9295, -7.9851, -8.1755, -7.8158, -7.0057, -7.9697, -7.7102, -8.2113, -8.2113, -6.721, -8.2112, -8.3339, -8.2301, -8.4682, -8.3435, -8.4339, -7.5709, -8.5186, -8.5296, -8.4288, -8.4288, -8.261, -8.5349, -8.6537, -8.0292, -7.1652, -5.8827, -8.0648, -8.0857, -6.7903, -8.0391, -5.9287, -6.5746, -6.9229, -7.6953, -7.84, -6.9053, -6.6592, -7.3622, -7.8434, -7.2224, -6.9809, -7.2379, -7.6723, -7.2712, -6.8899, -7.3119, -7.3398, -7.2635, -7.4399, -7.4504, -7.6313, -7.7337, -6.1082, -7.4266, -7.7926, -7.7831, -7.7521, -7.7521, -7.5004, -8.1736, -7.9214, -8.0931, -8.0893, -8.0836, -8.1671, -8.1454, -8.154, -7.2649, -8.1174, -8.2692, -8.4154, -8.0965, -8.5264, -8.5311, -8.5243, -8.6177, -8.4517, -8.4488, -8.2037, -8.6161, -8.6433, -8.6126, -8.4645, -8.1725, -8.0586, -8.1235, -7.531, -8.1448, -7.7557, -7.6848, -7.7679, -8.338, -7.43, -7.2598, -7.7723, -7.5887, -7.458, -8.016, -7.6677, -7.8116, -7.5709, -7.8078, -7.9606, -8.0189, -6.6305, -7.2943, -7.3811, -7.5477, -7.6193, -7.7247, -7.794, -7.6081, -7.6081, -7.7703, -7.8077, -8.0006, -7.6727, -8.0387, -8.2867, -8.1373, -8.0713, -8.3218, -8.1123, -8.1123, -8.4134, -8.4214, -8.5215, -8.4717, -8.4717, -8.4767, -8.4767, -8.5813, -8.6384, -8.573, -7.1892, -6.194, -6.9189, -8.1492, -8.3291, -7.8973, -7.844, -8.0489, -8.3525, -8.407, -6.6676, -6.9535, -7.1344, -7.1344, -7.1344, -7.6389, -6.9056, -8.0354, -8.0354, -8.0354, -8.0354, -8.0354, -8.0354, -8.0354, -8.0354, -8.0354, -6.9574, -8.6327, -8.6967, -8.6967, -8.6967, -8.6967, -8.6967, -8.6967, -8.6967, -8.6967, -8.6967, -8.6967, -8.6967, -8.6967, -7.3615, -7.1343, -7.7947, -6.437, -8.1677, -8.1152, -8.2554, -8.0497, -8.5401, -8.4993, -8.5656, -8.5442], \"loglift\": [30.0, 29.0, 28.0, 27.0, 26.0, 25.0, 24.0, 23.0, 22.0, 21.0, 20.0, 19.0, 18.0, 17.0, 16.0, 15.0, 14.0, 13.0, 12.0, 11.0, 10.0, 9.0, 8.0, 7.0, 6.0, 5.0, 4.0, 3.0, 2.0, 1.0, 0.6493, 0.6485, 0.6467, 0.6467, 0.6466, 0.6465, 0.6459, 0.6455, 0.6453, 0.6447, 0.6447, 0.6441, 0.6438, 0.6436, 0.6428, 0.6425, 0.6424, 0.6418, 0.6417, 0.6414, 0.6413, 0.6409, 0.6409, 0.6408, 0.6405, 0.6403, 0.6402, 0.6398, 0.6395, 0.6394, 0.635, 0.6327, 0.6378, 0.6303, 0.6247, 0.6281, 0.6242, 0.6322, 0.6233, 0.5915, 0.5863, 0.5991, 0.5652, 0.3217, 0.5492, 0.5547, 0.5974, 0.5171, 0.5758, 0.3053, 0.4704, 0.491, 0.5496, 0.4185, 0.4374, 0.385, 0.2046, 0.3771, 0.4772, 0.3196, 0.4857, 0.2515, 0.4338, 0.3933, -0.1587, -0.0151, 0.327, 0.2405, 0.3122, -0.5844, -0.1264, -0.1388, 1.261, 1.2608, 1.2606, 1.2606, 1.2602, 1.2584, 1.258, 1.2577, 1.2569, 1.2566, 1.2563, 1.2556, 1.2555, 1.255, 1.2538, 1.2536, 1.2528, 1.2523, 1.2515, 1.2501, 1.2497, 1.2491, 1.2491, 1.2475, 1.2464, 1.2435, 1.2418, 1.2414, 1.2413, 1.2412, 1.2234, 1.2303, 1.2256, 1.1966, 1.2041, 1.1647, 1.1115, 1.1804, 1.0489, 0.9166, 0.8404, 0.9756, -0.1611, 0.5623, 0.7018, 0.5073, 0.5951, -0.1396, 0.8032, 0.5102, 0.0602, 0.7116, 0.7472, 2.4109, 2.405, 2.3952, 2.3951, 2.3853, 2.3853, 2.3795, 2.3651, 2.3619, 2.3583, 2.3562, 2.3561, 2.3491, 2.348, 2.3462, 2.3441, 2.3403, 2.3399, 2.3246, 2.3228, 2.3181, 2.3168, 2.3148, 2.3137, 2.3111, 2.31, 2.3091, 2.3026, 2.2977, 2.297, 2.2868, 2.259, 2.2294, 2.1624, 2.1983, 2.2563, 2.1735, 2.1582, 1.9655, 1.6744, 1.5136, 1.4747, 1.0996, 1.9535, 1.6656, 1.1855, 1.3272, 1.5952, 0.748, -1.1436, 1.499, 1.8088, -0.7832, -0.4209, -0.5482, -0.0685, 0.5758, -0.257, 2.8586, 2.8381, 2.8325, 2.8314, 2.827, 2.808, 2.8027, 2.8015, 2.7979, 2.7896, 2.7856, 2.7809, 2.7657, 2.7598, 2.7502, 2.7469, 2.7401, 2.7394, 2.7331, 2.7264, 2.7179, 2.717, 2.7127, 2.7051, 2.7033, 2.6946, 2.6832, 2.6774, 2.6707, 2.6623, 2.6344, 2.6221, 2.5967, 2.6231, 2.6491, 2.6084, 2.5623, 2.589, 2.3791, 2.4173, 2.1961, 2.3925, 2.1649, 2.4286, 2.0129, 2.287, 1.8866, 2.1574, 1.2874, 1.8408, 1.1738, 1.8444, 1.2067, 1.8386, -1.5128, 0.9326, 0.4864, 1.8836, 0.3912, 0.6404, 0.5023, 0.9264, 0.5766, 3.6241, 3.4853, 3.4829, 3.4405, 3.3721, 3.3721, 3.3721, 3.3444, 3.3146, 3.3025, 3.2758, 3.2674, 3.2593, 3.2518, 3.2518, 3.2413, 3.2396, 3.2061, 3.2048, 3.189, 3.1769, 3.1757, 3.1746, 3.1634, 3.1558, 3.1432, 3.1339, 3.132, 3.1023, 3.102, 3.0785, 2.9853, 2.6489, 3.0403, 3.045, 2.5542, 2.998, 1.9809, 2.2953, 2.4477, 2.7381, 2.8341, 1.8919, 1.2855, 2.1227, 2.7427, 1.8059, 1.3544, 1.5323, 2.3659, 1.533, 0.4099, 1.4191, 0.9783, 0.4267, 1.1676, 0.2329, 0.7159, 1.5717, 3.8219, 3.6176, 3.6083, 3.5649, 3.562, 3.562, 3.5456, 3.4689, 3.4512, 3.4502, 3.4405, 3.4365, 3.4279, 3.3987, 3.3702, 3.3632, 3.351, 3.3402, 3.2974, 3.2832, 3.267, 3.2664, 3.2525, 3.2127, 3.2075, 3.1942, 3.1937, 3.1887, 3.1846, 3.1659, 3.1648, 3.1563, 3.1361, 3.1339, 3.0433, 3.0493, 2.8269, 2.7667, 2.7301, 3.1307, 2.37, 1.9881, 2.4981, 2.2143, 1.6259, 2.6491, 1.3976, 1.8298, 0.0891, 0.3272, 0.3585, 1.0891, 4.3569, 4.1377, 4.0307, 4.0237, 3.9925, 3.9387, 3.8888, 3.8693, 3.8693, 3.8496, 3.8343, 3.7863, 3.6859, 3.6137, 3.6103, 3.6024, 3.5928, 3.5907, 3.5871, 3.5871, 3.5281, 3.5125, 3.4536, 3.4301, 3.4301, 3.4152, 3.4152, 3.4114, 3.3696, 3.3424, 2.7768, 2.0163, 2.2367, 2.5388, 2.7993, -0.2828, -0.9403, 0.1147, 0.5891, 2.0282, 4.5724, 4.451, 4.3641, 4.3641, 4.3641, 4.0811, 3.9093, 3.8201, 3.8201, 3.8201, 3.8201, 3.8201, 3.8201, 3.8201, 3.8201, 3.8201, 3.7373, 3.39, 3.3246, 3.3246, 3.3246, 3.3246, 3.3246, 3.3246, 3.3246, 3.3246, 3.3246, 3.3246, 3.3246, 3.3246, 3.2666, 2.956, 3.0532, 2.5988, 3.0183, 2.9199, 2.7593, 2.034, 2.7082, 2.3149, 0.9946, -0.3339]}, \"token.table\": {\"Topic\": [1, 2, 6, 1, 2, 4, 1, 2, 5, 1, 2, 8, 1, 2, 5, 1, 2, 4, 1, 2, 3, 1, 2, 1, 2, 6, 1, 2, 5, 1, 2, 3, 1, 2, 3, 5, 1, 2, 1, 2, 4, 1, 2, 3, 4, 1, 2, 6, 1, 2, 8, 1, 2, 3, 1, 2, 3, 5, 1, 2, 6, 1, 2, 3, 1, 2, 8, 1, 2, 8, 1, 2, 6, 1, 2, 8, 1, 2, 3, 4, 6, 1, 2, 5, 1, 2, 7, 1, 2, 7, 1, 2, 3, 4, 1, 2, 3, 1, 2, 5, 1, 2, 3, 1, 2, 3, 5, 1, 2, 5, 1, 2, 8, 1, 2, 8, 1, 2, 3, 4, 1, 2, 5, 1, 2, 5, 1, 2, 7, 1, 2, 3, 1, 2, 8, 1, 2, 3, 1, 2, 3, 4, 5, 6, 1, 2, 3, 5, 1, 2, 5, 1, 2, 3, 4, 5, 1, 2, 8, 1, 2, 6, 1, 2, 6, 1, 2, 3, 1, 2, 3, 5, 1, 2, 4, 1, 2, 7, 1, 2, 7, 1, 2, 3, 4, 1, 2, 3, 5, 6, 1, 2, 3, 4, 1, 2, 3, 1, 2, 5, 1, 2, 5, 1, 2, 6, 1, 2, 4, 1, 2, 5, 1, 2, 3, 1, 2, 3, 1, 2, 4, 1, 2, 4, 1, 2, 8, 1, 2, 8, 1, 2, 3, 4, 1, 2, 4, 6, 1, 2, 8, 1, 2, 7, 1, 2, 3, 1, 2, 1, 2, 8, 1, 2, 3, 1, 2, 3, 4, 1, 2, 3, 1, 2, 8, 1, 2, 8, 1, 2, 7, 1, 2, 3, 1, 2, 3, 4, 1, 2, 3, 1, 2, 1, 2, 6, 1, 2, 3, 1, 2, 3, 1, 2, 3, 1, 2, 3, 1, 2, 3, 1, 2, 5, 1, 2, 3, 4, 7, 1, 2, 3, 4, 6, 1, 2, 6, 1, 2, 1, 2, 3, 4, 5, 1, 2, 5, 1, 2, 4, 6, 1, 2, 4, 1, 2, 1, 2, 1, 2, 6, 1, 2, 4, 1, 2, 3, 5, 1, 2, 3, 5, 1, 2, 8, 1, 2, 5, 1, 2, 3, 5, 6, 1, 2, 5, 7, 8, 1, 2, 6, 8, 1, 2, 6, 1, 2, 3, 1, 2, 3, 6, 1, 2, 4, 1, 2, 4, 1, 2, 3, 4, 5, 1, 2, 3, 4, 1, 2, 7, 1, 2, 1, 2, 3, 1, 2, 1, 2, 5, 1, 2, 5, 1, 2, 4, 1, 2, 3, 5, 1, 2, 5, 1, 2, 3, 1, 2, 3, 1, 2, 5, 1, 2, 3, 4, 1, 2, 3, 4, 6, 7, 1, 2, 3, 1, 2, 3, 5, 1, 2, 3, 4, 1, 2, 8, 1, 2, 8, 1, 2, 3, 1, 2, 3, 1, 2, 3, 1, 2, 3, 4, 1, 2, 3, 4, 1, 2, 3, 4, 1, 2, 3, 4, 1, 2, 1, 2, 4, 6, 1, 2, 3, 1, 2, 5, 1, 2, 7, 1, 2, 7, 1, 2, 7, 1, 2, 3, 5, 1, 2, 3, 1, 2, 3, 1, 2, 3, 4, 7, 1, 2, 3, 5, 1, 2, 8, 1, 2, 7, 1, 2, 4, 1, 2, 4, 1, 2, 4, 1, 2, 4, 1, 2, 7, 1, 2, 1, 2, 5, 1, 2, 3, 4, 5, 1, 2, 3, 6, 1, 2, 3, 1, 2, 6, 1, 2, 3, 4, 1, 2, 1, 2, 3, 5, 1, 2, 3, 4, 5, 1, 2, 5, 1, 2, 4, 7, 1, 2, 3, 4, 1, 2, 4, 1, 2, 6, 1, 2, 1, 2, 1, 2, 3, 5, 1, 2, 3, 4, 5, 1, 2, 3, 4, 5, 1, 2, 8, 1, 2, 3, 5, 1, 2, 4, 6, 1, 2, 3, 4, 1, 2, 4, 6, 1, 2, 6, 1, 2, 6, 1, 2, 8, 1, 2, 8, 1, 2, 3, 8, 1, 2, 3, 4, 1, 2, 3, 1, 2, 5, 1, 2, 7, 1, 2, 3, 4, 6, 1, 2, 7, 1, 2, 4, 1, 2, 3, 4, 5, 1, 2, 3, 6, 1, 2, 8, 1, 2, 4, 1, 2, 3, 4, 1, 2, 8, 1, 2, 4, 1, 2, 3, 4, 1, 2, 4, 1, 2, 3, 6, 1, 2, 3, 4, 1, 2, 3, 4, 5, 7, 1, 2, 7, 1, 2, 3, 1, 2, 1, 2, 5, 1, 2, 1, 2, 3, 4, 1, 2, 4, 1, 2, 3, 4, 1, 2, 4, 1, 2, 8, 1, 2, 3, 1, 2, 6, 1, 2, 3, 1, 2, 8, 1, 2, 8, 1, 2, 8, 1, 2, 8, 1, 2, 3, 1, 2, 3, 8, 1, 2, 3, 5, 1, 2, 5, 6, 1, 2, 4, 1, 2, 3, 1, 2, 8, 1, 2, 3, 1, 2, 5, 1, 2, 6, 1, 2, 3, 1, 2, 1, 2, 3, 4, 1, 2, 4, 6, 1, 2, 4, 1, 2, 3, 4, 1, 2, 4, 1, 2, 4, 1, 2, 6, 1, 2, 3, 1, 2, 3, 1, 2, 3, 1, 2, 3, 1, 2, 3, 4, 1, 2, 3, 4, 1, 2, 3, 1, 2, 3, 4, 1, 2, 3, 1, 2, 5, 1, 2, 3, 5, 6, 1, 2, 3, 4, 1, 2, 3, 4, 1, 2, 6, 1, 2, 5, 1, 2, 5, 1, 2, 3, 7, 1, 2, 3, 7, 1, 2, 1, 2, 7, 1, 2, 3, 1, 2, 5, 8, 1, 2, 5, 8, 1, 2, 3, 4, 1, 2, 7, 1, 2, 3, 1, 2, 4, 6, 1, 2, 3, 4, 1, 2, 3, 6, 1, 2, 3, 4, 1, 2, 3, 1, 2, 3, 6, 1, 2, 8, 1, 2, 3, 1, 2, 3, 1, 2, 3, 1, 2, 1, 2, 3, 1, 2, 7, 1, 2, 7, 1, 2, 3, 1, 2, 5, 6, 1, 2, 3, 1, 2, 5, 6, 1, 2, 3, 4, 6, 1, 2, 7, 1, 2, 5, 1, 2, 3, 6, 1, 2, 1, 2, 3, 4, 1, 2, 3, 4, 1, 2, 3, 1, 2, 3, 1, 2, 3, 4, 1, 2, 3, 1, 2, 7, 1, 2, 7, 1, 2, 1, 2, 3, 6, 1, 2, 4, 6, 1, 2, 3, 4, 1, 2, 3, 4, 1, 2, 3, 1, 2, 3, 1, 2, 3, 4, 1, 2, 7, 1, 2, 3, 1, 2, 4, 1, 2, 3, 1, 2, 3, 4, 1, 2, 3, 4, 1, 2, 3, 4, 1, 2, 5, 7, 1, 2, 3, 4, 1, 2, 1, 2, 1, 2, 6, 1, 2, 5, 1, 2, 3, 4, 6, 1, 2, 1, 2, 7, 1, 2, 3, 1, 2, 3, 1, 2, 3, 1, 2, 3, 1, 2, 3, 4, 5, 1, 2, 5, 8, 1, 2, 3, 4, 1, 2, 3, 1, 2, 1, 2, 3, 6, 1, 2, 8, 1, 2, 3, 1, 2, 3, 4, 1, 2, 3, 5, 1, 2, 3, 7, 1, 2, 4, 1, 2, 4, 1, 2, 1, 2, 5, 1, 2, 3, 5, 1, 2, 3, 1, 2, 3, 5, 1, 2, 3, 1, 2, 3, 4, 1, 2, 3, 4, 7, 1, 2, 3, 4, 1, 2, 1, 2, 3, 4, 1, 2, 3, 4, 1, 2, 3, 1, 2, 3, 1, 2, 3, 5, 6, 1, 2, 5, 7, 1, 2, 6, 1, 2, 6, 1, 2, 6, 1, 2, 1, 2, 3, 4, 1, 2, 6, 1, 2, 3, 1, 2, 4, 1, 2, 6, 1, 2, 7, 1, 2, 8, 1, 2, 3, 1, 2, 3, 5, 1, 2, 1, 2, 4, 1, 2, 4, 1, 2, 8, 1, 2, 1, 2, 3, 1, 2, 7, 1, 2, 7, 1, 2, 3, 4, 1, 2, 3, 4, 1, 2, 3, 1, 2, 3, 1, 2, 3, 4, 6, 1, 2, 3, 4, 1, 2, 3, 1, 2, 4, 1, 2, 3, 4, 1, 2, 4, 1, 2, 4, 1, 2, 3, 4, 1, 2, 3, 1, 2, 3, 4, 1, 2, 4, 1, 2, 4, 6, 1, 2, 3, 5, 1, 2, 3, 5, 1, 2, 3, 1, 2, 6, 1, 2, 3, 1, 2, 3, 1, 2, 3, 4, 1, 2, 3, 1, 2, 7, 1, 2, 3, 6, 1, 2, 3, 1, 2, 8, 1, 2, 6], \"Freq\": [0.2026911026868432, 0.2026911026868432, 0.4053822053736864, 0.06824858823560623, 0.06824858823560623, 0.8189830588272747, 0.5912016437749054, 0.06568907153054504, 0.3284453576527252, 0.2759067287658316, 0.2759067287658316, 0.2759067287658316, 0.1343542791769383, 0.1343542791769383, 0.5374171167077532, 0.05093282661724927, 0.05093282661724927, 0.8658580524932377, 0.9720907383932591, 0.005523242831779881, 0.019331349911229583, 0.99403959242989, 0.0027308780011810166, 0.21644478268004677, 0.21644478268004677, 0.43288956536009354, 0.17442612711828637, 0.17442612711828637, 0.523278381354859, 0.002635458198532081, 0.002635458198532081, 0.9935677408465946, 0.1705214373900094, 0.1705214373900094, 0.1705214373900094, 0.5115643121700283, 0.008965282885659415, 0.9772158345368763, 0.20647532606072222, 0.0344125543434537, 0.7570761955559815, 0.638949572912182, 0.30047421132799707, 0.051699239302023026, 0.008395602963576389, 0.14837405367771964, 0.14837405367771964, 0.5934962147108785, 0.2759067287658316, 0.2759067287658316, 0.2759067287658316, 0.4586522767929704, 0.47148171110885767, 0.06895820944789414, 0.1198239312933168, 0.1198239312933168, 0.1198239312933168, 0.5991196564665839, 0.15874524347810376, 0.15874524347810376, 0.4762357304343113, 0.028519550395286454, 0.028519550395286454, 0.941145163044453, 0.2759067287658316, 0.2759067287658316, 0.2759067287658316, 0.2759067287658316, 0.2759067287658316, 0.2759067287658316, 0.1678440623751772, 0.1678440623751772, 0.5035321871255316, 0.2759067287658316, 0.2759067287658316, 0.2759067287658316, 0.7604315681643407, 0.11698947202528318, 0.014623684003160397, 0.014623684003160397, 0.07311842001580199, 0.2906466393988516, 0.09688221313295053, 0.5328521722312279, 0.7419978283323942, 0.0706664598411804, 0.1413329196823608, 0.24747502496181553, 0.24747502496181553, 0.24747502496181553, 0.8905447010053031, 0.0018630642280445672, 0.0018630642280445672, 0.10433159677049576, 0.9895323041432668, 0.0032657831819909795, 0.0032657831819909795, 0.15788396389434048, 0.15788396389434048, 0.47365189168302146, 0.20670953887419008, 0.15642884022911682, 0.6368888495042614, 0.11184882646053591, 0.11184882646053591, 0.22369765292107183, 0.5592441323026796, 0.2943955493529535, 0.14719777467647674, 0.44159332402943025, 0.2759067287658316, 0.2759067287658316, 0.2759067287658316, 0.2759067287658316, 0.2759067287658316, 0.2759067287658316, 0.11510862107982464, 0.0038369540359941548, 0.8786624742426614, 0.0038369540359941548, 0.11959796362180099, 0.11959796362180099, 0.717587781730806, 0.167207752747268, 0.167207752747268, 0.501623258241804, 0.1999681750372501, 0.1999681750372501, 0.3999363500745002, 0.0044121597274158425, 0.9883237789411489, 0.0044121597274158425, 0.2759067287658316, 0.2759067287658316, 0.2759067287658316, 0.0026682306751441972, 0.9952500418287855, 0.0026682306751441972, 0.7183902899608297, 0.24089306240477573, 0.02843019012735079, 0.012151875551576223, 9.747493757948842e-05, 3.2491645859829476e-05, 0.29024455137900385, 0.7076531035294108, 0.0009707175631404811, 0.00048535878157024057, 0.18792249401260044, 0.18792249401260044, 0.3758449880252009, 0.661993090540042, 0.31260784831057536, 0.023227827738247088, 0.0009678261557602953, 0.0009678261557602953, 0.2759067287658316, 0.2759067287658316, 0.2759067287658316, 0.2222130311387701, 0.2222130311387701, 0.4444260622775402, 0.31757427990051723, 0.15878713995025862, 0.31757427990051723, 0.022152827461138305, 0.022152827461138305, 0.9525715808289471, 0.681865992459789, 0.01683619734468615, 0.008418098672343074, 0.2862153548596645, 0.43461750861460496, 0.012072708572627915, 0.5432718857682561, 0.2547703931319712, 0.2547703931319712, 0.2547703931319712, 0.2182668183574125, 0.2182668183574125, 0.436533636714825, 0.2230739782591432, 0.0033294623620767645, 0.0033294623620767645, 0.7691058056397325, 0.5780104140232599, 0.3128056358243524, 0.04760085762544493, 0.05440098014336563, 0.006800122517920704, 0.9458737083068381, 0.03705035262953053, 0.002179432507619443, 0.013076595045716656, 0.9922083448129159, 0.0040333672553370566, 0.0040333672553370566, 0.1343542791769383, 0.1343542791769383, 0.5374171167077532, 0.33199936091522403, 0.110666453638408, 0.442665814553632, 0.18015386995161373, 0.18015386995161373, 0.5404616098548412, 0.640178496221957, 0.00640178496221957, 0.35209817292207635, 0.06551983593014843, 0.7425581405416821, 0.1747195624803958, 0.1267784433831906, 0.8598179044834338, 0.01137755261131198, 0.022651922549686496, 0.022651922549686496, 0.9287288245371463, 0.04201323541656834, 0.04201323541656834, 0.8822779437479351, 0.05637773271993569, 0.05637773271993569, 0.8456659907990354, 0.23376674816160534, 0.23376674816160534, 0.23376674816160534, 0.2759067287658316, 0.2759067287658316, 0.2759067287658316, 0.06323573650170371, 0.031617868250851854, 0.031617868250851854, 0.853682442773, 0.6904356124761963, 0.030018939672878102, 0.12007575869151241, 0.15009469836439052, 0.12631969044530747, 0.12631969044530747, 0.6315984522265373, 0.1999681750372501, 0.1999681750372501, 0.3999363500745002, 0.01307230103130702, 0.9830370375542878, 0.0026144602062614037, 0.0010242929924059426, 0.9976613746033881, 0.27630917349936435, 0.27630917349936435, 0.27630917349936435, 0.9766216312481255, 0.018841574879385058, 0.0031402624798975098, 0.12036269335707268, 0.06968366457514735, 0.8045295819130648, 0.006334878597740668, 0.008834929060270287, 0.008834929060270287, 0.9806771256900018, 0.2759067287658316, 0.2759067287658316, 0.2759067287658316, 0.2759067287658316, 0.2759067287658316, 0.2759067287658316, 0.2436908475939104, 0.2436908475939104, 0.2436908475939104, 0.9929318908246538, 0.0023926069658425394, 0.0023926069658425394, 0.8504234047932699, 0.1439178069650149, 0.00100641823052458, 0.00402567292209832, 0.01025572542777015, 0.9866007861514885, 0.00205114508555403, 0.002214197271819341, 0.9941745750468841, 0.18901155585247703, 0.18901155585247703, 0.37802311170495406, 0.03321003787609824, 0.03321003787609824, 0.8966710226546525, 0.9791357031434398, 0.008495754474129629, 0.010619693092662037, 0.03163684568950851, 0.9649237935300095, 0.0022597746921077504, 0.028174973592978457, 0.9681945471041687, 0.002561361235725314, 0.07425264434222828, 0.03712632217111414, 0.8910317321067394, 0.5638540514388558, 0.056385405143885584, 0.33831243086331353, 0.8564797126057927, 0.005826392602760494, 0.0932222816441679, 0.029131963013802473, 0.011652785205520988, 0.10404669656320303, 0.10404669656320303, 0.10404669656320303, 0.10404669656320303, 0.5202334828160151, 0.22740504182463175, 0.22740504182463175, 0.4548100836492635, 0.9925229599287388, 0.0034343355014835254, 0.5503486509557581, 0.15182031750503672, 0.01897753968812959, 0.01897753968812959, 0.2656855556338143, 0.19653931514379988, 0.19653931514379988, 0.39307863028759976, 0.7720848334413938, 0.14476590627026134, 0.08166281892168588, 0.0012373154382073618, 0.2633564744195886, 0.1084409012315953, 0.6041707354331738, 0.005804501260478089, 0.9867652142812751, 0.0015709677195031818, 0.9959935341650172, 0.1827713484618844, 0.1827713484618844, 0.3655426969237688, 0.008038514525325814, 0.024115543575977443, 0.9646217430390978, 0.4014500099137441, 0.37783530344822974, 0.01180735323275718, 0.20072500495687204, 0.9072715191786075, 0.03991994684385873, 0.01814543038357215, 0.03266177469042987, 0.5984207298452848, 0.11968414596905697, 0.11968414596905697, 0.18279502196069372, 0.18279502196069372, 0.5483850658820811, 0.668076025363803, 0.2922832610966638, 0.007368485573865474, 0.03193010415341706, 0.002456161857955158, 0.885258695150775, 0.012210464760700345, 0.018315697141050517, 0.07326278856420207, 0.006105232380350173, 0.2740236653241152, 0.0685059163310288, 0.4795414143172016, 0.1370118326620576, 0.21968036238391123, 0.21968036238391123, 0.43936072476782245, 0.028414889812527884, 0.028414889812527884, 0.9376913638134201, 0.3621914687056415, 0.12073048956854718, 0.12073048956854718, 0.3621914687056415, 0.0809476692907659, 0.0809476692907659, 0.809476692907659, 0.05488512892285685, 0.05488512892285685, 0.8232769338428528, 0.5649445079796134, 0.15584676082196233, 0.01948084510274529, 0.01948084510274529, 0.23377014123294348, 0.59474021049883, 0.21827165974536186, 0.0020024922912418516, 0.18422929079425038, 0.14998882818672596, 0.14998882818672596, 0.5999553127469038, 0.9942472136723124, 0.002800696376541725, 0.9863527083574227, 0.005084292311120736, 0.005084292311120736, 0.9884153533476964, 0.00506879668383434, 0.9826592366421769, 0.011072216750897769, 0.002768054187724442, 0.9892158901091748, 0.00239519585982851, 0.00479039171965702, 0.3471288810206488, 0.01928493783448049, 0.6171180107033757, 0.509934269085789, 0.042494522423815746, 0.042494522423815746, 0.42494522423815745, 0.3311484197455179, 0.1103828065818393, 0.4415312263273572, 0.04423746330949378, 0.04423746330949378, 0.8847492661898756, 0.03946612733238547, 0.09866531833096367, 0.8485217376462877, 0.15788396389434048, 0.15788396389434048, 0.47365189168302146, 0.24373798497750676, 0.7508946617940581, 0.004541701583431802, 0.0015139005278106009, 0.9358648377607033, 0.02665881846694657, 0.002806191417573323, 0.030868105593306553, 0.0014030957087866616, 0.0014030957087866616, 0.07292197039830367, 0.036460985199151835, 0.875063644779644, 0.601892955831032, 0.3044056328340851, 0.006918309837138298, 0.07610140820852128, 0.47503479993118597, 0.1331141472334642, 0.3889021164271797, 0.0026100813183032195, 0.3087418917218175, 0.41165585562908996, 0.10291396390727249, 0.6368311848914955, 0.1273662369782991, 0.1273662369782991, 0.1290760338028327, 0.013829575050303501, 0.852823794768716, 0.04931456976659418, 0.9433399958577532, 0.0063631702924637655, 0.00453276180598064, 0.9926748355097601, 0.00226638090299032, 0.4442689248036782, 0.49644142726481477, 0.05859373353327644, 0.00040132694200874274, 0.15838215848138712, 0.026397026413564523, 0.026397026413564523, 0.7655137659933712, 0.01993712091296045, 0.01993712091296045, 0.01993712091296045, 0.9370446829091411, 0.5403517643784236, 0.09005862739640393, 0.009005862739640392, 0.3602345095856157, 0.0008259388424362979, 0.9985600605054842, 0.18642801355148714, 0.18642801355148714, 0.18642801355148714, 0.3728560271029743, 0.3649801491651235, 0.6314535452683798, 0.0012629070905367595, 0.21155631901002003, 0.21155631901002003, 0.42311263802004007, 0.18469594355963598, 0.18469594355963598, 0.36939188711927196, 0.19669410986678756, 0.19669410986678756, 0.39338821973357513, 0.24241934440331797, 0.24241934440331797, 0.24241934440331797, 0.21120907064984146, 0.21120907064984146, 0.035201511774973576, 0.5280226766246037, 0.003119031919125429, 0.8078292670534861, 0.18818159245390087, 0.06481496460350944, 0.021604988201169812, 0.9074095044491322, 0.9488119582210293, 0.0033645814121313093, 0.0033645814121313093, 0.040374976945575715, 0.006729162824262619, 0.07704471904271314, 0.23113415712813942, 0.07704471904271314, 0.46226831425627884, 0.23376674816160534, 0.23376674816160534, 0.23376674816160534, 0.2634509931740444, 0.2634509931740444, 0.2634509931740444, 0.16311036967609885, 0.04077759241902471, 0.7747742559614695, 0.02200203923540856, 0.02200203923540856, 0.9460876871225681, 0.07731111632438088, 0.07731111632438088, 0.7731111632438088, 0.06524007015134789, 0.06524007015134789, 0.8481209119675225, 0.24484226588969366, 0.24484226588969366, 0.24484226588969366, 0.9930812721531858, 0.002705943520853367, 0.11323832693708083, 0.33971498081124246, 0.4529533077483233, 0.6440615621289957, 0.2870274352966177, 0.021002007460728122, 0.00700066915357604, 0.042004014921456244, 0.7608277988233424, 0.1579076563595616, 0.014355241487232875, 0.0574209659489315, 0.031205063429122517, 0.031205063429122517, 0.9361519028736756, 0.17121112157772944, 0.17121112157772944, 0.5136333647331883, 0.7065784682406855, 0.24617616769218417, 0.0406845767334422, 0.006206121874592878, 0.009979383881867507, 0.9779796204230157, 0.20623800005958962, 0.10311900002979481, 0.10311900002979481, 0.41247600011917923, 0.7174863761196192, 0.1998063325902737, 0.009082106026830622, 0.009082106026830622, 0.06357474218781436, 0.2891308603288673, 0.09637695344295577, 0.5782617206577346, 0.36367337831718693, 0.07273467566343739, 0.36367337831718693, 0.14546935132687477, 0.5540257899836074, 0.33706464145855836, 0.009685765559153977, 0.09879480870337055, 0.056443838031400934, 0.056443838031400934, 0.846657570471014, 0.21607279934403606, 0.21607279934403606, 0.4321455986880721, 0.004093809957620022, 0.9907020097440452, 0.9924226529132312, 0.003253844763649938, 0.9925903303093906, 0.0018728119439799823, 0.0037456238879599647, 0.0018728119439799823, 0.38327244080036693, 0.47452778384807337, 0.018251068609541284, 0.018251068609541284, 0.09125534304770641, 0.3798023327750862, 0.3418220994975775, 0.037980233277508615, 0.037980233277508615, 0.2278813996650517, 0.23376674816160534, 0.23376674816160534, 0.23376674816160534, 0.7075894761481443, 0.1437291123425918, 0.04422434225925902, 0.09950477008333279, 0.16715911857349136, 0.16715911857349136, 0.16715911857349136, 0.501477355720474, 0.7168603031704768, 0.19616785323246155, 0.08314933696684584, 0.003229100464731877, 0.7406072923906426, 0.07661454748868717, 0.05107636499245811, 0.10215272998491622, 0.574155371832268, 0.11483107436645358, 0.22966214873290716, 0.6706681068832359, 0.04790486477737399, 0.19161945910949596, 0.23376674816160534, 0.23376674816160534, 0.23376674816160534, 0.1489081977764847, 0.1489081977764847, 0.5956327911059388, 0.7064285357714789, 0.21192856073144367, 0.047095235718098594, 0.023547617859049297, 0.32701058964543434, 0.1950589482095573, 0.4704362868583441, 0.005737027888516391, 0.9888809056417223, 0.005433411569460012, 0.005433411569460012, 0.16220988770829042, 0.16220988770829042, 0.48662966312487127, 0.6778528463763165, 0.11297547439605275, 0.11297547439605275, 0.2596891139884853, 0.194766835491364, 0.12984455699424266, 0.06492227849712133, 0.32461139248560666, 0.2722599290318217, 0.2722599290318217, 0.2722599290318217, 0.5033769418541074, 0.011440385042138804, 0.4804961717698298, 0.6881159645939222, 0.1778803173780207, 0.051491670819953365, 0.004681060983632124, 0.07489697573811398, 0.2957020012562225, 0.14785100062811124, 0.14785100062811124, 0.4435530018843337, 0.23376674816160534, 0.23376674816160534, 0.23376674816160534, 0.593976644966655, 0.05001908589192885, 0.35013360124350196, 0.7912243770986661, 0.15576676775096782, 0.04425192265652495, 0.00885038453130499, 0.16358292052139098, 0.16358292052139098, 0.49074876156417296, 0.07068824031848614, 0.07068824031848614, 0.7775706435033475, 0.01786933296014977, 0.008934666480074885, 0.9649439798480876, 0.008934666480074885, 0.08862824786077035, 0.0035451299144308142, 0.9075532580942884, 0.12853532957917352, 0.25707065915834704, 0.12853532957917352, 0.3856059887375205, 0.9479087264453896, 0.025520619558145104, 0.0018229013970103647, 0.02369771816113474, 0.9132753103392193, 0.012684379310266935, 0.02536875862053387, 0.012684379310266935, 0.012684379310266935, 0.012684379310266935, 0.2482177584495904, 0.2482177584495904, 0.2482177584495904, 0.9851970383558071, 0.007977303954298033, 0.003988651977149016, 0.0006688009422121707, 0.9985198067227707, 0.1381552524691775, 0.1381552524691775, 0.55262100987671, 0.9883297438802738, 0.005882915142144487, 0.32563695541317844, 0.013568206475549103, 0.027136412951098206, 0.6241374978752587, 0.07627455087315338, 0.07627455087315338, 0.8390200596046872, 0.9415297023681168, 0.055960160616232796, 0.00139900401540582, 0.00139900401540582, 0.907449677357623, 0.002277163556731802, 0.08994796049090618, 0.49544783487936356, 0.08257463914656059, 0.33029855658624235, 0.18191343000565996, 0.03031890500094333, 0.7882915300245266, 0.13604202168189256, 0.13604202168189256, 0.5441680867275702, 0.037206701543449565, 0.018603350771724782, 0.9487708893579638, 0.5857908400239245, 0.07322385500299056, 0.2928954200119622, 0.23376674816160534, 0.23376674816160534, 0.23376674816160534, 0.6827758860626965, 0.08534698575783706, 0.17069397151567411, 0.742661118395734, 0.08251790204397046, 0.08251790204397046, 0.01577252012749998, 0.01577252012749998, 0.9621237277774989, 0.5853928200902676, 0.2926964100451338, 0.013937924287863515, 0.08362754572718109, 0.6807002180391193, 0.16468553662236757, 0.010979035774824505, 0.13174842929789407, 0.6014589572735398, 0.06014589572735398, 0.06014589572735398, 0.24058358290941592, 0.06090984660182534, 0.06090984660182534, 0.8527378524255548, 0.002007589938194174, 0.9957646093443104, 0.002007589938194174, 0.16358292052139098, 0.16358292052139098, 0.49074876156417296, 0.7593464280145851, 0.22916802378404244, 0.010003366117557408, 0.1343542791769383, 0.1343542791769383, 0.5374171167077532, 0.16877938524963546, 0.16877938524963546, 0.5063381557489063, 0.986437342703994, 0.004883353181702941, 0.004883353181702941, 0.9891254309915813, 0.004801579762095055, 0.8036827773133819, 0.17694528374462695, 0.017559455638779774, 0.0013507273568292132, 0.7781885606672212, 0.029930329256431583, 0.029930329256431583, 0.1795819755385895, 0.3747023502109479, 0.02025418109248367, 0.5974983422282683, 0.2470785780534286, 0.008824234930479593, 0.0044121174652397965, 0.7412357341602858, 0.07031441664610712, 0.07031441664610712, 0.8437729997532853, 0.037125085606884364, 0.037125085606884364, 0.9281271401721092, 0.12064383251692411, 0.3619314975507723, 0.3619314975507723, 0.9918163160459884, 0.003306054386819961, 0.003306054386819961, 0.22127718692543683, 0.0026032610226521978, 0.7757717847503549, 0.018398443709540763, 0.009199221854770382, 0.9659182947508901, 0.03946755904419616, 0.01973377952209808, 0.9274876375386097, 0.7652335755684294, 0.19589312664333433, 0.024174045415560407, 0.0141709921401561, 0.4217360603476751, 0.5710159424436606, 0.0008157370606338009, 0.006525896485070407, 0.9876907421167243, 0.007209421475304557, 0.0036047107376522784, 0.8066670852566984, 0.16529251931026825, 0.027713715812500067, 0.0009897755647321454, 0.9890728389635618, 0.004824745555919814, 0.004824745555919814, 0.07173902113238816, 0.07173902113238816, 0.7891292324562698, 0.21519406718132011, 0.1434627114542134, 0.1434627114542134, 0.3586567786355335, 0.0717313557271067, 0.6302241252947242, 0.1679531298374265, 0.0015995536174992998, 0.1999442021874125, 0.46812966331854405, 0.23736151942912093, 0.29230631559326925, 0.0021977918465659343, 0.22796358212451515, 0.22796358212451515, 0.4559271642490303, 0.19720437210437974, 0.19720437210437974, 0.3944087442087595, 0.19171815529188527, 0.19171815529188527, 0.5751544658756558, 0.19305039758356618, 0.19305039758356618, 0.19305039758356618, 0.38610079516713236, 0.7908295803475266, 0.05648782716768048, 0.05648782716768048, 0.05648782716768048, 0.0048254123267363735, 0.9892095269809565, 0.09812486685375348, 0.09812486685375348, 0.7849989348300278, 0.9951279555567287, 0.0020645808206571138, 0.0020645808206571138, 0.6401259050914462, 0.040007869068215386, 0.16003147627286154, 0.12002360720464615, 0.7058567778034255, 0.10083668254334649, 0.10083668254334649, 0.10083668254334649, 0.8737962458738442, 0.09385218937163511, 0.030205302326503255, 0.0021575215947502325, 0.32031941400807845, 0.16015970700403923, 0.48047912101211765, 0.9254640325886011, 0.04712138658801431, 0.024503121025767443, 0.8089413792508576, 0.0898823754723175, 0.029960791824105836, 0.04494118773615875, 0.7222654732944451, 0.22223553024444465, 0.017007821192176885, 0.03855106136893428, 0.9920570984792783, 0.0017810719900884708, 0.0017810719900884708, 0.0035621439801769416, 0.06903681977419737, 0.07531289429912441, 0.35773624792084097, 0.4958098874692357, 0.2819991372050108, 0.16449949670292296, 0.540498346309604, 0.204513261449595, 0.0340855435749325, 0.0340855435749325, 0.7157964150735825, 0.16358292052139098, 0.16358292052139098, 0.49074876156417296, 0.040234976533974016, 0.040234976533974016, 0.8851694837474283, 0.008501447186843826, 0.9620058658796962, 0.029083898270781512, 0.001253746863255037, 0.9929675156979892, 0.005014987453020148, 0.009954110305654662, 0.9755028099541567, 0.042464497530209366, 0.042464497530209366, 0.8917544481343966, 0.18882454232203794, 0.18882454232203794, 0.37764908464407587, 0.19080205078440238, 0.19080205078440238, 0.38160410156880475, 0.9874456730394333, 0.0050638239643047865, 0.0050638239643047865, 0.9682863086341481, 0.007042082244611986, 0.003521041122305993, 0.017605205611529964, 0.031426799325610606, 0.015713399662805303, 0.9428039797683182, 0.21714347547585852, 0.05428586886896463, 0.6514304264275756, 0.05428586886896463, 0.8168513938230716, 0.006807094948525597, 0.006807094948525597, 0.14975608886756314, 0.02042128484557679, 0.18321560953602598, 0.18321560953602598, 0.5496468286080779, 0.1559625546574565, 0.1559625546574565, 0.4678876639723695, 0.9795961365181591, 0.014231420869513208, 0.002371903478252201, 0.002371903478252201, 0.9897048010174747, 0.004923904482674004, 0.4027785823651385, 0.18589780724544855, 0.39835244409738974, 0.00885227653549755, 0.35025676565357117, 0.009729354601488088, 0.6324080490967258, 0.009729354601488088, 0.0906898822193634, 0.9068988221936339, 0.0016489069494429708, 0.9885374035487747, 0.005069422582301409, 0.005069422582301409, 0.9798738848361345, 0.007285307693948955, 0.0036426538469744776, 0.007285307693948955, 0.9924697199752167, 0.002827549059758452, 0.002827549059758452, 0.1759487829097551, 0.1759487829097551, 0.5278463487292653, 0.24241934440331797, 0.24241934440331797, 0.24241934440331797, 0.0018203961131954371, 0.9957566739179041, 0.8443466419192988, 0.017231564120802016, 0.017231564120802016, 0.1206209488456141, 0.9728854739762297, 0.021195761960266443, 0.0021195761960266443, 0.0021195761960266443, 0.5623288981927114, 0.014798128899808194, 0.004932709633269397, 0.41434760919462943, 0.13379563142835788, 0.5971249476710045, 0.26759126285671575, 0.0012388484391514618, 0.0247000485421224, 0.0247000485421224, 0.9386018446006512, 0.016361207898210845, 0.016361207898210845, 0.9489500580962291, 0.04461756941601278, 0.054913931588938814, 0.899215629768873, 0.001716060362154338, 0.32031941400807845, 0.16015970700403923, 0.48047912101211765, 0.9880910802475211, 0.0044111208939621475, 0.0044111208939621475, 0.043750519773781485, 0.021875259886890742, 0.9187609152494112, 0.028954796090688288, 0.028954796090688288, 0.8975986788113369, 0.2365328436018842, 0.0021901189222396683, 0.0021901189222396683, 0.7599712660171649, 0.6737521264652893, 0.1837505799450789, 0.002784099696137559, 0.13920498480687796, 0.3795994104194025, 0.055674580194845696, 0.4403353160865069, 0.12147181133420878, 0.8013361143156574, 0.01571247282971877, 0.06284989131887508, 0.09427483697831264, 0.07132764215264407, 0.9210569443189257, 0.0031012018327236557, 0.0031012018327236557, 0.0038304213107016767, 0.9920791194717342, 0.007005419861198718, 0.9877642004290192, 0.1889228344497171, 0.1889228344497171, 0.5667685033491513, 0.1535026275290095, 0.1535026275290095, 0.4605078825870285, 0.10385991208566417, 0.10385991208566417, 0.10385991208566417, 0.10385991208566417, 0.623159472513985, 0.9901262924499339, 0.006346963413140601, 0.2681519905721436, 0.2681519905721436, 0.2681519905721436, 0.9165693315827902, 0.08181680402548429, 0.0011056324868308689, 0.988625433253173, 0.004085229063029641, 0.004085229063029641, 0.0032359828432888846, 0.9934467328896875, 0.0032359828432888846, 0.0006175394659288689, 0.9979437769410522, 0.0006175394659288689, 0.3741582118180277, 0.5764058938818265, 0.048314724048574155, 0.001123598233687771, 0.001123598233687771, 0.834675161967014, 0.039746436284143524, 0.039746436284143524, 0.039746436284143524, 0.14626733678735182, 0.4455528105214717, 0.4050480095649743, 0.0022502667198054127, 0.901490202565429, 0.09576606850541841, 0.0009208275817828693, 0.9960185754081277, 0.0015987457069151327, 0.14072799891441595, 0.14072799891441595, 0.14072799891441595, 0.5629119956576638, 0.23376674816160534, 0.23376674816160534, 0.23376674816160534, 0.05862308152422634, 0.02931154076211317, 0.9086577636255083, 0.1514279648393408, 0.3703599621974239, 0.4761770942538307, 0.001824433311317359, 0.7885200225322843, 0.06916842302914775, 0.013833684605829549, 0.12450316145246593, 0.208192485426332, 0.208192485426332, 0.208192485426332, 0.416384970852664, 0.08625827983370313, 0.043129139916851564, 0.8625827983370312, 0.24963706336966415, 0.024963706336966415, 0.723947483772026, 0.00966766474208314, 0.9764341389503971, 0.25190728230587417, 0.12595364115293708, 0.5038145646117483, 0.6101096378213291, 0.23048586317694655, 0.004519330650528364, 0.149137911467436, 0.0064475124056922566, 0.0032237562028461283, 0.9864693980709153, 0.17605658470156324, 0.17605658470156324, 0.17605658470156324, 0.5281697541046897, 0.03747487509427138, 0.03747487509427138, 0.8993970022625132, 0.6846612971401204, 0.13597245387128556, 0.0015996759278974774, 0.17916370392451747, 0.9024289127070645, 0.0016528002064231952, 0.0016528002064231952, 0.09090401135327573, 0.0033056004128463904, 0.054532978001744815, 0.027266489000872408, 0.027266489000872408, 0.8997941370287894, 0.003941513450303742, 0.9893198760262392, 0.8336394053943109, 0.15248479576056742, 0.0008378285481349858, 0.013405256770159774, 0.9963008569841315, 0.0013196037840849425, 0.0013196037840849425, 0.0013196037840849425, 0.9709290390816007, 0.02419760845063179, 0.003024701056328974, 0.009312898088277233, 0.009312898088277233, 0.9778542992691095, 0.6946304441881954, 0.13892608883763907, 0.05343311109139965, 0.09617959996451937, 0.01068662221827993, 0.2844442798137526, 0.1422221399068763, 0.1422221399068763, 0.42666641972062885, 0.2205907449035913, 0.2205907449035913, 0.4411814898071826, 0.13604202168189256, 0.13604202168189256, 0.5441680867275702, 0.2905332024531448, 0.1452666012265724, 0.4357998036797172, 0.005741548693107695, 0.9875463752145236, 0.01690068630207914, 0.03380137260415828, 0.01690068630207914, 0.9295377466143528, 0.2884603144682756, 0.1442301572341378, 0.43269047170241337, 0.0005104985419899154, 0.9985351481322745, 0.0005104985419899154, 0.03520504830778538, 0.03520504830778538, 0.9153312560024199, 0.17109261182233185, 0.17109261182233185, 0.5132778354669956, 0.19290048648631847, 0.19290048648631847, 0.5787014594589553, 0.2041517720286184, 0.2041517720286184, 0.4083035440572368, 0.4529179013765388, 0.5129822825626748, 0.03246723307358701, 0.20465315514624843, 0.6329088316559905, 0.1591746762248599, 0.0018949366217245226, 0.0026876971751752473, 0.9944479548148416, 0.0598748048942207, 0.0598748048942207, 0.8382472685190898, 0.02531817252412728, 0.02531817252412728, 0.9367723833927094, 0.23376674816160534, 0.23376674816160534, 0.23376674816160534, 0.009578268199362118, 0.976983356334936, 0.6696757797955893, 0.32921710997145276, 0.0008029685609059824, 0.15305028552215313, 0.15305028552215313, 0.6122011420886125, 0.25284116328944406, 0.25284116328944406, 0.25284116328944406, 0.8465483752702846, 0.10067061759970951, 0.04880999641198037, 0.003050624775748773, 0.4646632767553016, 0.18449865400578153, 0.006833283481695611, 0.3484974575664762, 0.15332779464668425, 0.00901928203804025, 0.829773947499703, 0.19251241959625384, 0.025668322612833847, 0.7700496783850154, 0.6001495492939368, 0.011323576401772393, 0.005661788200886197, 0.3623544448567166, 0.022647152803544787, 0.0427710077795311, 0.02138550388976555, 0.9195766672599187, 0.02138550388976555, 0.04651807202538203, 0.04651807202538203, 0.8838433684822585, 0.0858873523424408, 0.0858873523424408, 0.7729861710819672, 0.03500463613062349, 0.03500463613062349, 0.03500463613062349, 0.9101205393962108, 0.18894193703503126, 0.03149032283917187, 0.7242774253009531, 0.05079129276068126, 0.05079129276068126, 0.8634519769315815, 0.5067964377843452, 0.0070388394136714615, 0.0070388394136714615, 0.4786410801296594, 0.7120620185982238, 0.20500593039710363, 0.08248759329587602, 0.6233300077368172, 0.2345003566083846, 0.0020042765522084154, 0.1402993586545891, 0.04334731724519068, 0.04334731724519068, 0.9102936621490042, 0.639783161460631, 0.07108701794007011, 0.07108701794007011, 0.21326105382021032, 0.6576720210896638, 0.23635088257909795, 0.010276125329525997, 0.08220900263620798, 0.74968992004529, 0.20904815078185973, 0.010812835385268607, 0.025229949232293415, 0.06266773345203781, 0.9366285567291057, 0.0005645741752435838, 0.5891062441472246, 0.06545624934969163, 0.2618249973987665, 0.005158454434401498, 0.985264796970686, 0.005158454434401498, 0.8387246056159265, 0.08595194305485528, 0.07347504809527952, 0.3378452428143564, 0.6560395319079673, 0.005290641386354575, 0.0007558059123363678, 0.6457713433813769, 0.014676621440485838, 0.33756229313117425, 0.24484226588969366, 0.24484226588969366, 0.24484226588969366, 0.2761144625617159, 0.13805723128085795, 0.13805723128085795, 0.41417169384257385, 0.5131160489835395, 0.47003829354283855, 0.01635864130659531, 0.23376674816160534, 0.23376674816160534, 0.23376674816160534, 0.19210455364964635, 0.19210455364964635, 0.3842091072992927], \"Term\": [\"abbas\", \"abbas\", \"abbas\", \"administrative_district\", \"administrative_district\", \"administrative_district\", \"adolf\", \"adolf\", \"adolf\", \"afroth\", \"afroth\", \"afroth\", \"agron\", \"agron\", \"agron\", \"aiguille\", \"aiguille\", \"aiguille\", \"air\", \"air\", \"air\", \"airport\", \"airport\", \"albarracin\", \"albarracin\", \"albarracin\", \"alberic\", \"alberic\", \"alberic\", \"album\", \"album\", \"album\", \"alcmaeon\", \"alcmaeon\", \"alcmaeon\", \"alcmaeon\", \"all_ireland\", \"all_ireland\", \"alp\", \"alp\", \"alp\", \"also\", \"also\", \"also\", \"also\", \"also_romanize\", \"also_romanize\", \"also_romanize\", \"aluva\", \"aluva\", \"aluva\", \"american\", \"american\", \"american\", \"amphiaraus\", \"amphiaraus\", \"amphiaraus\", \"amphiaraus\", \"anibal\", \"anibal\", \"anibal\", \"anime\", \"anime\", \"anime\", \"ankamali\", \"ankamali\", \"ankamali\", \"annammah\", \"annammah\", \"annammah\", \"anselmo\", \"anselmo\", \"anselmo\", \"aprem\", \"aprem\", \"aprem\", \"arabic\", \"arabic\", \"arabic\", \"arabic\", \"arabic\", \"archbishop\", \"archbishop\", \"archbishop\", \"archdiocese\", \"archdiocese\", \"archdiocese\", \"ardistomis\", \"ardistomis\", \"ardistomis\", \"area\", \"area\", \"area\", \"area\", \"army\", \"army\", \"army\", \"artemis\", \"artemis\", \"artemis\", \"artist\", \"artist\", \"artist\", \"athena\", \"athena\", \"athena\", \"athena\", \"baarn\", \"baarn\", \"baarn\", \"baelius\", \"baelius\", \"baelius\", \"bahya\", \"bahya\", \"bahya\", \"band\", \"band\", \"band\", \"band\", \"baronet\", \"baronet\", \"baronet\", \"baronetcy\", \"baronetcy\", \"baronetcy\", \"base_repair\", \"base_repair\", \"base_repair\", \"baseball\", \"baseball\", \"baseball\", \"baselius\", \"baselius\", \"baselius\", \"basketball\", \"basketball\", \"basketball\", \"be\", \"be\", \"be\", \"be\", \"be\", \"be\", \"bear\", \"bear\", \"bear\", \"bear\", \"beatify\", \"beatify\", \"beatify\", \"become\", \"become\", \"become\", \"become\", \"become\", \"berchmann\", \"berchmann\", \"berchmann\", \"bessarabian\", \"bessarabian\", \"bessarabian\", \"bhutto\", \"bhutto\", \"bhutto\", \"billboard\", \"billboard\", \"billboard\", \"bishop\", \"bishop\", \"bishop\", \"bishop\", \"border\", \"border\", \"border\", \"bottger\", \"bottger\", \"bottger\", \"bousfield\", \"bousfield\", \"bousfield\", \"bridge\", \"bridge\", \"bridge\", \"bridge\", \"brother\", \"brother\", \"brother\", \"brother\", \"brother\", \"build\", \"build\", \"build\", \"build\", \"building\", \"building\", \"building\", \"byssa\", \"byssa\", \"byssa\", \"byzantine\", \"byzantine\", \"byzantine\", \"callitris\", \"callitris\", \"callitris\", \"canal\", \"canal\", \"canal\", \"cardinal\", \"cardinal\", \"cardinal\", \"career\", \"career\", \"career\", \"cartoon\", \"cartoon\", \"cartoon\", \"cascade\", \"cascade\", \"cascade\", \"catchment\", \"catchment\", \"catchment\", \"catholicose\", \"catholicose\", \"catholicose\", \"catholiose\", \"catholiose\", \"catholiose\", \"cave\", \"cave\", \"cave\", \"cave\", \"census\", \"census\", \"census\", \"census\", \"cg_samuel\", \"cg_samuel\", \"cg_samuel\", \"chakeri\", \"chakeri\", \"chakeri\", \"champion\", \"champion\", \"champion\", \"championship\", \"championship\", \"changanassery\", \"changanassery\", \"changanassery\", \"channel\", \"channel\", \"channel\", \"character\", \"character\", \"character\", \"character\", \"chart\", \"chart\", \"chart\", \"charuvilayil\", \"charuvilayil\", \"charuvilayil\", \"chingavanam\", \"chingavanam\", \"chingavanam\", \"chlorodiella\", \"chlorodiella\", \"chlorodiella\", \"church\", \"church\", \"church\", \"city\", \"city\", \"city\", \"city\", \"club\", \"club\", \"club\", \"coach\", \"coach\", \"collor\", \"collor\", \"collor\", \"comic_book\", \"comic_book\", \"comic_book\", \"company\", \"company\", \"company\", \"compete\", \"compete\", \"compete\", \"competition\", \"competition\", \"competition\", \"compilation\", \"compilation\", \"compilation\", \"constellation\", \"constellation\", \"constellation\", \"contain\", \"contain\", \"contain\", \"contain\", \"contain\", \"costa\", \"costa\", \"costa\", \"costa\", \"costa\", \"costal\", \"costal\", \"costal\", \"council\", \"council\", \"count\", \"count\", \"count\", \"count\", \"count\", \"countess\", \"countess\", \"countess\", \"county\", \"county\", \"county\", \"county\", \"creek\", \"creek\", \"creek\", \"cricket\", \"cricket\", \"cup\", \"cup\", \"daegu\", \"daegu\", \"daegu\", \"dam\", \"dam\", \"dam\", \"daughter\", \"daughter\", \"daughter\", \"daughter\", \"death\", \"death\", \"death\", \"death\", \"dec\", \"dec\", \"dec\", \"diaconate\", \"diaconate\", \"diaconate\", \"die\", \"die\", \"die\", \"die\", \"die\", \"diocese\", \"diocese\", \"diocese\", \"diocese\", \"diocese\", \"dionysius\", \"dionysius\", \"dionysius\", \"dionysius\", \"discal\", \"discal\", \"discal\", \"discography\", \"discography\", \"discography\", \"dong\", \"dong\", \"dong\", \"dong\", \"downstream\", \"downstream\", \"downstream\", \"drain\", \"drain\", \"drain\", \"duke\", \"duke\", \"duke\", \"duke\", \"duke\", \"east\", \"east\", \"east\", \"east\", \"ecclesiastical_province\", \"ecclesiastical_province\", \"ecclesiastical_province\", \"economic\", \"economic\", \"editor\", \"editor\", \"editor\", \"education\", \"education\", \"elect\", \"elect\", \"elect\", \"election\", \"election\", \"election\", \"elevation\", \"elevation\", \"elevation\", \"emperor\", \"emperor\", \"emperor\", \"emperor\", \"enoksen\", \"enoksen\", \"enoksen\", \"ep\", \"ep\", \"ep\", \"episode\", \"episode\", \"episode\", \"eumelus\", \"eumelus\", \"eumelus\", \"event\", \"event\", \"event\", \"event\", \"family\", \"family\", \"family\", \"family\", \"family\", \"family\", \"fantasy\", \"fantasy\", \"fantasy\", \"father\", \"father\", \"father\", \"father\", \"feature\", \"feature\", \"feature\", \"feature\", \"feb\", \"feb\", \"feb\", \"federal_correctional\", \"federal_correctional\", \"federal_correctional\", \"film\", \"film\", \"film\", \"final\", \"final\", \"final\", \"finish\", \"finish\", \"finish\", \"first\", \"first\", \"first\", \"first\", \"flood\", \"flood\", \"flood\", \"flood\", \"flow\", \"flow\", \"flow\", \"flow\", \"foot\", \"foot\", \"foot\", \"foot\", \"football\", \"football\", \"forewing\", \"forewing\", \"forewing\", \"forewing\", \"former\", \"former\", \"former\", \"fredius\", \"fredius\", \"fredius\", \"frogmouth\", \"frogmouth\", \"frogmouth\", \"fulgurator\", \"fulgurator\", \"fulgurator\", \"gaimard\", \"gaimard\", \"gaimard\", \"galaxy\", \"galaxy\", \"galaxy\", \"galaxy\", \"game\", \"game\", \"game\", \"genre\", \"genre\", \"genre\", \"genus\", \"genus\", \"genus\", \"genus\", \"genus\", \"gerard\", \"gerard\", \"gerard\", \"gerard\", \"ghevarghese\", \"ghevarghese\", \"ghevarghese\", \"giesbrecht\", \"giesbrecht\", \"giesbrecht\", \"givor\", \"givor\", \"givor\", \"glaci\", \"glaci\", \"glaci\", \"glacier\", \"glacier\", \"glacier\", \"gmina\", \"gmina\", \"gmina\", \"gniezno\", \"gniezno\", \"gniezno\", \"government\", \"government\", \"gracie\", \"gracie\", \"gracie\", \"greek\", \"greek\", \"greek\", \"greek\", \"greek\", \"grey\", \"grey\", \"grey\", \"grey\", \"guitar\", \"guitar\", \"guitar\", \"hassi\", \"hassi\", \"hassi\", \"have\", \"have\", \"have\", \"have\", \"head_coach\", \"head_coach\", \"heir\", \"heir\", \"heir\", \"heir\", \"henry\", \"henry\", \"henry\", \"henry\", \"henry\", \"herme\", \"herme\", \"herme\", \"heron\", \"heron\", \"heron\", \"heron\", \"high\", \"high\", \"high\", \"high\", \"highest_point\", \"highest_point\", \"highest_point\", \"hindwings_are\", \"hindwings_are\", \"hindwings_are\", \"hockey\", \"hockey\", \"hospital\", \"hospital\", \"house\", \"house\", \"house\", \"house\", \"hungarian\", \"hungarian\", \"hungarian\", \"hungarian\", \"hungarian\", \"hungary\", \"hungary\", \"hungary\", \"hungary\", \"hungary\", \"ignatius\", \"ignatius\", \"ignatius\", \"ii\", \"ii\", \"ii\", \"ii\", \"inca\", \"inca\", \"inca\", \"inca\", \"include\", \"include\", \"include\", \"include\", \"iran\", \"iran\", \"iran\", \"iran\", \"iranian\", \"iranian\", \"iranian\", \"islamic\", \"islamic\", \"islamic\", \"iwa\", \"iwa\", \"iwa\", \"jacobite_syrian\", \"jacobite_syrian\", \"jacobite_syrian\", \"jan\", \"jan\", \"jan\", \"jan\", \"japanese\", \"japanese\", \"japanese\", \"japanese\", \"journal\", \"journal\", \"journal\", \"julich\", \"julich\", \"julich\", \"kanpur\", \"kanpur\", \"kanpur\", \"khan\", \"khan\", \"khan\", \"khan\", \"khan\", \"kiefer_thermocyclop\", \"kiefer_thermocyclop\", \"kiefer_thermocyclop\", \"kilometres_mi\", \"kilometres_mi\", \"kilometres_mi\", \"king\", \"king\", \"king\", \"king\", \"king\", \"kintetsu\", \"kintetsu\", \"kintetsu\", \"kintetsu\", \"kkn\", \"kkn\", \"kkn\", \"km\", \"km\", \"km\", \"know\", \"know\", \"know\", \"know\", \"konni\", \"konni\", \"konni\", \"kyrgyz\", \"kyrgyz\", \"kyrgyz\", \"label\", \"label\", \"label\", \"label\", \"lake\", \"lake\", \"lake\", \"lara\", \"lara\", \"lara\", \"lara\", \"large\", \"large\", \"large\", \"large\", \"latin\", \"latin\", \"latin\", \"latin\", \"latin\", \"latin\", \"latin_dioecesis\", \"latin_dioecesis\", \"latin_dioecesis\", \"law\", \"law\", \"law\", \"league\", \"league\", \"lenticular\", \"lenticular\", \"lenticular\", \"library\", \"library\", \"lie\", \"lie\", \"lie\", \"lie\", \"lies_approximately\", \"lies_approximately\", \"lies_approximately\", \"line\", \"line\", \"line\", \"line\", \"locate\", \"locate\", \"locate\", \"lompoc\", \"lompoc\", \"lompoc\", \"love\", \"love\", \"love\", \"luengo\", \"luengo\", \"luengo\", \"lyric\", \"lyric\", \"lyric\", \"malabar\", \"malabar\", \"malabar\", \"malankara\", \"malankara\", \"malankara\", \"malayalam\", \"malayalam\", \"malayalam\", \"male_inmate\", \"male_inmate\", \"male_inmate\", \"manga\", \"manga\", \"manga\", \"mar\", \"mar\", \"mar\", \"mar\", \"marry\", \"marry\", \"marry\", \"marry\", \"martyr\", \"martyr\", \"martyr\", \"martyr\", \"massif\", \"massif\", \"massif\", \"match\", \"match\", \"match\", \"meenangadi\", \"meenangadi\", \"meenangadi\", \"member\", \"member\", \"member\", \"meropis\", \"meropis\", \"meropis\", \"messaoud\", \"messaoud\", \"messaoud\", \"military\", \"military\", \"military\", \"minister\", \"minister\", \"most\", \"most\", \"most\", \"most\", \"moth\", \"moth\", \"moth\", \"moth\", \"mount\", \"mount\", \"mount\", \"mountain\", \"mountain\", \"mountain\", \"mountain\", \"mountain_pass\", \"mountain_pass\", \"mountain_pass\", \"mountain_range\", \"mountain_range\", \"mountain_range\", \"muhammad\", \"muhammad\", \"muhammad\", \"museum\", \"museum\", \"museum\", \"music\", \"music\", \"music\", \"musical\", \"musical\", \"musical\", \"musician\", \"musician\", \"musician\", \"name\", \"name\", \"name\", \"name\", \"national\", \"national\", \"national\", \"national\", \"network\", \"network\", \"network\", \"new\", \"new\", \"new\", \"new\", \"newspaper\", \"newspaper\", \"newspaper\", \"ngc\", \"ngc\", \"ngc\", \"noble\", \"noble\", \"noble\", \"noble\", \"noble\", \"north\", \"north\", \"north\", \"north\", \"number\", \"number\", \"number\", \"number\", \"ochreous\", \"ochreous\", \"ochreous\", \"odo\", \"odo\", \"odo\", \"oldenburg\", \"oldenburg\", \"oldenburg\", \"oliva\", \"oliva\", \"oliva\", \"oliva\", \"olive\", \"olive\", \"olive\", \"olive\", \"olympic\", \"olympic\", \"oncaea\", \"oncaea\", \"oncaea\", \"operate\", \"operate\", \"operate\", \"ordain\", \"ordain\", \"ordain\", \"ordain\", \"orthodox_church\", \"orthodox_church\", \"orthodox_church\", \"orthodox_church\", \"other\", \"other\", \"other\", \"other\", \"overhaul_base\", \"overhaul_base\", \"overhaul_base\", \"own\", \"own\", \"own\", \"pakistan\", \"pakistan\", \"pakistan\", \"pakistan\", \"part\", \"part\", \"part\", \"part\", \"party\", \"party\", \"party\", \"party\", \"peak\", \"peak\", \"peak\", \"peak\", \"perform\", \"perform\", \"perform\", \"persian\", \"persian\", \"persian\", \"persian\", \"philexinose\", \"philexinose\", \"philexinose\", \"platinum\", \"platinum\", \"platinum\", \"play\", \"play\", \"play\", \"player\", \"player\", \"player\", \"playoff\", \"playoff\", \"playstation\", \"playstation\", \"playstation\", \"podargus\", \"podargus\", \"podargus\", \"polanski\", \"polanski\", \"polanski\", \"political\", \"political\", \"political\", \"politician\", \"politician\", \"politician\", \"politician\", \"pop\", \"pop\", \"pop\", \"pope\", \"pope\", \"pope\", \"pope\", \"population\", \"population\", \"population\", \"population\", \"population\", \"potamonaute\", \"potamonaute\", \"potamonaute\", \"prelate\", \"prelate\", \"prelate\", \"president\", \"president\", \"president\", \"president\", \"prison\", \"prison\", \"produce\", \"produce\", \"produce\", \"produce\", \"production\", \"production\", \"production\", \"production\", \"professional\", \"professional\", \"professional\", \"professor\", \"professor\", \"professor\", \"provide\", \"provide\", \"provide\", \"provide\", \"public\", \"public\", \"public\", \"pyrgus\", \"pyrgus\", \"pyrgus\", \"quoy\", \"quoy\", \"quoy\", \"race\", \"race\", \"radical\", \"radical\", \"radical\", \"radical\", \"railway\", \"railway\", \"railway\", \"railway\", \"range\", \"range\", \"range\", \"range\", \"record\", \"record\", \"record\", \"record\", \"record_label\", \"record_label\", \"record_label\", \"recording\", \"recording\", \"recording\", \"release\", \"release\", \"release\", \"release\", \"repair_depot\", \"repair_depot\", \"repair_depot\", \"research\", \"research\", \"research\", \"reservoir\", \"reservoir\", \"reservoir\", \"ria\", \"ria\", \"ria\", \"river\", \"river\", \"river\", \"river\", \"road\", \"road\", \"road\", \"road\", \"rock\", \"rock\", \"rock\", \"rock\", \"roman_catholic\", \"roman_catholic\", \"roman_catholic\", \"roman_catholic\", \"round\", \"round\", \"round\", \"round\", \"rugby\", \"rugby\", \"rugby_union\", \"rugby_union\", \"rural_district\", \"rural_district\", \"rural_district\", \"sagredo\", \"sagredo\", \"sagredo\", \"salamand\", \"salamand\", \"salamand\", \"salamand\", \"salamand\", \"satellite\", \"satellite\", \"schnack\", \"schnack\", \"schnack\", \"school\", \"school\", \"school\", \"science\", \"science\", \"science\", \"score\", \"score\", \"score\", \"season\", \"season\", \"season\", \"second\", \"second\", \"second\", \"second\", \"second\", \"seminary\", \"seminary\", \"seminary\", \"seminary\", \"series\", \"series\", \"series\", \"series\", \"serve\", \"serve\", \"serve\", \"service\", \"service\", \"shah\", \"shah\", \"shah\", \"shah\", \"simhasana\", \"simhasana\", \"simhasana\", \"singer\", \"singer\", \"singer\", \"single\", \"single\", \"single\", \"single\", \"sir\", \"sir\", \"sir\", \"sir\", \"sis\", \"sis\", \"sis\", \"sis\", \"sloan\", \"sloan\", \"sloan\", \"slope\", \"slope\", \"slope\", \"soccer\", \"soccer\", \"soest\", \"soest\", \"soest\", \"son\", \"son\", \"son\", \"son\", \"song\", \"song\", \"song\", \"sophocle\", \"sophocle\", \"sophocle\", \"sophocle\", \"soundtrack\", \"soundtrack\", \"soundtrack\", \"south\", \"south\", \"south\", \"south\", \"specie\", \"specie\", \"specie\", \"specie\", \"specie\", \"spider\", \"spider\", \"spider\", \"spider\", \"stadium\", \"stadium\", \"state\", \"state\", \"state\", \"state\", \"station\", \"station\", \"station\", \"station\", \"student\", \"student\", \"student\", \"studio_album\", \"studio_album\", \"studio_album\", \"succeed\", \"succeed\", \"succeed\", \"succeed\", \"succeed\", \"suffragan\", \"suffragan\", \"suffragan\", \"suffragan\", \"suffuse\", \"suffuse\", \"suffuse\", \"sule\", \"sule\", \"sule\", \"sultan\", \"sultan\", \"sultan\", \"summer_olympic\", \"summer_olympic\", \"summit\", \"summit\", \"summit\", \"summit\", \"tawaramoto\", \"tawaramoto\", \"tawaramoto\", \"team\", \"team\", \"team\", \"tepui\", \"tepui\", \"tepui\", \"theonistus\", \"theonistus\", \"theonistus\", \"thermocyclop\", \"thermocyclop\", \"thermocyclop\", \"thirumeni\", \"thirumeni\", \"thirumeni\", \"time\", \"time\", \"time\", \"title\", \"title\", \"title\", \"title\", \"tournament\", \"tournament\", \"traverse\", \"traverse\", \"traverse\", \"tributary\", \"tributary\", \"tributary\", \"trikkunnath\", \"trikkunnath\", \"trikkunnath\", \"trophy\", \"trophy\", \"university\", \"university\", \"university\", \"uromunna\", \"uromunna\", \"uromunna\", \"uroptychode\", \"uroptychode\", \"uroptychode\", \"use\", \"use\", \"use\", \"use\", \"valley\", \"valley\", \"valley\", \"valley\", \"version\", \"version\", \"version\", \"video\", \"video\", \"video\", \"village\", \"village\", \"village\", \"village\", \"village\", \"vocal\", \"vocal\", \"vocal\", \"vocal\", \"vocalist\", \"vocalist\", \"vocalist\", \"voivodeship\", \"voivodeship\", \"voivodeship\", \"volcano\", \"volcano\", \"volcano\", \"volcano\", \"waikato\", \"waikato\", \"waikato\", \"waikere\", \"waikere\", \"waikere\", \"water\", \"water\", \"water\", \"water\", \"well\", \"well\", \"well\", \"west\", \"west\", \"west\", \"west\", \"whangamarino\", \"whangamarino\", \"whangamarino\", \"whitish\", \"whitish\", \"whitish\", \"whitish\", \"wife\", \"wife\", \"wife\", \"wife\", \"william\", \"william\", \"william\", \"william\", \"win\", \"win\", \"win\", \"wingspan\", \"wingspan\", \"wingspan\", \"winner\", \"winner\", \"winner\", \"work\", \"work\", \"work\", \"world\", \"world\", \"world\", \"world\", \"write\", \"write\", \"write\", \"w\\u0142oc\\u0142awek\", \"w\\u0142oc\\u0142awek\", \"w\\u0142oc\\u0142awek\", \"ye\", \"ye\", \"ye\", \"ye\", \"year\", \"year\", \"year\", \"zakka\", \"zakka\", \"zakka\", \"\\u0645\\u062d\\u0645\\u062f\", \"\\u0645\\u062d\\u0645\\u062f\", \"\\u0645\\u062d\\u0645\\u062f\"]}, \"R\": 30, \"lambda.step\": 0.01, \"plot.opts\": {\"xlab\": \"PC1\", \"ylab\": \"PC2\"}, \"topic.order\": [3, 4, 5, 1, 7, 6, 8, 2]};\n",
       "\n",
       "function LDAvis_load_lib(url, callback){\n",
       "  var s = document.createElement('script');\n",
       "  s.src = url;\n",
       "  s.async = true;\n",
       "  s.onreadystatechange = s.onload = callback;\n",
       "  s.onerror = function(){console.warn(\"failed to load library \" + url);};\n",
       "  document.getElementsByTagName(\"head\")[0].appendChild(s);\n",
       "}\n",
       "\n",
       "if(typeof(LDAvis) !== \"undefined\"){\n",
       "   // already loaded: just create the visualization\n",
       "   !function(LDAvis){\n",
       "       new LDAvis(\"#\" + \"ldavis_el1392026308141440964111821551\", ldavis_el1392026308141440964111821551_data);\n",
       "   }(LDAvis);\n",
       "}else if(typeof define === \"function\" && define.amd){\n",
       "   // require.js is available: use it to load d3/LDAvis\n",
       "   require.config({paths: {d3: \"/nbextensions/d3.v5.min\"}});\n",
       "   require([\"d3\"], function(d3){\n",
       "      window.d3 = d3;\n",
       "      LDAvis_load_lib(\"/nbextensions/ldavis.v3.0.0.js\", function(){\n",
       "        new LDAvis(\"#\" + \"ldavis_el1392026308141440964111821551\", ldavis_el1392026308141440964111821551_data);\n",
       "      });\n",
       "    });\n",
       "}else{\n",
       "    // require.js not available: dynamically load d3 & LDAvis\n",
       "    LDAvis_load_lib(\"/nbextensions/d3.v5.min.js\", function(){\n",
       "         LDAvis_load_lib(\"/nbextensions/ldavis.v3.0.0.js\", function(){\n",
       "                 new LDAvis(\"#\" + \"ldavis_el1392026308141440964111821551\", ldavis_el1392026308141440964111821551_data);\n",
       "            })\n",
       "         });\n",
       "}\n",
       "</script>"
      ],
      "text/plain": [
       "PreparedData(topic_coordinates=              x         y  topics  cluster       Freq\n",
       "topic                                                \n",
       "2     -0.208323 -0.094641       1        1  52.078314\n",
       "3     -0.181413  0.106991       2        1  28.298255\n",
       "4     -0.002889  0.016059       3        1   8.917470\n",
       "0      0.049399 -0.059656       4        1   5.523179\n",
       "6      0.081719  0.005915       5        1   2.045935\n",
       "5      0.087851  0.004515       6        1   1.566162\n",
       "7      0.087099  0.009652       7        1   0.947347\n",
       "1      0.086556  0.011164       8        1   0.623338, topic_info=                       Term         Freq        Total Category  logprob  \\\n",
       "405                    team  1958.000000  1958.000000  Default  30.0000   \n",
       "12                     play  2234.000000  2234.000000  Default  29.0000   \n",
       "871                  season  1619.000000  1619.000000  Default  28.0000   \n",
       "83                      win  1771.000000  1771.000000  Default  27.0000   \n",
       "267                  league  1495.000000  1495.000000  Default  26.0000   \n",
       "...                     ...          ...          ...      ...      ...   \n",
       "22382              seminary     1.198849    25.159488   Topic8  -8.0497   \n",
       "21458  federal_correctional     0.734203     7.851374   Topic8  -8.5401   \n",
       "22493           male_inmate     0.764764    12.118582   Topic8  -8.4993   \n",
       "4942                    jan     0.715673    42.467141   Topic8  -8.5656   \n",
       "981                 diocese     0.731170   163.793929   Topic8  -8.5442   \n",
       "\n",
       "       loglift  \n",
       "405    30.0000  \n",
       "12     29.0000  \n",
       "871    28.0000  \n",
       "83     27.0000  \n",
       "267    26.0000  \n",
       "...        ...  \n",
       "22382   2.0340  \n",
       "21458   2.7082  \n",
       "22493   2.3149  \n",
       "4942    0.9946  \n",
       "981    -0.3339  \n",
       "\n",
       "[469 rows x 6 columns], token_table=       Topic      Freq                     Term\n",
       "term                                           \n",
       "46844      1  0.202691                    abbas\n",
       "46844      2  0.202691                    abbas\n",
       "46844      6  0.405382                    abbas\n",
       "2411       1  0.068249  administrative_district\n",
       "2411       2  0.068249  administrative_district\n",
       "...      ...       ...                      ...\n",
       "57001      2  0.233767                    zakka\n",
       "57001      8  0.233767                    zakka\n",
       "798        1  0.192105                     محمد\n",
       "798        2  0.192105                     محمد\n",
       "798        6  0.384209                     محمد\n",
       "\n",
       "[1383 rows x 3 columns], R=30, lambda_step=0.01, plot_opts={'xlab': 'PC1', 'ylab': 'PC2'}, topic_order=[3, 4, 5, 1, 7, 6, 8, 2])"
      ]
     },
     "execution_count": 63,
     "metadata": {},
     "output_type": "execute_result"
    }
   ],
   "source": [
    "import pyLDAvis.gensim\n",
    "import pickle \n",
    "import pyLDAvis\n",
    "# Visualize the topics\n",
    "\n",
    "LDAvis_prepared = pyLDAvis.gensim.prepare(lda_model, corpus, id2word)\n",
    "pyLDAvis.enable_notebook(LDAvis_prepared)\n",
    "LDAvis_prepared"
   ]
  },
  {
   "cell_type": "code",
   "execution_count": null,
   "id": "awful-maria",
   "metadata": {},
   "outputs": [],
   "source": []
  }
 ],
 "metadata": {
  "kernelspec": {
   "display_name": "Python 3",
   "language": "python",
   "name": "python3"
  },
  "language_info": {
   "codemirror_mode": {
    "name": "ipython",
    "version": 3
   },
   "file_extension": ".py",
   "mimetype": "text/x-python",
   "name": "python",
   "nbconvert_exporter": "python",
   "pygments_lexer": "ipython3",
   "version": "3.8.8"
  }
 },
 "nbformat": 4,
 "nbformat_minor": 5
}
