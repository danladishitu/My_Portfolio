{
 "cells": [
  {
   "cell_type": "markdown",
   "id": "another-royal",
   "metadata": {},
   "source": [
    "# Topic Modelling (Text Analytics)\n",
    "\n",
    "As we all know that probabilistic topic models are a class of unsupervised machine learning models which help find the thematic patterns\n",
    "present in data. They have been widely applied to a range of domains from text to images.\n",
    "The basic topic model is called Latent Dirichlet Allocation (LDA) is being depicted by a\n",
    "graphical model in plate notation.\n",
    "\n",
    "These models are primarily generative models that describe how data, e.g., words in a\n",
    "document are generated. We have also studied that a common “research” shortcoming\n",
    "in probabilistic topic models is finding an appropriate number of topics. Given a dataset,\n",
    "it is always difficult to find how many topics are ideal to describe that dataset. This\n",
    "model is all about this bit!\n",
    "\n",
    "To determine the ideal number of latent topics, what has been usually done in the\n",
    "literature are the following (crucial hints!)\n",
    "- Varying the number of topics arbitrarily and shown with respect to some measure\n",
    "that one result or value obtained through that metric/measure is relatively better\n",
    "than other values;\n",
    "- Using a tuning strategy where the training data is split into training and tune\n",
    "data. The topic model is tuned on the training data and evaluated on the tuned\n",
    "data. The best evaluation result is then chosen as the ideal number of topics and\n",
    "then this is applied on the test data;\n",
    "- Using a Bayesian non-parametric approach to find the number of topics automatically.\n",
    "\n",
    "In this work, we will cover two goals:\n",
    "1. Which papers or research works have studied the problem of determining the number of topics \n",
    "- Similar to the approach used please visit https://towardsdatascience.com/evaluate-topic-model-in-python-latent-dirichlet-allocation-lda-7d57484bb5d0\n",
    "2. How can we determine the number of topics that are ideal for the dataset."
   ]
  },
  {
   "cell_type": "markdown",
   "id": "portable-advisory",
   "metadata": {},
   "source": [
    "### Import all required packages from sci-kit learn library."
   ]
  },
  {
   "cell_type": "code",
   "execution_count": 1,
   "id": "smaller-quality",
   "metadata": {},
   "outputs": [],
   "source": [
    "import pandas as pd\n",
    "import matplotlib.pyplot as plt\n",
    "from sklearn.decomposition import LatentDirichletAllocation\n",
    "import nltk\n",
    "import string\n",
    "import re\n",
    "import gensim\n",
    "from gensim.utils import simple_preprocess\n",
    "import spacy\n",
    "import en_core_web_sm\n",
    "import gensim.corpora as corpora\n",
    "from gensim.models import CoherenceModel\n",
    "from gensim.models import LdaModel\n",
    "import numpy as np\n",
    "import tqdm"
   ]
  },
  {
   "cell_type": "markdown",
   "id": "fatal-minute",
   "metadata": {},
   "source": [
    "### Load the dataset\n",
    "Link to download the dataset from Kaggle https://www.kaggle.com/danofer/starter-dbpedia-extraction"
   ]
  },
  {
   "cell_type": "code",
   "execution_count": 2,
   "id": "first-celtic",
   "metadata": {},
   "outputs": [],
   "source": [
    "dbpedia_df = pd.read_csv('DBP_wiki_data.csv')"
   ]
  },
  {
   "cell_type": "markdown",
   "id": "royal-password",
   "metadata": {},
   "source": [
    "### Explore the dataset\n",
    "Check out the number of rows and columns"
   ]
  },
  {
   "cell_type": "code",
   "execution_count": 3,
   "id": "material-supervision",
   "metadata": {},
   "outputs": [
    {
     "data": {
      "text/plain": [
       "(342781, 6)"
      ]
     },
     "execution_count": 3,
     "metadata": {},
     "output_type": "execute_result"
    }
   ],
   "source": [
    "dbpedia_df.shape"
   ]
  },
  {
   "cell_type": "markdown",
   "id": "musical-minority",
   "metadata": {},
   "source": [
    "### Randomly select only 10000 rows from the entire document. \n",
    "Depending on your machine's processor speed, you are free to explore all 342781 rows."
   ]
  },
  {
   "cell_type": "code",
   "execution_count": 4,
   "id": "auburn-belarus",
   "metadata": {},
   "outputs": [],
   "source": [
    "NUM_SAMPLES = 10000"
   ]
  },
  {
   "cell_type": "markdown",
   "id": "complimentary-working",
   "metadata": {},
   "source": [
    "### Format the dataset such that it can only hold 10000 rows."
   ]
  },
  {
   "cell_type": "code",
   "execution_count": 5,
   "id": "built-service",
   "metadata": {},
   "outputs": [],
   "source": [
    "dbpedia_df = dbpedia_df.sample(NUM_SAMPLES, replace=False).reset_index(drop=True)"
   ]
  },
  {
   "cell_type": "code",
   "execution_count": 6,
   "id": "accredited-germany",
   "metadata": {},
   "outputs": [
    {
     "data": {
      "text/html": [
       "<div>\n",
       "<style scoped>\n",
       "    .dataframe tbody tr th:only-of-type {\n",
       "        vertical-align: middle;\n",
       "    }\n",
       "\n",
       "    .dataframe tbody tr th {\n",
       "        vertical-align: top;\n",
       "    }\n",
       "\n",
       "    .dataframe thead th {\n",
       "        text-align: right;\n",
       "    }\n",
       "</style>\n",
       "<table border=\"1\" class=\"dataframe\">\n",
       "  <thead>\n",
       "    <tr style=\"text-align: right;\">\n",
       "      <th></th>\n",
       "      <th>text</th>\n",
       "      <th>l1</th>\n",
       "      <th>l2</th>\n",
       "      <th>l3</th>\n",
       "      <th>wiki_name</th>\n",
       "      <th>word_count</th>\n",
       "    </tr>\n",
       "  </thead>\n",
       "  <tbody>\n",
       "    <tr>\n",
       "      <th>0</th>\n",
       "      <td>Frühstück is a Polish Christian rock band, and...</td>\n",
       "      <td>Agent</td>\n",
       "      <td>Group</td>\n",
       "      <td>Band</td>\n",
       "      <td>Frühstück</td>\n",
       "      <td>43</td>\n",
       "    </tr>\n",
       "    <tr>\n",
       "      <th>1</th>\n",
       "      <td>Phyllis Pamela Green (28 March 1929 – 7 May 20...</td>\n",
       "      <td>Agent</td>\n",
       "      <td>Actor</td>\n",
       "      <td>AdultActor</td>\n",
       "      <td>Pamela_Green</td>\n",
       "      <td>48</td>\n",
       "    </tr>\n",
       "    <tr>\n",
       "      <th>2</th>\n",
       "      <td>The New York City mayoral election of 1993 occ...</td>\n",
       "      <td>Event</td>\n",
       "      <td>SocietalEvent</td>\n",
       "      <td>Election</td>\n",
       "      <td>New_York_City_mayoral_election,_1993</td>\n",
       "      <td>63</td>\n",
       "    </tr>\n",
       "    <tr>\n",
       "      <th>3</th>\n",
       "      <td>Roland Göhler (born March 26, 1943) is a Germa...</td>\n",
       "      <td>Agent</td>\n",
       "      <td>Athlete</td>\n",
       "      <td>Rower</td>\n",
       "      <td>Roland_Göhler</td>\n",
       "      <td>47</td>\n",
       "    </tr>\n",
       "    <tr>\n",
       "      <th>4</th>\n",
       "      <td>Asbestos Records is an American independent re...</td>\n",
       "      <td>Agent</td>\n",
       "      <td>Company</td>\n",
       "      <td>RecordLabel</td>\n",
       "      <td>Asbestos_Records</td>\n",
       "      <td>265</td>\n",
       "    </tr>\n",
       "  </tbody>\n",
       "</table>\n",
       "</div>"
      ],
      "text/plain": [
       "                                                text     l1             l2  \\\n",
       "0  Frühstück is a Polish Christian rock band, and...  Agent          Group   \n",
       "1  Phyllis Pamela Green (28 March 1929 – 7 May 20...  Agent          Actor   \n",
       "2  The New York City mayoral election of 1993 occ...  Event  SocietalEvent   \n",
       "3  Roland Göhler (born March 26, 1943) is a Germa...  Agent        Athlete   \n",
       "4  Asbestos Records is an American independent re...  Agent        Company   \n",
       "\n",
       "            l3                             wiki_name  word_count  \n",
       "0         Band                             Frühstück          43  \n",
       "1   AdultActor                          Pamela_Green          48  \n",
       "2     Election  New_York_City_mayoral_election,_1993          63  \n",
       "3        Rower                         Roland_Göhler          47  \n",
       "4  RecordLabel                      Asbestos_Records         265  "
      ]
     },
     "execution_count": 6,
     "metadata": {},
     "output_type": "execute_result"
    }
   ],
   "source": [
    "dbpedia_df.head(5)"
   ]
  },
  {
   "cell_type": "markdown",
   "id": "designed-insured",
   "metadata": {},
   "source": [
    "### Data Cleaning\n",
    "Clean the data by dropping unnecessary column. The only column that will be focused on is the 'text' column."
   ]
  },
  {
   "cell_type": "code",
   "execution_count": 8,
   "id": "short-preservation",
   "metadata": {},
   "outputs": [],
   "source": [
    "dbpedia_df = dbpedia_df.drop(columns=['l2', 'l3', 'wiki_name', \n",
    "                              'word_count'], axis=1)"
   ]
  },
  {
   "cell_type": "markdown",
   "id": "applied-simpson",
   "metadata": {},
   "source": [
    "### Preprocessing (Punctuation mark)\n",
    "Remove all punctuation marks from the documents"
   ]
  },
  {
   "cell_type": "code",
   "execution_count": 10,
   "id": "reported-tract",
   "metadata": {},
   "outputs": [
    {
     "data": {
      "text/html": [
       "<div>\n",
       "<style scoped>\n",
       "    .dataframe tbody tr th:only-of-type {\n",
       "        vertical-align: middle;\n",
       "    }\n",
       "\n",
       "    .dataframe tbody tr th {\n",
       "        vertical-align: top;\n",
       "    }\n",
       "\n",
       "    .dataframe thead th {\n",
       "        text-align: right;\n",
       "    }\n",
       "</style>\n",
       "<table border=\"1\" class=\"dataframe\">\n",
       "  <thead>\n",
       "    <tr style=\"text-align: right;\">\n",
       "      <th></th>\n",
       "      <th>text</th>\n",
       "      <th>l1</th>\n",
       "      <th>body_text_clean</th>\n",
       "    </tr>\n",
       "  </thead>\n",
       "  <tbody>\n",
       "    <tr>\n",
       "      <th>0</th>\n",
       "      <td>Frühstück is a Polish Christian rock band, and...</td>\n",
       "      <td>Agent</td>\n",
       "      <td>Frühstück is a Polish Christian rock band and ...</td>\n",
       "    </tr>\n",
       "    <tr>\n",
       "      <th>1</th>\n",
       "      <td>Phyllis Pamela Green (28 March 1929 – 7 May 20...</td>\n",
       "      <td>Agent</td>\n",
       "      <td>Phyllis Pamela Green 28 March 1929 – 7 May 201...</td>\n",
       "    </tr>\n",
       "    <tr>\n",
       "      <th>2</th>\n",
       "      <td>The New York City mayoral election of 1993 occ...</td>\n",
       "      <td>Event</td>\n",
       "      <td>The New York City mayoral election of 1993 occ...</td>\n",
       "    </tr>\n",
       "    <tr>\n",
       "      <th>3</th>\n",
       "      <td>Roland Göhler (born March 26, 1943) is a Germa...</td>\n",
       "      <td>Agent</td>\n",
       "      <td>Roland Göhler born March 26 1943 is a German r...</td>\n",
       "    </tr>\n",
       "    <tr>\n",
       "      <th>4</th>\n",
       "      <td>Asbestos Records is an American independent re...</td>\n",
       "      <td>Agent</td>\n",
       "      <td>Asbestos Records is an American independent re...</td>\n",
       "    </tr>\n",
       "  </tbody>\n",
       "</table>\n",
       "</div>"
      ],
      "text/plain": [
       "                                                text     l1  \\\n",
       "0  Frühstück is a Polish Christian rock band, and...  Agent   \n",
       "1  Phyllis Pamela Green (28 March 1929 – 7 May 20...  Agent   \n",
       "2  The New York City mayoral election of 1993 occ...  Event   \n",
       "3  Roland Göhler (born March 26, 1943) is a Germa...  Agent   \n",
       "4  Asbestos Records is an American independent re...  Agent   \n",
       "\n",
       "                                     body_text_clean  \n",
       "0  Frühstück is a Polish Christian rock band and ...  \n",
       "1  Phyllis Pamela Green 28 March 1929 – 7 May 201...  \n",
       "2  The New York City mayoral election of 1993 occ...  \n",
       "3  Roland Göhler born March 26 1943 is a German r...  \n",
       "4  Asbestos Records is an American independent re...  "
      ]
     },
     "execution_count": 10,
     "metadata": {},
     "output_type": "execute_result"
    }
   ],
   "source": [
    "def remove_punct(text):\n",
    "    text_nopunct = \"\".join([char for char in text if char not in string.punctuation])\n",
    "    return text_nopunct\n",
    "\n",
    "dbpedia_df['body_text_clean'] = dbpedia_df['text'].apply(lambda x: remove_punct(x))\n",
    "\n",
    "dbpedia_df.head()"
   ]
  },
  {
   "cell_type": "markdown",
   "id": "smoking-hometown",
   "metadata": {},
   "source": [
    "### Preprocessing (Stop Words)\n",
    "Remove all stop words, example of stop words are He, is, and, but, the, we etc "
   ]
  },
  {
   "cell_type": "code",
   "execution_count": 11,
   "id": "quiet-routine",
   "metadata": {},
   "outputs": [],
   "source": [
    "#Stopword we are dealing is 'English' only\n",
    "stopword = nltk.corpus.stopwords.words('english')"
   ]
  },
  {
   "cell_type": "code",
   "execution_count": 12,
   "id": "young-letters",
   "metadata": {},
   "outputs": [
    {
     "data": {
      "text/html": [
       "<div>\n",
       "<style scoped>\n",
       "    .dataframe tbody tr th:only-of-type {\n",
       "        vertical-align: middle;\n",
       "    }\n",
       "\n",
       "    .dataframe tbody tr th {\n",
       "        vertical-align: top;\n",
       "    }\n",
       "\n",
       "    .dataframe thead th {\n",
       "        text-align: right;\n",
       "    }\n",
       "</style>\n",
       "<table border=\"1\" class=\"dataframe\">\n",
       "  <thead>\n",
       "    <tr style=\"text-align: right;\">\n",
       "      <th></th>\n",
       "      <th>text</th>\n",
       "      <th>l1</th>\n",
       "      <th>body_text_clean</th>\n",
       "      <th>body_text_nostop</th>\n",
       "    </tr>\n",
       "  </thead>\n",
       "  <tbody>\n",
       "    <tr>\n",
       "      <th>0</th>\n",
       "      <td>Frühstück is a Polish Christian rock band, and...</td>\n",
       "      <td>Agent</td>\n",
       "      <td>Frühstück is a Polish Christian rock band and ...</td>\n",
       "      <td>[F, r, ü, h, ü, c, k,  ,  ,  , P, l, h,  , C, ...</td>\n",
       "    </tr>\n",
       "    <tr>\n",
       "      <th>1</th>\n",
       "      <td>Phyllis Pamela Green (28 March 1929 – 7 May 20...</td>\n",
       "      <td>Agent</td>\n",
       "      <td>Phyllis Pamela Green 28 March 1929 – 7 May 201...</td>\n",
       "      <td>[P, h, l, l,  , P, e, l,  , G, r, e, e, n,  , ...</td>\n",
       "    </tr>\n",
       "    <tr>\n",
       "      <th>2</th>\n",
       "      <td>The New York City mayoral election of 1993 occ...</td>\n",
       "      <td>Event</td>\n",
       "      <td>The New York City mayoral election of 1993 occ...</td>\n",
       "      <td>[T, h, e,  , N, e, w,  , Y, r, k,  , C,  , r, ...</td>\n",
       "    </tr>\n",
       "    <tr>\n",
       "      <th>3</th>\n",
       "      <td>Roland Göhler (born March 26, 1943) is a Germa...</td>\n",
       "      <td>Agent</td>\n",
       "      <td>Roland Göhler born March 26 1943 is a German r...</td>\n",
       "      <td>[R, l, n,  , G, ö, h, l, e, r,  , b, r, n,  , ...</td>\n",
       "    </tr>\n",
       "    <tr>\n",
       "      <th>4</th>\n",
       "      <td>Asbestos Records is an American independent re...</td>\n",
       "      <td>Agent</td>\n",
       "      <td>Asbestos Records is an American independent re...</td>\n",
       "      <td>[A, b, e,  , R, e, c, r,  ,  , n,  , A, e, r, ...</td>\n",
       "    </tr>\n",
       "  </tbody>\n",
       "</table>\n",
       "</div>"
      ],
      "text/plain": [
       "                                                text     l1  \\\n",
       "0  Frühstück is a Polish Christian rock band, and...  Agent   \n",
       "1  Phyllis Pamela Green (28 March 1929 – 7 May 20...  Agent   \n",
       "2  The New York City mayoral election of 1993 occ...  Event   \n",
       "3  Roland Göhler (born March 26, 1943) is a Germa...  Agent   \n",
       "4  Asbestos Records is an American independent re...  Agent   \n",
       "\n",
       "                                     body_text_clean  \\\n",
       "0  Frühstück is a Polish Christian rock band and ...   \n",
       "1  Phyllis Pamela Green 28 March 1929 – 7 May 201...   \n",
       "2  The New York City mayoral election of 1993 occ...   \n",
       "3  Roland Göhler born March 26 1943 is a German r...   \n",
       "4  Asbestos Records is an American independent re...   \n",
       "\n",
       "                                    body_text_nostop  \n",
       "0  [F, r, ü, h, ü, c, k,  ,  ,  , P, l, h,  , C, ...  \n",
       "1  [P, h, l, l,  , P, e, l,  , G, r, e, e, n,  , ...  \n",
       "2  [T, h, e,  , N, e, w,  , Y, r, k,  , C,  , r, ...  \n",
       "3  [R, l, n,  , G, ö, h, l, e, r,  , b, r, n,  , ...  \n",
       "4  [A, b, e,  , R, e, c, r,  ,  , n,  , A, e, r, ...  "
      ]
     },
     "execution_count": 12,
     "metadata": {},
     "output_type": "execute_result"
    }
   ],
   "source": [
    "def remove_stopwords(tokenized_list):\n",
    "    text_l = [word for word in tokenized_list if word not in stopword]\n",
    "    return text_l\n",
    "\n",
    "dbpedia_df['body_text_nostop'] = dbpedia_df['body_text_clean'].apply(lambda x: remove_stopwords(x))\n",
    "\n",
    "dbpedia_df.head()"
   ]
  },
  {
   "cell_type": "markdown",
   "id": "exceptional-vinyl",
   "metadata": {},
   "source": [
    "### Preprocessing (Tokenize each words in the corpus)"
   ]
  },
  {
   "cell_type": "code",
   "execution_count": 13,
   "id": "moderate-elite",
   "metadata": {},
   "outputs": [
    {
     "data": {
      "text/html": [
       "<div>\n",
       "<style scoped>\n",
       "    .dataframe tbody tr th:only-of-type {\n",
       "        vertical-align: middle;\n",
       "    }\n",
       "\n",
       "    .dataframe tbody tr th {\n",
       "        vertical-align: top;\n",
       "    }\n",
       "\n",
       "    .dataframe thead th {\n",
       "        text-align: right;\n",
       "    }\n",
       "</style>\n",
       "<table border=\"1\" class=\"dataframe\">\n",
       "  <thead>\n",
       "    <tr style=\"text-align: right;\">\n",
       "      <th></th>\n",
       "      <th>text</th>\n",
       "      <th>l1</th>\n",
       "      <th>body_text_clean</th>\n",
       "      <th>body_text_nostop</th>\n",
       "      <th>body_text_tokenized</th>\n",
       "    </tr>\n",
       "  </thead>\n",
       "  <tbody>\n",
       "    <tr>\n",
       "      <th>0</th>\n",
       "      <td>Frühstück is a Polish Christian rock band, and...</td>\n",
       "      <td>Agent</td>\n",
       "      <td>Frühstück is a Polish Christian rock band and ...</td>\n",
       "      <td>[F, r, ü, h, ü, c, k,  ,  ,  , P, l, h,  , C, ...</td>\n",
       "      <td>[frühstück, is, a, polish, christian, rock, ba...</td>\n",
       "    </tr>\n",
       "    <tr>\n",
       "      <th>1</th>\n",
       "      <td>Phyllis Pamela Green (28 March 1929 – 7 May 20...</td>\n",
       "      <td>Agent</td>\n",
       "      <td>Phyllis Pamela Green 28 March 1929 – 7 May 201...</td>\n",
       "      <td>[P, h, l, l,  , P, e, l,  , G, r, e, e, n,  , ...</td>\n",
       "      <td>[phyllis, pamela, green, 28, march, 1929, 7, m...</td>\n",
       "    </tr>\n",
       "    <tr>\n",
       "      <th>2</th>\n",
       "      <td>The New York City mayoral election of 1993 occ...</td>\n",
       "      <td>Event</td>\n",
       "      <td>The New York City mayoral election of 1993 occ...</td>\n",
       "      <td>[T, h, e,  , N, e, w,  , Y, r, k,  , C,  , r, ...</td>\n",
       "      <td>[the, new, york, city, mayoral, election, of, ...</td>\n",
       "    </tr>\n",
       "    <tr>\n",
       "      <th>3</th>\n",
       "      <td>Roland Göhler (born March 26, 1943) is a Germa...</td>\n",
       "      <td>Agent</td>\n",
       "      <td>Roland Göhler born March 26 1943 is a German r...</td>\n",
       "      <td>[R, l, n,  , G, ö, h, l, e, r,  , b, r, n,  , ...</td>\n",
       "      <td>[roland, göhler, born, march, 26, 1943, is, a,...</td>\n",
       "    </tr>\n",
       "    <tr>\n",
       "      <th>4</th>\n",
       "      <td>Asbestos Records is an American independent re...</td>\n",
       "      <td>Agent</td>\n",
       "      <td>Asbestos Records is an American independent re...</td>\n",
       "      <td>[A, b, e,  , R, e, c, r,  ,  , n,  , A, e, r, ...</td>\n",
       "      <td>[asbestos, records, is, an, american, independ...</td>\n",
       "    </tr>\n",
       "  </tbody>\n",
       "</table>\n",
       "</div>"
      ],
      "text/plain": [
       "                                                text     l1  \\\n",
       "0  Frühstück is a Polish Christian rock band, and...  Agent   \n",
       "1  Phyllis Pamela Green (28 March 1929 – 7 May 20...  Agent   \n",
       "2  The New York City mayoral election of 1993 occ...  Event   \n",
       "3  Roland Göhler (born March 26, 1943) is a Germa...  Agent   \n",
       "4  Asbestos Records is an American independent re...  Agent   \n",
       "\n",
       "                                     body_text_clean  \\\n",
       "0  Frühstück is a Polish Christian rock band and ...   \n",
       "1  Phyllis Pamela Green 28 March 1929 – 7 May 201...   \n",
       "2  The New York City mayoral election of 1993 occ...   \n",
       "3  Roland Göhler born March 26 1943 is a German r...   \n",
       "4  Asbestos Records is an American independent re...   \n",
       "\n",
       "                                    body_text_nostop  \\\n",
       "0  [F, r, ü, h, ü, c, k,  ,  ,  , P, l, h,  , C, ...   \n",
       "1  [P, h, l, l,  , P, e, l,  , G, r, e, e, n,  , ...   \n",
       "2  [T, h, e,  , N, e, w,  , Y, r, k,  , C,  , r, ...   \n",
       "3  [R, l, n,  , G, ö, h, l, e, r,  , b, r, n,  , ...   \n",
       "4  [A, b, e,  , R, e, c, r,  ,  , n,  , A, e, r, ...   \n",
       "\n",
       "                                 body_text_tokenized  \n",
       "0  [frühstück, is, a, polish, christian, rock, ba...  \n",
       "1  [phyllis, pamela, green, 28, march, 1929, 7, m...  \n",
       "2  [the, new, york, city, mayoral, election, of, ...  \n",
       "3  [roland, göhler, born, march, 26, 1943, is, a,...  \n",
       "4  [asbestos, records, is, an, american, independ...  "
      ]
     },
     "execution_count": 13,
     "metadata": {},
     "output_type": "execute_result"
    }
   ],
   "source": [
    "def tokenize(text):\n",
    "    tokens = re.split('\\W+', text)\n",
    "    return tokens\n",
    "\n",
    "dbpedia_df['body_text_tokenized'] = dbpedia_df['text'].apply(lambda x: tokenize(x.lower()))\n",
    "\n",
    "dbpedia_df.head()"
   ]
  },
  {
   "cell_type": "markdown",
   "id": "metric-object",
   "metadata": {},
   "source": [
    "### Preprocessing (Lemmatize each word in the corpus)"
   ]
  },
  {
   "cell_type": "code",
   "execution_count": 14,
   "id": "dominant-topic",
   "metadata": {},
   "outputs": [
    {
     "data": {
      "text/html": [
       "<div>\n",
       "<style scoped>\n",
       "    .dataframe tbody tr th:only-of-type {\n",
       "        vertical-align: middle;\n",
       "    }\n",
       "\n",
       "    .dataframe tbody tr th {\n",
       "        vertical-align: top;\n",
       "    }\n",
       "\n",
       "    .dataframe thead th {\n",
       "        text-align: right;\n",
       "    }\n",
       "</style>\n",
       "<table border=\"1\" class=\"dataframe\">\n",
       "  <thead>\n",
       "    <tr style=\"text-align: right;\">\n",
       "      <th></th>\n",
       "      <th>text</th>\n",
       "      <th>l1</th>\n",
       "      <th>body_text_clean</th>\n",
       "      <th>body_text_nostop</th>\n",
       "      <th>body_text_tokenized</th>\n",
       "      <th>body_text_lemmatized</th>\n",
       "    </tr>\n",
       "  </thead>\n",
       "  <tbody>\n",
       "    <tr>\n",
       "      <th>0</th>\n",
       "      <td>Frühstück is a Polish Christian rock band, and...</td>\n",
       "      <td>Agent</td>\n",
       "      <td>Frühstück is a Polish Christian rock band and ...</td>\n",
       "      <td>[F, r, ü, h, ü, c, k,  ,  ,  , P, l, h,  , C, ...</td>\n",
       "      <td>[frühstück, is, a, polish, christian, rock, ba...</td>\n",
       "      <td>[F, r, ü, h, s, t, ü, c, k,  , i, s,  , a,  , ...</td>\n",
       "    </tr>\n",
       "    <tr>\n",
       "      <th>1</th>\n",
       "      <td>Phyllis Pamela Green (28 March 1929 – 7 May 20...</td>\n",
       "      <td>Agent</td>\n",
       "      <td>Phyllis Pamela Green 28 March 1929 – 7 May 201...</td>\n",
       "      <td>[P, h, l, l,  , P, e, l,  , G, r, e, e, n,  , ...</td>\n",
       "      <td>[phyllis, pamela, green, 28, march, 1929, 7, m...</td>\n",
       "      <td>[P, h, y, l, l, i, s,  , P, a, m, e, l, a,  , ...</td>\n",
       "    </tr>\n",
       "    <tr>\n",
       "      <th>2</th>\n",
       "      <td>The New York City mayoral election of 1993 occ...</td>\n",
       "      <td>Event</td>\n",
       "      <td>The New York City mayoral election of 1993 occ...</td>\n",
       "      <td>[T, h, e,  , N, e, w,  , Y, r, k,  , C,  , r, ...</td>\n",
       "      <td>[the, new, york, city, mayoral, election, of, ...</td>\n",
       "      <td>[T, h, e,  , N, e, w,  , Y, o, r, k,  , C, i, ...</td>\n",
       "    </tr>\n",
       "    <tr>\n",
       "      <th>3</th>\n",
       "      <td>Roland Göhler (born March 26, 1943) is a Germa...</td>\n",
       "      <td>Agent</td>\n",
       "      <td>Roland Göhler born March 26 1943 is a German r...</td>\n",
       "      <td>[R, l, n,  , G, ö, h, l, e, r,  , b, r, n,  , ...</td>\n",
       "      <td>[roland, göhler, born, march, 26, 1943, is, a,...</td>\n",
       "      <td>[R, o, l, a, n, d,  , G, ö, h, l, e, r,  , (, ...</td>\n",
       "    </tr>\n",
       "    <tr>\n",
       "      <th>4</th>\n",
       "      <td>Asbestos Records is an American independent re...</td>\n",
       "      <td>Agent</td>\n",
       "      <td>Asbestos Records is an American independent re...</td>\n",
       "      <td>[A, b, e,  , R, e, c, r,  ,  , n,  , A, e, r, ...</td>\n",
       "      <td>[asbestos, records, is, an, american, independ...</td>\n",
       "      <td>[A, s, b, e, s, t, o, s,  , R, e, c, o, r, d, ...</td>\n",
       "    </tr>\n",
       "  </tbody>\n",
       "</table>\n",
       "</div>"
      ],
      "text/plain": [
       "                                                text     l1  \\\n",
       "0  Frühstück is a Polish Christian rock band, and...  Agent   \n",
       "1  Phyllis Pamela Green (28 March 1929 – 7 May 20...  Agent   \n",
       "2  The New York City mayoral election of 1993 occ...  Event   \n",
       "3  Roland Göhler (born March 26, 1943) is a Germa...  Agent   \n",
       "4  Asbestos Records is an American independent re...  Agent   \n",
       "\n",
       "                                     body_text_clean  \\\n",
       "0  Frühstück is a Polish Christian rock band and ...   \n",
       "1  Phyllis Pamela Green 28 March 1929 – 7 May 201...   \n",
       "2  The New York City mayoral election of 1993 occ...   \n",
       "3  Roland Göhler born March 26 1943 is a German r...   \n",
       "4  Asbestos Records is an American independent re...   \n",
       "\n",
       "                                    body_text_nostop  \\\n",
       "0  [F, r, ü, h, ü, c, k,  ,  ,  , P, l, h,  , C, ...   \n",
       "1  [P, h, l, l,  , P, e, l,  , G, r, e, e, n,  , ...   \n",
       "2  [T, h, e,  , N, e, w,  , Y, r, k,  , C,  , r, ...   \n",
       "3  [R, l, n,  , G, ö, h, l, e, r,  , b, r, n,  , ...   \n",
       "4  [A, b, e,  , R, e, c, r,  ,  , n,  , A, e, r, ...   \n",
       "\n",
       "                                 body_text_tokenized  \\\n",
       "0  [frühstück, is, a, polish, christian, rock, ba...   \n",
       "1  [phyllis, pamela, green, 28, march, 1929, 7, m...   \n",
       "2  [the, new, york, city, mayoral, election, of, ...   \n",
       "3  [roland, göhler, born, march, 26, 1943, is, a,...   \n",
       "4  [asbestos, records, is, an, american, independ...   \n",
       "\n",
       "                                body_text_lemmatized  \n",
       "0  [F, r, ü, h, s, t, ü, c, k,  , i, s,  , a,  , ...  \n",
       "1  [P, h, y, l, l, i, s,  , P, a, m, e, l, a,  , ...  \n",
       "2  [T, h, e,  , N, e, w,  , Y, o, r, k,  , C, i, ...  \n",
       "3  [R, o, l, a, n, d,  , G, ö, h, l, e, r,  , (, ...  \n",
       "4  [A, s, b, e, s, t, o, s,  , R, e, c, o, r, d, ...  "
      ]
     },
     "execution_count": 14,
     "metadata": {},
     "output_type": "execute_result"
    }
   ],
   "source": [
    "wn = nltk.WordNetLemmatizer()\n",
    "def lemmatizing(tokenized_text):\n",
    "    text = [wn.lemmatize(word) for word in tokenized_text]\n",
    "    return text\n",
    "\n",
    "dbpedia_df['body_text_lemmatized'] = dbpedia_df['text'].apply(lambda x: lemmatizing(x))\n",
    "\n",
    "dbpedia_df.head()"
   ]
  },
  {
   "cell_type": "markdown",
   "id": "ruled-short",
   "metadata": {},
   "source": [
    "### Preprocessing (ASCII)\n",
    "Remove all numbers from the document"
   ]
  },
  {
   "cell_type": "code",
   "execution_count": 15,
   "id": "instrumental-manual",
   "metadata": {},
   "outputs": [
    {
     "data": {
      "text/html": [
       "<div>\n",
       "<style scoped>\n",
       "    .dataframe tbody tr th:only-of-type {\n",
       "        vertical-align: middle;\n",
       "    }\n",
       "\n",
       "    .dataframe tbody tr th {\n",
       "        vertical-align: top;\n",
       "    }\n",
       "\n",
       "    .dataframe thead th {\n",
       "        text-align: right;\n",
       "    }\n",
       "</style>\n",
       "<table border=\"1\" class=\"dataframe\">\n",
       "  <thead>\n",
       "    <tr style=\"text-align: right;\">\n",
       "      <th></th>\n",
       "      <th>text</th>\n",
       "      <th>l1</th>\n",
       "      <th>body_text_clean</th>\n",
       "      <th>body_text_nostop</th>\n",
       "      <th>body_text_tokenized</th>\n",
       "      <th>body_text_lemmatized</th>\n",
       "      <th>remove_number</th>\n",
       "    </tr>\n",
       "  </thead>\n",
       "  <tbody>\n",
       "    <tr>\n",
       "      <th>0</th>\n",
       "      <td>Frühstück is a Polish Christian rock band, and...</td>\n",
       "      <td>Agent</td>\n",
       "      <td>Frühstück is a Polish Christian rock band and ...</td>\n",
       "      <td>[F, r, ü, h, ü, c, k,  ,  ,  , P, l, h,  , C, ...</td>\n",
       "      <td>[frühstück, is, a, polish, christian, rock, ba...</td>\n",
       "      <td>[F, r, ü, h, s, t, ü, c, k,  , i, s,  , a,  , ...</td>\n",
       "      <td>frhstck is a polish christian rock band, and t...</td>\n",
       "    </tr>\n",
       "    <tr>\n",
       "      <th>1</th>\n",
       "      <td>Phyllis Pamela Green (28 March 1929 – 7 May 20...</td>\n",
       "      <td>Agent</td>\n",
       "      <td>Phyllis Pamela Green 28 March 1929 – 7 May 201...</td>\n",
       "      <td>[P, h, l, l,  , P, e, l,  , G, r, e, e, n,  , ...</td>\n",
       "      <td>[phyllis, pamela, green, 28, march, 1929, 7, m...</td>\n",
       "      <td>[P, h, y, l, l, i, s,  , P, a, m, e, l, a,  , ...</td>\n",
       "      <td>phyllis pamela green  march    may  was an eng...</td>\n",
       "    </tr>\n",
       "    <tr>\n",
       "      <th>2</th>\n",
       "      <td>The New York City mayoral election of 1993 occ...</td>\n",
       "      <td>Event</td>\n",
       "      <td>The New York City mayoral election of 1993 occ...</td>\n",
       "      <td>[T, h, e,  , N, e, w,  , Y, r, k,  , C,  , r, ...</td>\n",
       "      <td>[the, new, york, city, mayoral, election, of, ...</td>\n",
       "      <td>[T, h, e,  , N, e, w,  , Y, o, r, k,  , C, i, ...</td>\n",
       "      <td>the new york city mayoral election of  occurre...</td>\n",
       "    </tr>\n",
       "    <tr>\n",
       "      <th>3</th>\n",
       "      <td>Roland Göhler (born March 26, 1943) is a Germa...</td>\n",
       "      <td>Agent</td>\n",
       "      <td>Roland Göhler born March 26 1943 is a German r...</td>\n",
       "      <td>[R, l, n,  , G, ö, h, l, e, r,  , b, r, n,  , ...</td>\n",
       "      <td>[roland, göhler, born, march, 26, 1943, is, a,...</td>\n",
       "      <td>[R, o, l, a, n, d,  , G, ö, h, l, e, r,  , (, ...</td>\n",
       "      <td>roland ghler born march ,  is a german rower w...</td>\n",
       "    </tr>\n",
       "    <tr>\n",
       "      <th>4</th>\n",
       "      <td>Asbestos Records is an American independent re...</td>\n",
       "      <td>Agent</td>\n",
       "      <td>Asbestos Records is an American independent re...</td>\n",
       "      <td>[A, b, e,  , R, e, c, r,  ,  , n,  , A, e, r, ...</td>\n",
       "      <td>[asbestos, records, is, an, american, independ...</td>\n",
       "      <td>[A, s, b, e, s, t, o, s,  , R, e, c, o, r, d, ...</td>\n",
       "      <td>asbestos records is an american independent re...</td>\n",
       "    </tr>\n",
       "  </tbody>\n",
       "</table>\n",
       "</div>"
      ],
      "text/plain": [
       "                                                text     l1  \\\n",
       "0  Frühstück is a Polish Christian rock band, and...  Agent   \n",
       "1  Phyllis Pamela Green (28 March 1929 – 7 May 20...  Agent   \n",
       "2  The New York City mayoral election of 1993 occ...  Event   \n",
       "3  Roland Göhler (born March 26, 1943) is a Germa...  Agent   \n",
       "4  Asbestos Records is an American independent re...  Agent   \n",
       "\n",
       "                                     body_text_clean  \\\n",
       "0  Frühstück is a Polish Christian rock band and ...   \n",
       "1  Phyllis Pamela Green 28 March 1929 – 7 May 201...   \n",
       "2  The New York City mayoral election of 1993 occ...   \n",
       "3  Roland Göhler born March 26 1943 is a German r...   \n",
       "4  Asbestos Records is an American independent re...   \n",
       "\n",
       "                                    body_text_nostop  \\\n",
       "0  [F, r, ü, h, ü, c, k,  ,  ,  , P, l, h,  , C, ...   \n",
       "1  [P, h, l, l,  , P, e, l,  , G, r, e, e, n,  , ...   \n",
       "2  [T, h, e,  , N, e, w,  , Y, r, k,  , C,  , r, ...   \n",
       "3  [R, l, n,  , G, ö, h, l, e, r,  , b, r, n,  , ...   \n",
       "4  [A, b, e,  , R, e, c, r,  ,  , n,  , A, e, r, ...   \n",
       "\n",
       "                                 body_text_tokenized  \\\n",
       "0  [frühstück, is, a, polish, christian, rock, ba...   \n",
       "1  [phyllis, pamela, green, 28, march, 1929, 7, m...   \n",
       "2  [the, new, york, city, mayoral, election, of, ...   \n",
       "3  [roland, göhler, born, march, 26, 1943, is, a,...   \n",
       "4  [asbestos, records, is, an, american, independ...   \n",
       "\n",
       "                                body_text_lemmatized  \\\n",
       "0  [F, r, ü, h, s, t, ü, c, k,  , i, s,  , a,  , ...   \n",
       "1  [P, h, y, l, l, i, s,  , P, a, m, e, l, a,  , ...   \n",
       "2  [T, h, e,  , N, e, w,  , Y, o, r, k,  , C, i, ...   \n",
       "3  [R, o, l, a, n, d,  , G, ö, h, l, e, r,  , (, ...   \n",
       "4  [A, s, b, e, s, t, o, s,  , R, e, c, o, r, d, ...   \n",
       "\n",
       "                                       remove_number  \n",
       "0  frhstck is a polish christian rock band, and t...  \n",
       "1  phyllis pamela green  march    may  was an eng...  \n",
       "2  the new york city mayoral election of  occurre...  \n",
       "3  roland ghler born march ,  is a german rower w...  \n",
       "4  asbestos records is an american independent re...  "
      ]
     },
     "execution_count": 15,
     "metadata": {},
     "output_type": "execute_result"
    }
   ],
   "source": [
    "\n",
    "# function to remove numbers\n",
    "def remove_numbers(text):\n",
    "    # define the pattern to keep\n",
    "    pattern = r'[^a-zA-z.,!?/:;\\\"\\'\\s]' \n",
    "    return re.sub(pattern, '', text)\n",
    " \n",
    "# call function\n",
    "dbpedia_df['remove_number'] = dbpedia_df['text'].apply(lambda x: remove_numbers(x.lower()))\n",
    "\n",
    "dbpedia_df.head()"
   ]
  },
  {
   "cell_type": "markdown",
   "id": "identical-issue",
   "metadata": {},
   "source": [
    "### Breakdown sentence to words"
   ]
  },
  {
   "cell_type": "code",
   "execution_count": 17,
   "id": "bottom-endorsement",
   "metadata": {},
   "outputs": [
    {
     "name": "stdout",
     "output_type": "stream",
     "text": [
      "['fruhstuck', 'is', 'polish', 'christian', 'rock', 'band', 'and', 'they', 'primarily', 'play', 'hard', 'rock', 'they', 'come', 'from', 'wrocław', 'poland', 'the', 'band', 'started', 'making', 'music', 'in', 'and', 'their', 'frontman', 'is', 'martijn', 'krale', 'their']\n"
     ]
    }
   ],
   "source": [
    "def sent_to_words(sentences):\n",
    "    for sentence in sentences:\n",
    "        yield(gensim.utils.simple_preprocess(str(sentence), deacc=True))  # deacc=True removes punctuations\n",
    "data = dbpedia_df.body_text_tokenized.values.tolist()\n",
    "data_words = list(sent_to_words(data))\n",
    "print(data_words[:1][0][:30])"
   ]
  },
  {
   "cell_type": "markdown",
   "id": "anticipated-tamil",
   "metadata": {},
   "source": [
    "### Build the bigram and trigram models\n",
    "Just by the name bi means two words and tri means three words each from the document."
   ]
  },
  {
   "cell_type": "code",
   "execution_count": 18,
   "id": "selective-reflection",
   "metadata": {},
   "outputs": [],
   "source": [
    "bigram = gensim.models.Phrases(data_words, min_count=5, threshold=100) # higher threshold fewer phrases.\n",
    "trigram = gensim.models.Phrases(bigram[data_words], threshold=100)\n",
    "# Faster way to get a sentence clubbed as a trigram/bigram\n",
    "bigram_mod = gensim.models.phrases.Phraser(bigram)"
   ]
  },
  {
   "cell_type": "markdown",
   "id": "mature-blade",
   "metadata": {},
   "source": [
    "### Build a function that formats all bigrams to noun, adjective, verb and adverb."
   ]
  },
  {
   "cell_type": "code",
   "execution_count": 19,
   "id": "proof-interstate",
   "metadata": {},
   "outputs": [],
   "source": [
    "def make_bigrams(texts):\n",
    "    return [bigram_mod[doc] for doc in texts]\n",
    "def lemmatization(texts, allowed_postags=['NOUN', 'ADJ', 'VERB', 'ADV']):\n",
    "    \"\"\"https://spacy.io/api/annotation\"\"\"\n",
    "    texts_out = []\n",
    "    for sent in texts:\n",
    "        doc = nlp(\" \".join(sent)) \n",
    "        texts_out.append([token.lemma_ for token in doc if token.pos_ in allowed_postags])\n",
    "    return texts_out"
   ]
  },
  {
   "cell_type": "markdown",
   "id": "renewable-memphis",
   "metadata": {},
   "source": [
    "### Import spacy from sci-kit learn\n",
    "After importing spacy you need to install en_core_web_sm before it can work.\n",
    "- ! pip install https://github.com/explosion/spacy-models/releases/download/en_core_web_sm-3.0.0/en_core_web_sm-3.0.0.tar.gz#egg=en_core_web_sm\n",
    "Or\n",
    "- ! pip install https://github.com/explosion/spacy-models/releases/download/en_core_web_sm-3.0.0/en_core_web_sm-3.0.0.tar.gz"
   ]
  },
  {
   "cell_type": "code",
   "execution_count": 20,
   "id": "conventional-plumbing",
   "metadata": {},
   "outputs": [
    {
     "name": "stdout",
     "output_type": "stream",
     "text": [
      "[['fruhstuck', 'be', 'polish', 'christian', 'rock_band', 'primarily', 'play', 'hard_rock', 'come', 'wrocław', 'poland', 'band', 'start', 'make', 'music', 'frontman', 'be', 'martijn', 'krale', 'first', 'studio_album', 'quiet', 'be', 'release', 'youngside', 'record']]\n"
     ]
    }
   ],
   "source": [
    "data_words_bigrams = make_bigrams(data_words)\n",
    "nlp = spacy.load(\"en_core_web_sm\", disable=['parser', 'ner'])\n",
    "data_lemmatized = lemmatization(data_words_bigrams, allowed_postags=['NOUN', 'ADJ', 'VERB', 'ADV'])\n",
    "print(data_lemmatized[:1])"
   ]
  },
  {
   "cell_type": "markdown",
   "id": "apart-doctor",
   "metadata": {},
   "source": [
    "### Create a dictionary, corpus and document frequency"
   ]
  },
  {
   "cell_type": "code",
   "execution_count": 22,
   "id": "renewable-delivery",
   "metadata": {},
   "outputs": [
    {
     "name": "stdout",
     "output_type": "stream",
     "text": [
      "[[(0, 1), (1, 3), (2, 1), (3, 1), (4, 1), (5, 1), (6, 1), (7, 1), (8, 1), (9, 1), (10, 1), (11, 1), (12, 1), (13, 1), (14, 1), (15, 1), (16, 1), (17, 1), (18, 1), (19, 1), (20, 1), (21, 1), (22, 1), (23, 1)]]\n"
     ]
    }
   ],
   "source": [
    "# Create Dictionary\n",
    "id2word = corpora.Dictionary(data_lemmatized)\n",
    "# Create Corpus\n",
    "texts = data_lemmatized\n",
    "# Term Document Frequency\n",
    "corpus = [id2word.doc2bow(text) for text in texts]\n",
    "# View\n",
    "print(corpus[:1])"
   ]
  },
  {
   "cell_type": "markdown",
   "id": "polish-daisy",
   "metadata": {},
   "source": [
    "### Train the model with Latent Dirichlet Allocation (LDA) and pass the following parameter."
   ]
  },
  {
   "cell_type": "code",
   "execution_count": 23,
   "id": "modified-disco",
   "metadata": {},
   "outputs": [],
   "source": [
    "lda_model = gensim.models.LdaMulticore(corpus=corpus,\n",
    "                                       id2word=id2word,\n",
    "                                       num_topics=10, \n",
    "                                       random_state=100,\n",
    "                                       chunksize=100,\n",
    "                                       passes=10,\n",
    "                                       per_word_topics=True)"
   ]
  },
  {
   "cell_type": "markdown",
   "id": "confident-health",
   "metadata": {},
   "source": [
    "### Print the Keyword in the 10 topics"
   ]
  },
  {
   "cell_type": "code",
   "execution_count": 24,
   "id": "general-findings",
   "metadata": {},
   "outputs": [
    {
     "name": "stdout",
     "output_type": "stream",
     "text": [
      "[(0,\n",
      "  '0.068*\"be\" + 0.021*\"river\" + 0.016*\"lake\" + 0.011*\"mountain\" + '\n",
      "  '0.011*\"north\" + 0.011*\"south\" + 0.009*\"locate\" + 0.008*\"have\" + '\n",
      "  '0.008*\"west\" + 0.008*\"east\"'),\n",
      " (1,\n",
      "  '0.034*\"release\" + 0.031*\"album\" + 0.023*\"be\" + 0.022*\"single\" + '\n",
      "  '0.021*\"song\" + 0.019*\"band\" + 0.019*\"record\" + 0.012*\"music\" + '\n",
      "  '0.012*\"number\" + 0.009*\"chart\"'),\n",
      " (2,\n",
      "  '0.075*\"be\" + 0.013*\"have\" + 0.006*\"school\" + 0.005*\"also\" + 0.005*\"locate\" '\n",
      "  '+ 0.005*\"station\" + 0.005*\"service\" + 0.005*\"city\" + 0.004*\"include\" + '\n",
      "  '0.004*\"base\"'),\n",
      " (3,\n",
      "  '0.058*\"be\" + 0.019*\"play\" + 0.018*\"team\" + 0.015*\"season\" + 0.015*\"win\" + '\n",
      "  '0.014*\"league\" + 0.011*\"bear\" + 0.011*\"football\" + 0.011*\"first\" + '\n",
      "  '0.009*\"club\"'),\n",
      " (4,\n",
      "  '0.037*\"be\" + 0.027*\"bridge\" + 0.018*\"route\" + 0.013*\"road\" + 0.009*\"line\" + '\n",
      "  '0.009*\"canal\" + 0.008*\"game\" + 0.008*\"highway\" + 0.007*\"run\" + '\n",
      "  '0.006*\"build\"'),\n",
      " (5,\n",
      "  '0.092*\"be\" + 0.021*\"specie\" + 0.015*\"family\" + 0.012*\"railway\" + '\n",
      "  '0.011*\"line\" + 0.011*\"find\" + 0.010*\"genus\" + 0.009*\"have\" + 0.006*\"know\" + '\n",
      "  '0.006*\"white\"'),\n",
      " (6,\n",
      "  '0.017*\"be\" + 0.014*\"race\" + 0.009*\"stake\" + 0.005*\"run\" + 0.005*\"event\" + '\n",
      "  '0.004*\"oncaea\" + 0.004*\"mile\" + 0.004*\"campbell\" + 0.004*\"mexico\" + '\n",
      "  '0.003*\"american\"'),\n",
      " (7,\n",
      "  '0.043*\"church\" + 0.035*\"diocese\" + 0.015*\"roman_catholic\" + 0.009*\"bishop\" '\n",
      "  '+ 0.009*\"labor\" + 0.007*\"archdiocese\" + 0.006*\"norway\" + 0.006*\"parish\" + '\n",
      "  '0.005*\"chapel\" + 0.005*\"archbishop\"'),\n",
      " (8,\n",
      "  '0.069*\"be\" + 0.014*\"have\" + 0.008*\"also\" + 0.007*\"series\" + '\n",
      "  '0.007*\"magazine\" + 0.006*\"publish\" + 0.006*\"write\" + 0.006*\"first\" + '\n",
      "  '0.006*\"include\" + 0.006*\"know\"'),\n",
      " (9,\n",
      "  '0.072*\"be\" + 0.009*\"serve\" + 0.008*\"bear\" + 0.008*\"member\" + 0.007*\"party\" '\n",
      "  '+ 0.006*\"have\" + 0.005*\"university\" + 0.005*\"become\" + 0.005*\"first\" + '\n",
      "  '0.005*\"state\"')]\n"
     ]
    }
   ],
   "source": [
    "from pprint import pprint\n",
    "pprint(lda_model.print_topics())\n",
    "doc_lda = lda_model[corpus]"
   ]
  },
  {
   "cell_type": "markdown",
   "id": "aggregate-chemical",
   "metadata": {},
   "source": [
    "### Compute the perplexity and coherence score"
   ]
  },
  {
   "cell_type": "code",
   "execution_count": 25,
   "id": "composite-lighting",
   "metadata": {},
   "outputs": [
    {
     "name": "stdout",
     "output_type": "stream",
     "text": [
      "\n",
      "Perplexity:  -9.090857277397632\n",
      "\n",
      "Coherence Score:  0.4929251459808456\n"
     ]
    }
   ],
   "source": [
    "#Compute Perplexity score\n",
    "print('\\nPerplexity: ', lda_model.log_perplexity(corpus))  # a measure of how good the model is. lower the better.\n",
    "# Compute Coherence score\n",
    "coherence_model_lda = CoherenceModel(model=lda_model, texts=texts, dictionary=id2word, coherence='c_v')\n",
    "coherence_lda = coherence_model_lda.get_coherence()\n",
    "print('\\nCoherence Score: ', coherence_lda)"
   ]
  },
  {
   "cell_type": "markdown",
   "id": "located-certificate",
   "metadata": {},
   "source": [
    "### Build a function to get the optimal number of topics (K) in the document.\n",
    "To obtain the ideal number of issues We must create a set of LDA models with varying numbers of topics (k) and choose the one with the highest coherence value. Choosing a ‘k' that denotes the conclusion of a gradual increase in subject coherence typically yields relevant and interpretable topics."
   ]
  },
  {
   "cell_type": "code",
   "execution_count": 26,
   "id": "assisted-approval",
   "metadata": {},
   "outputs": [],
   "source": [
    "def compute_coherence_values(dictionary, corpus, texts, limit, start=2, step=3):\n",
    "    \"\"\"\n",
    "    Compute c_v coherence for various number of topics\n",
    "\n",
    "    Parameters:\n",
    "    ----------\n",
    "    dictionary : Gensim dictionary\n",
    "    corpus : Gensim corpus\n",
    "    texts : List of input texts\n",
    "    limit : Max num of topics\n",
    "\n",
    "    Returns:\n",
    "    -------\n",
    "    model_list : List of LDA topic models\n",
    "    coherence_values : Coherence values corresponding to the LDA model with respective number of topics\n",
    "    \"\"\"\n",
    "    coherence_values = []\n",
    "    model_list = []\n",
    "    for num_topics in range(start, limit, step):\n",
    "        model=LdaModel(corpus=corpus, id2word=dictionary, num_topics=num_topics)\n",
    "        model_list.append(model)\n",
    "        coherencemodel = CoherenceModel(model=model, texts=texts, dictionary=dictionary, coherence='c_v')\n",
    "        coherence_values.append(coherencemodel.get_coherence())\n",
    "\n",
    "    return model_list, coherence_values"
   ]
  },
  {
   "cell_type": "markdown",
   "id": "august-founder",
   "metadata": {},
   "source": [
    "### Plot a graph to investigate the number of (K)\n",
    "In this case, we can assume that our (K) number is between 8 and 9. This will become evident as we proceed."
   ]
  },
  {
   "cell_type": "code",
   "execution_count": 27,
   "id": "reported-festival",
   "metadata": {},
   "outputs": [
    {
     "data": {
      "image/png": "[encoded data removed]",
      "text/plain": [
       "<Figure size 432x288 with 1 Axes>"
      ]
     },
     "metadata": {
      "needs_background": "light"
     },
     "output_type": "display_data"
    }
   ],
   "source": [
    "dictionary=id2word\n",
    "model_list, coherence_values = compute_coherence_values(dictionary=dictionary, corpus=corpus, texts=texts, start=2, limit=30, step=6)\n",
    "# Show graph\n",
    "import matplotlib.pyplot as plt\n",
    "limit=30; start=2; step=6;\n",
    "x = range(start, limit, step)\n",
    "plt.plot(x, coherence_values, color='green', marker='o')\n",
    "plt.title(\"Determine the Number of topics\", fontsize='14')\n",
    "plt.xlabel(\"Num Topics\", fontsize='14')\n",
    "plt.ylabel(\"Coherence score\", fontsize='14')\n",
    "plt.legend((\"coherence_values\"), loc='best')\n",
    "plt.grid(True)\n",
    "plt.show()"
   ]
  },
  {
   "cell_type": "markdown",
   "id": "complex-desert",
   "metadata": {},
   "source": [
    "### Hyperparameter tunning\n",
    "This will generate a result and save a file that will justify our topic number (K)"
   ]
  },
  {
   "cell_type": "code",
   "execution_count": 28,
   "id": "dental-roots",
   "metadata": {},
   "outputs": [],
   "source": [
    "# supporting function\n",
    "def compute_coherence_values(corpus, dictionary, k, a, b):\n",
    "    \n",
    "    lda_model = gensim.models.LdaMulticore(corpus=corpus,\n",
    "                                           id2word=dictionary,\n",
    "                                           num_topics=k, \n",
    "                                           random_state=100,\n",
    "                                           chunksize=100,\n",
    "                                           passes=10,\n",
    "                                           alpha=a,\n",
    "                                           eta=b)\n",
    "    \n",
    "    coherence_model_lda = CoherenceModel(model=lda_model, texts=data_lemmatized, dictionary=id2word, coherence='c_v')\n",
    "    \n",
    "    return coherence_model_lda.get_coherence()"
   ]
  },
  {
   "cell_type": "markdown",
   "id": "ranking-protest",
   "metadata": {},
   "source": [
    "### Perform a grid search \n",
    "Because of the number of iterations on alpha, eta, k, and coherence, this will take about 7 hours to complete, depending on your processor speed."
   ]
  },
  {
   "cell_type": "code",
   "execution_count": 29,
   "id": "acute-motel",
   "metadata": {},
   "outputs": [
    {
     "name": "stderr",
     "output_type": "stream",
     "text": [
      "100%|██████████████████████████████████████████████████████████████████████████████| 540/540 [8:20:07<00:00, 55.57s/it]\n"
     ]
    }
   ],
   "source": [
    "grid = {}\n",
    "grid['Validation_Set'] = {}\n",
    "# Topics range\n",
    "min_topics = 2\n",
    "max_topics = 11\n",
    "step_size = 1\n",
    "topics_range = range(min_topics, max_topics, step_size)\n",
    "# Alpha parameter\n",
    "alpha = list(np.arange(0.01, 1, 0.3))\n",
    "alpha.append('symmetric')\n",
    "alpha.append('asymmetric')\n",
    "# Beta parameter\n",
    "beta = list(np.arange(0.01, 1, 0.3))\n",
    "beta.append('symmetric')\n",
    "# Validation sets\n",
    "num_of_docs = len(corpus)\n",
    "corpus_sets = [#gensim.utils.ClippedCorpus(corpus, int(num_of_docs*0.25)), \n",
    "               #gensim.utils.ClippedCorpus(corpus, int(num_of_docs*0.5)), \n",
    "                gensim.utils.ClippedCorpus(corpus, int(num_of_docs*0.75)), \n",
    "               corpus]\n",
    "corpus_title = ['75% Corpus', '100% Corpus']\n",
    "model_results = {'Validation_Set': [],\n",
    "                 'Topics': [],\n",
    "                 'Alpha': [],\n",
    "                 'Beta': [],\n",
    "                 'Coherence': []\n",
    "                }\n",
    "# Can take a long time to run\n",
    "if 1 == 1:\n",
    "    pbar = tqdm.tqdm(total=540)\n",
    "    \n",
    "    # iterate through validation corpuses\n",
    "    for i in range(len(corpus_sets)):\n",
    "        # iterate through number of topics\n",
    "        for k in topics_range:\n",
    "            # iterate through alpha values\n",
    "            for a in alpha:\n",
    "                # iterare through beta values\n",
    "                for b in beta:\n",
    "                    # get the coherence score for the given parameters\n",
    "                    cv = compute_coherence_values(corpus=corpus_sets[i], dictionary=id2word, \n",
    "                                                  k=k, a=a, b=b)\n",
    "                    # Save the model results\n",
    "                    model_results['Validation_Set'].append(corpus_title[i])\n",
    "                    model_results['Topics'].append(k)\n",
    "                    model_results['Alpha'].append(a)\n",
    "                    model_results['Beta'].append(b)\n",
    "                    model_results['Coherence'].append(cv)\n",
    "                    \n",
    "                    pbar.update(1)\n",
    "    pd.DataFrame(model_results).to_csv('LDAdbpedia_result.csv', index=False)\n",
    "    pbar.close()"
   ]
  },
  {
   "cell_type": "markdown",
   "id": "organic-implement",
   "metadata": {},
   "source": [
    "### Evaluate the CSV file results and use the appropriate parameters."
   ]
  },
  {
   "cell_type": "code",
   "execution_count": 30,
   "id": "dominican-lexington",
   "metadata": {},
   "outputs": [],
   "source": [
    "lda_model = gensim.models.LdaMulticore(corpus=corpus,\n",
    "                                           id2word=id2word,\n",
    "                                           num_topics=8, \n",
    "                                           random_state=100,\n",
    "                                           chunksize=100,\n",
    "                                           passes=10,\n",
    "                                           alpha=0.31,\n",
    "                                           eta=0.91)"
   ]
  },
  {
   "cell_type": "code",
   "execution_count": 42,
   "id": "bound-peace",
   "metadata": {},
   "outputs": [
    {
     "name": "stderr",
     "output_type": "stream",
     "text": [
      "C:\\Users\\danla\\anaconda3\\lib\\site-packages\\ipykernel\\ipkernel.py:283: DeprecationWarning: `should_run_async` will not call `transform_cell` automatically in the future. Please pass the result to `transformed_cell` argument and any exception that happen during thetransform in `preprocessing_exc_tuple` in IPython 7.17 and above.\n",
      "  and should_run_async(code)\n"
     ]
    },
    {
     "name": "stdout",
     "output_type": "stream",
     "text": [
      "\n",
      "Perplexity:  -8.68242854586701\n",
      "\n",
      "Coherence Score:  0.5655054581264419\n"
     ]
    }
   ],
   "source": [
    "#Compute Perplexity score\n",
    "print('\\nPerplexity: ', lda_model.log_perplexity(corpus))  # a measure of how good the model is. lower the better.\n",
    "# Compute Coherence score\n",
    "coherence_model_lda = CoherenceModel(model=lda_model, texts=texts, dictionary=id2word, coherence='c_v')\n",
    "coherence_lda = coherence_model_lda.get_coherence()\n",
    "print('\\nCoherence Score: ', coherence_lda)"
   ]
  },
  {
   "cell_type": "code",
   "execution_count": 35,
   "id": "american-aggregate",
   "metadata": {},
   "outputs": [
    {
     "name": "stderr",
     "output_type": "stream",
     "text": [
      "C:\\Users\\danla\\anaconda3\\lib\\site-packages\\ipykernel\\ipkernel.py:283: DeprecationWarning: `should_run_async` will not call `transform_cell` automatically in the future. Please pass the result to `transformed_cell` argument and any exception that happen during thetransform in `preprocessing_exc_tuple` in IPython 7.17 and above.\n",
      "  and should_run_async(code)\n"
     ]
    }
   ],
   "source": [
    "from pyLDAvis import gensim"
   ]
  },
  {
   "cell_type": "markdown",
   "id": "dynamic-indie",
   "metadata": {},
   "source": [
    "### Visualize the topics"
   ]
  },
  {
   "cell_type": "code",
   "execution_count": 64,
   "id": "heated-bangladesh",
   "metadata": {},
   "outputs": [
    {
     "data": {
      "text/html": [
       "\n",
       "<link rel=\"stylesheet\" type=\"text/css\" href=\"/nbextensions/ldavis.v1.0.0.css\">\n",
       "\n",
       "\n",
       "<div id=\"ldavis_el1392026308141457761715092294\"></div>\n",
       "<script type=\"text/javascript\">\n",
       "\n",
       "var ldavis_el1392026308141457761715092294_data = {\"mdsDat\": {\"x\": [-0.20832333055836189, -0.18141281002267837, -0.002888928941126356, 0.04939949783628974, 0.08171906879274225, 0.08785125381838783, 0.08709917285406704, 0.08655607622067969], \"y\": [-0.0946410470421259, 0.10699139850301294, 0.01605907715608418, -0.05965559927732359, 0.005915404894627883, 0.00451452553844814, 0.00965227732415447, 0.011163962903122037], \"topics\": [1, 2, 3, 4, 5, 6, 7, 8], \"cluster\": [1, 1, 1, 1, 1, 1, 1, 1], \"Freq\": [52.07801514448549, 28.29884768434488, 8.917262237473537, 5.523105738609736, 2.045886795907922, 1.5661513215429974, 0.9473923098747262, 0.6233387677607057]}, \"tinfo\": {\"Term\": [\"team\", \"play\", \"season\", \"win\", \"league\", \"be\", \"football\", \"release\", \"bear\", \"river\", \"championship\", \"club\", \"game\", \"player\", \"album\", \"locate\", \"north\", \"record\", \"music\", \"bridge\", \"lake\", \"single\", \"south\", \"first\", \"cup\", \"song\", \"world\", \"race\", \"specie\", \"final\", \"station\", \"service\", \"airport\", \"economic\", \"government\", \"operate\", \"church\", \"hospital\", \"public\", \"museum\", \"house\", \"council\", \"party\", \"building\", \"army\", \"research\", \"science\", \"newspaper\", \"prison\", \"political\", \"election\", \"journal\", \"education\", \"editor\", \"minister\", \"professor\", \"library\", \"network\", \"satellite\", \"military\", \"elect\", \"president\", \"law\", \"company\", \"railway\", \"channel\", \"air\", \"provide\", \"student\", \"line\", \"family\", \"large\", \"school\", \"be\", \"serve\", \"locate\", \"build\", \"other\", \"own\", \"have\", \"state\", \"city\", \"specie\", \"know\", \"new\", \"name\", \"also\", \"member\", \"work\", \"include\", \"use\", \"university\", \"most\", \"county\", \"first\", \"year\", \"part\", \"become\", \"well\", \"bear\", \"american\", \"time\", \"team\", \"league\", \"season\", \"football\", \"championship\", \"cup\", \"race\", \"match\", \"coach\", \"tournament\", \"basketball\", \"player\", \"finish\", \"score\", \"rugby\", \"hockey\", \"stadium\", \"baseball\", \"olympic\", \"summer_olympic\", \"winner\", \"club\", \"cricket\", \"rugby_union\", \"champion\", \"all_ireland\", \"trophy\", \"playoff\", \"head_coach\", \"soccer\", \"play\", \"competition\", \"compete\", \"win\", \"final\", \"professional\", \"career\", \"round\", \"game\", \"bear\", \"world\", \"event\", \"be\", \"first\", \"national\", \"year\", \"time\", \"have\", \"former\", \"american\", \"also\", \"second\", \"record\", \"album\", \"song\", \"studio_album\", \"chart\", \"label\", \"musical\", \"manga\", \"recording\", \"billboard\", \"lyric\", \"record_label\", \"pop\", \"discography\", \"cartoon\", \"musician\", \"anime\", \"guitar\", \"vocal\", \"ria\", \"genre\", \"soundtrack\", \"comic_book\", \"singer\", \"platinum\", \"playstation\", \"release\", \"ep\", \"vocalist\", \"fantasy\", \"compilation\", \"band\", \"film\", \"version\", \"music\", \"character\", \"episode\", \"love\", \"video\", \"artist\", \"single\", \"series\", \"feature\", \"record\", \"production\", \"japanese\", \"number\", \"write\", \"rock\", \"game\", \"be\", \"produce\", \"perform\", \"have\", \"first\", \"also\", \"include\", \"title\", \"american\", \"dam\", \"glaci\", \"tributary\", \"flow\", \"summit\", \"reservoir\", \"tepui\", \"mountain_range\", \"lake\", \"spider\", \"volcano\", \"whangamarino\", \"aiguille\", \"waikere\", \"cascade\", \"catchment\", \"sloan\", \"cave\", \"massif\", \"gmina\", \"administrative_district\", \"drain\", \"highest_point\", \"mountain_pass\", \"traverse\", \"lies_approximately\", \"glacier\", \"kyrgyz\", \"downstream\", \"voivodeship\", \"bridge\", \"river\", \"mountain\", \"flood\", \"givor\", \"alp\", \"slope\", \"waikato\", \"mount\", \"lie\", \"peak\", \"creek\", \"water\", \"elevation\", \"range\", \"border\", \"village\", \"kilometres_mi\", \"north\", \"km\", \"south\", \"canal\", \"east\", \"valley\", \"be\", \"west\", \"locate\", \"foot\", \"county\", \"area\", \"specie\", \"road\", \"high\", \"ngc\", \"pope\", \"baronet\", \"amphiaraus\", \"agron\", \"byssa\", \"meropis\", \"lenticular\", \"julich\", \"athena\", \"archbishop\", \"soest\", \"herme\", \"artemis\", \"eumelus\", \"galaxy\", \"prelate\", \"alcmaeon\", \"sagredo\", \"oldenburg\", \"baronetcy\", \"diaconate\", \"gerard\", \"countess\", \"odo\", \"sophocle\", \"alberic\", \"baarn\", \"beatify\", \"fredius\", \"byzantine\", \"emperor\", \"bishop\", \"enoksen\", \"gracie\", \"count\", \"heir\", \"son\", \"daughter\", \"duke\", \"constellation\", \"noble\", \"marry\", \"king\", \"cardinal\", \"adolf\", \"sir\", \"father\", \"succeed\", \"hungary\", \"ii\", \"die\", \"wife\", \"brother\", \"death\", \"henry\", \"william\", \"greek\", \"hungarian\", \"persian\", \"salamand\", \"also_romanize\", \"shah\", \"luengo\", \"sule\", \"costa\", \"rural_district\", \"tawaramoto\", \"theonistus\", \"messaoud\", \"inca\", \"callitris\", \"hassi\", \"anselmo\", \"dionysius\", \"anibal\", \"daegu\", \"abbas\", \"sultan\", \"discal\", \"suffuse\", \"hindwings_are\", \"ochreous\", \"\\u0645\\u062d\\u0645\\u062f\", \"collor\", \"kintetsu\", \"bessarabian\", \"costal\", \"albarracin\", \"forewing\", \"ye\", \"dong\", \"lara\", \"khan\", \"muhammad\", \"wingspan\", \"iranian\", \"martyr\", \"bhutto\", \"moth\", \"radical\", \"islamic\", \"census\", \"arabic\", \"whitish\", \"grey\", \"iran\", \"politician\", \"village\", \"population\", \"pakistan\", \"oncaea\", \"uromunna\", \"ecclesiastical_province\", \"pyrgus\", \"potamonaute\", \"thermocyclop\", \"fulgurator\", \"overhaul_base\", \"repair_depot\", \"frogmouth\", \"podargus\", \"bousfield\", \"suffragan\", \"polanski\", \"chlorodiella\", \"sis\", \"oliva\", \"ardistomis\", \"base_repair\", \"chakeri\", \"bottger\", \"uroptychode\", \"giesbrecht\", \"gniezno\", \"w\\u0142oc\\u0142awek\", \"gaimard\", \"quoy\", \"schnack\", \"kiefer_thermocyclop\", \"latin_dioecesis\", \"archdiocese\", \"diocese\", \"roman_catholic\", \"heron\", \"kanpur\", \"genus\", \"specie\", \"contain\", \"latin\", \"olive\", \"cg_samuel\", \"jacobite_syrian\", \"konni\", \"meenangadi\", \"philexinose\", \"thirumeni\", \"lompoc\", \"catholicose\", \"ghevarghese\", \"ignatius\", \"iwa\", \"kkn\", \"malankara\", \"simhasana\", \"trikkunnath\", \"zakka\", \"malabar\", \"changanassery\", \"afroth\", \"aluva\", \"ankamali\", \"annammah\", \"aprem\", \"baelius\", \"bahya\", \"baselius\", \"berchmann\", \"catholiose\", \"charuvilayil\", \"chingavanam\", \"dionysius\", \"ordain\", \"malayalam\", \"mar\", \"dec\", \"feb\", \"orthodox_church\", \"seminary\", \"federal_correctional\", \"male_inmate\", \"jan\", \"diocese\"], \"Freq\": [1958.0, 2234.0, 1619.0, 1771.0, 1495.0, 30777.0, 1210.0, 582.0, 2060.0, 456.0, 976.0, 975.0, 961.0, 797.0, 379.0, 878.0, 625.0, 807.0, 384.0, 300.0, 282.0, 548.0, 625.0, 2491.0, 636.0, 310.0, 1323.0, 549.0, 605.0, 628.0, 755.449161010868, 623.046442102771, 364.0838779875518, 355.00545584935054, 367.4062605518562, 481.50374636395026, 415.2310053851604, 305.2213173866763, 351.15015942479704, 300.1532839265032, 529.8341164193348, 288.7668895974776, 556.641349402314, 245.76383159584427, 303.2583619872642, 224.45788943405788, 242.34418531115918, 205.06483697073273, 200.91575844691113, 195.32149629487566, 412.877533865234, 181.9454424238658, 195.01604254916188, 194.40542730553264, 205.79993151096184, 194.8740649156372, 167.92317387429304, 273.9398984697243, 155.53866198654413, 202.12898865069042, 355.038918222259, 413.3485277232126, 247.06634350201242, 460.5054498063651, 458.91200521696254, 310.7874506881228, 352.03088469602994, 269.0366014403706, 321.10438246465856, 672.5541689446902, 667.0880391867338, 520.0797981855532, 828.8707945703806, 22110.067969962685, 979.4584866054689, 796.4963871531734, 434.26046505639215, 809.625765616908, 491.38767649628994, 3074.4503453724305, 994.910577508356, 845.493118719718, 545.8943749905402, 894.195995125045, 814.8336944450427, 918.1538851362866, 1446.1984586935414, 834.9971121047575, 605.3798069770872, 888.0758878563826, 554.9369967734464, 834.0363474677579, 594.9337382046657, 623.7248223046373, 1107.246685839934, 940.7466126195936, 636.9393179396346, 684.3677747584076, 586.6434353166026, 598.1311848351854, 572.3656325983677, 558.4325361582594, 1956.3151146060175, 1492.943653356663, 1616.5238805933798, 1208.5916622739655, 974.1946451193166, 634.0569371778575, 546.9691846804967, 495.7954578399978, 449.17226328408293, 369.9483216011307, 372.53526341412413, 792.268240030201, 438.20979959118563, 306.75393052931327, 258.83948834408903, 242.1431530836414, 251.31103507256498, 224.3898281768121, 205.0101760074373, 172.05017110775142, 191.42484075414384, 962.2741474655638, 170.02006097674294, 140.63992936247172, 376.4329462331946, 109.45640233823403, 102.27608052807716, 98.3769287580079, 98.12115262801696, 101.27604250893211, 2149.643676153207, 378.08511909304303, 426.55462624891584, 1658.5449310728613, 593.0264757894747, 550.0675199479587, 529.1027306960718, 297.0712209166943, 776.9512100562331, 1458.1482537360641, 867.6518673857921, 495.8477048539005, 7413.702630831387, 1237.2634418957962, 699.8710634011818, 861.8639622423135, 632.1669530617195, 1070.697897102342, 500.3074797875867, 587.850090976652, 680.1436867095679, 513.0955319609456, 482.25522335250486, 377.07298892927076, 306.42942134135467, 105.04709399312729, 110.71305483966155, 108.41628543911614, 105.29115779962679, 61.05402677967608, 58.018992199928704, 42.713349188014135, 50.68143385147507, 38.09076455460281, 59.86782338613114, 32.87717683037218, 41.196632558533906, 47.20166057137887, 32.59221366463345, 29.675780033246657, 43.28314103356614, 31.481941650121186, 42.11729192846113, 24.16663915854195, 27.2348292102856, 61.59043796749615, 22.41050630593988, 21.17873407672041, 523.5001886866406, 20.288609267032747, 19.16976299287727, 24.338363611250497, 23.885227359509354, 228.7700170144905, 185.1977156032793, 91.88967285813445, 297.73424946840356, 126.81921437636942, 43.14340390185013, 77.54769969165817, 60.142093357005685, 113.93566288205439, 260.7761159953163, 180.0339689885414, 149.29348890403668, 216.1636941814102, 64.64822881686383, 82.20335222483523, 132.7647308034069, 114.54664182417453, 86.8482959252498, 181.20448444250204, 874.5961765010089, 90.19747086140218, 69.47874432894021, 177.26290838742145, 145.85530305070534, 116.63634043046194, 103.14339254933572, 83.69456969733163, 86.005725964322, 119.803013633095, 42.88379462511083, 37.058821626289834, 47.009763410407544, 55.21032812393978, 41.85183557891667, 25.869540222130198, 24.501639108919946, 255.66353969186144, 32.96704717254833, 25.57590715100677, 20.556651165126112, 17.23153911756737, 17.177281864421555, 20.56792336177917, 15.277140905257074, 19.834895454734927, 27.03587260828529, 13.946066691955963, 12.934491163424948, 12.259012672821223, 15.230231210438298, 14.74545992315134, 11.747435292170282, 13.771394135106918, 10.716516488217525, 10.452748248817796, 11.366260121880904, 9.85890359139071, 9.215040135238993, 231.16277810572615, 347.1212966195282, 167.97653497539542, 28.828221613031584, 19.153449615481993, 21.790502440152544, 28.685506963775566, 23.3547071437101, 58.87497175224518, 45.65448855218692, 79.10941902163265, 39.005814166181395, 68.37125987709852, 32.4857946935137, 83.80779611306538, 45.0399707752064, 64.35141904606103, 41.753673129492874, 125.10862874295486, 55.66397447228139, 111.67002398538942, 54.56263107487238, 92.19152869508474, 50.823806745650636, 374.4762349626004, 70.02514043555554, 78.8970856276586, 40.3345580044054, 66.01098316268614, 56.24152006412352, 55.21898324933004, 50.09668323032293, 50.74791361616558, 10.69150518814722, 12.297733206991264, 5.56880479798087, 5.327594011512111, 4.43740297562554, 4.43740297562554, 4.43740297562554, 4.197451148814733, 3.4698707722878748, 4.971926247784558, 11.177633677923147, 4.262604553489923, 5.525643900889945, 3.347852502697548, 3.347852502697548, 14.859285933487069, 3.3480559310606313, 2.961380769510698, 3.2855427897433427, 2.5893058086791254, 2.933073371946488, 2.679786044558182, 6.3513879702792995, 2.46198781763327, 2.4350879147222804, 2.693321744477128, 2.693414489154125, 3.185483302400191, 2.4221926374278557, 2.1508764265137716, 4.0164992877809835, 9.529124849774146, 34.36132806135833, 3.8759295713300803, 3.795745788498546, 13.864352611324431, 3.976834344781564, 32.81597858132327, 17.200886316846404, 12.141714057131669, 5.608349908399567, 4.85297518996848, 12.358036979948999, 15.8061757190646, 7.82559277538321, 4.836447622113464, 8.999936997698745, 11.457888358896621, 8.861667420993392, 5.738956299201753, 8.571183199476302, 12.550160897063966, 8.22951324454186, 8.002773497926011, 8.637304234301817, 7.240849247276079, 7.164723268300755, 5.979051638085282, 5.397163641445134, 20.993664205007146, 5.616821393081333, 3.8953984357140086, 3.9325405362664156, 4.056338749288263, 4.056338749288263, 5.217284953943312, 2.6611641877155323, 3.4246953545418983, 2.8841848772031127, 2.895418361790524, 2.911844390804957, 2.6785190850919767, 2.737285526748642, 2.7137801036185367, 6.602466627732654, 2.814968529148515, 2.41849389500745, 2.089564497286252, 2.874450984944673, 1.8701084980619906, 1.8613331364314099, 1.874022955876765, 1.7069877332973147, 2.0150365437653273, 2.0210041522129267, 2.582296891886625, 1.7095754913419245, 1.6637615724387942, 1.715650076202003, 1.9895643476191476, 2.664090315311295, 2.9855133745440394, 2.797909979779939, 5.0599689298146835, 2.7390910798568213, 4.04182730967406, 4.338671061892765, 3.9928128872160755, 2.2577091710035924, 5.597731527803402, 6.636584275771025, 3.9750773240945847, 4.776380090670794, 5.4435651968668335, 3.115627178335978, 4.413451831299921, 3.8221167093346056, 4.862405605340358, 3.8367857983987763, 3.292969351671011, 3.106616166482273, 7.532317836114745, 3.878557261194631, 3.556113554855608, 3.0102893477386687, 2.802260603443255, 2.5220434482540934, 2.353079925025328, 2.833853302797023, 2.833853302797023, 2.40949856879492, 2.3211552760443652, 1.9137992538072386, 2.6565282376075703, 1.8423240860313819, 1.4376121970859483, 1.6693856404649625, 1.7831526527858195, 1.3880286752570978, 1.7116286395693245, 1.7116286395693245, 1.2665614450451474, 1.2564929709173942, 1.1368218905651044, 1.194867801914055, 1.194867801914055, 1.1889332470174618, 1.1889332470174618, 1.0707932386318448, 1.0114181165760017, 1.0796998890644167, 4.308233323830076, 11.654527452797895, 5.645089505168989, 1.6496640445958357, 1.3779957552936186, 2.122101632254799, 2.2383881721514354, 1.8236191066631582, 1.3461607393576367, 1.274709080526849, 4.775617000885626, 3.587887611621344, 2.99422929953925, 2.99422929953925, 2.99422929953925, 1.8079384666089817, 3.7640010124955054, 1.2161529012680976, 1.2161529012680976, 1.2161529012680976, 1.2161529012680976, 1.2161529012680976, 1.2161529012680976, 1.2161529012680976, 1.2161529012680976, 1.2161529012680976, 3.5740204095377353, 0.6692380505158074, 0.6277659252663205, 0.6277659252663205, 0.6277659252663205, 0.6277659252663205, 0.6277659252663205, 0.6277659252663205, 0.6277659252663205, 0.6277659252663205, 0.6277659252663205, 0.6277659252663205, 0.6277659252663205, 0.6277659252663205, 2.3859267900527135, 2.9945850033622654, 1.5471339968302587, 6.013828348943486, 1.065429910376485, 1.1229166328390288, 0.9760294277954813, 1.1988514192190094, 0.7342045553820782, 0.7647655150513296, 0.7156739603071808, 0.7311709067968544], \"Total\": [1958.0, 2234.0, 1619.0, 1771.0, 1495.0, 30777.0, 1210.0, 582.0, 2060.0, 456.0, 976.0, 975.0, 961.0, 797.0, 379.0, 878.0, 625.0, 807.0, 384.0, 300.0, 282.0, 548.0, 625.0, 2491.0, 636.0, 310.0, 1323.0, 549.0, 605.0, 628.0, 757.798874452545, 625.4867647982658, 366.1805025955905, 357.052013610099, 369.5547497682063, 484.3570651908337, 417.9517569372548, 307.32698070661706, 353.6611654773508, 302.4736381647146, 533.9533666040555, 291.1754846355407, 561.4563989254452, 247.93038506249482, 306.2035318332468, 226.69845579566496, 244.7829274870772, 207.2636338378102, 203.0897062245506, 197.47809256210334, 417.499974425893, 184.04538227531407, 197.2843632094675, 196.68308438361169, 208.26360651050408, 197.26000104076422, 169.98278688068882, 277.4132065302892, 157.5547619562541, 204.77617053558944, 361.2626110578678, 421.6000549537223, 250.70987132086606, 470.820708752094, 471.7899786777356, 318.443033220161, 362.10397330063813, 274.52357663557365, 330.60948424817593, 714.7911711975553, 712.7059804768772, 548.5731460386826, 904.4564473749939, 30777.144824443378, 1085.9761654340057, 878.2800147371911, 458.83280319225355, 926.9860566688269, 530.5420424149996, 4350.543244972253, 1193.5594792132981, 993.6207687202402, 605.030034368682, 1129.8916646482683, 1010.3282156590467, 1199.6324420607907, 2263.092347911069, 1099.630057643653, 721.329883309937, 1238.7325935046713, 655.6008450839611, 1245.3825462300297, 740.3408677112382, 808.1993104975306, 2491.7501737731245, 1833.9050661636518, 881.9468175187279, 1033.2456393929344, 824.3649730644236, 2060.358549214031, 1247.1391632846535, 1232.0204418971393, 1958.9103975206845, 1495.2444467609705, 1619.3635280594165, 1210.7686854491287, 976.3035406935772, 636.5635719212557, 549.3424218650176, 498.12004877579017, 451.6403253179042, 372.0734515770153, 374.7879691851655, 797.6256719660411, 441.2412467041229, 309.0315240311949, 261.0732859320116, 244.27628111663134, 253.7148904742028, 226.6510495798865, 207.2404473710722, 174.17261757060896, 193.860499049983, 975.0851560774234, 172.28362846337563, 142.74954312319542, 382.4959671991037, 111.54364840840772, 104.4051273769777, 100.46305178890171, 100.20862096480822, 103.4396953074687, 2234.956991087626, 390.42523959134803, 442.5308223405269, 1771.2805140175903, 628.6296130765423, 606.4735450444896, 615.2570092723956, 322.46169024016405, 961.8489340446015, 2060.358549214031, 1323.1064239754119, 660.5547660519563, 30777.144824443378, 2491.7501737731245, 1225.8967774334412, 1833.9050661636518, 1232.0204418971393, 4350.543244972253, 791.8326675108088, 1247.1391632846535, 2263.092347911069, 890.005663511855, 807.2056844822432, 379.43189010780594, 310.1900296388009, 107.37552015735798, 113.18452901176538, 111.92106946276961, 108.70239708760371, 63.39999243375718, 61.11883685043548, 45.13997637243819, 53.75257795146858, 40.484868613311576, 63.63856496051204, 35.192055702509286, 44.14540532608389, 50.673429428644575, 35.06291137678428, 32.04539494567085, 46.75963488660538, 34.53586348975321, 46.28462091905283, 26.683986355195092, 30.110745989666924, 68.23109606325998, 24.85348095171416, 23.548595141355158, 582.7184056276524, 22.60480680554038, 21.496579929336253, 27.426010155296918, 26.934511899321272, 260.61791002868046, 216.92198440769596, 110.87135970395653, 384.1261822512301, 157.85338364506794, 50.67544497439389, 98.94630694141857, 77.91561130303636, 178.99283802084028, 548.1131035041104, 444.3913501567838, 383.12637047029057, 807.2056844822432, 102.78004907331622, 174.30473103528075, 455.0000801685042, 340.67401658460193, 197.57415234695574, 961.8489340446015, 30777.144824443378, 225.9288057946383, 127.65856816370757, 4350.543244972253, 2491.7501737731245, 2263.092347911069, 1238.7325935046713, 527.7265302586454, 1247.1391632846535, 124.39952950013746, 45.44975934271367, 39.49682459867475, 50.15705228376752, 59.16846921986238, 45.7131734527922, 28.404669000313625, 26.93563554080994, 282.073562580135, 36.67460825885864, 28.567297015429098, 23.069201354775252, 19.633471477641496, 19.688182060421525, 23.801761220691233, 17.737293089182312, 23.18591096564964, 31.627310763027488, 16.417518315957473, 15.327828493066326, 14.65215211128614, 18.219662972125384, 17.716523762314292, 14.221675459432126, 16.70132691578496, 13.110387744798414, 12.934608516365856, 14.14647573939047, 12.353526154450876, 11.643032505332059, 300.3453118011613, 456.590963585785, 226.645994735922, 37.88261466729419, 24.52299962028202, 29.0588420784446, 40.05772328237882, 31.755447754661883, 98.74406542326213, 73.70092873688942, 159.33306674681563, 64.55081497654028, 142.06755453147383, 51.85340889622989, 202.7265826239771, 82.83065078287407, 176.62116975235625, 87.40884074341945, 625.1726730060527, 159.93782052470473, 625.1244249003221, 156.20513360876794, 499.3770282572685, 146.34200736487384, 30777.144824443378, 498.93285558545267, 878.2800147371911, 111.03809340315979, 808.1993104975306, 536.7466611156387, 605.030034368682, 359.1818452505188, 516.2226726820597, 13.939159130411863, 18.420691062832045, 8.361213227618938, 8.345448774015283, 7.44289953560788, 7.44289953560788, 7.44289953560788, 7.238130427494851, 6.164768025060971, 8.940496144480118, 20.643357060940765, 7.939320649045634, 10.375779915718404, 6.333682381319601, 6.333682381319601, 28.40759258633432, 6.411715288863913, 5.864291747355321, 6.514463430430922, 5.215926776014286, 5.980511041654597, 5.470542291363455, 12.979357964040355, 5.087980194808938, 5.070821713223957, 5.679924244136406, 5.733017950262162, 6.793498090656614, 5.3212819135873515, 4.726820904766201, 9.03605150568688, 23.53215527895536, 118.79043713622657, 9.059279791363656, 8.830890734253206, 52.69352940760527, 9.697428292155937, 221.27121040857313, 84.69303661641872, 51.33216079104833, 17.73489728584239, 13.940778665041943, 91.08234185265586, 213.62610737748065, 45.78816440863766, 15.223071777408116, 72.28686908093982, 144.5440938572533, 93.57449970523068, 26.329469941973244, 90.4475297345132, 407.1398472821104, 97.31284106848733, 147.05628674911253, 275.5499378051569, 110.10642631010766, 277.4478316432784, 142.84360141407618, 54.79157390182611, 29.33776621078756, 9.62829398949668, 6.739693564964339, 7.105865204112878, 7.350632636806027, 7.350632636806027, 9.611012874905382, 5.293142361167176, 6.933328484121103, 5.844760136571798, 5.924866296140988, 5.9822943563974835, 5.55078500940787, 5.840714820899531, 5.957883196602325, 14.597215034289494, 6.299379116275049, 5.471299981005089, 4.933594303353895, 6.883864312640491, 4.55204925833649, 4.533262975039955, 4.628050433877936, 4.386647798149407, 5.205488871294786, 5.2906585332491245, 6.763547867251083, 4.50016615702419, 4.397422092673824, 4.620096486397965, 5.363975443569557, 7.243338974114976, 8.28287926140039, 7.779951319159343, 15.402991927210893, 8.288894864895084, 15.277297530779085, 17.41681992536823, 16.626137682015912, 6.2977108322471915, 33.410735167690234, 58.032706668986776, 20.874609161488348, 33.31208559346903, 68.38202877928661, 14.067189291478055, 69.66083694541342, 39.15689615840182, 284.00528809994034, 176.62116975235625, 146.90454185461692, 66.75365649760555, 10.19144537813394, 6.533974413169121, 6.6673204279728235, 5.683604607576431, 5.458172904690387, 5.184129351265859, 5.084137052576219, 6.243887503644437, 6.243887503644437, 5.41440595406865, 5.296019573873573, 4.5816285755685735, 7.031362894093783, 5.241116292600316, 4.1036171925621625, 4.803308563702558, 5.180052610044491, 4.04086689202757, 5.0008626429096354, 5.0008626429096354, 3.9251521221668715, 3.955100502289162, 3.7958154202056256, 4.084306671834106, 4.084306671834106, 4.125127277749637, 4.125127277749637, 3.729268230483035, 3.6729976731294927, 4.028763513036866, 28.302064997327502, 163.7936180188067, 63.6435925242256, 13.748575508894954, 8.851505658185365, 297.21211445808194, 605.030034368682, 171.63158989549066, 78.83671043751787, 17.702896476168085, 7.91642092272769, 6.715543763333371, 6.113103430973741, 6.113103430973741, 6.113103430973741, 4.898310453785253, 12.110222778925998, 4.277761433585857, 4.277761433585857, 4.277761433585857, 4.277761433585857, 4.277761433585857, 4.277761433585857, 4.277761433585857, 4.277761433585857, 4.277761433585857, 13.656707666166714, 3.6191268622194035, 3.624405667267805, 3.624405667267805, 3.624405667267805, 3.624405667267805, 3.624405667267805, 3.624405667267805, 3.624405667267805, 3.624405667267805, 3.624405667267805, 3.624405667267805, 3.624405667267805, 3.624405667267805, 14.597215034289494, 24.994905689059678, 11.716836263506439, 71.74686410138064, 8.355303182496064, 9.716903868662198, 9.916978217667856, 25.15933974891986, 7.8513432367278915, 12.118527120998495, 42.467097002349675, 163.7936180188067], \"Category\": [\"Default\", \"Default\", \"Default\", \"Default\", \"Default\", \"Default\", \"Default\", \"Default\", \"Default\", \"Default\", \"Default\", \"Default\", \"Default\", \"Default\", \"Default\", \"Default\", \"Default\", \"Default\", \"Default\", \"Default\", \"Default\", \"Default\", \"Default\", \"Default\", \"Default\", \"Default\", \"Default\", \"Default\", \"Default\", \"Default\", \"Topic1\", \"Topic1\", \"Topic1\", \"Topic1\", \"Topic1\", \"Topic1\", \"Topic1\", \"Topic1\", \"Topic1\", \"Topic1\", \"Topic1\", \"Topic1\", \"Topic1\", \"Topic1\", \"Topic1\", \"Topic1\", \"Topic1\", \"Topic1\", \"Topic1\", \"Topic1\", \"Topic1\", \"Topic1\", \"Topic1\", \"Topic1\", \"Topic1\", \"Topic1\", \"Topic1\", \"Topic1\", \"Topic1\", \"Topic1\", \"Topic1\", \"Topic1\", \"Topic1\", \"Topic1\", \"Topic1\", \"Topic1\", \"Topic1\", \"Topic1\", \"Topic1\", \"Topic1\", \"Topic1\", \"Topic1\", \"Topic1\", \"Topic1\", \"Topic1\", \"Topic1\", \"Topic1\", \"Topic1\", \"Topic1\", \"Topic1\", \"Topic1\", \"Topic1\", \"Topic1\", \"Topic1\", \"Topic1\", \"Topic1\", \"Topic1\", \"Topic1\", \"Topic1\", \"Topic1\", \"Topic1\", \"Topic1\", \"Topic1\", \"Topic1\", \"Topic1\", \"Topic1\", \"Topic1\", \"Topic1\", \"Topic1\", \"Topic1\", \"Topic1\", \"Topic1\", \"Topic2\", \"Topic2\", \"Topic2\", \"Topic2\", \"Topic2\", \"Topic2\", \"Topic2\", \"Topic2\", \"Topic2\", \"Topic2\", \"Topic2\", \"Topic2\", \"Topic2\", \"Topic2\", \"Topic2\", \"Topic2\", \"Topic2\", \"Topic2\", \"Topic2\", \"Topic2\", \"Topic2\", \"Topic2\", \"Topic2\", \"Topic2\", \"Topic2\", \"Topic2\", \"Topic2\", \"Topic2\", \"Topic2\", \"Topic2\", \"Topic2\", \"Topic2\", \"Topic2\", \"Topic2\", \"Topic2\", \"Topic2\", \"Topic2\", \"Topic2\", \"Topic2\", \"Topic2\", \"Topic2\", \"Topic2\", \"Topic2\", \"Topic2\", \"Topic2\", \"Topic2\", \"Topic2\", \"Topic2\", \"Topic2\", \"Topic2\", \"Topic2\", \"Topic2\", \"Topic2\", \"Topic3\", \"Topic3\", \"Topic3\", \"Topic3\", \"Topic3\", \"Topic3\", \"Topic3\", \"Topic3\", \"Topic3\", \"Topic3\", \"Topic3\", \"Topic3\", \"Topic3\", \"Topic3\", \"Topic3\", \"Topic3\", \"Topic3\", \"Topic3\", \"Topic3\", \"Topic3\", \"Topic3\", \"Topic3\", \"Topic3\", \"Topic3\", \"Topic3\", \"Topic3\", \"Topic3\", \"Topic3\", \"Topic3\", \"Topic3\", \"Topic3\", \"Topic3\", \"Topic3\", \"Topic3\", \"Topic3\", \"Topic3\", \"Topic3\", \"Topic3\", \"Topic3\", \"Topic3\", \"Topic3\", \"Topic3\", \"Topic3\", \"Topic3\", \"Topic3\", \"Topic3\", \"Topic3\", \"Topic3\", \"Topic3\", \"Topic3\", \"Topic3\", \"Topic3\", \"Topic3\", \"Topic3\", \"Topic3\", \"Topic3\", \"Topic3\", \"Topic3\", \"Topic4\", \"Topic4\", \"Topic4\", \"Topic4\", \"Topic4\", \"Topic4\", \"Topic4\", \"Topic4\", \"Topic4\", \"Topic4\", \"Topic4\", \"Topic4\", \"Topic4\", \"Topic4\", \"Topic4\", \"Topic4\", \"Topic4\", \"Topic4\", \"Topic4\", \"Topic4\", \"Topic4\", \"Topic4\", \"Topic4\", \"Topic4\", \"Topic4\", \"Topic4\", \"Topic4\", \"Topic4\", \"Topic4\", \"Topic4\", \"Topic4\", \"Topic4\", \"Topic4\", \"Topic4\", \"Topic4\", \"Topic4\", \"Topic4\", \"Topic4\", \"Topic4\", \"Topic4\", \"Topic4\", \"Topic4\", \"Topic4\", \"Topic4\", \"Topic4\", \"Topic4\", \"Topic4\", \"Topic4\", \"Topic4\", \"Topic4\", \"Topic4\", \"Topic4\", \"Topic4\", \"Topic4\", \"Topic4\", \"Topic4\", \"Topic4\", \"Topic4\", \"Topic4\", \"Topic4\", \"Topic4\", \"Topic4\", \"Topic4\", \"Topic5\", \"Topic5\", \"Topic5\", \"Topic5\", \"Topic5\", \"Topic5\", \"Topic5\", \"Topic5\", \"Topic5\", \"Topic5\", \"Topic5\", \"Topic5\", \"Topic5\", \"Topic5\", \"Topic5\", \"Topic5\", \"Topic5\", \"Topic5\", \"Topic5\", \"Topic5\", \"Topic5\", \"Topic5\", \"Topic5\", \"Topic5\", \"Topic5\", \"Topic5\", \"Topic5\", \"Topic5\", \"Topic5\", \"Topic5\", \"Topic5\", \"Topic5\", \"Topic5\", \"Topic5\", \"Topic5\", \"Topic5\", \"Topic5\", \"Topic5\", \"Topic5\", \"Topic5\", \"Topic5\", \"Topic5\", \"Topic5\", \"Topic5\", \"Topic5\", \"Topic5\", \"Topic5\", \"Topic5\", \"Topic5\", \"Topic5\", \"Topic5\", \"Topic5\", \"Topic5\", \"Topic5\", \"Topic5\", \"Topic5\", \"Topic5\", \"Topic5\", \"Topic5\", \"Topic6\", \"Topic6\", \"Topic6\", \"Topic6\", \"Topic6\", \"Topic6\", \"Topic6\", \"Topic6\", \"Topic6\", \"Topic6\", \"Topic6\", \"Topic6\", \"Topic6\", \"Topic6\", \"Topic6\", \"Topic6\", \"Topic6\", \"Topic6\", \"Topic6\", \"Topic6\", \"Topic6\", \"Topic6\", \"Topic6\", \"Topic6\", \"Topic6\", \"Topic6\", \"Topic6\", \"Topic6\", \"Topic6\", \"Topic6\", \"Topic6\", \"Topic6\", \"Topic6\", \"Topic6\", \"Topic6\", \"Topic6\", \"Topic6\", \"Topic6\", \"Topic6\", \"Topic6\", \"Topic6\", \"Topic6\", \"Topic6\", \"Topic6\", \"Topic6\", \"Topic6\", \"Topic6\", \"Topic6\", \"Topic6\", \"Topic6\", \"Topic6\", \"Topic6\", \"Topic7\", \"Topic7\", \"Topic7\", \"Topic7\", \"Topic7\", \"Topic7\", \"Topic7\", \"Topic7\", \"Topic7\", \"Topic7\", \"Topic7\", \"Topic7\", \"Topic7\", \"Topic7\", \"Topic7\", \"Topic7\", \"Topic7\", \"Topic7\", \"Topic7\", \"Topic7\", \"Topic7\", \"Topic7\", \"Topic7\", \"Topic7\", \"Topic7\", \"Topic7\", \"Topic7\", \"Topic7\", \"Topic7\", \"Topic7\", \"Topic7\", \"Topic7\", \"Topic7\", \"Topic7\", \"Topic7\", \"Topic7\", \"Topic7\", \"Topic7\", \"Topic7\", \"Topic7\", \"Topic8\", \"Topic8\", \"Topic8\", \"Topic8\", \"Topic8\", \"Topic8\", \"Topic8\", \"Topic8\", \"Topic8\", \"Topic8\", \"Topic8\", \"Topic8\", \"Topic8\", \"Topic8\", \"Topic8\", \"Topic8\", \"Topic8\", \"Topic8\", \"Topic8\", \"Topic8\", \"Topic8\", \"Topic8\", \"Topic8\", \"Topic8\", \"Topic8\", \"Topic8\", \"Topic8\", \"Topic8\", \"Topic8\", \"Topic8\", \"Topic8\", \"Topic8\", \"Topic8\", \"Topic8\", \"Topic8\", \"Topic8\", \"Topic8\", \"Topic8\", \"Topic8\", \"Topic8\", \"Topic8\", \"Topic8\"], \"logprob\": [30.0, 29.0, 28.0, 27.0, 26.0, 25.0, 24.0, 23.0, 22.0, 21.0, 20.0, 19.0, 18.0, 17.0, 16.0, 15.0, 14.0, 13.0, 12.0, 11.0, 10.0, 9.0, 8.0, 7.0, 6.0, 5.0, 4.0, 3.0, 2.0, 1.0, -6.0292, -6.2219, -6.7591, -6.7844, -6.75, -6.4796, -6.6277, -6.9355, -6.7953, -6.9522, -6.3839, -6.9909, -6.3346, -7.1521, -6.9419, -7.2428, -7.1661, -7.3332, -7.3536, -7.3819, -6.6334, -7.4528, -7.3834, -7.3866, -7.3296, -7.3842, -7.533, -7.0436, -7.6096, -7.3476, -6.7843, -6.6322, -7.1469, -6.5242, -6.5276, -6.9174, -6.7928, -7.0617, -6.8847, -6.1454, -6.1536, -6.4025, -5.9364, -2.6527, -5.7695, -5.9763, -6.5829, -5.9599, -6.4593, -4.6256, -5.7539, -5.9166, -6.3541, -5.8606, -5.9535, -5.8341, -5.3798, -5.9291, -6.2507, -5.8674, -6.3377, -5.9302, -6.2681, -6.2208, -5.6469, -5.8098, -6.1998, -6.128, -6.2821, -6.2627, -6.3067, -6.3314, -4.4678, -4.7381, -4.6586, -4.9494, -5.165, -5.5944, -5.7422, -5.8404, -5.9392, -6.1332, -6.1263, -5.3717, -5.9639, -6.3205, -6.4904, -6.5571, -6.5199, -6.6332, -6.7235, -6.8988, -6.7921, -5.1773, -6.9107, -7.1004, -6.1158, -7.3511, -7.4189, -7.4578, -7.4604, -7.4287, -4.3735, -6.1115, -5.9908, -4.6329, -5.6613, -5.7365, -5.7754, -6.3526, -5.3912, -4.7617, -5.2808, -5.8403, -3.1355, -4.9259, -5.4957, -5.2875, -5.5974, -5.0705, -5.8314, -5.6701, -5.5243, -5.8061, -5.8681, -4.9593, -5.1668, -6.2373, -6.1848, -6.2058, -6.235, -6.78, -6.831, -7.1372, -6.9662, -7.2518, -6.7996, -7.399, -7.1734, -7.0373, -7.4077, -7.5014, -7.124, -7.4423, -7.1513, -7.7068, -7.5873, -6.7712, -7.7822, -7.8388, -4.6312, -7.8817, -7.9384, -7.6997, -7.7185, -5.459, -5.6703, -6.3712, -5.1956, -6.049, -7.1272, -6.5409, -6.795, -6.1561, -5.3281, -5.6986, -5.8858, -5.5157, -6.7228, -6.4826, -6.0032, -6.1508, -6.4276, -5.6921, -4.118, -6.3898, -6.6507, -5.7141, -5.9091, -6.1327, -6.2556, -6.4646, -6.4373, -5.6269, -6.6542, -6.8002, -6.5623, -6.4016, -6.6786, -7.1596, -7.214, -4.8688, -6.9172, -7.1711, -7.3895, -7.566, -7.5691, -7.389, -7.6863, -7.4253, -7.1155, -7.7775, -7.8528, -7.9064, -7.6894, -7.7218, -7.9491, -7.7901, -8.0409, -8.0658, -7.9821, -8.1243, -8.1919, -4.9696, -4.563, -5.2889, -7.0513, -7.4602, -7.3312, -7.0563, -7.2619, -6.3373, -6.5916, -6.0419, -6.749, -6.1878, -6.9319, -5.9842, -6.6052, -6.2483, -6.6809, -5.5835, -6.3934, -5.6972, -6.4134, -5.8888, -6.4843, -4.4872, -6.1639, -6.0446, -6.7155, -6.2229, -6.383, -6.4014, -6.4987, -6.4858, -7.0501, -6.9102, -7.7024, -7.7467, -7.9295, -7.9295, -7.9295, -7.9851, -8.1755, -7.8158, -7.0057, -7.9697, -7.7102, -8.2113, -8.2113, -6.721, -8.2112, -8.3339, -8.2301, -8.4682, -8.3435, -8.4339, -7.5709, -8.5186, -8.5296, -8.4288, -8.4288, -8.261, -8.5349, -8.6537, -8.0292, -7.1652, -5.8827, -8.0648, -8.0857, -6.7903, -8.0391, -5.9287, -6.5746, -6.9229, -7.6953, -7.84, -6.9053, -6.6592, -7.3622, -7.8434, -7.2224, -6.9809, -7.2379, -7.6723, -7.2712, -6.8899, -7.3119, -7.3398, -7.2635, -7.4399, -7.4504, -7.6313, -7.7337, -6.1082, -7.4266, -7.7926, -7.7831, -7.7521, -7.7521, -7.5004, -8.1736, -7.9214, -8.0931, -8.0893, -8.0836, -8.1671, -8.1454, -8.154, -7.2649, -8.1174, -8.2692, -8.4154, -8.0965, -8.5264, -8.5311, -8.5243, -8.6177, -8.4517, -8.4488, -8.2037, -8.6161, -8.6433, -8.6126, -8.4645, -8.1725, -8.0586, -8.1235, -7.531, -8.1448, -7.7557, -7.6848, -7.7679, -8.338, -7.43, -7.2598, -7.7723, -7.5887, -7.458, -8.016, -7.6677, -7.8116, -7.5709, -7.8078, -7.9606, -8.0189, -6.6305, -7.2943, -7.3811, -7.5477, -7.6193, -7.7247, -7.794, -7.6081, -7.6081, -7.7703, -7.8077, -8.0006, -7.6727, -8.0387, -8.2867, -8.1373, -8.0713, -8.3218, -8.1123, -8.1123, -8.4134, -8.4214, -8.5215, -8.4717, -8.4717, -8.4767, -8.4767, -8.5813, -8.6384, -8.573, -7.1892, -6.194, -6.9189, -8.1492, -8.3291, -7.8973, -7.844, -8.0489, -8.3525, -8.407, -6.6676, -6.9535, -7.1344, -7.1344, -7.1344, -7.6389, -6.9056, -8.0354, -8.0354, -8.0354, -8.0354, -8.0354, -8.0354, -8.0354, -8.0354, -8.0354, -6.9574, -8.6327, -8.6967, -8.6967, -8.6967, -8.6967, -8.6967, -8.6967, -8.6967, -8.6967, -8.6967, -8.6967, -8.6967, -8.6967, -7.3615, -7.1343, -7.7947, -6.437, -8.1677, -8.1152, -8.2554, -8.0497, -8.5401, -8.4993, -8.5656, -8.5442], \"loglift\": [30.0, 29.0, 28.0, 27.0, 26.0, 25.0, 24.0, 23.0, 22.0, 21.0, 20.0, 19.0, 18.0, 17.0, 16.0, 15.0, 14.0, 13.0, 12.0, 11.0, 10.0, 9.0, 8.0, 7.0, 6.0, 5.0, 4.0, 3.0, 2.0, 1.0, 0.6493, 0.6485, 0.6467, 0.6467, 0.6466, 0.6465, 0.6459, 0.6456, 0.6453, 0.6447, 0.6447, 0.6441, 0.6438, 0.6437, 0.6428, 0.6425, 0.6424, 0.6418, 0.6417, 0.6414, 0.6413, 0.641, 0.6409, 0.6408, 0.6405, 0.6403, 0.6402, 0.6398, 0.6395, 0.6394, 0.635, 0.6327, 0.6378, 0.6303, 0.6248, 0.6281, 0.6242, 0.6322, 0.6233, 0.5915, 0.5863, 0.5991, 0.5652, 0.3217, 0.5492, 0.5547, 0.5974, 0.5171, 0.5758, 0.3053, 0.4704, 0.491, 0.5496, 0.4185, 0.4374, 0.385, 0.2046, 0.3771, 0.4772, 0.3196, 0.4857, 0.2515, 0.4338, 0.3933, -0.1587, -0.0151, 0.327, 0.2405, 0.3122, -0.5844, -0.1264, -0.1388, 1.261, 1.2608, 1.2606, 1.2605, 1.2602, 1.2584, 1.258, 1.2577, 1.2569, 1.2566, 1.2563, 1.2556, 1.2555, 1.255, 1.2538, 1.2536, 1.2528, 1.2523, 1.2515, 1.2501, 1.2497, 1.2491, 1.2491, 1.2475, 1.2464, 1.2435, 1.2417, 1.2414, 1.2413, 1.2412, 1.2234, 1.2302, 1.2256, 1.1966, 1.204, 1.1647, 1.1115, 1.1803, 1.0489, 0.9166, 0.8404, 0.9755, -0.1611, 0.5623, 0.7018, 0.5072, 0.5951, -0.1396, 0.8032, 0.5102, 0.0602, 0.7116, 0.7472, 2.4109, 2.405, 2.3953, 2.3951, 2.3854, 2.3853, 2.3795, 2.3651, 2.3619, 2.3583, 2.3562, 2.3561, 2.3491, 2.348, 2.3462, 2.3441, 2.3404, 2.3399, 2.3246, 2.3228, 2.3181, 2.3168, 2.3148, 2.3137, 2.3111, 2.31, 2.3091, 2.3026, 2.2977, 2.297, 2.2868, 2.2591, 2.2294, 2.1624, 2.1983, 2.2563, 2.1735, 2.1583, 1.9655, 1.6744, 1.5136, 1.4747, 1.0996, 1.9536, 1.6656, 1.1855, 1.3272, 1.5952, 0.7479, -1.1436, 1.499, 1.8088, -0.7832, -0.4209, -0.5482, -0.0685, 0.5758, -0.257, 2.8586, 2.8381, 2.8325, 2.8314, 2.827, 2.808, 2.8027, 2.8015, 2.7979, 2.7897, 2.7856, 2.7809, 2.7657, 2.7598, 2.7502, 2.7469, 2.7401, 2.7394, 2.7331, 2.7265, 2.7179, 2.717, 2.7127, 2.7051, 2.7033, 2.6946, 2.6832, 2.6774, 2.6707, 2.6624, 2.6344, 2.6221, 2.5967, 2.6231, 2.6491, 2.6084, 2.5623, 2.589, 2.3791, 2.4173, 2.1961, 2.3925, 2.1649, 2.4286, 2.0129, 2.287, 1.8866, 2.1574, 1.2874, 1.8408, 1.1738, 1.8444, 1.2067, 1.8386, -1.5128, 0.9326, 0.4864, 1.8836, 0.3912, 0.6404, 0.5023, 0.9264, 0.5766, 3.6241, 3.4853, 3.4829, 3.4405, 3.3721, 3.3721, 3.3721, 3.3445, 3.3146, 3.3026, 3.2759, 3.2674, 3.2593, 3.2518, 3.2518, 3.2413, 3.2396, 3.2061, 3.2048, 3.189, 3.1769, 3.1757, 3.1747, 3.1634, 3.1558, 3.1432, 3.1339, 3.132, 3.1023, 3.102, 3.0785, 2.9853, 2.6489, 3.0403, 3.045, 2.5542, 2.998, 1.9809, 2.2953, 2.4477, 2.7381, 2.8341, 1.8919, 1.2855, 2.1227, 2.7427, 1.8059, 1.3544, 1.5323, 2.3659, 1.533, 0.4099, 1.4191, 0.9783, 0.4267, 1.1676, 0.2329, 0.7159, 1.5717, 3.8219, 3.6176, 3.6083, 3.5649, 3.562, 3.562, 3.5456, 3.4689, 3.4512, 3.4502, 3.4405, 3.4365, 3.4279, 3.3987, 3.3702, 3.3632, 3.351, 3.3402, 3.2974, 3.2832, 3.267, 3.2664, 3.2525, 3.2127, 3.2075, 3.1942, 3.1937, 3.1887, 3.1846, 3.1659, 3.1648, 3.1563, 3.1361, 3.1339, 3.0433, 3.0493, 2.8269, 2.7667, 2.7301, 3.1307, 2.37, 1.9881, 2.4981, 2.2143, 1.6259, 2.6491, 1.3976, 1.8298, 0.0891, 0.3272, 0.3586, 1.0891, 4.3569, 4.1377, 4.0307, 4.0237, 3.9925, 3.9387, 3.8888, 3.8692, 3.8692, 3.8496, 3.8343, 3.7862, 3.6859, 3.6137, 3.6103, 3.6024, 3.5928, 3.5906, 3.587, 3.587, 3.5281, 3.5125, 3.4535, 3.4301, 3.4301, 3.4152, 3.4152, 3.4114, 3.3696, 3.3424, 2.7768, 2.0163, 2.2367, 2.5388, 2.7993, -0.2828, -0.9403, 0.1147, 0.5891, 2.0282, 4.5724, 4.451, 4.3641, 4.3641, 4.3641, 4.0811, 3.9093, 3.8201, 3.8201, 3.8201, 3.8201, 3.8201, 3.8201, 3.8201, 3.8201, 3.8201, 3.7373, 3.39, 3.3246, 3.3246, 3.3246, 3.3246, 3.3246, 3.3246, 3.3246, 3.3246, 3.3246, 3.3246, 3.3246, 3.3246, 3.2666, 2.956, 3.0532, 2.5988, 3.0183, 2.9199, 2.7593, 2.034, 2.7082, 2.3149, 0.9946, -0.3339]}, \"token.table\": {\"Topic\": [1, 2, 6, 1, 2, 4, 1, 2, 5, 1, 2, 8, 1, 2, 5, 1, 2, 4, 1, 2, 3, 1, 2, 1, 2, 6, 1, 2, 5, 1, 2, 3, 1, 2, 3, 5, 1, 2, 1, 2, 4, 1, 2, 3, 4, 1, 2, 6, 1, 2, 8, 1, 2, 3, 1, 2, 3, 5, 1, 2, 6, 1, 2, 3, 1, 2, 8, 1, 2, 8, 1, 2, 6, 1, 2, 8, 1, 2, 3, 4, 6, 1, 2, 5, 1, 2, 7, 1, 2, 7, 1, 2, 3, 4, 1, 2, 3, 1, 2, 5, 1, 2, 3, 1, 2, 3, 5, 1, 2, 5, 1, 2, 8, 1, 2, 8, 1, 2, 3, 4, 1, 2, 5, 1, 2, 5, 1, 2, 7, 1, 2, 3, 1, 2, 8, 1, 2, 3, 1, 2, 3, 4, 5, 6, 1, 2, 3, 5, 1, 2, 5, 1, 2, 3, 4, 5, 1, 2, 8, 1, 2, 6, 1, 2, 6, 1, 2, 3, 1, 2, 3, 5, 1, 2, 4, 1, 2, 7, 1, 2, 7, 1, 2, 3, 4, 1, 2, 3, 5, 6, 1, 2, 3, 4, 1, 2, 3, 1, 2, 5, 1, 2, 5, 1, 2, 6, 1, 2, 4, 1, 2, 5, 1, 2, 3, 1, 2, 3, 1, 2, 4, 1, 2, 4, 1, 2, 8, 1, 2, 8, 1, 2, 3, 4, 1, 2, 4, 6, 1, 2, 8, 1, 2, 7, 1, 2, 3, 1, 2, 1, 2, 8, 1, 2, 3, 1, 2, 3, 4, 1, 2, 3, 1, 2, 8, 1, 2, 8, 1, 2, 7, 1, 2, 3, 1, 2, 3, 4, 1, 2, 3, 1, 2, 1, 2, 6, 1, 2, 3, 1, 2, 3, 1, 2, 3, 1, 2, 3, 1, 2, 3, 1, 2, 5, 1, 2, 3, 4, 7, 1, 2, 3, 4, 6, 1, 2, 6, 1, 2, 1, 2, 3, 4, 5, 1, 2, 5, 1, 2, 4, 6, 1, 2, 4, 1, 2, 1, 2, 1, 2, 6, 1, 2, 4, 1, 2, 3, 5, 1, 2, 3, 5, 1, 2, 8, 1, 2, 5, 1, 2, 3, 5, 6, 1, 2, 5, 7, 8, 1, 2, 6, 8, 1, 2, 6, 1, 2, 3, 1, 2, 3, 6, 1, 2, 4, 1, 2, 4, 1, 2, 3, 4, 5, 1, 2, 3, 4, 1, 2, 7, 1, 2, 1, 2, 3, 1, 2, 1, 2, 5, 1, 2, 5, 1, 2, 4, 1, 2, 3, 5, 1, 2, 5, 1, 2, 3, 1, 2, 3, 1, 2, 5, 1, 2, 3, 4, 1, 2, 3, 4, 6, 7, 1, 2, 3, 1, 2, 3, 5, 1, 2, 3, 4, 1, 2, 8, 1, 2, 8, 1, 2, 3, 1, 2, 3, 1, 2, 3, 1, 2, 3, 4, 1, 2, 3, 4, 1, 2, 3, 4, 1, 2, 3, 4, 1, 2, 1, 2, 4, 6, 1, 2, 3, 1, 2, 5, 1, 2, 7, 1, 2, 7, 1, 2, 7, 1, 2, 3, 5, 1, 2, 3, 1, 2, 3, 1, 2, 3, 4, 7, 1, 2, 3, 5, 1, 2, 8, 1, 2, 7, 1, 2, 4, 1, 2, 4, 1, 2, 4, 1, 2, 4, 1, 2, 7, 1, 2, 1, 2, 5, 1, 2, 3, 4, 5, 1, 2, 3, 6, 1, 2, 3, 1, 2, 6, 1, 2, 3, 4, 1, 2, 1, 2, 3, 5, 1, 2, 3, 4, 5, 1, 2, 5, 1, 2, 4, 7, 1, 2, 3, 4, 1, 2, 4, 1, 2, 6, 1, 2, 1, 2, 1, 2, 3, 5, 1, 2, 3, 4, 5, 1, 2, 3, 4, 5, 1, 2, 8, 1, 2, 3, 5, 1, 2, 4, 6, 1, 2, 3, 4, 1, 2, 4, 6, 1, 2, 6, 1, 2, 6, 1, 2, 8, 1, 2, 8, 1, 2, 3, 8, 1, 2, 3, 4, 1, 2, 3, 1, 2, 5, 1, 2, 7, 1, 2, 3, 4, 6, 1, 2, 7, 1, 2, 4, 1, 2, 3, 4, 5, 1, 2, 3, 6, 1, 2, 8, 1, 2, 4, 1, 2, 3, 4, 1, 2, 8, 1, 2, 4, 1, 2, 3, 4, 1, 2, 4, 1, 2, 3, 6, 1, 2, 3, 4, 1, 2, 3, 4, 5, 7, 1, 2, 7, 1, 2, 3, 1, 2, 1, 2, 5, 1, 2, 1, 2, 3, 4, 1, 2, 4, 1, 2, 3, 4, 1, 2, 4, 1, 2, 8, 1, 2, 3, 1, 2, 6, 1, 2, 3, 1, 2, 8, 1, 2, 8, 1, 2, 8, 1, 2, 8, 1, 2, 3, 1, 2, 3, 8, 1, 2, 3, 5, 1, 2, 5, 6, 1, 2, 4, 1, 2, 3, 1, 2, 8, 1, 2, 3, 1, 2, 5, 1, 2, 6, 1, 2, 3, 1, 2, 1, 2, 3, 4, 1, 2, 4, 6, 1, 2, 4, 1, 2, 3, 4, 1, 2, 4, 1, 2, 4, 1, 2, 6, 1, 2, 3, 1, 2, 3, 1, 2, 3, 1, 2, 3, 1, 2, 3, 4, 1, 2, 3, 4, 1, 2, 3, 1, 2, 3, 4, 1, 2, 3, 1, 2, 5, 1, 2, 3, 5, 6, 1, 2, 3, 4, 1, 2, 3, 4, 1, 2, 6, 1, 2, 5, 1, 2, 5, 1, 2, 3, 7, 1, 2, 3, 7, 1, 2, 1, 2, 7, 1, 2, 3, 1, 2, 5, 8, 1, 2, 5, 8, 1, 2, 3, 4, 1, 2, 7, 1, 2, 3, 1, 2, 4, 6, 1, 2, 3, 4, 1, 2, 3, 6, 1, 2, 3, 4, 1, 2, 3, 1, 2, 3, 6, 1, 2, 8, 1, 2, 3, 1, 2, 3, 1, 2, 3, 1, 2, 1, 2, 3, 1, 2, 7, 1, 2, 7, 1, 2, 3, 1, 2, 5, 6, 1, 2, 3, 1, 2, 5, 6, 1, 2, 3, 4, 6, 1, 2, 7, 1, 2, 5, 1, 2, 3, 6, 1, 2, 1, 2, 3, 4, 1, 2, 3, 4, 1, 2, 3, 1, 2, 3, 1, 2, 3, 4, 1, 2, 3, 1, 2, 7, 1, 2, 7, 1, 2, 1, 2, 3, 6, 1, 2, 4, 6, 1, 2, 3, 4, 1, 2, 3, 4, 1, 2, 3, 1, 2, 3, 1, 2, 3, 4, 1, 2, 7, 1, 2, 3, 1, 2, 4, 1, 2, 3, 1, 2, 3, 4, 1, 2, 3, 4, 1, 2, 3, 4, 1, 2, 5, 7, 1, 2, 3, 4, 1, 2, 1, 2, 1, 2, 6, 1, 2, 5, 1, 2, 3, 4, 6, 1, 2, 1, 2, 7, 1, 2, 3, 1, 2, 3, 1, 2, 3, 1, 2, 3, 1, 2, 3, 4, 5, 1, 2, 5, 8, 1, 2, 3, 4, 1, 2, 3, 1, 2, 1, 2, 3, 6, 1, 2, 8, 1, 2, 3, 1, 2, 3, 4, 1, 2, 3, 5, 1, 2, 3, 7, 1, 2, 4, 1, 2, 4, 1, 2, 1, 2, 5, 1, 2, 3, 5, 1, 2, 3, 1, 2, 3, 5, 1, 2, 3, 1, 2, 3, 4, 1, 2, 3, 4, 7, 1, 2, 3, 4, 1, 2, 1, 2, 3, 4, 1, 2, 3, 4, 1, 2, 3, 1, 2, 3, 1, 2, 3, 5, 6, 1, 2, 5, 7, 1, 2, 6, 1, 2, 6, 1, 2, 6, 1, 2, 1, 2, 3, 4, 1, 2, 6, 1, 2, 3, 1, 2, 4, 1, 2, 6, 1, 2, 7, 1, 2, 8, 1, 2, 3, 1, 2, 3, 5, 1, 2, 1, 2, 4, 1, 2, 4, 1, 2, 8, 1, 2, 1, 2, 3, 1, 2, 7, 1, 2, 7, 1, 2, 3, 4, 1, 2, 3, 4, 1, 2, 3, 1, 2, 3, 1, 2, 3, 4, 6, 1, 2, 3, 4, 1, 2, 3, 1, 2, 4, 1, 2, 3, 4, 1, 2, 4, 1, 2, 4, 1, 2, 3, 4, 1, 2, 3, 1, 2, 3, 4, 1, 2, 4, 1, 2, 4, 6, 1, 2, 3, 5, 1, 2, 3, 5, 1, 2, 3, 1, 2, 6, 1, 2, 3, 1, 2, 3, 1, 2, 3, 4, 1, 2, 3, 1, 2, 7, 1, 2, 3, 6, 1, 2, 3, 1, 2, 8, 1, 2, 6], \"Freq\": [0.20269198043304704, 0.20269198043304704, 0.4053839608660941, 0.06824935971212913, 0.06824935971212913, 0.8189923165455495, 0.5912078804854944, 0.06568976449838827, 0.32844882249194135, 0.2759073050323952, 0.2759073050323952, 0.2759073050323952, 0.13435624049684655, 0.13435624049684655, 0.5374249619873862, 0.0509334276996707, 0.0509334276996707, 0.8658682708944019, 0.9720964859663408, 0.005523275488445118, 0.019331464209557912, 0.9940452793632253, 0.0027308936246242454, 0.21644569608970332, 0.21644569608970332, 0.43289139217940664, 0.17442819971534743, 0.17442819971534743, 0.5232845991460422, 0.00263551911705649, 0.00263551911705649, 0.9935907071302968, 0.17052357609100538, 0.17052357609100538, 0.17052357609100538, 0.5115707282730161, 0.008965100337569951, 0.9771959367951247, 0.20647760099328621, 0.03441293349888104, 0.7570845369753828, 0.6389487381435053, 0.30047381876734686, 0.05169917175849939, 0.008395591994969986, 0.14837469839851555, 0.14837469839851555, 0.5934987935940622, 0.2759073050323952, 0.2759073050323952, 0.2759073050323952, 0.4586496975153075, 0.47147905968356785, 0.06895782165439938, 0.11982579092854051, 0.11982579092854051, 0.11982579092854051, 0.5991289546427025, 0.15874580360093016, 0.15874580360093016, 0.47623741080279053, 0.028520164491021592, 0.028520164491021592, 0.9411654282037125, 0.2759073050323952, 0.2759073050323952, 0.2759073050323952, 0.2759073050323952, 0.2759073050323952, 0.2759073050323952, 0.16784484807796873, 0.16784484807796873, 0.5035345442339062, 0.2759073050323952, 0.2759073050323952, 0.2759073050323952, 0.7604337123111381, 0.11698980189402124, 0.014623725236752655, 0.014623725236752655, 0.07311862618376327, 0.29065040062464365, 0.09688346687488122, 0.5328590678118467, 0.7419953279728169, 0.07066622171169684, 0.14133244342339368, 0.24747165069281304, 0.24747165069281304, 0.24747165069281304, 0.8905504861575988, 0.0018630763308736377, 0.0018630763308736377, 0.1043322745289237, 0.989537900447891, 0.0032658016516432047, 0.0032658016516432047, 0.1578860352943138, 0.1578860352943138, 0.4736581058829414, 0.20671218138734723, 0.15643083996880333, 0.6368969913015564, 0.11185061587632385, 0.11185061587632385, 0.2237012317526477, 0.5592530793816192, 0.29439914066520234, 0.14719957033260117, 0.4415987109978035, 0.2759073050323952, 0.2759073050323952, 0.2759073050323952, 0.2759073050323952, 0.2759073050323952, 0.2759073050323952, 0.11511104511849767, 0.0038370348372832553, 0.8786809777378655, 0.0038370348372832553, 0.11959986819816754, 0.11959986819816754, 0.7175992091890052, 0.16720979077455816, 0.16720979077455816, 0.5016293723236744, 0.19996550023580997, 0.19996550023580997, 0.39993100047161995, 0.0044120686926161145, 0.9883033871460097, 0.0044120686926161145, 0.2759073050323952, 0.2759073050323952, 0.2759073050323952, 0.0026681752943514205, 0.9952293847930799, 0.0026681752943514205, 0.7183902251530531, 0.24089304067321282, 0.02843018756259256, 0.012151874455325276, 9.747492878603163e-05, 3.249164292867721e-05, 0.29024074485876267, 0.7076438227492909, 0.0009707048323035542, 0.0004853524161517771, 0.18792464226460204, 0.18792464226460204, 0.3758492845292041, 0.6619916638621116, 0.3126071746015527, 0.023227777679372334, 0.0009678240699738473, 0.0009678240699738473, 0.2759073050323952, 0.2759073050323952, 0.2759073050323952, 0.222214017240036, 0.222214017240036, 0.444428034480072, 0.31757571175848137, 0.15878785587924069, 0.31757571175848137, 0.022153312437500197, 0.022153312437500197, 0.9525924348125084, 0.6818730695225136, 0.016836372086975644, 0.008418186043487822, 0.28621832547858594, 0.43462172106274577, 0.012072825585076271, 0.5432771513284322, 0.2547671959903435, 0.2547671959903435, 0.2547671959903435, 0.21826300048250888, 0.21826300048250888, 0.43652600096501776, 0.22307656343361287, 0.0033295009467703414, 0.0033295009467703414, 0.7691147187039489, 0.5780099707332843, 0.312805395926248, 0.04760082111921165, 0.054400938421956174, 0.006800117302744522, 0.9458783177238345, 0.03705053318273084, 0.002179443128395932, 0.013076658770375591, 0.9922140036929792, 0.00403339025891455, 0.00403339025891455, 0.13435624049684655, 0.13435624049684655, 0.5374249619873862, 0.3320034196476123, 0.11066780654920409, 0.44267122619681637, 0.18015469853455465, 0.18015469853455465, 0.5404640956036639, 0.6401838255230486, 0.006401838255230487, 0.35210110403767675, 0.06551911479190173, 0.7425499676415529, 0.17471763944507127, 0.12677628832257104, 0.859803288751796, 0.011377359208435864, 0.02265241405336326, 0.02265241405336326, 0.9287489761878936, 0.04201369767253546, 0.04201369767253546, 0.8822876511232446, 0.056378388459391464, 0.056378388459391464, 0.845675826890872, 0.2337671269250152, 0.2337671269250152, 0.2337671269250152, 0.2759073050323952, 0.2759073050323952, 0.2759073050323952, 0.06323648618073503, 0.031618243090367516, 0.031618243090367516, 0.853692563439923, 0.6904401087546811, 0.030019135163247, 0.120076540652988, 0.150095675816235, 0.12631971060672692, 0.12631971060672692, 0.6315985530336347, 0.19996550023580997, 0.19996550023580997, 0.39993100047161995, 0.013072033246816717, 0.9830169001606172, 0.0026144066493633436, 0.0010242716105378338, 0.9976405486638502, 0.27630973935706615, 0.27630973935706615, 0.27630973935706615, 0.9766267983793034, 0.01884167456680328, 0.0031402790944672137, 0.12036485732052059, 0.06968491739609087, 0.8045440463003218, 0.006334992490553715, 0.008835129754315198, 0.008835129754315198, 0.9806994027289869, 0.2759073050323952, 0.2759073050323952, 0.2759073050323952, 0.2759073050323952, 0.2759073050323952, 0.2759073050323952, 0.2436874477016296, 0.2436874477016296, 0.2436874477016296, 0.9929375654288781, 0.0023926206395876583, 0.0023926206395876583, 0.8504250581319267, 0.1439180867607876, 0.0010064201871383747, 0.004025680748553499, 0.010255514544214826, 0.9865804991534662, 0.0020511029088429653, 0.0022141512702527435, 0.9941539203434818, 0.18901238734564016, 0.18901238734564016, 0.3780247746912803, 0.03321073481019597, 0.03321073481019597, 0.8966898398752912, 0.9791412982276764, 0.008495803021498277, 0.010619753776872845, 0.03163621445836154, 0.964904540980027, 0.0022597296041686815, 0.02817440801602255, 0.9681751118233203, 0.0025613098196384135, 0.07425417648093331, 0.037127088240466656, 0.8910501177711997, 0.563860046033811, 0.0563860046033811, 0.3383160276202866, 0.8564856859364337, 0.0058264332376628146, 0.09322293180260503, 0.02913216618831407, 0.011652866475325629, 0.10404730625333229, 0.10404730625333229, 0.10404730625333229, 0.10404730625333229, 0.5202365312666615, 0.2274059617033389, 0.2274059617033389, 0.4548119234066778, 0.9925286133265521, 0.003434355063413675, 0.5503522031267547, 0.15182129741427716, 0.018977662176784645, 0.018977662176784645, 0.2656872704749851, 0.19654164554733525, 0.19654164554733525, 0.3930832910946705, 0.7720867759907679, 0.14476627049826898, 0.08166302438363891, 0.0012373185512672563, 0.2633584100553698, 0.10844169825809344, 0.6041751760093778, 0.0058043820467397565, 0.9867449479457586, 0.0015709350080807044, 0.9959727951231666, 0.1827719195569127, 0.1827719195569127, 0.3655438391138254, 0.008038615612279264, 0.024115846836837797, 0.9646338734735118, 0.40144976917038194, 0.3778350768662418, 0.011807346152070056, 0.20072488458519097, 0.9072765611610356, 0.03992016869108557, 0.018145531223220712, 0.032661956201797286, 0.5984223302003865, 0.1196844660400773, 0.1196844660400773, 0.18279723412041554, 0.18279723412041554, 0.5483917023612466, 0.668075114277697, 0.29228286249649243, 0.007368475525121658, 0.03193006060886052, 0.002456158508373886, 0.8852603767709141, 0.012210487955460883, 0.018315731933191325, 0.0732629277327653, 0.0061052439777304415, 0.2740248732791718, 0.06850621831979295, 0.4795435282385506, 0.1370124366395859, 0.21968127830968198, 0.21968127830968198, 0.43936255661936396, 0.028415504011852805, 0.028415504011852805, 0.9377116323911425, 0.3621928927517396, 0.12073096425057987, 0.12073096425057987, 0.3621928927517396, 0.08094854760474264, 0.08094854760474264, 0.8094854760474264, 0.05488575730132437, 0.05488575730132437, 0.8232863595198655, 0.5649479693256402, 0.15584771567603867, 0.019480964459504833, 0.019480964459504833, 0.233771573514058, 0.5947410136915466, 0.21827195451979323, 0.0020024949955944333, 0.18422953959468785, 0.149985291812958, 0.149985291812958, 0.599941167251832, 0.9942529000485073, 0.0028007123945028374, 0.9863583368543347, 0.005084321323991416, 0.005084321323991416, 0.988420961639813, 0.005068825444306733, 0.9826646576031511, 0.011072277832148182, 0.0027680694580370455, 0.9892216174813401, 0.0023952097275577243, 0.0047904194551154486, 0.3471324332026458, 0.019285135177924767, 0.6171243256935925, 0.5099405412614931, 0.042495045105124425, 0.042495045105124425, 0.4249504510512443, 0.3311521521677633, 0.11038405072258776, 0.44153620289035106, 0.044238378527300774, 0.044238378527300774, 0.8847675705460155, 0.03946684633969356, 0.0986671158492339, 0.8485371963034116, 0.1578860352943138, 0.1578860352943138, 0.4736581058829414, 0.24373452176005714, 0.7508839925030332, 0.004541637051429636, 0.001513879017143212, 0.9358697952186468, 0.02665895968388949, 0.002806206282514683, 0.030868269107661515, 0.0014031031412573415, 0.0014031031412573415, 0.07292347624299739, 0.036461738121498694, 0.8750817149159686, 0.6018924584073159, 0.3044053812634701, 0.006918304119624321, 0.07610134531586753, 0.47503908377957277, 0.13311534765251765, 0.3889056235338261, 0.0026101048559317185, 0.3087403189893895, 0.41165375865251935, 0.10291343966312984, 0.6368337046596614, 0.1273667409319323, 0.1273667409319323, 0.12907866427855993, 0.013829856886988564, 0.8528411746976281, 0.04931361704117719, 0.9433217711425185, 0.006363047360151895, 0.004532667820470357, 0.9926542526830083, 0.0022663339102351786, 0.44426604707474704, 0.4964382115912033, 0.05859335399540475, 0.00040132434243427917, 0.1583839989054419, 0.02639733315090698, 0.02639733315090698, 0.7655226613763024, 0.01993737579199073, 0.01993737579199073, 0.01993737579199073, 0.9370566622235644, 0.5403550994175534, 0.09005918323625892, 0.009005918323625892, 0.36023673294503566, 0.0008259215918101276, 0.9985392044984442, 0.18642889224983689, 0.18642889224983689, 0.18642889224983689, 0.37285778449967377, 0.36497610146408244, 0.6314465423254021, 0.0012628930846508041, 0.2115586818598667, 0.2115586818598667, 0.4231173637197334, 0.18469246829350705, 0.18469246829350705, 0.3693849365870141, 0.19669021304083117, 0.19669021304083117, 0.39338042608166235, 0.2424167626036319, 0.2424167626036319, 0.2424167626036319, 0.21121113947847675, 0.21121113947847675, 0.03520185657974612, 0.5280278486961918, 0.0031189929039947225, 0.8078191621346331, 0.18817923854101493, 0.064816345914266, 0.021605448638088665, 0.9074288427997239, 0.9488173135680598, 0.0033646004027236163, 0.0033646004027236163, 0.04037520483268339, 0.006729200805447233, 0.07704541339953222, 0.23113624019859666, 0.07704541339953222, 0.4622724803971933, 0.2337671269250152, 0.2337671269250152, 0.2337671269250152, 0.26344800505231847, 0.26344800505231847, 0.26344800505231847, 0.16311218292772614, 0.040778045731931535, 0.7747828689066992, 0.022002316722064583, 0.022002316722064583, 0.946099619048777, 0.07731196492995698, 0.07731196492995698, 0.7731196492995699, 0.06524081349503347, 0.06524081349503347, 0.848130575435435, 0.24483959710864173, 0.24483959710864173, 0.24483959710864173, 0.9930869518797724, 0.0027059589969476087, 0.11323886005306419, 0.33971658015919254, 0.45295544021225675, 0.6440610506123383, 0.2870272073381073, 0.02100199078083712, 0.0070006635936123735, 0.04200398156167424, 0.7608292165873785, 0.15790795061247476, 0.014355268237497706, 0.057421072949990826, 0.03120573179688941, 0.03120573179688941, 0.9361719539066823, 0.17121192022965256, 0.17121192022965256, 0.5136357606889578, 0.7065784263959444, 0.2461761531132259, 0.04068457432403453, 0.006206121507056115, 0.009979181335617673, 0.9779597708905319, 0.2062402463566306, 0.1031201231783153, 0.1031201231783153, 0.4124804927132612, 0.7174876403444571, 0.19980668465288678, 0.009082122029676672, 0.009082122029676672, 0.0635748542077367, 0.2891348914846643, 0.09637829716155477, 0.5782697829693286, 0.3636740400316481, 0.07273480800632962, 0.3636740400316481, 0.14546961601265923, 0.5540244842677545, 0.3370638470719905, 0.007748594185563, 0.09879457586592826, 0.05644448162721122, 0.05644448162721122, 0.8466672244081682, 0.21607370409792184, 0.21607370409792184, 0.4321474081958437, 0.004093725331943069, 0.9906815303302227, 0.9924283227549147, 0.0032538633532948023, 0.9925960451767559, 0.001872822726748596, 0.003745645453497192, 0.001872822726748596, 0.38327061087216013, 0.4745255182226744, 0.018250981470102862, 0.018250981470102862, 0.09125490735051432, 0.3798025566803551, 0.34182230101231964, 0.03798025566803551, 0.03798025566803551, 0.2278815340082131, 0.2337671269250152, 0.2337671269250152, 0.2337671269250152, 0.7075925698342065, 0.1437297407475732, 0.044224535614637905, 0.09950520513293529, 0.1671599457373068, 0.1671599457373068, 0.1671599457373068, 0.5014798372119204, 0.7168617380831446, 0.196168245894374, 0.08314950340378816, 0.003229106928302453, 0.7406102843975677, 0.07661485700664494, 0.05107657133776329, 0.10215314267552658, 0.5741576271012964, 0.11483152542025926, 0.22966305084051852, 0.6706712394801938, 0.04790508853429956, 0.19162035413719825, 0.2337671269250152, 0.2337671269250152, 0.2337671269250152, 0.14890826941817642, 0.14890826941817642, 0.5956330776727057, 0.7064292621259259, 0.21192877863777776, 0.047095284141728394, 0.023547642070864197, 0.3270134990682652, 0.19506068365475468, 0.47044047234382014, 0.0057370789310221965, 0.9888865330386047, 0.005433442489223103, 0.005433442489223103, 0.16221210529492872, 0.16221210529492872, 0.4866363158847862, 0.6778507783533464, 0.11297512972555775, 0.11297512972555775, 0.259689806948065, 0.19476735521104874, 0.1298449034740325, 0.06492245173701625, 0.3246122586850812, 0.27225718309480257, 0.27225718309480257, 0.27225718309480257, 0.5033815758883924, 0.011440490361099826, 0.4805005951661927, 0.6881181415726905, 0.17788088013443698, 0.0514918337231265, 0.004681075793011499, 0.07489721268818399, 0.29570279374881725, 0.14785139687440862, 0.14785139687440862, 0.4435541906232259, 0.2337671269250152, 0.2337671269250152, 0.2337671269250152, 0.5939808338536529, 0.05001943864030761, 0.3501360704821533, 0.7912262989198167, 0.15576714609607129, 0.04425203014092935, 0.008850406028185868, 0.16358303295396925, 0.16358303295396925, 0.49074909886190776, 0.07068898419805915, 0.07068898419805915, 0.7775788261786506, 0.017869736320428008, 0.008934868160214004, 0.9649657613031124, 0.008934868160214004, 0.08862936239512942, 0.0035451744958051768, 0.9075646709261252, 0.12853550863966773, 0.25707101727933546, 0.12853550863966773, 0.38560652591900313, 0.9479136989387597, 0.025520753432966607, 0.0018229109594976147, 0.023697842473468993, 0.9132801153222101, 0.012684446046141806, 0.025368892092283612, 0.012684446046141806, 0.012684446046141806, 0.012684446046141806, 0.24821511532361054, 0.24821511532361054, 0.24821511532361054, 0.9852025319094115, 0.007977348436513454, 0.003988674218256727, 0.0006687869680213298, 0.9984989432558452, 0.13815722305878708, 0.13815722305878708, 0.5526288922351483, 0.9883353666740354, 0.005882948611154973, 0.3256404011634566, 0.01356835004847736, 0.02713670009695472, 0.6241441022299585, 0.0762753947072811, 0.0762753947072811, 0.8390293417800921, 0.9415337333734289, 0.05596040020050098, 0.0013990100050125245, 0.0013990100050125245, 0.9063168768996618, 0.002277178082662467, 0.08994853426516744, 0.49544918450559783, 0.0825748640842663, 0.3302994563370652, 0.18191684516994605, 0.03031947419499101, 0.7883063290697662, 0.13604271215960492, 0.13604271215960492, 0.5441708486384197, 0.03720751778278864, 0.01860375889139432, 0.9487917034611104, 0.5857927251250529, 0.07322409064063161, 0.29289636256252644, 0.2337671269250152, 0.2337671269250152, 0.2337671269250152, 0.6827781681064373, 0.08534727101330467, 0.17069454202660933, 0.7426645094852462, 0.08251827883169402, 0.08251827883169402, 0.01577287254481678, 0.01577287254481678, 0.9621452252338234, 0.5853914387206198, 0.2926957193603099, 0.013937891398109995, 0.08362734838865997, 0.6807027436810701, 0.16468614766477502, 0.010979076510985002, 0.13174891813182002, 0.6014626001092699, 0.06014626001092699, 0.06014626001092699, 0.24058504004370795, 0.06091054572042241, 0.06091054572042241, 0.8527476400859137, 0.0020075481853373705, 0.9957438999273357, 0.0020075481853373705, 0.16358303295396925, 0.16358303295396925, 0.49074909886190776, 0.7593462857765851, 0.2291679808571251, 0.010003364243763397, 0.13435624049684655, 0.13435624049684655, 0.5374249619873862, 0.16878018001036155, 0.16878018001036155, 0.5063405400310846, 0.9864429023732185, 0.004883380704817914, 0.004883380704817914, 0.9891310510346419, 0.004801607043857486, 0.8036838515202341, 0.1769455202506734, 0.01755947910884545, 0.0013507291622188809, 0.7781929930456374, 0.029930499732524516, 0.029930499732524516, 0.1795829983951471, 0.37470606300643094, 0.020254381784131404, 0.5975042626318764, 0.24708135727370234, 0.008824334188346512, 0.004412167094173256, 0.741244071821107, 0.07031520321586147, 0.07031520321586147, 0.8437824385903376, 0.037125539454411945, 0.037125539454411945, 0.9281384863602986, 0.1206433446556518, 0.3619300339669554, 0.3619300339669554, 0.9918219710658964, 0.0033060732368863214, 0.0033060732368863214, 0.221281453666721, 0.0026033112196084825, 0.7757867434433278, 0.018398858291857095, 0.009199429145928547, 0.9659400603224975, 0.03946841614136824, 0.01973420807068412, 0.9275077793221537, 0.7652343899794941, 0.19589333512546964, 0.024174071143143062, 0.014171007221842483, 0.42173208178456933, 0.5710105556077341, 0.0008157293651539059, 0.006525834921231247, 0.9876963084310966, 0.007209462105336471, 0.0036047310526682356, 0.8066685532170036, 0.16529282010704247, 0.027713766245492148, 0.000989777365910434, 0.9890784804073176, 0.004824773075157647, 0.004824773075157647, 0.07174033890023127, 0.07174033890023127, 0.789143727902544, 0.21519601394453197, 0.14346400929635467, 0.14346400929635467, 0.35866002324088664, 0.07173200464817733, 0.630225883203608, 0.16795359831568232, 0.0015995580791969746, 0.19994475989962182, 0.46813178564961533, 0.23736259554065003, 0.29230764080468935, 0.002197801810561574, 0.22796450638728497, 0.22796450638728497, 0.45592901277456993, 0.197206696775031, 0.197206696775031, 0.394413393550062, 0.19172048284852322, 0.19172048284852322, 0.5751614485455697, 0.19304823237913235, 0.19304823237913235, 0.19304823237913235, 0.3860964647582647, 0.7908310382341679, 0.056487931302440564, 0.056487931302440564, 0.056487931302440564, 0.004825312880209434, 0.9891891404429339, 0.09812150905950306, 0.09812150905950306, 0.7849720724760245, 0.9951336207103637, 0.0020645925740878915, 0.0020645925740878915, 0.6401304409403407, 0.04000815255877129, 0.16003261023508517, 0.12002445767631387, 0.7058601769971588, 0.10083716814245125, 0.10083716814245125, 0.10083716814245125, 0.8737995508916041, 0.09385254435502415, 0.03020541657403076, 0.0021575297552879113, 0.32031326618755357, 0.16015663309377678, 0.4804698992813304, 0.9254685976722856, 0.04712161902608379, 0.024503241893563572, 0.8089444508846789, 0.08988271676496433, 0.029960905588321443, 0.044941358382482165, 0.7222657731133243, 0.2222356224964075, 0.017007828252276085, 0.03855107737182579, 0.9920627871835209, 0.0017810822032020125, 0.0017810822032020125, 0.003562164406404025, 0.0690377724134268, 0.07531393354192015, 0.3577411843241207, 0.4958167291509743, 0.2820022229438928, 0.16450129671727082, 0.5405042606424613, 0.20451454813876685, 0.034085758023127806, 0.034085758023127806, 0.715800918485684, 0.16358303295396925, 0.16358303295396925, 0.49074909886190776, 0.04023581251828748, 0.04023581251828748, 0.8851878754023245, 0.008501282161476309, 0.9619871919565296, 0.029083333710313686, 0.001253720930941369, 0.9929469773055642, 0.005014883723765476, 0.009953908249783741, 0.9754830084788066, 0.04246537825281295, 0.04246537825281295, 0.891772943309072, 0.18882105438832203, 0.18882105438832203, 0.37764210877664406, 0.19079904817449914, 0.19079904817449914, 0.3815980963489983, 0.987451303939833, 0.005063852840717093, 0.005063852840717093, 0.9682918294930782, 0.007042122396313296, 0.003521061198156648, 0.017605305990783242, 0.031427484281598854, 0.015713742140799427, 0.9428245284479657, 0.21714711931035607, 0.05428677982758902, 0.6514413579310683, 0.05428677982758902, 0.8168569772250962, 0.006807141476875801, 0.006807141476875801, 0.14975711249126764, 0.020421424430627402, 0.18321149173208992, 0.18321149173208992, 0.5496344751962697, 0.15596450480838323, 0.15596450480838323, 0.46789351442514965, 0.9796013903397942, 0.01423149719621977, 0.002371916199369962, 0.002371916199369962, 0.9897104276558455, 0.004923932475899728, 0.40278175100308344, 0.18589926969373083, 0.3983555779151375, 0.008852346175891944, 0.3502625297864965, 0.009729514716291571, 0.6324184565589521, 0.009729514716291571, 0.09068820964971411, 0.906882096497141, 0.001648876539085711, 0.9885430344274551, 0.005069451458602333, 0.005069451458602333, 0.9798794088898742, 0.007285348764980478, 0.003642674382490239, 0.007285348764980478, 0.9924753811356164, 0.0028275651884205593, 0.0028275651884205593, 0.17594468106858935, 0.17594468106858935, 0.527834043205768, 0.2424167626036319, 0.2424167626036319, 0.2424167626036319, 0.0018203582323116424, 0.9957359530744684, 0.8443514495970608, 0.01723166223667471, 0.01723166223667471, 0.12062163565672297, 0.9728905249035144, 0.021195872002255214, 0.0021195872002255215, 0.0021195872002255215, 0.5623337528036487, 0.014798256652727597, 0.004932752217575866, 0.41435118627637274, 0.1337948952493728, 0.5971216621314601, 0.2675897904987456, 0.0012388416226793778, 0.024700586521631845, 0.024700586521631845, 0.9386222878220101, 0.01636156791476759, 0.01636156791476759, 0.9489709390565201, 0.04461846365054338, 0.05491503218528416, 0.899233652034028, 0.00171609475579013, 0.32031326618755357, 0.16015663309377678, 0.4804698992813304, 0.9880967173499531, 0.004411146059598005, 0.004411146059598005, 0.04375106449490739, 0.021875532247453696, 0.9187723543930553, 0.028955407479436555, 0.028955407479436555, 0.8976176318625332, 0.2365355616147861, 0.002190144089025797, 0.002190144089025797, 0.7599799988919516, 0.6737534293561305, 0.18375093527894468, 0.00278410507998401, 0.1392052539992005, 0.3796043111362771, 0.05567529896665398, 0.4403410009180814, 0.12147337956360867, 0.8013375420406558, 0.015712500824326583, 0.06285000329730633, 0.0942750049459595, 0.07132630230546143, 0.9210396428140019, 0.003101143578498323, 0.003101143578498323, 0.003830342106547121, 0.9920586055957042, 0.007005276361108785, 0.9877439669163387, 0.18892369253780902, 0.18892369253780902, 0.566771077613427, 0.15350458417322813, 0.15350458417322813, 0.4605137525196844, 0.10386055941902904, 0.10386055941902904, 0.10386055941902904, 0.10386055941902904, 0.6231633565141742, 0.9901319265952381, 0.006346999529456654, 0.2681491215423983, 0.2681491215423983, 0.2681491215423983, 0.9165726027007809, 0.08181709601912882, 0.0011056364326909299, 0.9886310392818384, 0.004085252228437349, 0.004085252228437349, 0.0032359158281180917, 0.9934261592322541, 0.0032359158281180917, 0.0006175265668718387, 0.9985404586317633, 0.0006175265668718387, 0.37415492243725973, 0.5764008264574001, 0.04831429929370021, 0.0011235883556674467, 0.0011235883556674467, 0.8346800913526188, 0.03974667101679137, 0.03974667101679137, 0.03974667101679137, 0.1462674734264464, 0.4455532267451751, 0.4050483879501592, 0.002250268821945329, 0.9014930816725125, 0.0957663743554048, 0.0009208305226481231, 0.9960242727133198, 0.001598754851867287, 0.14072881644605353, 0.14072881644605353, 0.14072881644605353, 0.5629152657842141, 0.2337671269250152, 0.2337671269250152, 0.2337671269250152, 0.058624296410121096, 0.029312148205060548, 0.908676594356877, 0.15142860017280643, 0.37036151608529766, 0.4761790921096684, 0.0018244409659374267, 0.7885249523834948, 0.06916885547223639, 0.013833771094447278, 0.1245039398500255, 0.2081898313917949, 0.2081898313917949, 0.2081898313917949, 0.4163796627835898, 0.08625928060204481, 0.043129640301022405, 0.8625928060204481, 0.24963974935637312, 0.024963974935637314, 0.7239552731334821, 0.00966746853833585, 0.9764143223719207, 0.25191072239164636, 0.12595536119582318, 0.5038214447832927, 0.6101110024694357, 0.23048637871067573, 0.0045193407590328576, 0.1491382450480843, 0.006447660494855006, 0.003223830247427503, 0.9864920557128158, 0.17605868617567155, 0.17605868617567155, 0.17605868617567155, 0.5281760585270147, 0.03747565999655485, 0.03747565999655485, 0.8994158399173162, 0.6846636972603428, 0.13597293053067555, 0.0015996815356550064, 0.17916433199336074, 0.9024345387576059, 0.0016528105105450659, 0.0016528105105450659, 0.09090457807997862, 0.0033056210210901317, 0.054533643164870235, 0.027266821582435118, 0.027266821582435118, 0.8998051122203589, 0.003941432046542329, 0.9892994436821245, 0.833640901294527, 0.1524850693825165, 0.0008378300515522884, 0.013405280824836614, 0.9963065734894804, 0.0013196113556152057, 0.0013196113556152057, 0.0013196113556152057, 0.970934033335346, 0.024197732918014855, 0.003024716614751857, 0.009313109715645687, 0.009313109715645687, 0.9778765201427972, 0.6946336897846818, 0.13892673795693636, 0.05343336075266782, 0.09618004935480208, 0.010686672150533566, 0.2844398774638646, 0.1422199387319323, 0.1422199387319323, 0.4266598161957969, 0.22059165892337984, 0.22059165892337984, 0.4411833178467597, 0.13604271215960492, 0.13604271215960492, 0.5441708486384197, 0.29053448893922873, 0.14526724446961436, 0.43580173340884304, 0.0057414306218059995, 0.9875260669506319, 0.016900893553357436, 0.03380178710671487, 0.016900893553357436, 0.9295491454346589, 0.2884617402132979, 0.14423087010664895, 0.4326926103199468, 0.0005104878718626745, 0.9985142773633914, 0.0005104878718626745, 0.035205479774784866, 0.035205479774784866, 0.9153424741444065, 0.17109341985530013, 0.17109341985530013, 0.5132802595659004, 0.19289642141275282, 0.19289642141275282, 0.5786892642382585, 0.20415202536360938, 0.20415202536360938, 0.40830405072721876, 0.4529145629603012, 0.5129785014174021, 0.032466993760595066, 0.20465145071836324, 0.6329035605549381, 0.15917335055872697, 0.0018949208399848447, 0.002687641366943942, 0.9944273057692585, 0.05987548205255882, 0.05987548205255882, 0.8382567487358236, 0.025318491047342406, 0.025318491047342406, 0.936784168751669, 0.2337671269250152, 0.2337671269250152, 0.2337671269250152, 0.009578073655226527, 0.9769635128331058, 0.6696737500655121, 0.32921611214251795, 0.0008029661271768731, 0.15304620691267415, 0.15304620691267415, 0.6121848276506966, 0.2528380756497117, 0.2528380756497117, 0.2528380756497117, 0.8465516848577622, 0.10067101117227442, 0.04881018723504214, 0.003050636702190134, 0.46466493951019766, 0.18449931421728435, 0.006833307933973495, 0.34849870463264826, 0.15333085158685342, 0.009019461858050202, 0.8297904909406185, 0.19251597656932523, 0.025668796875910033, 0.7700639062773009, 0.6001545576253657, 0.011323670898591808, 0.005661835449295904, 0.36235746875493785, 0.022647341797183616, 0.04277193363143461, 0.021385966815717306, 0.9195965730758442, 0.021385966815717306, 0.04651902783080884, 0.04651902783080884, 0.8838615287853681, 0.0858882769194399, 0.0858882769194399, 0.7729944922749591, 0.03500506188807095, 0.03500506188807095, 0.03500506188807095, 0.9101316090898446, 0.18894395841479406, 0.03149065973579901, 0.7242851739233772, 0.05079189114216216, 0.05079189114216216, 0.8634621494167567, 0.5068011498997755, 0.007038904859719104, 0.007038904859719104, 0.4786455304608991, 0.7120632476874128, 0.2050062842575345, 0.08248773567758785, 0.6233303670392073, 0.2345004917800233, 0.0020042777075215666, 0.14029943952650967, 0.04334783786492041, 0.04334783786492041, 0.9103045951633287, 0.6397866562762632, 0.07108740625291812, 0.07108740625291812, 0.21326221875875437, 0.6576727109935856, 0.23635113051331985, 0.010276136109274775, 0.0822090888741982, 0.7496904869216308, 0.209048308853147, 0.010812843561369674, 0.02522996830986257, 0.06266652804090955, 0.93661054071954, 0.0005645633156838698, 0.5891094273622511, 0.06545660304025012, 0.2618264121610005, 0.005158348425287868, 0.9852445492299828, 0.005158348425287868, 0.8387285956099048, 0.08595235194680016, 0.07347539763194208, 0.3378413042973079, 0.6560318839598731, 0.005290579709353815, 0.0007557971013362593, 0.6457786308612294, 0.014676787065027942, 0.3375661024956427, 0.24483959710864173, 0.24483959710864173, 0.24483959710864173, 0.27611575368034863, 0.13805787684017432, 0.13805787684017432, 0.414173630520523, 0.5131127108822917, 0.4700352356860101, 0.016358534884663923, 0.2337671269250152, 0.2337671269250152, 0.2337671269250152, 0.19210491554682071, 0.19210491554682071, 0.38420983109364143], \"Term\": [\"abbas\", \"abbas\", \"abbas\", \"administrative_district\", \"administrative_district\", \"administrative_district\", \"adolf\", \"adolf\", \"adolf\", \"afroth\", \"afroth\", \"afroth\", \"agron\", \"agron\", \"agron\", \"aiguille\", \"aiguille\", \"aiguille\", \"air\", \"air\", \"air\", \"airport\", \"airport\", \"albarracin\", \"albarracin\", \"albarracin\", \"alberic\", \"alberic\", \"alberic\", \"album\", \"album\", \"album\", \"alcmaeon\", \"alcmaeon\", \"alcmaeon\", \"alcmaeon\", \"all_ireland\", \"all_ireland\", \"alp\", \"alp\", \"alp\", \"also\", \"also\", \"also\", \"also\", \"also_romanize\", \"also_romanize\", \"also_romanize\", \"aluva\", \"aluva\", \"aluva\", \"american\", \"american\", \"american\", \"amphiaraus\", \"amphiaraus\", \"amphiaraus\", \"amphiaraus\", \"anibal\", \"anibal\", \"anibal\", \"anime\", \"anime\", \"anime\", \"ankamali\", \"ankamali\", \"ankamali\", \"annammah\", \"annammah\", \"annammah\", \"anselmo\", \"anselmo\", \"anselmo\", \"aprem\", \"aprem\", \"aprem\", \"arabic\", \"arabic\", \"arabic\", \"arabic\", \"arabic\", \"archbishop\", \"archbishop\", \"archbishop\", \"archdiocese\", \"archdiocese\", \"archdiocese\", \"ardistomis\", \"ardistomis\", \"ardistomis\", \"area\", \"area\", \"area\", \"area\", \"army\", \"army\", \"army\", \"artemis\", \"artemis\", \"artemis\", \"artist\", \"artist\", \"artist\", \"athena\", \"athena\", \"athena\", \"athena\", \"baarn\", \"baarn\", \"baarn\", \"baelius\", \"baelius\", \"baelius\", \"bahya\", \"bahya\", \"bahya\", \"band\", \"band\", \"band\", \"band\", \"baronet\", \"baronet\", \"baronet\", \"baronetcy\", \"baronetcy\", \"baronetcy\", \"base_repair\", \"base_repair\", \"base_repair\", \"baseball\", \"baseball\", \"baseball\", \"baselius\", \"baselius\", \"baselius\", \"basketball\", \"basketball\", \"basketball\", \"be\", \"be\", \"be\", \"be\", \"be\", \"be\", \"bear\", \"bear\", \"bear\", \"bear\", \"beatify\", \"beatify\", \"beatify\", \"become\", \"become\", \"become\", \"become\", \"become\", \"berchmann\", \"berchmann\", \"berchmann\", \"bessarabian\", \"bessarabian\", \"bessarabian\", \"bhutto\", \"bhutto\", \"bhutto\", \"billboard\", \"billboard\", \"billboard\", \"bishop\", \"bishop\", \"bishop\", \"bishop\", \"border\", \"border\", \"border\", \"bottger\", \"bottger\", \"bottger\", \"bousfield\", \"bousfield\", \"bousfield\", \"bridge\", \"bridge\", \"bridge\", \"bridge\", \"brother\", \"brother\", \"brother\", \"brother\", \"brother\", \"build\", \"build\", \"build\", \"build\", \"building\", \"building\", \"building\", \"byssa\", \"byssa\", \"byssa\", \"byzantine\", \"byzantine\", \"byzantine\", \"callitris\", \"callitris\", \"callitris\", \"canal\", \"canal\", \"canal\", \"cardinal\", \"cardinal\", \"cardinal\", \"career\", \"career\", \"career\", \"cartoon\", \"cartoon\", \"cartoon\", \"cascade\", \"cascade\", \"cascade\", \"catchment\", \"catchment\", \"catchment\", \"catholicose\", \"catholicose\", \"catholicose\", \"catholiose\", \"catholiose\", \"catholiose\", \"cave\", \"cave\", \"cave\", \"cave\", \"census\", \"census\", \"census\", \"census\", \"cg_samuel\", \"cg_samuel\", \"cg_samuel\", \"chakeri\", \"chakeri\", \"chakeri\", \"champion\", \"champion\", \"champion\", \"championship\", \"championship\", \"changanassery\", \"changanassery\", \"changanassery\", \"channel\", \"channel\", \"channel\", \"character\", \"character\", \"character\", \"character\", \"chart\", \"chart\", \"chart\", \"charuvilayil\", \"charuvilayil\", \"charuvilayil\", \"chingavanam\", \"chingavanam\", \"chingavanam\", \"chlorodiella\", \"chlorodiella\", \"chlorodiella\", \"church\", \"church\", \"church\", \"city\", \"city\", \"city\", \"city\", \"club\", \"club\", \"club\", \"coach\", \"coach\", \"collor\", \"collor\", \"collor\", \"comic_book\", \"comic_book\", \"comic_book\", \"company\", \"company\", \"company\", \"compete\", \"compete\", \"compete\", \"competition\", \"competition\", \"competition\", \"compilation\", \"compilation\", \"compilation\", \"constellation\", \"constellation\", \"constellation\", \"contain\", \"contain\", \"contain\", \"contain\", \"contain\", \"costa\", \"costa\", \"costa\", \"costa\", \"costa\", \"costal\", \"costal\", \"costal\", \"council\", \"council\", \"count\", \"count\", \"count\", \"count\", \"count\", \"countess\", \"countess\", \"countess\", \"county\", \"county\", \"county\", \"county\", \"creek\", \"creek\", \"creek\", \"cricket\", \"cricket\", \"cup\", \"cup\", \"daegu\", \"daegu\", \"daegu\", \"dam\", \"dam\", \"dam\", \"daughter\", \"daughter\", \"daughter\", \"daughter\", \"death\", \"death\", \"death\", \"death\", \"dec\", \"dec\", \"dec\", \"diaconate\", \"diaconate\", \"diaconate\", \"die\", \"die\", \"die\", \"die\", \"die\", \"diocese\", \"diocese\", \"diocese\", \"diocese\", \"diocese\", \"dionysius\", \"dionysius\", \"dionysius\", \"dionysius\", \"discal\", \"discal\", \"discal\", \"discography\", \"discography\", \"discography\", \"dong\", \"dong\", \"dong\", \"dong\", \"downstream\", \"downstream\", \"downstream\", \"drain\", \"drain\", \"drain\", \"duke\", \"duke\", \"duke\", \"duke\", \"duke\", \"east\", \"east\", \"east\", \"east\", \"ecclesiastical_province\", \"ecclesiastical_province\", \"ecclesiastical_province\", \"economic\", \"economic\", \"editor\", \"editor\", \"editor\", \"education\", \"education\", \"elect\", \"elect\", \"elect\", \"election\", \"election\", \"election\", \"elevation\", \"elevation\", \"elevation\", \"emperor\", \"emperor\", \"emperor\", \"emperor\", \"enoksen\", \"enoksen\", \"enoksen\", \"ep\", \"ep\", \"ep\", \"episode\", \"episode\", \"episode\", \"eumelus\", \"eumelus\", \"eumelus\", \"event\", \"event\", \"event\", \"event\", \"family\", \"family\", \"family\", \"family\", \"family\", \"family\", \"fantasy\", \"fantasy\", \"fantasy\", \"father\", \"father\", \"father\", \"father\", \"feature\", \"feature\", \"feature\", \"feature\", \"feb\", \"feb\", \"feb\", \"federal_correctional\", \"federal_correctional\", \"federal_correctional\", \"film\", \"film\", \"film\", \"final\", \"final\", \"final\", \"finish\", \"finish\", \"finish\", \"first\", \"first\", \"first\", \"first\", \"flood\", \"flood\", \"flood\", \"flood\", \"flow\", \"flow\", \"flow\", \"flow\", \"foot\", \"foot\", \"foot\", \"foot\", \"football\", \"football\", \"forewing\", \"forewing\", \"forewing\", \"forewing\", \"former\", \"former\", \"former\", \"fredius\", \"fredius\", \"fredius\", \"frogmouth\", \"frogmouth\", \"frogmouth\", \"fulgurator\", \"fulgurator\", \"fulgurator\", \"gaimard\", \"gaimard\", \"gaimard\", \"galaxy\", \"galaxy\", \"galaxy\", \"galaxy\", \"game\", \"game\", \"game\", \"genre\", \"genre\", \"genre\", \"genus\", \"genus\", \"genus\", \"genus\", \"genus\", \"gerard\", \"gerard\", \"gerard\", \"gerard\", \"ghevarghese\", \"ghevarghese\", \"ghevarghese\", \"giesbrecht\", \"giesbrecht\", \"giesbrecht\", \"givor\", \"givor\", \"givor\", \"glaci\", \"glaci\", \"glaci\", \"glacier\", \"glacier\", \"glacier\", \"gmina\", \"gmina\", \"gmina\", \"gniezno\", \"gniezno\", \"gniezno\", \"government\", \"government\", \"gracie\", \"gracie\", \"gracie\", \"greek\", \"greek\", \"greek\", \"greek\", \"greek\", \"grey\", \"grey\", \"grey\", \"grey\", \"guitar\", \"guitar\", \"guitar\", \"hassi\", \"hassi\", \"hassi\", \"have\", \"have\", \"have\", \"have\", \"head_coach\", \"head_coach\", \"heir\", \"heir\", \"heir\", \"heir\", \"henry\", \"henry\", \"henry\", \"henry\", \"henry\", \"herme\", \"herme\", \"herme\", \"heron\", \"heron\", \"heron\", \"heron\", \"high\", \"high\", \"high\", \"high\", \"highest_point\", \"highest_point\", \"highest_point\", \"hindwings_are\", \"hindwings_are\", \"hindwings_are\", \"hockey\", \"hockey\", \"hospital\", \"hospital\", \"house\", \"house\", \"house\", \"house\", \"hungarian\", \"hungarian\", \"hungarian\", \"hungarian\", \"hungarian\", \"hungary\", \"hungary\", \"hungary\", \"hungary\", \"hungary\", \"ignatius\", \"ignatius\", \"ignatius\", \"ii\", \"ii\", \"ii\", \"ii\", \"inca\", \"inca\", \"inca\", \"inca\", \"include\", \"include\", \"include\", \"include\", \"iran\", \"iran\", \"iran\", \"iran\", \"iranian\", \"iranian\", \"iranian\", \"islamic\", \"islamic\", \"islamic\", \"iwa\", \"iwa\", \"iwa\", \"jacobite_syrian\", \"jacobite_syrian\", \"jacobite_syrian\", \"jan\", \"jan\", \"jan\", \"jan\", \"japanese\", \"japanese\", \"japanese\", \"japanese\", \"journal\", \"journal\", \"journal\", \"julich\", \"julich\", \"julich\", \"kanpur\", \"kanpur\", \"kanpur\", \"khan\", \"khan\", \"khan\", \"khan\", \"khan\", \"kiefer_thermocyclop\", \"kiefer_thermocyclop\", \"kiefer_thermocyclop\", \"kilometres_mi\", \"kilometres_mi\", \"kilometres_mi\", \"king\", \"king\", \"king\", \"king\", \"king\", \"kintetsu\", \"kintetsu\", \"kintetsu\", \"kintetsu\", \"kkn\", \"kkn\", \"kkn\", \"km\", \"km\", \"km\", \"know\", \"know\", \"know\", \"know\", \"konni\", \"konni\", \"konni\", \"kyrgyz\", \"kyrgyz\", \"kyrgyz\", \"label\", \"label\", \"label\", \"label\", \"lake\", \"lake\", \"lake\", \"lara\", \"lara\", \"lara\", \"lara\", \"large\", \"large\", \"large\", \"large\", \"latin\", \"latin\", \"latin\", \"latin\", \"latin\", \"latin\", \"latin_dioecesis\", \"latin_dioecesis\", \"latin_dioecesis\", \"law\", \"law\", \"law\", \"league\", \"league\", \"lenticular\", \"lenticular\", \"lenticular\", \"library\", \"library\", \"lie\", \"lie\", \"lie\", \"lie\", \"lies_approximately\", \"lies_approximately\", \"lies_approximately\", \"line\", \"line\", \"line\", \"line\", \"locate\", \"locate\", \"locate\", \"lompoc\", \"lompoc\", \"lompoc\", \"love\", \"love\", \"love\", \"luengo\", \"luengo\", \"luengo\", \"lyric\", \"lyric\", \"lyric\", \"malabar\", \"malabar\", \"malabar\", \"malankara\", \"malankara\", \"malankara\", \"malayalam\", \"malayalam\", \"malayalam\", \"male_inmate\", \"male_inmate\", \"male_inmate\", \"manga\", \"manga\", \"manga\", \"mar\", \"mar\", \"mar\", \"mar\", \"marry\", \"marry\", \"marry\", \"marry\", \"martyr\", \"martyr\", \"martyr\", \"martyr\", \"massif\", \"massif\", \"massif\", \"match\", \"match\", \"match\", \"meenangadi\", \"meenangadi\", \"meenangadi\", \"member\", \"member\", \"member\", \"meropis\", \"meropis\", \"meropis\", \"messaoud\", \"messaoud\", \"messaoud\", \"military\", \"military\", \"military\", \"minister\", \"minister\", \"most\", \"most\", \"most\", \"most\", \"moth\", \"moth\", \"moth\", \"moth\", \"mount\", \"mount\", \"mount\", \"mountain\", \"mountain\", \"mountain\", \"mountain\", \"mountain_pass\", \"mountain_pass\", \"mountain_pass\", \"mountain_range\", \"mountain_range\", \"mountain_range\", \"muhammad\", \"muhammad\", \"muhammad\", \"museum\", \"museum\", \"museum\", \"music\", \"music\", \"music\", \"musical\", \"musical\", \"musical\", \"musician\", \"musician\", \"musician\", \"name\", \"name\", \"name\", \"name\", \"national\", \"national\", \"national\", \"national\", \"network\", \"network\", \"network\", \"new\", \"new\", \"new\", \"new\", \"newspaper\", \"newspaper\", \"newspaper\", \"ngc\", \"ngc\", \"ngc\", \"noble\", \"noble\", \"noble\", \"noble\", \"noble\", \"north\", \"north\", \"north\", \"north\", \"number\", \"number\", \"number\", \"number\", \"ochreous\", \"ochreous\", \"ochreous\", \"odo\", \"odo\", \"odo\", \"oldenburg\", \"oldenburg\", \"oldenburg\", \"oliva\", \"oliva\", \"oliva\", \"oliva\", \"olive\", \"olive\", \"olive\", \"olive\", \"olympic\", \"olympic\", \"oncaea\", \"oncaea\", \"oncaea\", \"operate\", \"operate\", \"operate\", \"ordain\", \"ordain\", \"ordain\", \"ordain\", \"orthodox_church\", \"orthodox_church\", \"orthodox_church\", \"orthodox_church\", \"other\", \"other\", \"other\", \"other\", \"overhaul_base\", \"overhaul_base\", \"overhaul_base\", \"own\", \"own\", \"own\", \"pakistan\", \"pakistan\", \"pakistan\", \"pakistan\", \"part\", \"part\", \"part\", \"part\", \"party\", \"party\", \"party\", \"party\", \"peak\", \"peak\", \"peak\", \"peak\", \"perform\", \"perform\", \"perform\", \"persian\", \"persian\", \"persian\", \"persian\", \"philexinose\", \"philexinose\", \"philexinose\", \"platinum\", \"platinum\", \"platinum\", \"play\", \"play\", \"play\", \"player\", \"player\", \"player\", \"playoff\", \"playoff\", \"playstation\", \"playstation\", \"playstation\", \"podargus\", \"podargus\", \"podargus\", \"polanski\", \"polanski\", \"polanski\", \"political\", \"political\", \"political\", \"politician\", \"politician\", \"politician\", \"politician\", \"pop\", \"pop\", \"pop\", \"pope\", \"pope\", \"pope\", \"pope\", \"population\", \"population\", \"population\", \"population\", \"population\", \"potamonaute\", \"potamonaute\", \"potamonaute\", \"prelate\", \"prelate\", \"prelate\", \"president\", \"president\", \"president\", \"president\", \"prison\", \"prison\", \"produce\", \"produce\", \"produce\", \"produce\", \"production\", \"production\", \"production\", \"production\", \"professional\", \"professional\", \"professional\", \"professor\", \"professor\", \"professor\", \"provide\", \"provide\", \"provide\", \"provide\", \"public\", \"public\", \"public\", \"pyrgus\", \"pyrgus\", \"pyrgus\", \"quoy\", \"quoy\", \"quoy\", \"race\", \"race\", \"radical\", \"radical\", \"radical\", \"radical\", \"railway\", \"railway\", \"railway\", \"railway\", \"range\", \"range\", \"range\", \"range\", \"record\", \"record\", \"record\", \"record\", \"record_label\", \"record_label\", \"record_label\", \"recording\", \"recording\", \"recording\", \"release\", \"release\", \"release\", \"release\", \"repair_depot\", \"repair_depot\", \"repair_depot\", \"research\", \"research\", \"research\", \"reservoir\", \"reservoir\", \"reservoir\", \"ria\", \"ria\", \"ria\", \"river\", \"river\", \"river\", \"river\", \"road\", \"road\", \"road\", \"road\", \"rock\", \"rock\", \"rock\", \"rock\", \"roman_catholic\", \"roman_catholic\", \"roman_catholic\", \"roman_catholic\", \"round\", \"round\", \"round\", \"round\", \"rugby\", \"rugby\", \"rugby_union\", \"rugby_union\", \"rural_district\", \"rural_district\", \"rural_district\", \"sagredo\", \"sagredo\", \"sagredo\", \"salamand\", \"salamand\", \"salamand\", \"salamand\", \"salamand\", \"satellite\", \"satellite\", \"schnack\", \"schnack\", \"schnack\", \"school\", \"school\", \"school\", \"science\", \"science\", \"science\", \"score\", \"score\", \"score\", \"season\", \"season\", \"season\", \"second\", \"second\", \"second\", \"second\", \"second\", \"seminary\", \"seminary\", \"seminary\", \"seminary\", \"series\", \"series\", \"series\", \"series\", \"serve\", \"serve\", \"serve\", \"service\", \"service\", \"shah\", \"shah\", \"shah\", \"shah\", \"simhasana\", \"simhasana\", \"simhasana\", \"singer\", \"singer\", \"singer\", \"single\", \"single\", \"single\", \"single\", \"sir\", \"sir\", \"sir\", \"sir\", \"sis\", \"sis\", \"sis\", \"sis\", \"sloan\", \"sloan\", \"sloan\", \"slope\", \"slope\", \"slope\", \"soccer\", \"soccer\", \"soest\", \"soest\", \"soest\", \"son\", \"son\", \"son\", \"son\", \"song\", \"song\", \"song\", \"sophocle\", \"sophocle\", \"sophocle\", \"sophocle\", \"soundtrack\", \"soundtrack\", \"soundtrack\", \"south\", \"south\", \"south\", \"south\", \"specie\", \"specie\", \"specie\", \"specie\", \"specie\", \"spider\", \"spider\", \"spider\", \"spider\", \"stadium\", \"stadium\", \"state\", \"state\", \"state\", \"state\", \"station\", \"station\", \"station\", \"station\", \"student\", \"student\", \"student\", \"studio_album\", \"studio_album\", \"studio_album\", \"succeed\", \"succeed\", \"succeed\", \"succeed\", \"succeed\", \"suffragan\", \"suffragan\", \"suffragan\", \"suffragan\", \"suffuse\", \"suffuse\", \"suffuse\", \"sule\", \"sule\", \"sule\", \"sultan\", \"sultan\", \"sultan\", \"summer_olympic\", \"summer_olympic\", \"summit\", \"summit\", \"summit\", \"summit\", \"tawaramoto\", \"tawaramoto\", \"tawaramoto\", \"team\", \"team\", \"team\", \"tepui\", \"tepui\", \"tepui\", \"theonistus\", \"theonistus\", \"theonistus\", \"thermocyclop\", \"thermocyclop\", \"thermocyclop\", \"thirumeni\", \"thirumeni\", \"thirumeni\", \"time\", \"time\", \"time\", \"title\", \"title\", \"title\", \"title\", \"tournament\", \"tournament\", \"traverse\", \"traverse\", \"traverse\", \"tributary\", \"tributary\", \"tributary\", \"trikkunnath\", \"trikkunnath\", \"trikkunnath\", \"trophy\", \"trophy\", \"university\", \"university\", \"university\", \"uromunna\", \"uromunna\", \"uromunna\", \"uroptychode\", \"uroptychode\", \"uroptychode\", \"use\", \"use\", \"use\", \"use\", \"valley\", \"valley\", \"valley\", \"valley\", \"version\", \"version\", \"version\", \"video\", \"video\", \"video\", \"village\", \"village\", \"village\", \"village\", \"village\", \"vocal\", \"vocal\", \"vocal\", \"vocal\", \"vocalist\", \"vocalist\", \"vocalist\", \"voivodeship\", \"voivodeship\", \"voivodeship\", \"volcano\", \"volcano\", \"volcano\", \"volcano\", \"waikato\", \"waikato\", \"waikato\", \"waikere\", \"waikere\", \"waikere\", \"water\", \"water\", \"water\", \"water\", \"well\", \"well\", \"well\", \"west\", \"west\", \"west\", \"west\", \"whangamarino\", \"whangamarino\", \"whangamarino\", \"whitish\", \"whitish\", \"whitish\", \"whitish\", \"wife\", \"wife\", \"wife\", \"wife\", \"william\", \"william\", \"william\", \"william\", \"win\", \"win\", \"win\", \"wingspan\", \"wingspan\", \"wingspan\", \"winner\", \"winner\", \"winner\", \"work\", \"work\", \"work\", \"world\", \"world\", \"world\", \"world\", \"write\", \"write\", \"write\", \"w\\u0142oc\\u0142awek\", \"w\\u0142oc\\u0142awek\", \"w\\u0142oc\\u0142awek\", \"ye\", \"ye\", \"ye\", \"ye\", \"year\", \"year\", \"year\", \"zakka\", \"zakka\", \"zakka\", \"\\u0645\\u062d\\u0645\\u062f\", \"\\u0645\\u062d\\u0645\\u062f\", \"\\u0645\\u062d\\u0645\\u062f\"]}, \"R\": 30, \"lambda.step\": 0.01, \"plot.opts\": {\"xlab\": \"PC1\", \"ylab\": \"PC2\"}, \"topic.order\": [3, 4, 5, 1, 7, 6, 8, 2]};\n",
       "\n",
       "function LDAvis_load_lib(url, callback){\n",
       "  var s = document.createElement('script');\n",
       "  s.src = url;\n",
       "  s.async = true;\n",
       "  s.onreadystatechange = s.onload = callback;\n",
       "  s.onerror = function(){console.warn(\"failed to load library \" + url);};\n",
       "  document.getElementsByTagName(\"head\")[0].appendChild(s);\n",
       "}\n",
       "\n",
       "if(typeof(LDAvis) !== \"undefined\"){\n",
       "   // already loaded: just create the visualization\n",
       "   !function(LDAvis){\n",
       "       new LDAvis(\"#\" + \"ldavis_el1392026308141457761715092294\", ldavis_el1392026308141457761715092294_data);\n",
       "   }(LDAvis);\n",
       "}else if(typeof define === \"function\" && define.amd){\n",
       "   // require.js is available: use it to load d3/LDAvis\n",
       "   require.config({paths: {d3: \"/nbextensions/d3.v5.min\"}});\n",
       "   require([\"d3\"], function(d3){\n",
       "      window.d3 = d3;\n",
       "      LDAvis_load_lib(\"/nbextensions/ldavis.v3.0.0.js\", function(){\n",
       "        new LDAvis(\"#\" + \"ldavis_el1392026308141457761715092294\", ldavis_el1392026308141457761715092294_data);\n",
       "      });\n",
       "    });\n",
       "}else{\n",
       "    // require.js not available: dynamically load d3 & LDAvis\n",
       "    LDAvis_load_lib(\"/nbextensions/d3.v5.min.js\", function(){\n",
       "         LDAvis_load_lib(\"/nbextensions/ldavis.v3.0.0.js\", function(){\n",
       "                 new LDAvis(\"#\" + \"ldavis_el1392026308141457761715092294\", ldavis_el1392026308141457761715092294_data);\n",
       "            })\n",
       "         });\n",
       "}\n",
       "</script>"
      ],
      "text/plain": [
       "PreparedData(topic_coordinates=              x         y  topics  cluster       Freq\n",
       "topic                                                \n",
       "2     -0.208323 -0.094641       1        1  52.078015\n",
       "3     -0.181413  0.106991       2        1  28.298848\n",
       "4     -0.002889  0.016059       3        1   8.917262\n",
       "0      0.049399 -0.059656       4        1   5.523106\n",
       "6      0.081719  0.005915       5        1   2.045887\n",
       "5      0.087851  0.004515       6        1   1.566151\n",
       "7      0.087099  0.009652       7        1   0.947392\n",
       "1      0.086556  0.011164       8        1   0.623339, topic_info=                       Term         Freq        Total Category  logprob  \\\n",
       "405                    team  1958.000000  1958.000000  Default  30.0000   \n",
       "12                     play  2234.000000  2234.000000  Default  29.0000   \n",
       "871                  season  1619.000000  1619.000000  Default  28.0000   \n",
       "83                      win  1771.000000  1771.000000  Default  27.0000   \n",
       "267                  league  1495.000000  1495.000000  Default  26.0000   \n",
       "...                     ...          ...          ...      ...      ...   \n",
       "22382              seminary     1.198851    25.159340   Topic8  -8.0497   \n",
       "21458  federal_correctional     0.734205     7.851343   Topic8  -8.5401   \n",
       "22493           male_inmate     0.764766    12.118527   Topic8  -8.4993   \n",
       "4942                    jan     0.715674    42.467097   Topic8  -8.5656   \n",
       "981                 diocese     0.731171   163.793618   Topic8  -8.5442   \n",
       "\n",
       "       loglift  \n",
       "405    30.0000  \n",
       "12     29.0000  \n",
       "871    28.0000  \n",
       "83     27.0000  \n",
       "267    26.0000  \n",
       "...        ...  \n",
       "22382   2.0340  \n",
       "21458   2.7082  \n",
       "22493   2.3149  \n",
       "4942    0.9946  \n",
       "981    -0.3339  \n",
       "\n",
       "[469 rows x 6 columns], token_table=       Topic      Freq                     Term\n",
       "term                                           \n",
       "46844      1  0.202692                    abbas\n",
       "46844      2  0.202692                    abbas\n",
       "46844      6  0.405384                    abbas\n",
       "2411       1  0.068249  administrative_district\n",
       "2411       2  0.068249  administrative_district\n",
       "...      ...       ...                      ...\n",
       "57001      2  0.233767                    zakka\n",
       "57001      8  0.233767                    zakka\n",
       "798        1  0.192105                     محمد\n",
       "798        2  0.192105                     محمد\n",
       "798        6  0.384210                     محمد\n",
       "\n",
       "[1383 rows x 3 columns], R=30, lambda_step=0.01, plot_opts={'xlab': 'PC1', 'ylab': 'PC2'}, topic_order=[3, 4, 5, 1, 7, 6, 8, 2])"
      ]
     },
     "execution_count": 64,
     "metadata": {},
     "output_type": "execute_result"
    }
   ],
   "source": [
    "import pyLDAvis.gensim\n",
    "import pickle \n",
    "import pyLDAvis\n",
    "# Visualize the topics\n",
    "\n",
    "LDAvis_prepared = pyLDAvis.gensim.prepare(lda_model, corpus, id2word)\n",
    "pyLDAvis.enable_notebook(LDAvis_prepared)\n",
    "LDAvis_prepared"
   ]
  },
  {
   "cell_type": "code",
   "execution_count": null,
   "id": "awful-maria",
   "metadata": {},
   "outputs": [],
   "source": []
  }
 ],
 "metadata": {
  "kernelspec": {
   "display_name": "Python 3",
   "language": "python",
   "name": "python3"
  },
  "language_info": {
   "codemirror_mode": {
    "name": "ipython",
    "version": 3
   },
   "file_extension": ".py",
   "mimetype": "text/x-python",
   "name": "python",
   "nbconvert_exporter": "python",
   "pygments_lexer": "ipython3",
   "version": "3.8.8"
  }
 },
 "nbformat": 4,
 "nbformat_minor": 5
}
