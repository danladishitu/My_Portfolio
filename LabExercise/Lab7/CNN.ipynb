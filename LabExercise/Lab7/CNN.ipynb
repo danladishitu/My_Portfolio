{
 "cells": [
  {
   "cell_type": "markdown",
   "metadata": {
    "id": "vwRGEQbzGpYQ"
   },
   "source": [
    "# First CNN model for MNIST Dataset\n",
    "\n",
    "* MNIST Dataset is ''Hello World'' of Image Recognition\n",
    "\n",
    "* [Dataset HomePage](http://yann.lecun.com/exdb/mnist/)\n",
    "\n",
    "* History of MNIST Dataset [Watch here](https://www.youtube.com/watch?v=oKzNUGz21JM)\n",
    "\n",
    "\n",
    "---\n",
    "The MNIST database of handwritten digits, available from this page, has a training set of 60,000 examples, and a \n",
    "test set of 10,000 examples. It is a subset of a larger set available from NIST. The digits have been size-normalized and centered in a fixed-size image.\n",
    "\n",
    "![Kitten](https://camo.githubusercontent.com/01c057a753e92a9bc70b8c45d62b295431851c09cffadf53106fc0aea7e2843f/687474703a2f2f692e7974696d672e636f6d2f76692f3051493378675875422d512f687164656661756c742e6a7067)\n"
   ]
  },
  {
   "cell_type": "markdown",
   "metadata": {
    "id": "PhmJOHCpJD_w"
   },
   "source": [
    "# Let's start building our first CNN Model"
   ]
  },
  {
   "cell_type": "code",
   "execution_count": 1,
   "metadata": {
    "executionInfo": {
     "elapsed": 808,
     "status": "ok",
     "timestamp": 1614865958505,
     "user": {
      "displayName": "",
      "photoUrl": "",
      "userId": ""
     },
     "user_tz": 0
    },
    "id": "lSyHCSV7jymI"
   },
   "outputs": [],
   "source": [
    "from keras import layers\n",
    "from keras import models"
   ]
  },
  {
   "cell_type": "markdown",
   "metadata": {
    "id": "oWNzCYUUjymN"
   },
   "source": [
    "Importantly, a convnet takes as input tensors of shape (image_height, image_width,\n",
    "image_channels) (not including the batch dimension). In this case, we’ll configure\n",
    "the convnet to process inputs of size (28, 28, 1), which is the format of MNIST\n",
    "images. We’ll do this by passing the argument input_shape=(28, 28, 1) to the first\n",
    "layer."
   ]
  },
  {
   "cell_type": "markdown",
   "metadata": {
    "id": "dM4JLEpwjymN"
   },
   "source": [
    "#### Instantiating a small convnet"
   ]
  },
  {
   "cell_type": "code",
   "execution_count": 2,
   "metadata": {
    "colab": {
     "base_uri": "https://localhost:8080/"
    },
    "executionInfo": {
     "elapsed": 802,
     "status": "ok",
     "timestamp": 1614865964105,
     "user": {
      "displayName": "",
      "photoUrl": "",
      "userId": ""
     },
     "user_tz": 0
    },
    "id": "p-OnpExGjymO",
    "outputId": "fb3776ee-f758-4009-ef58-c3481d246d8c"
   },
   "outputs": [
    {
     "name": "stdout",
     "output_type": "stream",
     "text": [
      "Model: \"sequential\"\n",
      "_________________________________________________________________\n",
      "Layer (type)                 Output Shape              Param #   \n",
      "=================================================================\n",
      "conv2d (Conv2D)              (None, 26, 26, 32)        320       \n",
      "_________________________________________________________________\n",
      "max_pooling2d (MaxPooling2D) (None, 13, 13, 32)        0         \n",
      "_________________________________________________________________\n",
      "conv2d_1 (Conv2D)            (None, 11, 11, 64)        18496     \n",
      "_________________________________________________________________\n",
      "max_pooling2d_1 (MaxPooling2 (None, 5, 5, 64)          0         \n",
      "_________________________________________________________________\n",
      "conv2d_2 (Conv2D)            (None, 3, 3, 64)          36928     \n",
      "=================================================================\n",
      "Total params: 55,744\n",
      "Trainable params: 55,744\n",
      "Non-trainable params: 0\n",
      "_________________________________________________________________\n"
     ]
    }
   ],
   "source": [
    "model = models.Sequential()\n",
    "model.add(layers.Conv2D(32, (3, 3), activation='relu', input_shape=(28, 28, 1)))\n",
    "model.add(layers.MaxPooling2D((2, 2)))\n",
    "model.add(layers.Conv2D(64, (3, 3), activation='relu'))\n",
    "model.add(layers.MaxPooling2D((2, 2)))\n",
    "model.add(layers.Conv2D(64, (3, 3), activation='relu'))\n",
    "model.summary()"
   ]
  },
  {
   "cell_type": "markdown",
   "metadata": {
    "id": "7gcVG3xkjymR"
   },
   "source": [
    "#### Adding a classifier on top of the convnet"
   ]
  },
  {
   "cell_type": "code",
   "execution_count": 3,
   "metadata": {
    "colab": {
     "base_uri": "https://localhost:8080/"
    },
    "executionInfo": {
     "elapsed": 730,
     "status": "ok",
     "timestamp": 1614865969550,
     "user": {
      "displayName": "",
      "photoUrl": "",
      "userId": ""
     },
     "user_tz": 0
    },
    "id": "C2DfhDJYjymR",
    "outputId": "cd320b5d-8885-4ab3-8f7a-37333cf9672a"
   },
   "outputs": [
    {
     "name": "stdout",
     "output_type": "stream",
     "text": [
      "Model: \"sequential\"\n",
      "_________________________________________________________________\n",
      "Layer (type)                 Output Shape              Param #   \n",
      "=================================================================\n",
      "conv2d (Conv2D)              (None, 26, 26, 32)        320       \n",
      "_________________________________________________________________\n",
      "max_pooling2d (MaxPooling2D) (None, 13, 13, 32)        0         \n",
      "_________________________________________________________________\n",
      "conv2d_1 (Conv2D)            (None, 11, 11, 64)        18496     \n",
      "_________________________________________________________________\n",
      "max_pooling2d_1 (MaxPooling2 (None, 5, 5, 64)          0         \n",
      "_________________________________________________________________\n",
      "conv2d_2 (Conv2D)            (None, 3, 3, 64)          36928     \n",
      "_________________________________________________________________\n",
      "flatten (Flatten)            (None, 576)               0         \n",
      "_________________________________________________________________\n",
      "dense (Dense)                (None, 64)                36928     \n",
      "_________________________________________________________________\n",
      "dense_1 (Dense)              (None, 10)                650       \n",
      "=================================================================\n",
      "Total params: 93,322\n",
      "Trainable params: 93,322\n",
      "Non-trainable params: 0\n",
      "_________________________________________________________________\n"
     ]
    }
   ],
   "source": [
    "model.add(layers.Flatten())\n",
    "model.add(layers.Dense(64, activation='relu'))\n",
    "model.add(layers.Dense(10, activation='softmax'))\n",
    "model.summary()"
   ]
  },
  {
   "cell_type": "markdown",
   "metadata": {
    "id": "NOKVF4nKjymU"
   },
   "source": [
    "### Training the convnet on MNIST images"
   ]
  },
  {
   "cell_type": "code",
   "execution_count": 4,
   "metadata": {
    "executionInfo": {
     "elapsed": 783,
     "status": "ok",
     "timestamp": 1614865972302,
     "user": {
      "displayName": "",
      "photoUrl": "",
      "userId": ""
     },
     "user_tz": 0
    },
    "id": "oIcgUbbUjymV"
   },
   "outputs": [],
   "source": [
    "from keras.datasets import mnist\n",
    "from keras.utils import to_categorical"
   ]
  },
  {
   "cell_type": "markdown",
   "metadata": {
    "id": "ZnJ2Pfs_jymX"
   },
   "source": [
    "#### Load Data"
   ]
  },
  {
   "cell_type": "code",
   "execution_count": 5,
   "metadata": {
    "executionInfo": {
     "elapsed": 1281,
     "status": "ok",
     "timestamp": 1614865975872,
     "user": {
      "displayName": "",
      "photoUrl": "",
      "userId": ""
     },
     "user_tz": 0
    },
    "id": "JpHGHE9MjymY"
   },
   "outputs": [],
   "source": [
    "(train_images, train_labels), (test_images, test_labels) = mnist.load_data()\n",
    "train_images = train_images.reshape((60000, 28, 28, 1))\n",
    "train_images = train_images.astype('float32') / 255\n",
    "test_images = test_images.reshape((10000, 28, 28, 1))\n",
    "test_images = test_images.astype('float32') / 255\n",
    "train_labels = to_categorical(train_labels)\n",
    "test_labels = to_categorical(test_labels)"
   ]
  },
  {
   "cell_type": "markdown",
   "metadata": {
    "id": "4HoTLrfSjymd"
   },
   "source": [
    "#### compile and fit model "
   ]
  },
  {
   "cell_type": "code",
   "execution_count": 6,
   "metadata": {
    "colab": {
     "base_uri": "https://localhost:8080/"
    },
    "executionInfo": {
     "elapsed": 232101,
     "status": "ok",
     "timestamp": 1614866210203,
     "user": {
      "displayName": "",
      "photoUrl": "",
      "userId": ""
     },
     "user_tz": 0
    },
    "id": "i23FDtC9jyme",
    "outputId": "440a1092-1716-4cab-db1f-9ebc48843a61"
   },
   "outputs": [
    {
     "name": "stdout",
     "output_type": "stream",
     "text": [
      "Epoch 1/5\n",
      "750/750 [==============================] - 21s 27ms/step - loss: 0.4317 - accuracy: 0.8596 - val_loss: 0.0546 - val_accuracy: 0.9844\n",
      "Epoch 2/5\n",
      "750/750 [==============================] - 22s 29ms/step - loss: 0.0582 - accuracy: 0.9817 - val_loss: 0.0602 - val_accuracy: 0.9820\n",
      "Epoch 3/5\n",
      "750/750 [==============================] - 21s 28ms/step - loss: 0.0351 - accuracy: 0.9895 - val_loss: 0.0372 - val_accuracy: 0.9893\n",
      "Epoch 4/5\n",
      "750/750 [==============================] - 22s 29ms/step - loss: 0.0266 - accuracy: 0.9918 - val_loss: 0.0493 - val_accuracy: 0.9883\n",
      "Epoch 5/5\n",
      "750/750 [==============================] - 22s 29ms/step - loss: 0.0194 - accuracy: 0.9936 - val_loss: 0.0364 - val_accuracy: 0.9898\n"
     ]
    }
   ],
   "source": [
    "model.compile(optimizer='rmsprop', \n",
    "              loss='categorical_crossentropy',\n",
    "              metrics=['accuracy'])\n",
    "history = model.fit(train_images, train_labels, epochs=5, batch_size=64, validation_split=0.2)"
   ]
  },
  {
   "cell_type": "markdown",
   "metadata": {
    "id": "9zU8iI5ojymg"
   },
   "source": [
    "#### evaluate model"
   ]
  },
  {
   "cell_type": "code",
   "execution_count": 7,
   "metadata": {
    "colab": {
     "base_uri": "https://localhost:8080/"
    },
    "executionInfo": {
     "elapsed": 4151,
     "status": "ok",
     "timestamp": 1614866278634,
     "user": {
      "displayName": "",
      "photoUrl": "",
      "userId": ""
     },
     "user_tz": 0
    },
    "id": "Z3VeaL1Njymh",
    "outputId": "166e31dd-1117-428e-ed74-a3eb4a84d6ce"
   },
   "outputs": [
    {
     "name": "stdout",
     "output_type": "stream",
     "text": [
      "313/313 [==============================] - 1s 3ms/step - loss: 0.0280 - accuracy: 0.9914\n"
     ]
    },
    {
     "data": {
      "text/plain": [
       "0.9914000034332275"
      ]
     },
     "execution_count": 7,
     "metadata": {},
     "output_type": "execute_result"
    }
   ],
   "source": [
    "test_loss, test_acc = model.evaluate(test_images, test_labels)\n",
    "test_acc"
   ]
  },
  {
   "cell_type": "code",
   "execution_count": 8,
   "metadata": {},
   "outputs": [
    {
     "data": {
      "image/png": "[encoded data removed]",
      "text/plain": [
       "<Figure size 432x288 with 1 Axes>"
      ]
     },
     "metadata": {
      "needs_background": "light"
     },
     "output_type": "display_data"
    },
    {
     "data": {
      "image/png": "[encoded data removed]",
      "text/plain": [
       "<Figure size 432x288 with 1 Axes>"
      ]
     },
     "metadata": {
      "needs_background": "light"
     },
     "output_type": "display_data"
    }
   ],
   "source": [
    "import matplotlib.pyplot as plt\n",
    "\n",
    "acc = history.history['accuracy']\n",
    "val_acc = history.history['val_accuracy']\n",
    "loss = history.history['loss']\n",
    "val_loss = history.history['val_loss']\n",
    "\n",
    "epochs = range(1, len(acc) + 1)\n",
    "\n",
    "plt.plot(epochs, acc, 'bo', label='Training acc')\n",
    "plt.plot(epochs, val_acc, 'b', label='Validation acc')\n",
    "plt.title('Training and validation accuracy')\n",
    "plt.legend()\n",
    "\n",
    "plt.figure()\n",
    "\n",
    "plt.plot(epochs, loss, 'bo', label='Training loss')\n",
    "plt.plot(epochs, val_loss, 'b', label='Validation loss')\n",
    "plt.title('Training and validation loss')\n",
    "plt.legend()\n",
    "\n",
    "plt.show()"
   ]
  },
  {
   "cell_type": "markdown",
   "metadata": {
    "id": "dsQMc0Iojyml"
   },
   "source": [
    "## Task 1\n",
    "\n",
    "Change the activation function and other parameters such as optimizer to see the effect on the network and it's performance. If possible create a grid search. "
   ]
  },
  {
   "cell_type": "code",
   "execution_count": 10,
   "metadata": {
    "executionInfo": {
     "elapsed": 2875,
     "status": "ok",
     "timestamp": 1614861111684,
     "user": {
      "displayName": "",
      "photoUrl": "",
      "userId": ""
     },
     "user_tz": 0
    },
    "id": "owJ-29BrJXNa"
   },
   "outputs": [],
   "source": [
    "# Write code here\n",
    "from keras import layers\n",
    "from keras import models"
   ]
  },
  {
   "cell_type": "code",
   "execution_count": 11,
   "metadata": {
    "colab": {
     "base_uri": "https://localhost:8080/"
    },
    "executionInfo": {
     "elapsed": 1212,
     "status": "ok",
     "timestamp": 1614861146108,
     "user": {
      "displayName": "",
      "photoUrl": "",
      "userId": ""
     },
     "user_tz": 0
    },
    "id": "mlodUiTcONjU",
    "outputId": "e24d4d6e-5968-477b-b32a-3b01ebc33d09"
   },
   "outputs": [],
   "source": [
    "# Write code here\n",
    "from keras.wrappers.scikit_learn import KerasClassifier\n",
    "from sklearn.model_selection import GridSearchCV\n",
    "\n",
    "def create_model(optimizer='rmsprop', activation='sigmoid'):\n",
    "    model = models.Sequential()\n",
    "    model.add(layers.Conv2D(32, (3, 3), activation=activation, input_shape=(28, 28, 1)))\n",
    "    model.add(layers.MaxPooling2D((2, 2)))\n",
    "    model.add(layers.Conv2D(64, (3, 3), activation=activation))\n",
    "    model.add(layers.MaxPooling2D((2, 2)))\n",
    "    model.add(layers.Conv2D(64, (3, 3), activation=activation))\n",
    "    model.add(layers.Flatten())\n",
    "    model.add(layers.Dense(64, activation=activation))\n",
    "    model.add(layers.Dense(10, activation='softmax'))\n",
    "    model.compile(optimizer=optimizer, \n",
    "              loss='categorical_crossentropy',\n",
    "              metrics=['accuracy'])\n",
    "    return model\n",
    "\n",
    "#model = models.Sequential()\n",
    "#model.add(layers.Conv2D(32, (3, 3), activation='sigmoid', input_shape=(28, 28, 1)))\n",
    "#model.add(layers.MaxPooling2D((2, 2)))\n",
    "#model.add(layers.Conv2D(64, (3, 3), activation='sigmoid'))\n",
    "#model.add(layers.MaxPooling2D((2, 2)))\n",
    "#model.add(layers.Conv2D(64, (3, 3), activation='sigmoid'))\n",
    "#model.summary()"
   ]
  },
  {
   "cell_type": "code",
   "execution_count": 12,
   "metadata": {
    "colab": {
     "base_uri": "https://localhost:8080/"
    },
    "executionInfo": {
     "elapsed": 381,
     "status": "ok",
     "timestamp": 1614861190446,
     "user": {
      "displayName": "",
      "photoUrl": "",
      "userId": ""
     },
     "user_tz": 0
    },
    "id": "Jay1af_WOZL3",
    "outputId": "a12e85a9-db9d-4e5a-df1b-41b36334fcc1"
   },
   "outputs": [
    {
     "name": "stdout",
     "output_type": "stream",
     "text": [
      "Fitting 3 folds for each of 6 candidates, totalling 18 fits\n",
      "Epoch 1/10\n",
      "938/938 [==============================] - 27s 28ms/step - loss: 0.3187 - accuracy: 0.9071\n",
      "Epoch 2/10\n",
      "938/938 [==============================] - 26s 28ms/step - loss: 0.0510 - accuracy: 0.9852\n",
      "Epoch 3/10\n",
      "938/938 [==============================] - 25s 27ms/step - loss: 0.0345 - accuracy: 0.9897\n",
      "Epoch 4/10\n",
      "938/938 [==============================] - 26s 27ms/step - loss: 0.0244 - accuracy: 0.9927\n",
      "Epoch 5/10\n",
      "938/938 [==============================] - 26s 27ms/step - loss: 0.0172 - accuracy: 0.9947\n",
      "Epoch 6/10\n",
      "938/938 [==============================] - 26s 27ms/step - loss: 0.0134 - accuracy: 0.9961\n",
      "Epoch 7/10\n",
      "938/938 [==============================] - 26s 27ms/step - loss: 0.0092 - accuracy: 0.9976\n",
      "Epoch 8/10\n",
      "938/938 [==============================] - 25s 27ms/step - loss: 0.0079 - accuracy: 0.9978\n",
      "Epoch 9/10\n",
      "938/938 [==============================] - 27s 28ms/step - loss: 0.0061 - accuracy: 0.9981\n",
      "Epoch 10/10\n",
      "938/938 [==============================] - 26s 28ms/step - loss: 0.0047 - accuracy: 0.9987\n"
     ]
    }
   ],
   "source": [
    "model = KerasClassifier(build_fn=create_model, epochs=10, batch_size=64, verbose=1)\n",
    "\n",
    "optimizer = ['SGD', 'RMSprop','Adam']\n",
    "activation = ['sigmoid', 'tanh']\n",
    "param_grid = dict(optimizer=optimizer, activation=activation)\n",
    "grid = GridSearchCV(estimator=model, param_grid=param_grid, n_jobs=-1, cv=3, verbose=1)\n",
    "grid_result = grid.fit(train_images, train_labels)\n",
    "\n",
    "#model.add(layers.Flatten())\n",
    "#model.add(layers.Dense(64, activation='sigmoid'))\n",
    "#model.add(layers.Dense(10, activation='softmax'))\n",
    "#model.summary()"
   ]
  },
  {
   "cell_type": "code",
   "execution_count": 13,
   "metadata": {},
   "outputs": [
    {
     "name": "stdout",
     "output_type": "stream",
     "text": [
      "Best: 0.988267 using {'activation': 'tanh', 'optimizer': 'RMSprop'}\n"
     ]
    }
   ],
   "source": [
    "print(\"Best: %f using %s\" % (grid_result.best_score_, grid_result.best_params_))"
   ]
  },
  {
   "cell_type": "code",
   "execution_count": 14,
   "metadata": {},
   "outputs": [
    {
     "name": "stdout",
     "output_type": "stream",
     "text": [
      "0.107200 (0.006468) with: {'activation': 'sigmoid', 'optimizer': 'SGD'}\n",
      "0.983033 (0.000592) with: {'activation': 'sigmoid', 'optimizer': 'RMSprop'}\n",
      "0.985367 (0.000872) with: {'activation': 'sigmoid', 'optimizer': 'Adam'}\n",
      "0.971600 (0.000756) with: {'activation': 'tanh', 'optimizer': 'SGD'}\n",
      "0.988267 (0.001447) with: {'activation': 'tanh', 'optimizer': 'RMSprop'}\n",
      "0.985383 (0.000849) with: {'activation': 'tanh', 'optimizer': 'Adam'}\n"
     ]
    }
   ],
   "source": [
    "means = grid_result.cv_results_['mean_test_score']\n",
    "stds = grid_result.cv_results_['std_test_score']\n",
    "params = grid_result.cv_results_['params']\n",
    "for mean, stdev, param in zip(means, stds, params):\n",
    "    print(\"%f (%f) with: %r\" % (mean, stdev, param))"
   ]
  },
  {
   "cell_type": "code",
   "execution_count": 15,
   "metadata": {},
   "outputs": [
    {
     "name": "stdout",
     "output_type": "stream",
     "text": [
      "Model: \"sequential_2\"\n",
      "_________________________________________________________________\n",
      "Layer (type)                 Output Shape              Param #   \n",
      "=================================================================\n",
      "conv2d_6 (Conv2D)            (None, 26, 26, 32)        320       \n",
      "_________________________________________________________________\n",
      "max_pooling2d_4 (MaxPooling2 (None, 13, 13, 32)        0         \n",
      "_________________________________________________________________\n",
      "conv2d_7 (Conv2D)            (None, 11, 11, 64)        18496     \n",
      "_________________________________________________________________\n",
      "max_pooling2d_5 (MaxPooling2 (None, 5, 5, 64)          0         \n",
      "_________________________________________________________________\n",
      "conv2d_8 (Conv2D)            (None, 3, 3, 64)          36928     \n",
      "_________________________________________________________________\n",
      "flatten_2 (Flatten)          (None, 576)               0         \n",
      "_________________________________________________________________\n",
      "dense_4 (Dense)              (None, 64)                36928     \n",
      "_________________________________________________________________\n",
      "dense_5 (Dense)              (None, 10)                650       \n",
      "=================================================================\n",
      "Total params: 93,322\n",
      "Trainable params: 93,322\n",
      "Non-trainable params: 0\n",
      "_________________________________________________________________\n"
     ]
    }
   ],
   "source": [
    "model = models.Sequential()\n",
    "model.add(layers.Conv2D(32, (3, 3), activation='sigmoid', input_shape=(28, 28, 1)))\n",
    "model.add(layers.MaxPooling2D((2, 2)))\n",
    "model.add(layers.Conv2D(64, (3, 3), activation='sigmoid'))\n",
    "model.add(layers.MaxPooling2D((2, 2)))\n",
    "model.add(layers.Conv2D(64, (3, 3), activation='sigmoid'))\n",
    "model.add(layers.Flatten())\n",
    "model.add(layers.Dense(64, activation='sigmoid'))\n",
    "model.add(layers.Dense(10, activation='softmax'))\n",
    "model.compile(optimizer='rmsprop', \n",
    "            loss='categorical_crossentropy',\n",
    "            metrics=['accuracy'])\n",
    "model.summary()"
   ]
  },
  {
   "cell_type": "code",
   "execution_count": 16,
   "metadata": {},
   "outputs": [
    {
     "name": "stdout",
     "output_type": "stream",
     "text": [
      "Epoch 1/10\n",
      "750/750 [==============================] - 19s 25ms/step - loss: 1.6803 - accuracy: 0.4084 - val_loss: 0.2841 - val_accuracy: 0.9178\n",
      "Epoch 2/10\n",
      "750/750 [==============================] - 23s 30ms/step - loss: 0.2447 - accuracy: 0.9294 - val_loss: 0.1330 - val_accuracy: 0.9607\n",
      "Epoch 3/10\n",
      "750/750 [==============================] - 21s 29ms/step - loss: 0.1295 - accuracy: 0.9612 - val_loss: 0.0976 - val_accuracy: 0.9704\n",
      "Epoch 4/10\n",
      "750/750 [==============================] - 20s 27ms/step - loss: 0.0878 - accuracy: 0.9730 - val_loss: 0.0796 - val_accuracy: 0.9768\n",
      "Epoch 5/10\n",
      "750/750 [==============================] - 22s 29ms/step - loss: 0.0679 - accuracy: 0.9788 - val_loss: 0.0706 - val_accuracy: 0.9783\n",
      "Epoch 6/10\n",
      "750/750 [==============================] - 22s 29ms/step - loss: 0.0559 - accuracy: 0.9833 - val_loss: 0.0587 - val_accuracy: 0.9827\n",
      "Epoch 7/10\n",
      "750/750 [==============================] - 21s 28ms/step - loss: 0.0468 - accuracy: 0.9846 - val_loss: 0.0549 - val_accuracy: 0.9845\n",
      "Epoch 8/10\n",
      "750/750 [==============================] - 22s 29ms/step - loss: 0.0385 - accuracy: 0.9876 - val_loss: 0.0487 - val_accuracy: 0.9862\n",
      "Epoch 9/10\n",
      "750/750 [==============================] - 22s 29ms/step - loss: 0.0338 - accuracy: 0.9895 - val_loss: 0.0542 - val_accuracy: 0.9851\n",
      "Epoch 10/10\n",
      "750/750 [==============================] - 21s 29ms/step - loss: 0.0313 - accuracy: 0.9895 - val_loss: 0.0484 - val_accuracy: 0.9851\n"
     ]
    },
    {
     "data": {
      "text/plain": [
       "<tensorflow.python.keras.callbacks.History at 0x21f00060430>"
      ]
     },
     "execution_count": 16,
     "metadata": {},
     "output_type": "execute_result"
    }
   ],
   "source": [
    "model.fit(train_images, train_labels, epochs=10, batch_size=64, validation_split=0.2)"
   ]
  },
  {
   "cell_type": "code",
   "execution_count": 17,
   "metadata": {},
   "outputs": [],
   "source": [
    "import pandas as pd\n",
    "\n",
    "summary = pd.DataFrame(model.history.history)"
   ]
  },
  {
   "cell_type": "code",
   "execution_count": 18,
   "metadata": {},
   "outputs": [
    {
     "data": {
      "text/plain": [
       "<AxesSubplot:>"
      ]
     },
     "execution_count": 18,
     "metadata": {},
     "output_type": "execute_result"
    },
    {
     "data": {
      "image/png": "[encoded data removed]",
      "text/plain": [
       "<Figure size 432x288 with 1 Axes>"
      ]
     },
     "metadata": {
      "needs_background": "light"
     },
     "output_type": "display_data"
    }
   ],
   "source": [
    "summary[['loss','val_loss']].plot()"
   ]
  },
  {
   "cell_type": "code",
   "execution_count": 20,
   "metadata": {},
   "outputs": [
    {
     "data": {
      "text/plain": [
       "<AxesSubplot:>"
      ]
     },
     "execution_count": 20,
     "metadata": {},
     "output_type": "execute_result"
    },
    {
     "data": {
      "image/png": "[encoded data removed]",
      "text/plain": [
       "<Figure size 432x288 with 1 Axes>"
      ]
     },
     "metadata": {
      "needs_background": "light"
     },
     "output_type": "display_data"
    }
   ],
   "source": [
    "summary[['accuracy','val_accuracy']].plot()"
   ]
  },
  {
   "cell_type": "code",
   "execution_count": 21,
   "metadata": {
    "executionInfo": {
     "elapsed": 410,
     "status": "ok",
     "timestamp": 1614861442921,
     "user": {
      "displayName": "",
      "photoUrl": "",
      "userId": ""
     },
     "user_tz": 0
    },
    "id": "2pAJE1zNOkN0"
   },
   "outputs": [],
   "source": [
    "#from keras.datasets import mnist\n",
    "#from keras.utils import to_categorical"
   ]
  },
  {
   "cell_type": "code",
   "execution_count": 22,
   "metadata": {
    "colab": {
     "base_uri": "https://localhost:8080/"
    },
    "executionInfo": {
     "elapsed": 1427,
     "status": "ok",
     "timestamp": 1614861456869,
     "user": {
      "displayName": "",
      "photoUrl": "",
      "userId": ""
     },
     "user_tz": 0
    },
    "id": "FazdPEG1Ovcf",
    "outputId": "be6af1bf-0e85-44d3-d1d0-e55def84f428"
   },
   "outputs": [],
   "source": [
    "#(train_images, train_labels), (test_images, test_labels) = mnist.load_data()\n",
    "#train_images = train_images.reshape((60000, 28, 28, 1))\n",
    "#train_images = train_images.astype('float32') / 255\n",
    "#test_images = test_images.reshape((10000, 28, 28, 1))\n",
    "#test_images = test_images.astype('float32') / 255\n",
    "#train_labels = to_categorical(train_labels)\n",
    "#test_labels = to_categorical(test_labels)"
   ]
  },
  {
   "cell_type": "code",
   "execution_count": 23,
   "metadata": {
    "colab": {
     "base_uri": "https://localhost:8080/"
    },
    "executionInfo": {
     "elapsed": 245036,
     "status": "ok",
     "timestamp": 1614861764540,
     "user": {
      "displayName": "",
      "photoUrl": "",
      "userId": ""
     },
     "user_tz": 0
    },
    "id": "3Sl5SW-KPlAW",
    "outputId": "16d8f84c-138b-4d01-8525-08c146787704"
   },
   "outputs": [],
   "source": [
    "#model.compile(optimizer='sgd', \n",
    "#              loss='categorical_crossentropy',\n",
    "#              metrics=['accuracy'])\n",
    "#history = model.fit(train_images, train_labels, epochs=5, batch_size=64, validation_split=0.2)"
   ]
  },
  {
   "cell_type": "code",
   "execution_count": 24,
   "metadata": {
    "colab": {
     "base_uri": "https://localhost:8080/"
    },
    "executionInfo": {
     "elapsed": 4194,
     "status": "ok",
     "timestamp": 1614865892315,
     "user": {
      "displayName": "",
      "photoUrl": "",
      "userId": ""
     },
     "user_tz": 0
    },
    "id": "Jl_gVzsmP0pi",
    "outputId": "68639613-032c-4e39-9dfd-9274f40185cc"
   },
   "outputs": [],
   "source": [
    "#test_loss, test_acc = model.evaluate(test_images, test_labels)\n",
    "#test_acc"
   ]
  },
  {
   "cell_type": "code",
   "execution_count": 25,
   "metadata": {
    "executionInfo": {
     "elapsed": 1283,
     "status": "ok",
     "timestamp": 1614875048646,
     "user": {
      "displayName": "",
      "photoUrl": "",
      "userId": ""
     },
     "user_tz": 0
    },
    "id": "_S_cCaxPghJ4"
   },
   "outputs": [],
   "source": [
    "#from sklearn.model_selection import GridSearchCV, KFold\n",
    "#from keras.models import Sequential\n",
    "#from keras.layers import Dense, Dropout\n",
    "#from keras.wrappers.scikit_learn import KerasClassifier\n",
    "#from keras.optimizers import Adam\n",
    "#import sys\n",
    "\n",
    "#def create_model(learn_rate, dropout_rate):\n",
    "#       model = Sequential()\n",
    "#    model.add(Dense(8, input_dim=8, kernel_initializer='normal', activation='relu'))\n",
    "#    model.add(Dropout(dropout_rate))\n",
    "#    model.add(Dense(4, input_dim=8, kernel_initializer='normal', activation='relu'))\n",
    "#    model.add(Dropout(dropout_rate))\n",
    "#    model.add(Dense(1, activation='sigmoid'))\n",
    "#    adam = Adam(lr=learn_rate)\n",
    "#    model.compile(loss='binary_crossentropy', optimizer=adam, metrics=['accuracy'])\n",
    "#    return model\n",
    "#classifier = KerasClassifier(build_fn = create_model, verbose=1) "
   ]
  },
  {
   "cell_type": "code",
   "execution_count": null,
   "metadata": {
    "id": "tnTftVoSDnuk"
   },
   "outputs": [],
   "source": [
    "#learn_rate = [0.001, 0.02, 0.2]\n",
    "#dropout_rate = [0.0, 0.2, 0.4]\n",
    "#batch_size = [10, 20, 30]\n",
    "#epochs = [1, 5, 10]\n",
    "\n",
    "#seed = 42\n",
    "#param_grid = dict(learn_rate=learn_rate, dropout_rate=dropout_rate, batch_size=batch_size, epochs=epochs )\n",
    "#grid = GridSearchCV(estimator=model, param_grid=param_grid,\n",
    "#                    cv=KFold(random_state=seed), verbose=10)\n",
    "#grid_results = grid.fit(X, Y)\n",
    "#print(\"Best: {0}, using {1}\".format(grid_results.best_score_, grid_results.best_params_))\n",
    "#means = grid_results.cv_results_['mean_test_score']\n",
    "#stds = grid_results.cv_results_['std_test_score']\n",
    "#params = grid_results.cv_results_['params']\n",
    "#for mean, stdev, param in zip(means, stds, params):\n",
    "#    print('{0} ({1}) with: {2}'.format(mean, stdev, param))"
   ]
  }
 ],
 "metadata": {
  "colab": {
   "name": "Copy of CNN.ipynb",
   "provenance": [
    {
     "file_id": "https://github.com/sagihaider/CE888_2021/blob/main/Lab_7/Exercise_1_CNN.ipynb",
     "timestamp": 1614880975289
    }
   ]
  },
  "kernelspec": {
   "display_name": "Python 3",
   "language": "python",
   "name": "python3"
  },
  "language_info": {
   "codemirror_mode": {
    "name": "ipython",
    "version": 3
   },
   "file_extension": ".py",
   "mimetype": "text/x-python",
   "name": "python",
   "nbconvert_exporter": "python",
   "pygments_lexer": "ipython3",
   "version": "3.8.8"
  }
 },
 "nbformat": 4,
 "nbformat_minor": 1
}
