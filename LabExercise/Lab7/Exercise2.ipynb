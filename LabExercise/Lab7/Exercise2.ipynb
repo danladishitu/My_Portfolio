{
 "cells": [
  {
   "cell_type": "markdown",
   "metadata": {
    "id": "qTh9DiKVslsJ"
   },
   "source": [
    "## Dogs vs. Cats \n",
    "\n",
    "In this competition, you'll write an algorithm to classify whether images contain either a dog or a cat.  This is easy for humans, dogs, and cats. Your computer will find it a bit more difficult.\n",
    "\n",
    "![alt text](https://miro.medium.com/max/3000/1*bhFifratH9DjKqMBTeQG5A.gif)\n",
    "\n",
    "Ref: https://medium.com/@thegrigorian/rolling-in-the-deep-cnn-c8d3f7108c8c"
   ]
  },
  {
   "cell_type": "markdown",
   "metadata": {
    "id": "RSBI-_mSSY1g"
   },
   "source": [
    "Get your API Key from Kaggle using following steps:\n",
    "1. Login to [Kaggle](https://www.kaggle.com/) or Register if you don't have account\n",
    "2. Open Dataset (https://www.kaggle.com/c/dogs-vs-cats/rules) and accept terms and condition. \n",
    "3. On the top right corner click on your Icon and go to accounts and press a button \"Create New API Token\". It will download a JSON file containing your username and key. \n",
    "4. Now, paste both below. \n"
   ]
  },
  {
   "cell_type": "code",
   "execution_count": 3,
   "metadata": {
    "id": "YmXSOc0tZIGA"
   },
   "outputs": [],
   "source": [
    "import os\n",
    "os.environ['KAGGLE_USERNAME'] = \"kazeemdanladishitu\" # username from the json file\n",
    "os.environ['KAGGLE_KEY'] = \"17536260d49616bf8349f45b166de621\" # key from the json file"
   ]
  },
  {
   "cell_type": "code",
   "execution_count": 4,
   "metadata": {
    "colab": {
     "base_uri": "https://localhost:8080/",
     "height": 351
    },
    "executionInfo": {
     "elapsed": 562,
     "status": "error",
     "timestamp": 1614862667583,
     "user": {
      "displayName": "",
      "photoUrl": "",
      "userId": ""
     },
     "user_tz": 0
    },
    "id": "PiwIL8d1n7eS",
    "outputId": "335e6199-5bc0-4af0-c7d5-28ab0b78cfa4"
   },
   "outputs": [
    {
     "name": "stdout",
     "output_type": "stream",
     "text": [
      "done\n"
     ]
    }
   ],
   "source": [
    "# Unzip training data\n",
    "from zipfile import ZipFile\n",
    "file_name = \"content/train.zip\"\n",
    "with ZipFile(file_name, 'r') as zip:\n",
    "  zip.extractall()\n",
    "  print('done')"
   ]
  },
  {
   "cell_type": "code",
   "execution_count": 5,
   "metadata": {
    "id": "sa2Bj5i7pPKV"
   },
   "outputs": [
    {
     "name": "stdout",
     "output_type": "stream",
     "text": [
      "25000\n"
     ]
    }
   ],
   "source": [
    "# Get all the paths\n",
    "data_dir_list = os.listdir('content/train')\n",
    "#print(data_dir_list)\n",
    "path, dirs, files = next(os.walk(\"content/train\"))\n",
    "file_count = len(files)\n",
    "print(file_count)"
   ]
  },
  {
   "cell_type": "code",
   "execution_count": 8,
   "metadata": {
    "id": "0ERlHkfHqpK8"
   },
   "outputs": [],
   "source": [
    "# Make new base directory\n",
    "original_dataset_dir = 'content/train'\n",
    "base_dir = 'content/cats_and_dogs_small'\n",
    "os.mkdir(base_dir)"
   ]
  },
  {
   "cell_type": "code",
   "execution_count": 9,
   "metadata": {
    "id": "AANB1UJ6rQhM"
   },
   "outputs": [],
   "source": [
    "train_dir = os.path.join(base_dir, 'train')\n",
    "os.mkdir(train_dir)\n",
    "\n",
    "validation_dir = os.path.join(base_dir, 'validation')\n",
    "os.mkdir(validation_dir)\n",
    "\n",
    "test_dir = os.path.join(base_dir, 'test')\n",
    "os.mkdir(test_dir)\n",
    "\n",
    "train_cats_dir = os.path.join(train_dir, 'cats')\n",
    "os.mkdir(train_cats_dir)\n",
    "\n",
    "train_dogs_dir = os.path.join(train_dir, 'dogs')\n",
    "os.mkdir(train_dogs_dir)\n",
    "\n",
    "validation_cats_dir = os.path.join(validation_dir, 'cats')\n",
    "os.mkdir(validation_cats_dir)\n",
    "\n",
    "validation_dogs_dir = os.path.join(validation_dir, 'dogs')\n",
    "os.mkdir(validation_dogs_dir)\n",
    "\n",
    "test_cats_dir = os.path.join(test_dir, 'cats')\n",
    "os.mkdir(test_cats_dir)\n",
    "\n",
    "test_dogs_dir = os.path.join(test_dir, 'dogs')\n",
    "os.mkdir(test_dogs_dir)"
   ]
  },
  {
   "cell_type": "code",
   "execution_count": 10,
   "metadata": {
    "id": "ULRgL9s9rV8T"
   },
   "outputs": [],
   "source": [
    "import shutil\n",
    "fnames = ['cat.{}.jpg'.format(i) for i in range(1000)]\n",
    "for fname in fnames:\n",
    "    src = os.path.join(original_dataset_dir, fname)\n",
    "    dst = os.path.join(train_cats_dir, fname)\n",
    "    #print(src,dst)\n",
    "    shutil.copyfile(src, dst)\n",
    "    \n",
    "fnames = ['cat.{}.jpg'.format(i) for i in range(1000, 1500)]\n",
    "for fname in fnames:\n",
    "    src = os.path.join(original_dataset_dir, fname)\n",
    "    dst = os.path.join(validation_cats_dir, fname)\n",
    "    shutil.copyfile(src, dst)\n",
    "\n",
    "fnames = ['cat.{}.jpg'.format(i) for i in range(1500, 2000)]\n",
    "for fname in fnames:\n",
    "    src = os.path.join(original_dataset_dir, fname)\n",
    "    dst = os.path.join(test_cats_dir, fname)\n",
    "    shutil.copyfile(src, dst)\n",
    "    \n",
    "fnames = ['dog.{}.jpg'.format(i) for i in range(1000)]\n",
    "for fname in fnames:\n",
    "    src = os.path.join(original_dataset_dir, fname)\n",
    "    dst = os.path.join(train_dogs_dir, fname)\n",
    "    shutil.copyfile(src, dst)\n",
    "\n",
    "fnames = ['dog.{}.jpg'.format(i) for i in range(1000, 1500)]\n",
    "for fname in fnames:\n",
    "    src = os.path.join(original_dataset_dir, fname)\n",
    "    dst = os.path.join(validation_dogs_dir, fname)\n",
    "    shutil.copyfile(src, dst)\n",
    "\n",
    "fnames = ['dog.{}.jpg'.format(i) for i in range(1500, 2000)]\n",
    "for fname in fnames:\n",
    "    src = os.path.join(original_dataset_dir, fname)\n",
    "    dst = os.path.join(test_dogs_dir, fname)\n",
    "    shutil.copyfile(src, dst)"
   ]
  },
  {
   "cell_type": "code",
   "execution_count": 11,
   "metadata": {
    "colab": {
     "base_uri": "https://localhost:8080/",
     "height": 126
    },
    "id": "ul3XAbIyr7vC",
    "outputId": "08478cad-7949-4c2f-fd14-8f770755edd9"
   },
   "outputs": [
    {
     "name": "stdout",
     "output_type": "stream",
     "text": [
      "total training cat images: 1000\n",
      "total training dog images: 1000\n",
      "total validation cat images: 500\n",
      "total validation dog images: 500\n",
      "total test cat images: 500\n",
      "total test dog images: 500\n"
     ]
    }
   ],
   "source": [
    "print('total training cat images:', len(os.listdir(train_cats_dir)))\n",
    "print('total training dog images:', len(os.listdir(train_dogs_dir)))\n",
    "print('total validation cat images:', len(os.listdir(validation_cats_dir)))\n",
    "\n",
    "print('total validation dog images:', len(os.listdir(validation_dogs_dir)))\n",
    "print('total test cat images:', len(os.listdir(test_cats_dir)))\n",
    "print('total test dog images:', len(os.listdir(test_dogs_dir)))"
   ]
  },
  {
   "cell_type": "code",
   "execution_count": 12,
   "metadata": {
    "colab": {
     "base_uri": "https://localhost:8080/",
     "height": 794
    },
    "id": "o9yTA21_r-ma",
    "outputId": "b07348ee-29e6-4ecd-b4f2-f7d3ad8ef4e4"
   },
   "outputs": [
    {
     "name": "stdout",
     "output_type": "stream",
     "text": [
      "Model: \"sequential\"\n",
      "_________________________________________________________________\n",
      "Layer (type)                 Output Shape              Param #   \n",
      "=================================================================\n",
      "conv2d (Conv2D)              (None, 148, 148, 32)      896       \n",
      "_________________________________________________________________\n",
      "max_pooling2d (MaxPooling2D) (None, 74, 74, 32)        0         \n",
      "_________________________________________________________________\n",
      "conv2d_1 (Conv2D)            (None, 72, 72, 64)        18496     \n",
      "_________________________________________________________________\n",
      "max_pooling2d_1 (MaxPooling2 (None, 36, 36, 64)        0         \n",
      "_________________________________________________________________\n",
      "conv2d_2 (Conv2D)            (None, 34, 34, 128)       73856     \n",
      "_________________________________________________________________\n",
      "max_pooling2d_2 (MaxPooling2 (None, 17, 17, 128)       0         \n",
      "_________________________________________________________________\n",
      "conv2d_3 (Conv2D)            (None, 15, 15, 128)       147584    \n",
      "_________________________________________________________________\n",
      "max_pooling2d_3 (MaxPooling2 (None, 7, 7, 128)         0         \n",
      "_________________________________________________________________\n",
      "flatten (Flatten)            (None, 6272)              0         \n",
      "_________________________________________________________________\n",
      "dense (Dense)                (None, 512)               3211776   \n",
      "_________________________________________________________________\n",
      "dense_1 (Dense)              (None, 1)                 513       \n",
      "=================================================================\n",
      "Total params: 3,453,121\n",
      "Trainable params: 3,453,121\n",
      "Non-trainable params: 0\n",
      "_________________________________________________________________\n"
     ]
    }
   ],
   "source": [
    "from keras import layers\n",
    "from keras import models\n",
    "\n",
    "model = models.Sequential()\n",
    "model.add(layers.Conv2D(32, (3, 3), activation='relu', input_shape=(150, 150, 3)))\n",
    "model.add(layers.MaxPooling2D((2, 2)))\n",
    "model.add(layers.Conv2D(64, (3, 3), activation='relu'))\n",
    "model.add(layers.MaxPooling2D((2, 2)))\n",
    "model.add(layers.Conv2D(128, (3, 3), activation='relu'))\n",
    "model.add(layers.MaxPooling2D((2, 2)))\n",
    "model.add(layers.Conv2D(128, (3, 3), activation='relu'))\n",
    "model.add(layers.MaxPooling2D((2, 2)))\n",
    "model.add(layers.Flatten())\n",
    "model.add(layers.Dense(512, activation='relu'))\n",
    "model.add(layers.Dense(1, activation='sigmoid'))\n",
    "model.summary()"
   ]
  },
  {
   "cell_type": "code",
   "execution_count": 13,
   "metadata": {
    "colab": {
     "base_uri": "https://localhost:8080/",
     "height": 165
    },
    "id": "2mG8wekxsBVS",
    "outputId": "7a4d3932-3c3e-405c-81e3-7466b7e624c7"
   },
   "outputs": [],
   "source": [
    "from keras import optimizers\n",
    "model.compile(loss='binary_crossentropy', \n",
    "              optimizer=optimizers.RMSprop(lr=1e-4),\n",
    "              metrics=['acc'])"
   ]
  },
  {
   "cell_type": "markdown",
   "metadata": {
    "id": "7zS4Klm8qWp6"
   },
   "source": [
    "## Using ImageDataGenerator to read images from directories\n",
    "As you know by now, data should be formatted into appropriately preprocessed floatingpoint tensors before being fed into the network. Currently, the data sits on a drive as JPEG files, so the steps for getting it into the network are roughly as follows:\n",
    "\n",
    "* Read the picture files.\n",
    "* Decode the JPEG content to RGB grids of pixels.\n",
    "* Convert these into floating-point tensors.\n",
    "* Rescale the pixel values (between 0 and 255) to the [0, 1] interval (as you know, neural networks prefer to deal with small input values).\n",
    "\n",
    "It may seem a bit daunting, but fortunately Keras has utilities to take care of these steps automatically. Keras has a module with image-processing helper tools, located at keras.preprocessing.image. In particular, it contains the class ImageDataGenerator,which lets you quickly set up Python generators that can automatically turn image files on disk into batches of preprocessed tensors."
   ]
  },
  {
   "cell_type": "code",
   "execution_count": 14,
   "metadata": {
    "colab": {
     "base_uri": "https://localhost:8080/",
     "height": 54
    },
    "id": "XJ7XU7t9sEh6",
    "outputId": "fa65adfb-672f-4953-a246-f0e720624b6e"
   },
   "outputs": [
    {
     "name": "stdout",
     "output_type": "stream",
     "text": [
      "Found 2000 images belonging to 2 classes.\n",
      "Found 1000 images belonging to 2 classes.\n"
     ]
    }
   ],
   "source": [
    "from keras.preprocessing.image import ImageDataGenerator\n",
    "\n",
    "train_datagen = ImageDataGenerator(rescale=1./255)\n",
    "test_datagen = ImageDataGenerator(rescale=1./255)\n",
    "\n",
    "train_generator = train_datagen.flow_from_directory(train_dir,\n",
    "                                                    target_size=(150, 150), \n",
    "                                                    batch_size=20,\n",
    "                                                    class_mode='binary')\n",
    "\n",
    "validation_generator = test_datagen.flow_from_directory(validation_dir,\n",
    "                                                        target_size=(150, 150),\n",
    "                                                        batch_size=20,\n",
    "                                                        class_mode='binary')"
   ]
  },
  {
   "cell_type": "markdown",
   "metadata": {
    "id": "SEgLywySqm4u"
   },
   "source": [
    "Let’s fit the model to the data using the generator. You do so using the fit_generator method, the equivalent of fit for data generators like this one. It expects as its first argument a Python generator that will yield batches of inputs and targets indefinitely,like this one does. Because the data is being generated endlessly, the Keras model needs to know how many samples to draw from the generator before declaring anepoch over. This is the role of the `steps_per_epoch` argument: after having drawn `steps_per_epoch` batches from the generator—that is, after having run for `steps_per_epoch` gradient descent steps—the fitting process will go to the next epoch. In this case, batches are 20 samples, so it will take 100 batches until you see your target of 2,000 samples.\n",
    "\n",
    "When using fit_generator, you can pass a validation_data argument, much as with the fit method. It’s important to note that this argument is allowed to be a data generator, but it could also be a tuple of Numpy arrays. If you pass a generator as validation_data, then this generator is expected to yield batches of validation data endlessly; thus you should also specify the validation_steps argument, which tells the process how many batches to draw from the validation generator for evaluation."
   ]
  },
  {
   "cell_type": "code",
   "execution_count": 15,
   "metadata": {
    "colab": {
     "base_uri": "https://localhost:8080/",
     "height": 1000
    },
    "id": "yMyfPphJsJG6",
    "outputId": "327d5f4e-31e9-4d8f-fc2e-757e5da644ef"
   },
   "outputs": [
    {
     "name": "stderr",
     "output_type": "stream",
     "text": [
      "C:\\Users\\danla\\anaconda3\\lib\\site-packages\\tensorflow\\python\\keras\\engine\\training.py:1844: UserWarning: `Model.fit_generator` is deprecated and will be removed in a future version. Please use `Model.fit`, which supports generators.\n",
      "  warnings.warn('`Model.fit_generator` is deprecated and '\n"
     ]
    },
    {
     "name": "stdout",
     "output_type": "stream",
     "text": [
      "Epoch 1/30\n",
      "100/100 [==============================] - 44s 432ms/step - loss: 0.7024 - acc: 0.4998 - val_loss: 0.6826 - val_acc: 0.5800\n",
      "Epoch 2/30\n",
      "100/100 [==============================] - 42s 419ms/step - loss: 0.6669 - acc: 0.6152 - val_loss: 0.6344 - val_acc: 0.6450\n",
      "Epoch 3/30\n",
      "100/100 [==============================] - 41s 411ms/step - loss: 0.6290 - acc: 0.6540 - val_loss: 0.6768 - val_acc: 0.5600\n",
      "Epoch 4/30\n",
      "100/100 [==============================] - 42s 415ms/step - loss: 0.5764 - acc: 0.7065 - val_loss: 0.6315 - val_acc: 0.6650\n",
      "Epoch 5/30\n",
      "100/100 [==============================] - 41s 414ms/step - loss: 0.5468 - acc: 0.7435 - val_loss: 0.6467 - val_acc: 0.6450\n",
      "Epoch 6/30\n",
      "100/100 [==============================] - 42s 418ms/step - loss: 0.5021 - acc: 0.7709 - val_loss: 0.5682 - val_acc: 0.6900\n",
      "Epoch 7/30\n",
      "100/100 [==============================] - 41s 409ms/step - loss: 0.4722 - acc: 0.7884 - val_loss: 0.5475 - val_acc: 0.7100\n",
      "Epoch 8/30\n",
      "100/100 [==============================] - 41s 413ms/step - loss: 0.4620 - acc: 0.7720 - val_loss: 0.5220 - val_acc: 0.7300\n",
      "Epoch 9/30\n",
      "100/100 [==============================] - 42s 423ms/step - loss: 0.4145 - acc: 0.8113 - val_loss: 0.5928 - val_acc: 0.6750\n",
      "Epoch 10/30\n",
      "100/100 [==============================] - 42s 419ms/step - loss: 0.4123 - acc: 0.8118 - val_loss: 0.6190 - val_acc: 0.7000\n",
      "Epoch 11/30\n",
      "100/100 [==============================] - 42s 417ms/step - loss: 0.3776 - acc: 0.8445 - val_loss: 0.6639 - val_acc: 0.6650\n",
      "Epoch 12/30\n",
      "100/100 [==============================] - 42s 418ms/step - loss: 0.3445 - acc: 0.8581 - val_loss: 0.4947 - val_acc: 0.7800\n",
      "Epoch 13/30\n",
      "100/100 [==============================] - 41s 410ms/step - loss: 0.3249 - acc: 0.8640 - val_loss: 0.5280 - val_acc: 0.7750\n",
      "Epoch 14/30\n",
      "100/100 [==============================] - 44s 438ms/step - loss: 0.3032 - acc: 0.8669 - val_loss: 0.5679 - val_acc: 0.7250\n",
      "Epoch 15/30\n",
      "100/100 [==============================] - 42s 418ms/step - loss: 0.2832 - acc: 0.8854 - val_loss: 0.5773 - val_acc: 0.7200\n",
      "Epoch 16/30\n",
      "100/100 [==============================] - 43s 433ms/step - loss: 0.2594 - acc: 0.8994 - val_loss: 0.5826 - val_acc: 0.7000\n",
      "Epoch 17/30\n",
      "100/100 [==============================] - 43s 429ms/step - loss: 0.2331 - acc: 0.9077 - val_loss: 0.7025 - val_acc: 0.6850\n",
      "Epoch 18/30\n",
      "100/100 [==============================] - 42s 417ms/step - loss: 0.2209 - acc: 0.9156 - val_loss: 0.8396 - val_acc: 0.6600\n",
      "Epoch 19/30\n",
      "100/100 [==============================] - 43s 426ms/step - loss: 0.1800 - acc: 0.9260 - val_loss: 0.7246 - val_acc: 0.7050\n",
      "Epoch 20/30\n",
      "100/100 [==============================] - 43s 428ms/step - loss: 0.1603 - acc: 0.9444 - val_loss: 0.6161 - val_acc: 0.7400\n",
      "Epoch 21/30\n",
      "100/100 [==============================] - 42s 416ms/step - loss: 0.1500 - acc: 0.9536 - val_loss: 0.6881 - val_acc: 0.7300\n",
      "Epoch 22/30\n",
      "100/100 [==============================] - 43s 431ms/step - loss: 0.1369 - acc: 0.9506 - val_loss: 0.7682 - val_acc: 0.6950\n",
      "Epoch 23/30\n",
      "100/100 [==============================] - 42s 423ms/step - loss: 0.1110 - acc: 0.9608 - val_loss: 1.0468 - val_acc: 0.6800\n",
      "Epoch 24/30\n",
      "100/100 [==============================] - 45s 445ms/step - loss: 0.1012 - acc: 0.9589 - val_loss: 0.7136 - val_acc: 0.7100\n",
      "Epoch 25/30\n",
      "100/100 [==============================] - 44s 438ms/step - loss: 0.0777 - acc: 0.9844 - val_loss: 0.9405 - val_acc: 0.7150\n",
      "Epoch 26/30\n",
      "100/100 [==============================] - 42s 423ms/step - loss: 0.0618 - acc: 0.9901 - val_loss: 0.9050 - val_acc: 0.6950\n",
      "Epoch 27/30\n",
      "100/100 [==============================] - 42s 423ms/step - loss: 0.0729 - acc: 0.9791 - val_loss: 0.9511 - val_acc: 0.7050\n",
      "Epoch 28/30\n",
      "100/100 [==============================] - 43s 434ms/step - loss: 0.0502 - acc: 0.9865 - val_loss: 1.0271 - val_acc: 0.7000\n",
      "Epoch 29/30\n",
      "100/100 [==============================] - 44s 437ms/step - loss: 0.0387 - acc: 0.9940 - val_loss: 0.8409 - val_acc: 0.7650\n",
      "Epoch 30/30\n",
      "100/100 [==============================] - 43s 431ms/step - loss: 0.0487 - acc: 0.9866 - val_loss: 1.0509 - val_acc: 0.6800\n"
     ]
    }
   ],
   "source": [
    "history = model.fit_generator(train_generator,\n",
    "                              steps_per_epoch=100,\n",
    "                              epochs=30,\n",
    "                              validation_data=validation_generator,\n",
    "                              validation_steps=10)"
   ]
  },
  {
   "cell_type": "code",
   "execution_count": 16,
   "metadata": {
    "colab": {
     "base_uri": "https://localhost:8080/",
     "height": 545
    },
    "id": "MZaZ2HWZsNUi",
    "outputId": "53e28de5-14bb-4d86-93a8-0216eb5ed99a"
   },
   "outputs": [
    {
     "data": {
      "image/png": "[encoded data removed]",
      "text/plain": [
       "<Figure size 432x288 with 1 Axes>"
      ]
     },
     "metadata": {
      "needs_background": "light"
     },
     "output_type": "display_data"
    },
    {
     "data": {
      "image/png": "[encoded data removed]",
      "text/plain": [
       "<Figure size 432x288 with 1 Axes>"
      ]
     },
     "metadata": {
      "needs_background": "light"
     },
     "output_type": "display_data"
    }
   ],
   "source": [
    "model.save('cats_and_dogs_small_1.h5')\n",
    "\n",
    "import matplotlib.pyplot as plt\n",
    "\n",
    "acc = history.history['acc']\n",
    "val_acc = history.history['val_acc']\n",
    "loss = history.history['loss']\n",
    "val_loss = history.history['val_loss']\n",
    "\n",
    "epochs = range(1, len(acc) + 1)\n",
    "\n",
    "plt.plot(epochs, acc, 'bo', label='Training acc')\n",
    "plt.plot(epochs, val_acc, 'b', label='Validation acc')\n",
    "plt.title('Training and validation accuracy')\n",
    "plt.legend()\n",
    "\n",
    "plt.figure()\n",
    "\n",
    "plt.plot(epochs, loss, 'bo', label='Training loss')\n",
    "plt.plot(epochs, val_loss, 'b', label='Validation loss')\n",
    "plt.title('Training and validation loss')\n",
    "plt.legend()\n",
    "\n",
    "plt.show()"
   ]
  },
  {
   "cell_type": "markdown",
   "metadata": {
    "id": "XKZmXmBcq_8-"
   },
   "source": [
    "## Convolutional Networks with Dropout\n",
    "\n",
    "![alt text](https://camo.githubusercontent.com/ee6fa1073247cd2c3d241300caf110d7a7541bc5/68747470733a2f2f63646e2d696d616765732d312e6d656469756d2e636f6d2f6d61782f3830302f312a4972644a355067684439596f4f7956415137334d4a772e676966)\n",
    "\n",
    "Ref: https://github.com/mneha4/Training-Neural-Nets---Guidelines"
   ]
  },
  {
   "cell_type": "code",
   "execution_count": 17,
   "metadata": {
    "colab": {
     "base_uri": "https://localhost:8080/",
     "height": 128
    },
    "id": "wu3cqeYQrDeN",
    "outputId": "6d0496d8-2548-4bab-e5b4-95d684ab5c20"
   },
   "outputs": [],
   "source": [
    "model = models.Sequential()\n",
    "model.add(layers.Conv2D(32, (3, 3), activation='relu',\n",
    "input_shape=(150, 150, 3)))\n",
    "model.add(layers.MaxPooling2D((2, 2)))\n",
    "model.add(layers.Conv2D(64, (3, 3), activation='relu'))\n",
    "model.add(layers.MaxPooling2D((2, 2)))\n",
    "model.add(layers.Conv2D(128, (3, 3), activation='relu'))\n",
    "model.add(layers.MaxPooling2D((2, 2)))\n",
    "model.add(layers.Conv2D(128, (3, 3), activation='relu'))\n",
    "model.add(layers.MaxPooling2D((2, 2)))\n",
    "model.add(layers.Flatten())\n",
    "model.add(layers.Dropout(0.5))\n",
    "model.add(layers.Dense(512, activation='relu'))\n",
    "model.add(layers.Dense(1, activation='sigmoid'))\n",
    "\n",
    "model.compile(loss='binary_crossentropy',\n",
    "              optimizer=optimizers.RMSprop(lr=1e-4),\n",
    "              metrics=['acc'])"
   ]
  },
  {
   "cell_type": "code",
   "execution_count": 18,
   "metadata": {
    "colab": {
     "base_uri": "https://localhost:8080/",
     "height": 781
    },
    "id": "QSeLpvY0rH7F",
    "outputId": "a3b3a41b-bd03-4e45-c55a-61f8bcaeeb81"
   },
   "outputs": [
    {
     "name": "stdout",
     "output_type": "stream",
     "text": [
      "Found 2000 images belonging to 2 classes.\n",
      "Found 1000 images belonging to 2 classes.\n"
     ]
    },
    {
     "name": "stderr",
     "output_type": "stream",
     "text": [
      "C:\\Users\\danla\\anaconda3\\lib\\site-packages\\tensorflow\\python\\keras\\engine\\training.py:1844: UserWarning: `Model.fit_generator` is deprecated and will be removed in a future version. Please use `Model.fit`, which supports generators.\n",
      "  warnings.warn('`Model.fit_generator` is deprecated and '\n"
     ]
    },
    {
     "name": "stdout",
     "output_type": "stream",
     "text": [
      "Epoch 1/20\n",
      " 63/100 [=================>............] - ETA: 25s - loss: 0.6980 - acc: 0.5136WARNING:tensorflow:Your input ran out of data; interrupting training. Make sure that your dataset or generator can generate at least `steps_per_epoch * epochs` batches (in this case, 2000 batches). You may need to use the repeat() function when building your dataset.\n",
      "WARNING:tensorflow:Your input ran out of data; interrupting training. Make sure that your dataset or generator can generate at least `steps_per_epoch * epochs` batches (in this case, 50 batches). You may need to use the repeat() function when building your dataset.\n",
      "100/100 [==============================] - 50s 495ms/step - loss: 0.6969 - acc: 0.5149 - val_loss: 0.6862 - val_acc: 0.6030\n"
     ]
    }
   ],
   "source": [
    "\n",
    "train_datagen = ImageDataGenerator(rescale=1./255,\n",
    "                                   rotation_range=40,\n",
    "                                   width_shift_range=0.2,\n",
    "                                   height_shift_range=0.2,\n",
    "                                   shear_range=0.2,\n",
    "                                   zoom_range=0.2,\n",
    "                                   horizontal_flip=True,)\n",
    "\n",
    "test_datagen = ImageDataGenerator(rescale=1./255)\n",
    "\n",
    "train_generator = train_datagen.flow_from_directory(train_dir,\n",
    "                                                    target_size=(150, 150),\n",
    "                                                    batch_size=32,\n",
    "                                                    class_mode='binary')\n",
    "\n",
    "validation_generator = test_datagen.flow_from_directory(validation_dir,\n",
    "                                                        target_size=(150, 150),\n",
    "                                                        batch_size=32,\n",
    "                                                        class_mode='binary')\n",
    "\n",
    "history = model.fit_generator(train_generator,\n",
    "                              steps_per_epoch=100,\n",
    "                              epochs=20,\n",
    "                              validation_data=validation_generator,\n",
    "                              validation_steps=50)"
   ]
  },
  {
   "cell_type": "markdown",
   "metadata": {
    "id": "BRdU5yrkUF_b"
   },
   "source": [
    "# Task 2:\n",
    "\n",
    "We have used Dropout to enhance the performance of the CNN model. Can you please use whatever you like to further enhance the performance from `val_acc: 0.7506`? "
   ]
  },
  {
   "cell_type": "code",
   "execution_count": 29,
   "metadata": {},
   "outputs": [
    {
     "name": "stdout",
     "output_type": "stream",
     "text": [
      "Found 2000 images belonging to 2 classes.\n",
      "Found 1000 images belonging to 2 classes.\n"
     ]
    }
   ],
   "source": [
    "\n",
    "\n",
    "train_datagen = ImageDataGenerator(rescale=1./255,\n",
    "                                   rotation_range=20,\n",
    "                                   width_shift_range=0.1,\n",
    "                                   height_shift_range=0.1,\n",
    "                                   shear_range=0.2,\n",
    "                                   zoom_range=0.2,\n",
    "                                   horizontal_flip=True,)\n",
    "\n",
    "test_datagen = ImageDataGenerator(rescale=1./255)\n",
    "\n",
    "train_generator = train_datagen.flow_from_directory(train_dir,\n",
    "                                                    target_size=(150, 150),\n",
    "                                                    batch_size=32,\n",
    "                                                    class_mode='categorical')\n",
    "\n",
    "validation_generator = test_datagen.flow_from_directory(validation_dir,\n",
    "                                                        target_size=(150, 150),\n",
    "                                                        batch_size=32,\n",
    "                                                        class_mode='categorical')"
   ]
  },
  {
   "cell_type": "code",
   "execution_count": 30,
   "metadata": {},
   "outputs": [],
   "source": [
    "model = models.Sequential()\n",
    "model.add(layers.Conv2D(32, (3, 3), activation='relu',\n",
    "input_shape=(150, 150, 3)))\n",
    "model.add(layers.BatchNormalization())\n",
    "model.add(layers.MaxPooling2D((2, 2)))\n",
    "model.add(layers.Dropout(0.2))\n",
    "\n",
    "model.add(layers.Conv2D(64, (3, 3), activation='relu'))\n",
    "model.add(layers.BatchNormalization())\n",
    "model.add(layers.MaxPooling2D((2, 2)))\n",
    "model.add(layers.Dropout(0.3))\n",
    "\n",
    "\n",
    "model.add(layers.Conv2D(128, (3, 3), activation='relu'))\n",
    "model.add(layers.BatchNormalization())\n",
    "model.add(layers.MaxPooling2D((2, 2)))\n",
    "model.add(layers.Dropout(0.25))\n",
    "\n",
    "model.add(layers.Conv2D(128, (3, 3), activation='relu'))\n",
    "model.add(layers.BatchNormalization())\n",
    "model.add(layers.MaxPooling2D((2, 2)))\n",
    "\n",
    "model.add(layers.Flatten())\n",
    "model.add(layers.Dense(512, activation='relu'))\n",
    "model.add(layers.BatchNormalization())\n",
    "model.add(layers.Dropout(0.5))\n",
    "model.add(layers.Dense(128, activation='relu'))\n",
    "\n",
    "model.add(layers.Dense(2, activation='softmax'))\n",
    "\n",
    "model.compile(loss='categorical_crossentropy',\n",
    "              optimizer='rmsprop',\n",
    "              metrics=['accuracy'])"
   ]
  },
  {
   "cell_type": "code",
   "execution_count": 33,
   "metadata": {},
   "outputs": [
    {
     "name": "stdout",
     "output_type": "stream",
     "text": [
      "Epoch 1/30\n",
      "63/63 [==============================] - 88s 1s/step - loss: 0.8147 - accuracy: 0.5905 - val_loss: 0.9804 - val_accuracy: 0.5020\n",
      "\n",
      "Epoch 00001: val_accuracy improved from -inf to 0.50200, saving model to models\\best_cat_dog.h5\n",
      "Epoch 2/30\n",
      "63/63 [==============================] - 100s 2s/step - loss: 0.7620 - accuracy: 0.6095 - val_loss: 0.9851 - val_accuracy: 0.4850\n",
      "\n",
      "Epoch 00002: val_accuracy did not improve from 0.50200\n",
      "Epoch 3/30\n",
      "63/63 [==============================] - 122s 2s/step - loss: 0.7204 - accuracy: 0.6135 - val_loss: 0.9982 - val_accuracy: 0.5400\n",
      "\n",
      "Epoch 00003: val_accuracy improved from 0.50200 to 0.54000, saving model to models\\best_cat_dog.h5\n",
      "Epoch 4/30\n",
      "63/63 [==============================] - 118s 2s/step - loss: 0.6923 - accuracy: 0.6240 - val_loss: 1.7136 - val_accuracy: 0.5090\n",
      "\n",
      "Epoch 00004: val_accuracy did not improve from 0.54000\n",
      "Epoch 5/30\n",
      "63/63 [==============================] - 120s 2s/step - loss: 0.6498 - accuracy: 0.6570 - val_loss: 0.7393 - val_accuracy: 0.5880\n",
      "\n",
      "Epoch 00005: val_accuracy improved from 0.54000 to 0.58800, saving model to models\\best_cat_dog.h5\n",
      "Epoch 6/30\n",
      "63/63 [==============================] - 114s 2s/step - loss: 0.6278 - accuracy: 0.6760 - val_loss: 0.9831 - val_accuracy: 0.5790\n",
      "\n",
      "Epoch 00006: val_accuracy did not improve from 0.58800\n",
      "Epoch 7/30\n",
      "63/63 [==============================] - 115s 2s/step - loss: 0.5973 - accuracy: 0.6945 - val_loss: 0.6664 - val_accuracy: 0.6630\n",
      "\n",
      "Epoch 00007: val_accuracy improved from 0.58800 to 0.66300, saving model to models\\best_cat_dog.h5\n",
      "Epoch 8/30\n",
      "63/63 [==============================] - 114s 2s/step - loss: 0.5815 - accuracy: 0.7020 - val_loss: 0.6298 - val_accuracy: 0.6760\n",
      "\n",
      "Epoch 00008: val_accuracy improved from 0.66300 to 0.67600, saving model to models\\best_cat_dog.h5\n",
      "Epoch 9/30\n",
      "63/63 [==============================] - 112s 2s/step - loss: 0.5643 - accuracy: 0.7070 - val_loss: 0.6003 - val_accuracy: 0.6870\n",
      "\n",
      "Epoch 00009: val_accuracy improved from 0.67600 to 0.68700, saving model to models\\best_cat_dog.h5\n",
      "Epoch 10/30\n",
      "63/63 [==============================] - 113s 2s/step - loss: 0.5426 - accuracy: 0.7240 - val_loss: 0.5264 - val_accuracy: 0.7340\n",
      "\n",
      "Epoch 00010: val_accuracy improved from 0.68700 to 0.73400, saving model to models\\best_cat_dog.h5\n",
      "Epoch 11/30\n",
      "63/63 [==============================] - 110s 2s/step - loss: 0.5218 - accuracy: 0.7425 - val_loss: 0.5726 - val_accuracy: 0.7180\n",
      "\n",
      "Epoch 00011: val_accuracy did not improve from 0.73400\n",
      "Epoch 12/30\n",
      "63/63 [==============================] - 114s 2s/step - loss: 0.5138 - accuracy: 0.7450 - val_loss: 0.5319 - val_accuracy: 0.7280\n",
      "\n",
      "Epoch 00012: val_accuracy did not improve from 0.73400\n",
      "Epoch 13/30\n",
      "63/63 [==============================] - 112s 2s/step - loss: 0.5101 - accuracy: 0.7505 - val_loss: 0.5405 - val_accuracy: 0.7310\n",
      "\n",
      "Epoch 00013: val_accuracy did not improve from 0.73400\n",
      "Epoch 14/30\n",
      "63/63 [==============================] - 114s 2s/step - loss: 0.5022 - accuracy: 0.7610 - val_loss: 0.5916 - val_accuracy: 0.7050\n",
      "\n",
      "Epoch 00014: val_accuracy did not improve from 0.73400\n",
      "Epoch 15/30\n",
      "63/63 [==============================] - 111s 2s/step - loss: 0.4854 - accuracy: 0.7690 - val_loss: 0.5454 - val_accuracy: 0.7320\n",
      "\n",
      "Epoch 00015: val_accuracy did not improve from 0.73400\n",
      "Epoch 16/30\n",
      "63/63 [==============================] - 113s 2s/step - loss: 0.4676 - accuracy: 0.7735 - val_loss: 0.8937 - val_accuracy: 0.6140\n",
      "\n",
      "Epoch 00016: val_accuracy did not improve from 0.73400\n",
      "Epoch 17/30\n",
      "63/63 [==============================] - 112s 2s/step - loss: 0.4532 - accuracy: 0.7965 - val_loss: 0.5243 - val_accuracy: 0.7440\n",
      "\n",
      "Epoch 00017: val_accuracy improved from 0.73400 to 0.74400, saving model to models\\best_cat_dog.h5\n",
      "Epoch 18/30\n",
      "63/63 [==============================] - 116s 2s/step - loss: 0.4576 - accuracy: 0.7865 - val_loss: 0.5500 - val_accuracy: 0.7530\n",
      "\n",
      "Epoch 00018: val_accuracy improved from 0.74400 to 0.75300, saving model to models\\best_cat_dog.h5\n",
      "Epoch 19/30\n",
      "63/63 [==============================] - 112s 2s/step - loss: 0.4494 - accuracy: 0.7900 - val_loss: 0.5200 - val_accuracy: 0.7520\n",
      "\n",
      "Epoch 00019: val_accuracy did not improve from 0.75300\n",
      "Epoch 20/30\n",
      "63/63 [==============================] - 112s 2s/step - loss: 0.4362 - accuracy: 0.8050 - val_loss: 0.5535 - val_accuracy: 0.7520\n",
      "\n",
      "Epoch 00020: val_accuracy did not improve from 0.75300\n",
      "Epoch 21/30\n",
      "63/63 [==============================] - 113s 2s/step - loss: 0.4184 - accuracy: 0.8045 - val_loss: 0.5116 - val_accuracy: 0.7710\n",
      "\n",
      "Epoch 00021: val_accuracy improved from 0.75300 to 0.77100, saving model to models\\best_cat_dog.h5\n",
      "Epoch 22/30\n",
      "63/63 [==============================] - 112s 2s/step - loss: 0.4305 - accuracy: 0.7950 - val_loss: 0.8628 - val_accuracy: 0.7120\n",
      "\n",
      "Epoch 00022: val_accuracy did not improve from 0.77100\n",
      "Epoch 23/30\n",
      "63/63 [==============================] - 111s 2s/step - loss: 0.4170 - accuracy: 0.8020 - val_loss: 0.5949 - val_accuracy: 0.7440\n",
      "\n",
      "Epoch 00023: val_accuracy did not improve from 0.77100\n",
      "Epoch 24/30\n",
      "63/63 [==============================] - 111s 2s/step - loss: 0.3995 - accuracy: 0.8235 - val_loss: 0.6393 - val_accuracy: 0.7460\n",
      "\n",
      "Epoch 00024: val_accuracy did not improve from 0.77100\n",
      "Epoch 25/30\n",
      "63/63 [==============================] - 110s 2s/step - loss: 0.3864 - accuracy: 0.8310 - val_loss: 0.6858 - val_accuracy: 0.7180\n",
      "\n",
      "Epoch 00025: val_accuracy did not improve from 0.77100\n",
      "Epoch 26/30\n",
      "63/63 [==============================] - 112s 2s/step - loss: 0.4048 - accuracy: 0.8230 - val_loss: 0.4582 - val_accuracy: 0.7910\n",
      "\n",
      "Epoch 00026: val_accuracy improved from 0.77100 to 0.79100, saving model to models\\best_cat_dog.h5\n",
      "Epoch 27/30\n",
      "63/63 [==============================] - 117s 2s/step - loss: 0.3778 - accuracy: 0.8260 - val_loss: 0.4625 - val_accuracy: 0.7910\n",
      "\n",
      "Epoch 00027: val_accuracy did not improve from 0.79100\n",
      "Epoch 28/30\n",
      "63/63 [==============================] - 107s 2s/step - loss: 0.3742 - accuracy: 0.8305 - val_loss: 0.4802 - val_accuracy: 0.7780\n",
      "\n",
      "Epoch 00028: val_accuracy did not improve from 0.79100\n",
      "Epoch 29/30\n",
      "63/63 [==============================] - 103s 2s/step - loss: 0.3687 - accuracy: 0.8455 - val_loss: 0.4863 - val_accuracy: 0.7690\n",
      "\n",
      "Epoch 00029: val_accuracy did not improve from 0.79100\n",
      "Epoch 30/30\n",
      "63/63 [==============================] - 105s 2s/step - loss: 0.3550 - accuracy: 0.8365 - val_loss: 0.9620 - val_accuracy: 0.6580\n",
      "\n",
      "Epoch 00030: val_accuracy did not improve from 0.79100\n"
     ]
    }
   ],
   "source": [
    "import keras\n",
    "checkpoint = keras.callbacks.ModelCheckpoint('models/best_cat_dog.h5', \n",
    "                                             monitor='val_accuracy', \n",
    "                                             verbose=1, \n",
    "                                             save_best_only=True, \n",
    "                                             mode='max')\n",
    "\n",
    "history = model.fit_generator(train_generator,\n",
    "                              epochs=30,\n",
    "                              validation_data=validation_generator,\n",
    "                              callbacks=[checkpoint]\n",
    "                              )"
   ]
  },
  {
   "cell_type": "code",
   "execution_count": 18,
   "metadata": {},
   "outputs": [],
   "source": [
    "#model = models.Sequential()\n",
    "#model.add(layers.Conv2D(32, (3, 3), activation='relu',\n",
    "#input_shape=(150, 150, 3)))\n",
    "#model.add(layers.MaxPooling2D((2, 2)))\n",
    "#model.add(layers.Conv2D(64, (3, 3), activation='relu'))\n",
    "#model.add(layers.MaxPooling2D((2, 2)))\n",
    "#model.add(layers.Conv2D(128, (3, 3), activation='relu'))\n",
    "#model.add(layers.MaxPooling2D((2, 2)))\n",
    "#model.add(layers.Conv2D(128, (3, 3), activation='relu'))\n",
    "#model.add(layers.MaxPooling2D((2, 2)))\n",
    "#model.add(layers.Flatten())\n",
    "#model.add(layers.BatchNormalization())\n",
    "#model.add(layers.Dense(512, activation='relu'))\n",
    "#model.add(layers.Dense(1, activation='sigmoid'))\n",
    "\n",
    "#model.compile(loss='binary_crossentropy',\n",
    "#              optimizer=optimizers.RMSprop(lr=1e-4),\n",
    "#              metrics=['acc'])"
   ]
  },
  {
   "cell_type": "code",
   "execution_count": 20,
   "metadata": {},
   "outputs": [
    {
     "name": "stdout",
     "output_type": "stream",
     "text": [
      "Found 2000 images belonging to 2 classes.\n",
      "Found 1000 images belonging to 2 classes.\n",
      "Epoch 1/20\n",
      " 63/100 [=================>............] - ETA: 26s - loss: 0.6305 - acc: 0.6415WARNING:tensorflow:Your input ran out of data; interrupting training. Make sure that your dataset or generator can generate at least `steps_per_epoch * epochs` batches (in this case, 2000 batches). You may need to use the repeat() function when building your dataset.\n",
      "WARNING:tensorflow:Your input ran out of data; interrupting training. Make sure that your dataset or generator can generate at least `steps_per_epoch * epochs` batches (in this case, 50 batches). You may need to use the repeat() function when building your dataset.\n",
      "100/100 [==============================] - 51s 509ms/step - loss: 0.6305 - acc: 0.6415 - val_loss: 0.6853 - val_acc: 0.5000\n"
     ]
    }
   ],
   "source": [
    "#train_datagen = ImageDataGenerator(rescale=1./255,\n",
    "#                                   rotation_range=40,\n",
    "#                                   width_shift_range=0.2,\n",
    "#                                   height_shift_range=0.2,\n",
    "#                                   shear_range=0.2,\n",
    "#                                   zoom_range=0.2,\n",
    "#                                   horizontal_flip=True,)\n",
    "\n",
    "#test_datagen = ImageDataGenerator(rescale=1./255)\n",
    "\n",
    "#train_generator = train_datagen.flow_from_directory(train_dir,\n",
    "#                                                    target_size=(150, 150),\n",
    "#                                                    batch_size=32,\n",
    "#                                                    class_mode='binary')\n",
    "\n",
    "#validation_generator = test_datagen.flow_from_directory(validation_dir,\n",
    "#                                                        target_size=(150, 150),\n",
    "#                                                        batch_size=32,\n",
    "#                                                        class_mode='binary')\n",
    "\n",
    "#history = model.fit_generator(train_generator,\n",
    "#                              steps_per_epoch=100,\n",
    "#                              epochs=20,\n",
    "#                              validation_data=validation_generator,\n",
    "#                              validation_steps=50)"
   ]
  },
  {
   "cell_type": "code",
   "execution_count": null,
   "metadata": {},
   "outputs": [],
   "source": []
  }
 ],
 "metadata": {
  "accelerator": "GPU",
  "colab": {
   "name": "Exercise2_DogvsCat_CNN.ipynb",
   "provenance": [
    {
     "file_id": "https://github.com/sagihaider/CE888_2021/blob/main/Lab_7/Exercise2_DogvsCat_CNN.ipynb",
     "timestamp": 1614863235445
    }
   ]
  },
  "kernelspec": {
   "display_name": "Python 3",
   "language": "python",
   "name": "python3"
  },
  "language_info": {
   "codemirror_mode": {
    "name": "ipython",
    "version": 3
   },
   "file_extension": ".py",
   "mimetype": "text/x-python",
   "name": "python",
   "nbconvert_exporter": "python",
   "pygments_lexer": "ipython3",
   "version": "3.8.8"
  }
 },
 "nbformat": 4,
 "nbformat_minor": 1
}
